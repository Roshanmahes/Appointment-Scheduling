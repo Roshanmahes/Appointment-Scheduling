{
 "cells": [
  {
   "cell_type": "markdown",
   "metadata": {},
   "source": [
    "### Data verwerken"
   ]
  },
  {
   "cell_type": "code",
   "execution_count": 4,
   "metadata": {
    "ExecuteTime": {
     "end_time": "2021-01-11T12:13:06.634624Z",
     "start_time": "2021-01-11T12:13:06.210581Z"
    }
   },
   "outputs": [],
   "source": [
    "import csv\n",
    "import numpy as np\n",
    "import pandas as pd"
   ]
  },
  {
   "cell_type": "code",
   "execution_count": 38,
   "metadata": {
    "ExecuteTime": {
     "end_time": "2021-01-11T12:40:25.994796Z",
     "start_time": "2021-01-11T12:40:25.986802Z"
    }
   },
   "outputs": [],
   "source": [
    "SCV = 1.75 # {0.25,0.5,0.75,1,1.25,1.5,1.75,2}\n",
    "omega = 0.5 # {0.2,0.5,0.8}\n",
    "n = 15\n",
    "Delta = 1"
   ]
  },
  {
   "cell_type": "code",
   "execution_count": 42,
   "metadata": {
    "ExecuteTime": {
     "end_time": "2021-01-11T12:40:46.889400Z",
     "start_time": "2021-01-11T12:40:46.841441Z"
    }
   },
   "outputs": [
    {
     "data": {
      "text/plain": [
       "I1      0.000000\n",
       "I2      0.348457\n",
       "I3      0.362213\n",
       "I4      0.376819\n",
       "I5      0.346865\n",
       "I6      0.380244\n",
       "I7      0.365925\n",
       "I8      0.354851\n",
       "I9      0.361263\n",
       "I10     0.346961\n",
       "I11     0.351099\n",
       "I12     0.338329\n",
       "I13     0.328721\n",
       "I14     0.278425\n",
       "I15     0.192445\n",
       "W1      0.000000\n",
       "W2      0.435238\n",
       "W3      0.362767\n",
       "W4      0.335421\n",
       "W5      0.323310\n",
       "W6      0.316182\n",
       "W7      0.404458\n",
       "W8      0.357721\n",
       "W9      0.339328\n",
       "W10     0.360526\n",
       "W11     0.379391\n",
       "W12     0.353248\n",
       "W13     0.376919\n",
       "W14     0.439107\n",
       "W15     0.480043\n",
       "cost    4.998140\n",
       "dtype: float64"
      ]
     },
     "execution_count": 42,
     "metadata": {},
     "output_type": "execute_result"
    }
   ],
   "source": [
    "file_name = f'S3/S3_SCV_{SCV:.2f}_omega_{omega:.1f}_n_{n}_Delta_{float(Delta)}_run_1.csv'\n",
    "\n",
    "\n",
    "df = pd.read_csv(file_name)\n",
    "\n",
    "# fix typo\n",
    "df['cost'] = 0\n",
    "df.columns = [f'I{i}' for i in range(1,n+1)] + [f'W{i}' for i in range(2,n+1)] + ['cost', 'W1']\n",
    "df_cols = [f'I{i}' for i in range(1,n+1)] + [f'W{i}' for i in range(1,n+1)] + ['cost']\n",
    "df = df[df_cols]\n",
    "\n",
    "np.mean(df)"
   ]
  },
  {
   "cell_type": "code",
   "execution_count": null,
   "metadata": {},
   "outputs": [],
   "source": []
  },
  {
   "cell_type": "code",
   "execution_count": null,
   "metadata": {},
   "outputs": [],
   "source": []
  },
  {
   "cell_type": "code",
   "execution_count": null,
   "metadata": {},
   "outputs": [],
   "source": []
  },
  {
   "cell_type": "code",
   "execution_count": null,
   "metadata": {},
   "outputs": [],
   "source": []
  },
  {
   "cell_type": "code",
   "execution_count": null,
   "metadata": {},
   "outputs": [],
   "source": []
  },
  {
   "cell_type": "code",
   "execution_count": null,
   "metadata": {},
   "outputs": [],
   "source": []
  },
  {
   "cell_type": "markdown",
   "metadata": {},
   "source": [
    "### Oud (Dynamisch)"
   ]
  },
  {
   "cell_type": "code",
   "execution_count": 157,
   "metadata": {
    "ExecuteTime": {
     "end_time": "2020-12-12T23:15:06.232055Z",
     "start_time": "2020-12-12T23:15:06.216434Z"
    }
   },
   "outputs": [],
   "source": [
    "SCV = 1.05\n",
    "omega = 0.5\n",
    "n = 10\n",
    "u = 0.01"
   ]
  },
  {
   "cell_type": "code",
   "execution_count": 155,
   "metadata": {
    "ExecuteTime": {
     "end_time": "2020-12-12T23:14:47.021499Z",
     "start_time": "2020-12-12T23:14:47.016513Z"
    }
   },
   "outputs": [],
   "source": [
    "Delta = 0.01\n",
    "m = int(u / Delta)"
   ]
  },
  {
   "cell_type": "code",
   "execution_count": 119,
   "metadata": {
    "ExecuteTime": {
     "end_time": "2020-12-12T22:56:45.081030Z",
     "start_time": "2020-12-12T22:56:45.075043Z"
    }
   },
   "outputs": [],
   "source": [
    "file_name = f'tau-SCV-{round(SCV,2)}-omega-{round(omega,1)}-n-20-m-250'\n",
    "file_name = 'output/' + file_name.replace('.', '_') + '.xlsx'"
   ]
  },
  {
   "cell_type": "code",
   "execution_count": 120,
   "metadata": {
    "ExecuteTime": {
     "end_time": "2020-12-12T22:56:45.550771Z",
     "start_time": "2020-12-12T22:56:45.544793Z"
    }
   },
   "outputs": [
    {
     "data": {
      "text/plain": [
       "'output/tau-SCV-1_05-omega-0_5-n-20-m-250.xlsx'"
      ]
     },
     "execution_count": 120,
     "metadata": {},
     "output_type": "execute_result"
    }
   ],
   "source": [
    "file_name"
   ]
  },
  {
   "cell_type": "code",
   "execution_count": 121,
   "metadata": {
    "ExecuteTime": {
     "end_time": "2020-12-12T22:56:46.122245Z",
     "start_time": "2020-12-12T22:56:46.118256Z"
    }
   },
   "outputs": [],
   "source": [
    "from openpyxl import load_workbook"
   ]
  },
  {
   "cell_type": "code",
   "execution_count": 122,
   "metadata": {
    "ExecuteTime": {
     "end_time": "2020-12-12T22:56:47.365599Z",
     "start_time": "2020-12-12T22:56:46.539130Z"
    }
   },
   "outputs": [
    {
     "name": "stderr",
     "output_type": "stream",
     "text": [
      "C:\\Python39\\lib\\site-packages\\openpyxl\\styles\\stylesheet.py:214: UserWarning: Workbook contains no default style, apply openpyxl's default\n",
      "  warn(\"Workbook contains no default style, apply openpyxl's default\")\n"
     ]
    },
    {
     "data": {
      "text/plain": [
       "[<Worksheet \"i = 1\">,\n",
       " <Worksheet \"i = 2\">,\n",
       " <Worksheet \"i = 3\">,\n",
       " <Worksheet \"i = 4\">,\n",
       " <Worksheet \"i = 5\">,\n",
       " <Worksheet \"i = 6\">,\n",
       " <Worksheet \"i = 7\">,\n",
       " <Worksheet \"i = 8\">,\n",
       " <Worksheet \"i = 9\">,\n",
       " <Worksheet \"i = 10\">,\n",
       " <Worksheet \"i = 11\">,\n",
       " <Worksheet \"i = 12\">,\n",
       " <Worksheet \"i = 13\">,\n",
       " <Worksheet \"i = 14\">,\n",
       " <Worksheet \"i = 15\">,\n",
       " <Worksheet \"i = 16\">,\n",
       " <Worksheet \"i = 17\">,\n",
       " <Worksheet \"i = 18\">,\n",
       " <Worksheet \"i = 19\">]"
      ]
     },
     "execution_count": 122,
     "metadata": {},
     "output_type": "execute_result"
    }
   ],
   "source": [
    "work_sheets = load_workbook(file_name).worksheets\n",
    "work_sheets"
   ]
  },
  {
   "cell_type": "code",
   "execution_count": 169,
   "metadata": {
    "ExecuteTime": {
     "end_time": "2020-12-12T23:15:47.524980Z",
     "start_time": "2020-12-12T23:15:47.504040Z"
    }
   },
   "outputs": [
    {
     "data": {
      "text/html": [
       "<div>\n",
       "<style scoped>\n",
       "    .dataframe tbody tr th:only-of-type {\n",
       "        vertical-align: middle;\n",
       "    }\n",
       "\n",
       "    .dataframe tbody tr th {\n",
       "        vertical-align: top;\n",
       "    }\n",
       "\n",
       "    .dataframe thead th {\n",
       "        text-align: right;\n",
       "    }\n",
       "</style>\n",
       "<table border=\"1\" class=\"dataframe\">\n",
       "  <thead>\n",
       "    <tr style=\"text-align: right;\">\n",
       "      <th></th>\n",
       "      <th>0</th>\n",
       "      <th>1</th>\n",
       "      <th>2</th>\n",
       "      <th>3</th>\n",
       "      <th>4</th>\n",
       "      <th>5</th>\n",
       "      <th>6</th>\n",
       "      <th>7</th>\n",
       "      <th>8</th>\n",
       "      <th>9</th>\n",
       "    </tr>\n",
       "  </thead>\n",
       "  <tbody>\n",
       "    <tr>\n",
       "      <th>0</th>\n",
       "      <td>0.870</td>\n",
       "      <td>1.930</td>\n",
       "      <td>2.980</td>\n",
       "      <td>4.02</td>\n",
       "      <td>5.05</td>\n",
       "      <td>6.08</td>\n",
       "      <td>7.110</td>\n",
       "      <td>8.13</td>\n",
       "      <td>9.15</td>\n",
       "      <td>10.17</td>\n",
       "    </tr>\n",
       "    <tr>\n",
       "      <th>1</th>\n",
       "      <td>0.871</td>\n",
       "      <td>1.931</td>\n",
       "      <td>2.981</td>\n",
       "      <td>4.02</td>\n",
       "      <td>5.05</td>\n",
       "      <td>6.08</td>\n",
       "      <td>7.110</td>\n",
       "      <td>8.13</td>\n",
       "      <td>9.15</td>\n",
       "      <td>10.17</td>\n",
       "    </tr>\n",
       "    <tr>\n",
       "      <th>2</th>\n",
       "      <td>0.872</td>\n",
       "      <td>1.932</td>\n",
       "      <td>2.982</td>\n",
       "      <td>4.02</td>\n",
       "      <td>5.05</td>\n",
       "      <td>6.08</td>\n",
       "      <td>7.110</td>\n",
       "      <td>8.13</td>\n",
       "      <td>9.15</td>\n",
       "      <td>10.17</td>\n",
       "    </tr>\n",
       "    <tr>\n",
       "      <th>3</th>\n",
       "      <td>0.873</td>\n",
       "      <td>1.933</td>\n",
       "      <td>2.983</td>\n",
       "      <td>4.02</td>\n",
       "      <td>5.05</td>\n",
       "      <td>6.08</td>\n",
       "      <td>7.110</td>\n",
       "      <td>8.13</td>\n",
       "      <td>9.15</td>\n",
       "      <td>10.17</td>\n",
       "    </tr>\n",
       "    <tr>\n",
       "      <th>4</th>\n",
       "      <td>0.874</td>\n",
       "      <td>1.934</td>\n",
       "      <td>2.984</td>\n",
       "      <td>4.02</td>\n",
       "      <td>5.05</td>\n",
       "      <td>6.08</td>\n",
       "      <td>7.110</td>\n",
       "      <td>8.13</td>\n",
       "      <td>9.15</td>\n",
       "      <td>10.17</td>\n",
       "    </tr>\n",
       "    <tr>\n",
       "      <th>...</th>\n",
       "      <td>...</td>\n",
       "      <td>...</td>\n",
       "      <td>...</td>\n",
       "      <td>...</td>\n",
       "      <td>...</td>\n",
       "      <td>...</td>\n",
       "      <td>...</td>\n",
       "      <td>...</td>\n",
       "      <td>...</td>\n",
       "      <td>...</td>\n",
       "    </tr>\n",
       "    <tr>\n",
       "      <th>246</th>\n",
       "      <td>0.930</td>\n",
       "      <td>1.990</td>\n",
       "      <td>3.040</td>\n",
       "      <td>4.08</td>\n",
       "      <td>5.11</td>\n",
       "      <td>6.14</td>\n",
       "      <td>7.166</td>\n",
       "      <td>8.19</td>\n",
       "      <td>9.21</td>\n",
       "      <td>10.23</td>\n",
       "    </tr>\n",
       "    <tr>\n",
       "      <th>247</th>\n",
       "      <td>0.930</td>\n",
       "      <td>1.990</td>\n",
       "      <td>3.040</td>\n",
       "      <td>4.08</td>\n",
       "      <td>5.11</td>\n",
       "      <td>6.14</td>\n",
       "      <td>7.167</td>\n",
       "      <td>8.19</td>\n",
       "      <td>9.21</td>\n",
       "      <td>10.23</td>\n",
       "    </tr>\n",
       "    <tr>\n",
       "      <th>248</th>\n",
       "      <td>0.930</td>\n",
       "      <td>1.990</td>\n",
       "      <td>3.040</td>\n",
       "      <td>4.08</td>\n",
       "      <td>5.11</td>\n",
       "      <td>6.14</td>\n",
       "      <td>7.168</td>\n",
       "      <td>8.19</td>\n",
       "      <td>9.21</td>\n",
       "      <td>10.23</td>\n",
       "    </tr>\n",
       "    <tr>\n",
       "      <th>249</th>\n",
       "      <td>0.930</td>\n",
       "      <td>1.990</td>\n",
       "      <td>3.040</td>\n",
       "      <td>4.08</td>\n",
       "      <td>5.11</td>\n",
       "      <td>6.14</td>\n",
       "      <td>7.169</td>\n",
       "      <td>8.19</td>\n",
       "      <td>9.21</td>\n",
       "      <td>10.23</td>\n",
       "    </tr>\n",
       "    <tr>\n",
       "      <th>250</th>\n",
       "      <td>0.930</td>\n",
       "      <td>1.990</td>\n",
       "      <td>3.040</td>\n",
       "      <td>4.08</td>\n",
       "      <td>5.11</td>\n",
       "      <td>6.14</td>\n",
       "      <td>7.170</td>\n",
       "      <td>8.19</td>\n",
       "      <td>9.21</td>\n",
       "      <td>10.23</td>\n",
       "    </tr>\n",
       "  </tbody>\n",
       "</table>\n",
       "<p>251 rows × 10 columns</p>\n",
       "</div>"
      ],
      "text/plain": [
       "         0      1      2     3     4     5      6     7     8      9\n",
       "0    0.870  1.930  2.980  4.02  5.05  6.08  7.110  8.13  9.15  10.17\n",
       "1    0.871  1.931  2.981  4.02  5.05  6.08  7.110  8.13  9.15  10.17\n",
       "2    0.872  1.932  2.982  4.02  5.05  6.08  7.110  8.13  9.15  10.17\n",
       "3    0.873  1.933  2.983  4.02  5.05  6.08  7.110  8.13  9.15  10.17\n",
       "4    0.874  1.934  2.984  4.02  5.05  6.08  7.110  8.13  9.15  10.17\n",
       "..     ...    ...    ...   ...   ...   ...    ...   ...   ...    ...\n",
       "246  0.930  1.990  3.040  4.08  5.11  6.14  7.166  8.19  9.21  10.23\n",
       "247  0.930  1.990  3.040  4.08  5.11  6.14  7.167  8.19  9.21  10.23\n",
       "248  0.930  1.990  3.040  4.08  5.11  6.14  7.168  8.19  9.21  10.23\n",
       "249  0.930  1.990  3.040  4.08  5.11  6.14  7.169  8.19  9.21  10.23\n",
       "250  0.930  1.990  3.040  4.08  5.11  6.14  7.170  8.19  9.21  10.23\n",
       "\n",
       "[251 rows x 10 columns]"
      ]
     },
     "execution_count": 169,
     "metadata": {},
     "output_type": "execute_result"
    }
   ],
   "source": [
    "df = pd.DataFrame(work_sheets[-10].values)\n",
    "df"
   ]
  },
  {
   "cell_type": "code",
   "execution_count": 27,
   "metadata": {
    "ExecuteTime": {
     "end_time": "2020-12-15T16:21:36.105803Z",
     "start_time": "2020-12-15T16:21:36.101814Z"
    }
   },
   "outputs": [],
   "source": [
    "import numpy as np\n",
    "import pandas as pd\n",
    "from openpyxl import load_workbook\n",
    "from io import BytesIO\n",
    "import urllib\n",
    "\n",
    "def load_workbook_from_url(url):\n",
    "    file = urllib.request.urlopen(url).read()\n",
    "    return load_workbook(filename = BytesIO(file))"
   ]
  },
  {
   "cell_type": "code",
   "execution_count": 44,
   "metadata": {
    "ExecuteTime": {
     "end_time": "2020-12-15T16:23:24.533785Z",
     "start_time": "2020-12-15T16:23:24.527800Z"
    }
   },
   "outputs": [],
   "source": [
    "mean = 1\n",
    "SCV = 0.99\n",
    "omega = 0.9\n",
    "n = 5\n",
    "u = 0.04"
   ]
  },
  {
   "cell_type": "code",
   "execution_count": 45,
   "metadata": {
    "ExecuteTime": {
     "end_time": "2020-12-15T16:23:26.051723Z",
     "start_time": "2020-12-15T16:23:25.196013Z"
    }
   },
   "outputs": [
    {
     "name": "stderr",
     "output_type": "stream",
     "text": [
      "C:\\Python39\\lib\\site-packages\\openpyxl\\styles\\stylesheet.py:214: UserWarning: Workbook contains no default style, apply openpyxl's default\n",
      "  warn(\"Workbook contains no default style, apply openpyxl's default\")\n"
     ]
    },
    {
     "data": {
      "text/html": [
       "<div>\n",
       "<style scoped>\n",
       "    .dataframe tbody tr th:only-of-type {\n",
       "        vertical-align: middle;\n",
       "    }\n",
       "\n",
       "    .dataframe tbody tr th {\n",
       "        vertical-align: top;\n",
       "    }\n",
       "\n",
       "    .dataframe thead th {\n",
       "        text-align: right;\n",
       "    }\n",
       "</style>\n",
       "<table border=\"1\" class=\"dataframe\">\n",
       "  <thead>\n",
       "    <tr style=\"text-align: right;\">\n",
       "      <th></th>\n",
       "      <th>1</th>\n",
       "      <th>2</th>\n",
       "      <th>3</th>\n",
       "      <th>4</th>\n",
       "      <th>5</th>\n",
       "    </tr>\n",
       "  </thead>\n",
       "  <tbody>\n",
       "    <tr>\n",
       "      <th>1</th>\n",
       "      <td>0.22</td>\n",
       "      <td></td>\n",
       "      <td></td>\n",
       "      <td></td>\n",
       "      <td></td>\n",
       "    </tr>\n",
       "    <tr>\n",
       "      <th>2</th>\n",
       "      <td>0.21</td>\n",
       "      <td>0.77</td>\n",
       "      <td></td>\n",
       "      <td></td>\n",
       "      <td></td>\n",
       "    </tr>\n",
       "    <tr>\n",
       "      <th>3</th>\n",
       "      <td>0.20</td>\n",
       "      <td>0.75</td>\n",
       "      <td>1.41</td>\n",
       "      <td></td>\n",
       "      <td></td>\n",
       "    </tr>\n",
       "    <tr>\n",
       "      <th>4</th>\n",
       "      <td>0.18</td>\n",
       "      <td>0.69</td>\n",
       "      <td>1.33</td>\n",
       "      <td>2.03</td>\n",
       "      <td></td>\n",
       "    </tr>\n",
       "    <tr>\n",
       "      <th>5</th>\n",
       "      <td>0.11</td>\n",
       "      <td>0.53</td>\n",
       "      <td>1.11</td>\n",
       "      <td>1.75</td>\n",
       "      <td>2.44</td>\n",
       "    </tr>\n",
       "  </tbody>\n",
       "</table>\n",
       "</div>"
      ],
      "text/plain": [
       "      1     2     3     4     5\n",
       "1  0.22                        \n",
       "2  0.21  0.77                  \n",
       "3  0.20  0.75  1.41            \n",
       "4  0.18  0.69  1.33  2.03      \n",
       "5  0.11  0.53  1.11  1.75  2.44"
      ]
     },
     "execution_count": 45,
     "metadata": {},
     "output_type": "execute_result"
    }
   ],
   "source": [
    "def dynamic_schedule(mean, SCV, omega, n, u, prefix='tau'):\n",
    "    \n",
    "    Delta = 0.01\n",
    "    m = int(u / Delta)\n",
    "\n",
    "    url = 'https://github.com/Roshanmahes/Dynamic-Schedule/blob/main/output/'\n",
    "\n",
    "    file_name = f'-SCV-{round(SCV,2)}-omega-{round(omega,1)}-n-20-m-250'\n",
    "    file_name = url + prefix + file_name.replace('.', '_') + '.xlsx?raw=true'\n",
    "    \n",
    "#     file_name = f'-SCV-{round(SCV,2)}-omega-{round(omega,1)}-n-20-m-250'\n",
    "#     file_name = 'output/' + prefix + file_name.replace('.', '_') + '.xlsx'\n",
    "\n",
    "    work_sheets = load_workbook_from_url(file_name).worksheets\n",
    "\n",
    "    df_list = []\n",
    "\n",
    "    for i in range(n):\n",
    "\n",
    "        df_sheet = pd.DataFrame(work_sheets[i-n].values)\n",
    "        df_row = df_sheet.iloc[m,:i+1] * mean\n",
    "        df_list += [[f'{df_row[i]:.2f}' for i in range(len(df_row))]]\n",
    "\n",
    "    df = pd.DataFrame(df_list, columns=range(1,n+1)).fillna('')\n",
    "    df.index = range(1,n+1)\n",
    "\n",
    "    return df\n",
    "\n",
    "dynamic_schedule(mean, SCV, omega, n, u)"
   ]
  },
  {
   "cell_type": "code",
   "execution_count": null,
   "metadata": {},
   "outputs": [],
   "source": []
  },
  {
   "cell_type": "code",
   "execution_count": null,
   "metadata": {},
   "outputs": [],
   "source": []
  },
  {
   "cell_type": "code",
   "execution_count": null,
   "metadata": {},
   "outputs": [],
   "source": []
  },
  {
   "cell_type": "code",
   "execution_count": 8,
   "metadata": {
    "ExecuteTime": {
     "end_time": "2020-12-15T16:02:06.607413Z",
     "start_time": "2020-12-15T16:02:06.604420Z"
    }
   },
   "outputs": [],
   "source": [
    "prefix = 'tau'"
   ]
  },
  {
   "cell_type": "code",
   "execution_count": 24,
   "metadata": {
    "ExecuteTime": {
     "end_time": "2020-12-15T16:20:44.690328Z",
     "start_time": "2020-12-15T16:20:44.685342Z"
    }
   },
   "outputs": [],
   "source": [
    "url = 'https://github.com/Roshanmahes/Dynamic-Schedule/blob/main/output/' #tau-SCV-0_1-omega-0_4-n-20-m-250.xlsx?raw=true'\n",
    "\n",
    "file_name = f'-SCV-{round(SCV,2)}-omega-{round(omega,1)}-n-20-m-250'\n",
    "file_name = url + prefix + file_name.replace('.', '_') + '.xlsx?raw=true'"
   ]
  },
  {
   "cell_type": "code",
   "execution_count": 10,
   "metadata": {
    "ExecuteTime": {
     "end_time": "2020-12-15T16:02:11.474394Z",
     "start_time": "2020-12-15T16:02:11.457440Z"
    }
   },
   "outputs": [
    {
     "data": {
      "text/plain": [
       "'https://github.com/Roshanmahes/Dynamic-Schedule/blob/main/output/tau-SCV-0_9-omega-0_5-n-20-m-250.xlsx'"
      ]
     },
     "execution_count": 10,
     "metadata": {},
     "output_type": "execute_result"
    }
   ],
   "source": [
    "file_name"
   ]
  },
  {
   "cell_type": "code",
   "execution_count": 22,
   "metadata": {
    "ExecuteTime": {
     "end_time": "2020-12-15T16:20:18.348786Z",
     "start_time": "2020-12-15T16:20:18.343800Z"
    }
   },
   "outputs": [],
   "source": [
    "from openpyxl import load_workbook\n",
    "# from io import BytesIO\n",
    "import urllib\n",
    "\n",
    "def load_workbook_from_url(url):\n",
    "    file = urllib.request.urlopen(url).read()\n",
    "    return load_workbook(filename = BytesIO(file))"
   ]
  },
  {
   "cell_type": "code",
   "execution_count": 26,
   "metadata": {
    "ExecuteTime": {
     "end_time": "2020-12-15T16:21:06.005314Z",
     "start_time": "2020-12-15T16:21:05.237369Z"
    }
   },
   "outputs": [],
   "source": [
    "test = load_workbook_from_url(file_name)"
   ]
  },
  {
   "cell_type": "code",
   "execution_count": 20,
   "metadata": {
    "ExecuteTime": {
     "end_time": "2020-12-15T16:19:48.475688Z",
     "start_time": "2020-12-15T16:19:48.368974Z"
    }
   },
   "outputs": [],
   "source": [
    "# import openpyxl_extended\n",
    "\n",
    "book = load_workbook_from_url('https://storage.googleapis.com/pnbx-cdn/pen-campaign/campaigner-template-fr.xlsx')"
   ]
  },
  {
   "cell_type": "code",
   "execution_count": 21,
   "metadata": {
    "ExecuteTime": {
     "end_time": "2020-12-15T16:19:52.682437Z",
     "start_time": "2020-12-15T16:19:52.676452Z"
    }
   },
   "outputs": [
    {
     "data": {
      "text/plain": [
       "<openpyxl.workbook.workbook.Workbook at 0x2672d2c5850>"
      ]
     },
     "execution_count": 21,
     "metadata": {},
     "output_type": "execute_result"
    }
   ],
   "source": [
    "book"
   ]
  }
 ],
 "metadata": {
  "kernelspec": {
   "display_name": "Python 3",
   "language": "python",
   "name": "python3"
  },
  "language_info": {
   "codemirror_mode": {
    "name": "ipython",
    "version": 3
   },
   "file_extension": ".py",
   "mimetype": "text/x-python",
   "name": "python",
   "nbconvert_exporter": "python",
   "pygments_lexer": "ipython3",
   "version": "3.9.0"
  },
  "toc": {
   "base_numbering": 1,
   "nav_menu": {},
   "number_sections": true,
   "sideBar": true,
   "skip_h1_title": false,
   "title_cell": "Table of Contents",
   "title_sidebar": "Contents",
   "toc_cell": false,
   "toc_position": {},
   "toc_section_display": true,
   "toc_window_display": false
  },
  "varInspector": {
   "cols": {
    "lenName": 16,
    "lenType": 16,
    "lenVar": 40
   },
   "kernels_config": {
    "python": {
     "delete_cmd_postfix": "",
     "delete_cmd_prefix": "del ",
     "library": "var_list.py",
     "varRefreshCmd": "print(var_dic_list())"
    },
    "r": {
     "delete_cmd_postfix": ") ",
     "delete_cmd_prefix": "rm(",
     "library": "var_list.r",
     "varRefreshCmd": "cat(var_dic_list()) "
    }
   },
   "types_to_exclude": [
    "module",
    "function",
    "builtin_function_or_method",
    "instance",
    "_Feature"
   ],
   "window_display": false
  }
 },
 "nbformat": 4,
 "nbformat_minor": 4
}
