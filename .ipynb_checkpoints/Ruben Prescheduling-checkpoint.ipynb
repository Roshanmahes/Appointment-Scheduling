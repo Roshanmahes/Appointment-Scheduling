{
 "cells": [
  {
   "cell_type": "markdown",
   "metadata": {},
   "source": [
    "# Prescheduling"
   ]
  },
  {
   "cell_type": "code",
   "execution_count": 2,
   "metadata": {
    "ExecuteTime": {
     "end_time": "2020-12-04T11:47:33.347019Z",
     "start_time": "2020-12-04T11:47:32.867780Z"
    }
   },
   "outputs": [],
   "source": [
    "import math\n",
    "import numpy as np\n",
    "\n",
    "from scipy.stats import poisson\n",
    "from scipy.optimize import minimize, LinearConstraint # optimization\n",
    "from scipy.linalg.blas import dgemm, dgemv # matrix multiplication\n",
    "from scipy.linalg import inv # matrix inversion\n",
    "from scipy.sparse.linalg import expm # matrix exponential"
   ]
  },
  {
   "cell_type": "code",
   "execution_count": 20,
   "metadata": {
    "ExecuteTime": {
     "end_time": "2020-12-04T11:55:58.612667Z",
     "start_time": "2020-12-04T11:55:58.579756Z"
    },
    "code_folding": []
   },
   "outputs": [],
   "source": [
    "def find_Salpha(mean, SCV, u):\n",
    "    \"\"\"\n",
    "    Returns the transition rate matrix, initial distribution\n",
    "    and parameters of the phase-fitted service times given\n",
    "    the mean, SCV, and the time that the client is in service at time 0.\n",
    "    \"\"\"\n",
    "    \n",
    "    # weighted Erlang case\n",
    "    if SCV < 1:\n",
    "        \n",
    "        # parameters\n",
    "        K = math.floor(1/SCV)\n",
    "        p = ((K + 1) * SCV - math.sqrt((K + 1) * (1 - K * SCV))) / (SCV + 1)\n",
    "        mu = (K + 1 - p) / mean\n",
    "        \n",
    "        # initial dist. client in service\n",
    "        alpha_start = np.zeros((1,K+1))\n",
    "        B_sf = poisson.cdf(K-1, mu*u) + (1 - p) * poisson.pmf(K,mu*u)\n",
    "        for z in range(K+1):\n",
    "            alpha_start[0,z] = poisson.pmf(z,mu*u) / B_sf\n",
    "        alpha_start[0,K] *= (1 - p) \n",
    "        \n",
    "        # initial dist. other clients\n",
    "        alpha = np.zeros((1,K+1))\n",
    "        alpha[0,0] = 1\n",
    "        \n",
    "        # transition rate matrix\n",
    "        S = -mu * np.eye(K+1)\n",
    "        \n",
    "        for i in range(K-1):\n",
    "            S[i,i+1] = mu\n",
    "        \n",
    "        S[K-1,K] = (1-p) * mu\n",
    "            \n",
    "    # hyperexponential case\n",
    "    else:\n",
    "        \n",
    "        # parameters\n",
    "        p = (1 + np.sqrt((SCV - 1) / (SCV + 1))) / 2\n",
    "        mu1 = 2 * p / mean\n",
    "        mu2 = 2 * (1 - p) / mean\n",
    "        \n",
    "        # initial dist. client in service\n",
    "        alpha_start = np.zeros((1,2))\n",
    "        B_sf = p * np.exp(-mu1 * u) + (1 - p) * np.exp(-mu2 * u)\n",
    "        alpha_start[0,0] = p * np.exp(-mu1 * u) / B_sf\n",
    "        alpha_start[0,1] = 1 - alpha_start[0,0]\n",
    "        \n",
    "        # initial dist. other clients\n",
    "        alpha = np.zeros((1,2))\n",
    "        alpha[0,0] = p\n",
    "        alpha[0,1] = 1 - p\n",
    "        \n",
    "        # transition rate matrix\n",
    "        S = np.zeros((2,2))\n",
    "        S[0,0] = -mu1\n",
    "        S[1,1] = -mu2\n",
    "            \n",
    "    return S, alpha_start, alpha\n",
    "\n",
    "\n",
    "def create_Sn(S, alpha_start, alpha, N):\n",
    "    \"\"\"\n",
    "    Creates the matrix Sn as given in Kuiper, Kemper, Mandjes, Sect. 3.2.\n",
    "    \"\"\"\n",
    "\n",
    "    B = np.matrix(-sum(S.T)).T @ alpha\n",
    "    m = S.shape[0]\n",
    "    \n",
    "    S_new = np.zeros(((N+1)*m, (N+1)*m))\n",
    "    \n",
    "    # compute S2\n",
    "    S_new[0:m,0:m] = S\n",
    "    S_new[m:2*m, m:2*m] = S\n",
    "    S_new[0:m, m:2*m] = np.matrix(-sum(S.T)).T @ alpha_start\n",
    "    \n",
    "    # compute Si\n",
    "    for i in range(1,N+1):\n",
    "        S_new[i*m:((i+1)*m), i*m:(i+1)*m] = S\n",
    "        S_new[(i-1)*m:i*m, i*m:(i+1)*m] = B\n",
    "    \n",
    "    return S_new\n",
    "\n",
    "\n",
    "def Transient_EIEW(x, alpha_start, alpha, Sn, Sn_inv, omega, wis):\n",
    "    \"\"\"\n",
    "    Evaluates the cost function given all parameters.\n",
    "    In here, we used the FORTRAN dgem-functions \n",
    "    instead of @ for efficient matrix multiplication.\n",
    "    \"\"\"\n",
    "    \n",
    "    N = x.shape[0]\n",
    "    m = alpha.shape[1]\n",
    "    \n",
    "    P_alpha_F = alpha_start\n",
    "    cost = omega * np.sum(x)\n",
    "    \n",
    "    # cost of clients already entered (only waiting time)\n",
    "    for i in range(1,wis+1):\n",
    "        \n",
    "        cost += (omega - 1) * np.sum(dgemm(1, P_alpha_F, Sn_inv[0:i*m,0:i*m]))\n",
    "        \n",
    "        F = 1 - np.sum(P_alpha_F)\n",
    "        P_alpha_F = np.hstack((np.matrix(P_alpha_F), alpha * F))\n",
    "    \n",
    "    # cost of clients to be scheduled\n",
    "    for i in range(wis+1,N+wis+1):\n",
    "                \n",
    "        exp_Si = expm(Sn[0:i*m,0:i*m] * x[i-wis-1])\n",
    "        cost += float(dgemv(1, dgemm(1, P_alpha_F, Sn_inv[0:i*m,0:i*m]), np.sum(omega * np.eye(i*m) - exp_Si,1)))\n",
    "        \n",
    "        P = dgemm(1, P_alpha_F, exp_Si)\n",
    "        F = 1 - np.sum(P)\n",
    "        P_alpha_F = np.hstack((np.matrix(P), alpha * F))\n",
    "\n",
    "    return cost\n",
    "\n",
    "\n",
    "def Transient_IA(SCV, u, omega, N, x0, wis=0, tol=None):\n",
    "    \"\"\"\n",
    "    Computes the optimal schedule.\n",
    "    wis = waiting in system.\n",
    "    \"\"\"\n",
    "        \n",
    "    # sojourn time distribution transition rate matrices\n",
    "    S, alpha_start, alpha = find_Salpha(1, SCV, u)\n",
    "    Sn = create_Sn(S, alpha_start, alpha, N)\n",
    "    Sn_inv = inv(Sn)\n",
    "    \n",
    "    # minimization\n",
    "    if not x0:\n",
    "        x0 = np.array([1.5 + wis] + [1.5] * (N - wis - 1))\n",
    "        \n",
    "    Trans_EIEW = lambda x: Transient_EIEW(x, alpha_start, alpha, Sn, Sn_inv, omega, wis)\n",
    "    lin_cons = LinearConstraint(np.eye(N - wis), 0, np.inf)\n",
    "        \n",
    "    optimization = minimize(Trans_EIEW, x0, constraints=lin_cons, method='SLSQP', tol=tol)\n",
    "    x = optimization.x\n",
    "    fval = optimization.fun\n",
    "        \n",
    "    return x, fval\n"
   ]
  },
  {
   "cell_type": "code",
   "execution_count": 21,
   "metadata": {
    "ExecuteTime": {
     "end_time": "2020-12-04T11:55:59.164323Z",
     "start_time": "2020-12-04T11:55:59.112951Z"
    }
   },
   "outputs": [
    {
     "name": "stdout",
     "output_type": "stream",
     "text": [
      "val: 46.9779287434683\n"
     ]
    },
    {
     "data": {
      "text/plain": [
       "array([13.66820913])"
      ]
     },
     "execution_count": 21,
     "metadata": {},
     "output_type": "execute_result"
    }
   ],
   "source": [
    "# %%timeit\n",
    "\n",
    "SCV = 1\n",
    "omega = 0.5\n",
    "n = 15 # number of clients\n",
    "u = 3\n",
    "wis = n-2\n",
    "\n",
    "N = n - 1 # interarrival times\n",
    "x, y = Transient_IA(SCV, u, omega, N, [], wis)\n",
    "\n",
    "print(f'val: {y}')\n",
    "x"
   ]
  },
  {
   "cell_type": "code",
   "execution_count": 492,
   "metadata": {
    "ExecuteTime": {
     "end_time": "2020-12-02T17:01:07.113786Z",
     "start_time": "2020-12-02T17:01:05.705529Z"
    }
   },
   "outputs": [
    {
     "name": "stdout",
     "output_type": "stream",
     "text": [
      "val: 12.688363354545867\n"
     ]
    },
    {
     "data": {
      "text/plain": [
       "array([2.16953833, 1.71853093, 1.84963501, 1.89483999, 1.91010956,\n",
       "       1.91354559, 1.9114701 , 1.90547927, 1.89482893, 1.87658538,\n",
       "       1.84404663, 1.78322941, 1.66680354, 1.44240855, 0.99909145])"
      ]
     },
     "execution_count": 492,
     "metadata": {},
     "output_type": "execute_result"
    }
   ],
   "source": [
    "\n",
    "SCV = 2\n",
    "omega = 0.5\n",
    "n = 15 # number of clients to be scheduled\n",
    "\n",
    "u = 0\n",
    "wis = 1\n",
    "\n",
    "N = n + wis\n",
    "# N - wis = n\n",
    "\n",
    "if not u and not wis:\n",
    "    N = N - 1\n",
    "    \n",
    "    x, y = Transient_IA(SCV, u, omega, N, [], wis)\n",
    "    x = np.pad(x, (1,0))\n",
    "else:\n",
    "    x, y = Transient_IA(SCV, u, omega, N, [], wis)\n",
    "\n",
    "print(f'val: {y}')\n",
    "# print(f'schedule: {np.cumsum(x)}')\n",
    "x"
   ]
  },
  {
   "cell_type": "code",
   "execution_count": 414,
   "metadata": {
    "ExecuteTime": {
     "end_time": "2020-12-02T12:37:53.168246Z",
     "start_time": "2020-12-02T12:37:53.144262Z"
    }
   },
   "outputs": [
    {
     "data": {
      "text/plain": [
       "(15,)"
      ]
     },
     "execution_count": 414,
     "metadata": {},
     "output_type": "execute_result"
    }
   ],
   "source": [
    "x.shape"
   ]
  },
  {
   "cell_type": "code",
   "execution_count": 503,
   "metadata": {
    "ExecuteTime": {
     "end_time": "2020-12-02T18:36:04.143052Z",
     "start_time": "2020-12-02T18:36:03.324242Z"
    }
   },
   "outputs": [
    {
     "data": {
      "text/plain": [
       "array([ 1.06220217,  2.44010835,  3.8817663 ,  5.3375199 ,  6.79710555,\n",
       "        8.25833033,  9.72013381, 11.1812635 , 12.64017462, 14.09493057,\n",
       "       15.54244092, 16.97586327, 18.37729803, 19.69963821, 20.84038514])"
      ]
     },
     "execution_count": 503,
     "metadata": {},
     "output_type": "execute_result"
    }
   ],
   "source": [
    "# %%timeit\n",
    "\n",
    "SCV = 0.5001\n",
    "omega = 0.5\n",
    "n = 16 # number of clients\n",
    "u = 0\n",
    "wis = 0\n",
    "\n",
    "N = n - 1 # interarrival times\n",
    "tol = None if N < 15 else 1e-4\n",
    "x, y = Transient_IA(SCV, u, omega, N, [], wis, tol)\n",
    "\n",
    "schedule = np.cumsum(x)\n",
    "# schedule = np.pad(np.cumsum(x), (1,0))\n",
    "schedule"
   ]
  },
  {
   "cell_type": "code",
   "execution_count": 13,
   "metadata": {
    "ExecuteTime": {
     "end_time": "2020-11-26T10:53:12.551042Z",
     "start_time": "2020-11-26T10:52:59.290366Z"
    }
   },
   "outputs": [
    {
     "name": "stdout",
     "output_type": "stream",
     "text": [
      "[0.48522314 1.32949067 1.42201037 1.44684582 1.45925135 1.46572348\n",
      " 1.46881123 1.470179   1.47071709 1.47077861 1.47043116 1.46961201\n",
      " 1.46816852 1.4658175  1.46203561 1.45590878 1.44591789 1.42938159\n",
      " 1.3996955  1.33255543 1.13560189] [7.83663855]\n"
     ]
    }
   ],
   "source": [
    "SCV = 0.5\n",
    "omega = 0.5\n",
    "N = 21 # interarrival times, so in total N+1 clients\n",
    "u = 10\n",
    "\n",
    "x, y = Transient_IA(SCV, u, omega, N, [])\n",
    "print(x,y)"
   ]
  },
  {
   "cell_type": "markdown",
   "metadata": {},
   "source": [
    "# Heterogeneous Exponential Case (Prescheduled)"
   ]
  },
  {
   "cell_type": "code",
   "execution_count": 2,
   "metadata": {
    "ExecuteTime": {
     "end_time": "2020-11-14T09:56:49.307784Z",
     "start_time": "2020-11-14T09:56:49.302841Z"
    }
   },
   "outputs": [],
   "source": [
    "import math\n",
    "import numpy as np\n",
    "from scipy.linalg import expm, inv\n",
    "from scipy.optimize import minimize"
   ]
  },
  {
   "cell_type": "code",
   "execution_count": 24,
   "metadata": {
    "ExecuteTime": {
     "end_time": "2020-11-14T10:29:19.459672Z",
     "start_time": "2020-11-14T10:29:19.453729Z"
    }
   },
   "outputs": [],
   "source": [
    "def create_Sn_het(S, alphas, N):\n",
    "    \"\"\"\n",
    "    TODO.\n",
    "    \"\"\"\n",
    "\n",
    "#     B = np.dot(np.matrix(-sum(S.T)).T,alpha)\n",
    "    n = S.shape[0]\n",
    "    \n",
    "    S_new = np.zeros(((N+1)*n, (N+1)*n))\n",
    "    S_new[0:n,0:n] = S\n",
    "    \n",
    "    for i in range(1,N+1):\n",
    "        S_new[i*n:((i+1)*n), i*n:(i+1)*n] = S\n",
    "        S_new[(i-1)*n:i*n, i*n:(i+1)*n] = np.dot(np.matrix(-sum(S.T)).T,alphas[i-1])\n",
    "    \n",
    "    return S_new\n",
    "    "
   ]
  },
  {
   "cell_type": "code",
   "execution_count": 40,
   "metadata": {
    "ExecuteTime": {
     "end_time": "2020-11-14T10:37:13.057761Z",
     "start_time": "2020-11-14T10:37:13.052774Z"
    }
   },
   "outputs": [],
   "source": [
    "def find_Salpha_het(mu):\n",
    "    \"\"\"\n",
    "    Returns the transition rate matrix, initial distribution\n",
    "    and parameters of the phase-fitted service times given\n",
    "    the mean and SCV.\n",
    "    \"\"\"\n",
    "    \n",
    "    # heterogeneous exponential case\n",
    "    N = len(mu)\n",
    "    alphas = [np.zeros((1,N)) for i in range(N)]\n",
    "    for i in range(N):\n",
    "        alphas[i][0,i] = 1\n",
    "    \n",
    "    S = -np.eye(N) * mu\n",
    "    \n",
    "    return S, alphas\n"
   ]
  },
  {
   "cell_type": "code",
   "execution_count": 63,
   "metadata": {
    "ExecuteTime": {
     "end_time": "2020-11-14T10:49:15.020091Z",
     "start_time": "2020-11-14T10:49:15.012120Z"
    }
   },
   "outputs": [],
   "source": [
    "def Transient_EIEW_het(x, alphas, Sn, Sn_inv, omega, n):\n",
    "    \"\"\"\n",
    "    TODO.::::: controle!!!!\n",
    "    \"\"\"\n",
    "    \n",
    "    N = x.shape[0]\n",
    "    m = alphas[0].shape[1]\n",
    "    EIEW = [0] * N\n",
    "    P_alpha_F = alphas[0]\n",
    "    \n",
    "    for i in range(1,N+1):\n",
    "        EIEW[i-1] = omega * (x[i-1] + P_alpha_F @ np.sum(Sn_inv[0:i*m,0:i*m],1)) \\\n",
    "                             - P_alpha_F @ Sn_inv[0:i*m,0:i*m] @ np.sum(expm(Sn[0:i*m,0:i*m] * x[i-1]),1)\n",
    "        \n",
    "        P = P_alpha_F @ expm(Sn[0:i*m,0:i*m] * x[i-1])\n",
    "        F = 1 - np.sum(P)\n",
    "        if i <= N-1:\n",
    "            P_alpha_F = np.hstack((P, alphas[i] * F)) ## TODO\n",
    "        \n",
    "#     ES_N = -P_alpha_F @ np.sum(Sn_inv,1)\n",
    "    val = sum(EIEW)\n",
    "#     makespan = sum(x) + ES_N\n",
    "    \n",
    "    return val#, makespan"
   ]
  },
  {
   "cell_type": "code",
   "execution_count": 64,
   "metadata": {
    "ExecuteTime": {
     "end_time": "2020-11-14T10:49:15.649407Z",
     "start_time": "2020-11-14T10:49:15.643433Z"
    }
   },
   "outputs": [],
   "source": [
    "def Transient_IA_het(mu, omega, N, n, x0):\n",
    "    \"\"\"\n",
    "    TODO.\n",
    "    \"\"\"\n",
    "    \n",
    "    # sojourn time distribution transition rate matrices\n",
    "    S, alphas = find_Salpha_het(mu)\n",
    "    Sn = create_Sn_het(S, alphas, N)\n",
    "    Sn_inv = inv(Sn)\n",
    "    \n",
    "#     return alpha, Sn, Sn_inv, omega, n, p\n",
    "    \n",
    "    # minimization\n",
    "    if not x0:\n",
    "        x0 = np.array([1.5] * N)\n",
    "    \n",
    "#     constr = LinearConstraint()\n",
    "    cons = [{\"type\": \"ineq\", \"fun\": lambda x: x}]\n",
    "    optimization = minimize(Transient_EIEW_het, x0, args=(alphas,Sn,Sn_inv,omega,n), constraints=cons)#, tol=1e-4)\n",
    "    x = optimization.x\n",
    "    fval = optimization.fun\n",
    "    \n",
    "#     fval, makespan = Transient_EIEW(x, alpha, Sn, Sn_inv, omega, n, p)\n",
    "    \n",
    "    return x, fval\n",
    "    \n",
    "    "
   ]
  },
  {
   "cell_type": "code",
   "execution_count": 73,
   "metadata": {
    "ExecuteTime": {
     "end_time": "2020-11-14T10:54:51.107316Z",
     "start_time": "2020-11-14T10:53:49.383381Z"
    }
   },
   "outputs": [
    {
     "data": {
      "text/plain": [
       "[0,\n",
       " 0.6381218388982594,\n",
       " 1.6362178000563086,\n",
       " 2.7355010552771386,\n",
       " 3.909911895824253,\n",
       " 5.155423979416222,\n",
       " 6.47462540887707,\n",
       " 7.874165358456846,\n",
       " 9.363602135024642,\n",
       " 10.954533347780774,\n",
       " 12.659575243684625,\n",
       " 14.491750130733804,\n",
       " 16.46544367023957,\n",
       " 18.595070048673794,\n",
       " 20.8582595439261,\n",
       " 22.98270765394392]"
      ]
     },
     "execution_count": 73,
     "metadata": {},
     "output_type": "execute_result"
    }
   ],
   "source": [
    "N = 15\n",
    "omega = 0.5\n",
    "mu = np.linspace(0.5,1.5,N)[::-1]\n",
    "n = 1\n",
    "\n",
    "x, y = Transient_IA_het(mu, omega, N, n, [])\n",
    "# print(x,y)\n",
    "[0] + list(np.cumsum(x))"
   ]
  },
  {
   "cell_type": "code",
   "execution_count": 41,
   "metadata": {
    "ExecuteTime": {
     "end_time": "2020-11-14T10:37:15.798430Z",
     "start_time": "2020-11-14T10:37:15.787496Z"
    }
   },
   "outputs": [
    {
     "data": {
      "text/plain": [
       "(array([[-0.5       , -0.        , -0.        , -0.        , -0.        ,\n",
       "         -0.        , -0.        , -0.        , -0.        , -0.        ],\n",
       "        [-0.        , -0.61111111, -0.        , -0.        , -0.        ,\n",
       "         -0.        , -0.        , -0.        , -0.        , -0.        ],\n",
       "        [-0.        , -0.        , -0.72222222, -0.        , -0.        ,\n",
       "         -0.        , -0.        , -0.        , -0.        , -0.        ],\n",
       "        [-0.        , -0.        , -0.        , -0.83333333, -0.        ,\n",
       "         -0.        , -0.        , -0.        , -0.        , -0.        ],\n",
       "        [-0.        , -0.        , -0.        , -0.        , -0.94444444,\n",
       "         -0.        , -0.        , -0.        , -0.        , -0.        ],\n",
       "        [-0.        , -0.        , -0.        , -0.        , -0.        ,\n",
       "         -1.05555556, -0.        , -0.        , -0.        , -0.        ],\n",
       "        [-0.        , -0.        , -0.        , -0.        , -0.        ,\n",
       "         -0.        , -1.16666667, -0.        , -0.        , -0.        ],\n",
       "        [-0.        , -0.        , -0.        , -0.        , -0.        ,\n",
       "         -0.        , -0.        , -1.27777778, -0.        , -0.        ],\n",
       "        [-0.        , -0.        , -0.        , -0.        , -0.        ,\n",
       "         -0.        , -0.        , -0.        , -1.38888889, -0.        ],\n",
       "        [-0.        , -0.        , -0.        , -0.        , -0.        ,\n",
       "         -0.        , -0.        , -0.        , -0.        , -1.5       ]]),\n",
       " [array([[1., 0., 0., 0., 0., 0., 0., 0., 0., 0.]]),\n",
       "  array([[0., 1., 0., 0., 0., 0., 0., 0., 0., 0.]]),\n",
       "  array([[0., 0., 1., 0., 0., 0., 0., 0., 0., 0.]]),\n",
       "  array([[0., 0., 0., 1., 0., 0., 0., 0., 0., 0.]]),\n",
       "  array([[0., 0., 0., 0., 1., 0., 0., 0., 0., 0.]]),\n",
       "  array([[0., 0., 0., 0., 0., 1., 0., 0., 0., 0.]]),\n",
       "  array([[0., 0., 0., 0., 0., 0., 1., 0., 0., 0.]]),\n",
       "  array([[0., 0., 0., 0., 0., 0., 0., 1., 0., 0.]]),\n",
       "  array([[0., 0., 0., 0., 0., 0., 0., 0., 1., 0.]]),\n",
       "  array([[0., 0., 0., 0., 0., 0., 0., 0., 0., 1.]])])"
      ]
     },
     "execution_count": 41,
     "metadata": {},
     "output_type": "execute_result"
    }
   ],
   "source": [
    "find_Salpha_het(mu)"
   ]
  },
  {
   "cell_type": "code",
   "execution_count": 11,
   "metadata": {
    "ExecuteTime": {
     "end_time": "2020-11-25T13:15:05.144727Z",
     "start_time": "2020-11-25T13:15:05.128727Z"
    }
   },
   "outputs": [
    {
     "name": "stdout",
     "output_type": "stream",
     "text": [
      "0.004001617431640625\n"
     ]
    }
   ],
   "source": [
    "from time import time\n",
    "\n",
    "start = time()\n",
    "summ = 0\n",
    "\n",
    "for i in range(10000):\n",
    "    summ == i\n",
    "\n",
    "duration = time() - start\n",
    "\n",
    "print(duration)"
   ]
  },
  {
   "cell_type": "code",
   "execution_count": null,
   "metadata": {},
   "outputs": [],
   "source": []
  },
  {
   "cell_type": "code",
   "execution_count": null,
   "metadata": {},
   "outputs": [],
   "source": []
  },
  {
   "cell_type": "code",
   "execution_count": null,
   "metadata": {},
   "outputs": [],
   "source": []
  },
  {
   "cell_type": "code",
   "execution_count": null,
   "metadata": {},
   "outputs": [],
   "source": [
    "def Transient_EIEW(x, alpha_start, alpha, Sn, Sn_inv, omega, wis):\n",
    "    \"\"\"\n",
    "    Computes the cost function given all parameters. #### TODO\n",
    "    \"\"\"\n",
    "    \n",
    "#     start = time()\n",
    "    x = np.pad(x, (wis,0))\n",
    "    \n",
    "    N = x.shape[0]\n",
    "    m = alpha.shape[1]\n",
    "    EIEW = 0\n",
    "    P_alpha_F = alpha_start\n",
    "    \n",
    "    for i in range(1,N+1):\n",
    "\n",
    "        EIEW += omega * (x[i-1] + P_alpha_F @ np.sum(Sn_inv[0:i*m,0:i*m],1)) \\\n",
    "                             - P_alpha_F @ Sn_inv[0:i*m,0:i*m] @ np.sum(expm(Sn[0:i*m,0:i*m] * x[i-1]),1)\n",
    "        \n",
    "        P = P_alpha_F @ expm(Sn[0:i*m,0:i*m] * x[i-1])\n",
    "        F = 1 - np.sum(P)\n",
    "        \n",
    "        if i <= N-1:\n",
    "            P_alpha_F = np.hstack((P, alpha * F))\n",
    "    \n",
    "#     print(time() - start)\n",
    "    return EIEW"
   ]
  },
  {
   "cell_type": "code",
   "execution_count": null,
   "metadata": {},
   "outputs": [],
   "source": []
  }
 ],
 "metadata": {
  "kernelspec": {
   "display_name": "Python 3",
   "language": "python",
   "name": "python3"
  },
  "language_info": {
   "codemirror_mode": {
    "name": "ipython",
    "version": 3
   },
   "file_extension": ".py",
   "mimetype": "text/x-python",
   "name": "python",
   "nbconvert_exporter": "python",
   "pygments_lexer": "ipython3",
   "version": "3.9.0"
  },
  "toc": {
   "base_numbering": 1,
   "nav_menu": {},
   "number_sections": true,
   "sideBar": true,
   "skip_h1_title": false,
   "title_cell": "Table of Contents",
   "title_sidebar": "Contents",
   "toc_cell": false,
   "toc_position": {},
   "toc_section_display": true,
   "toc_window_display": false
  },
  "varInspector": {
   "cols": {
    "lenName": 16,
    "lenType": 16,
    "lenVar": 40
   },
   "kernels_config": {
    "python": {
     "delete_cmd_postfix": "",
     "delete_cmd_prefix": "del ",
     "library": "var_list.py",
     "varRefreshCmd": "print(var_dic_list())"
    },
    "r": {
     "delete_cmd_postfix": ") ",
     "delete_cmd_prefix": "rm(",
     "library": "var_list.r",
     "varRefreshCmd": "cat(var_dic_list()) "
    }
   },
   "types_to_exclude": [
    "module",
    "function",
    "builtin_function_or_method",
    "instance",
    "_Feature"
   ],
   "window_display": false
  }
 },
 "nbformat": 4,
 "nbformat_minor": 4
}
