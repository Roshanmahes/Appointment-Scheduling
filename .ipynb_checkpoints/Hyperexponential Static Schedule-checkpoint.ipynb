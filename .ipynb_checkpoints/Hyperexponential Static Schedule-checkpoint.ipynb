{
 "cells": [
  {
   "cell_type": "markdown",
   "metadata": {},
   "source": [
    "# Hyperexponential Static Schedule"
   ]
  },
  {
   "cell_type": "code",
   "execution_count": null,
   "metadata": {},
   "outputs": [],
   "source": []
  },
  {
   "cell_type": "code",
   "execution_count": 38,
   "metadata": {
    "ExecuteTime": {
     "end_time": "2020-10-09T09:47:57.780335Z",
     "start_time": "2020-10-09T09:47:57.761965Z"
    }
   },
   "outputs": [],
   "source": [
    "import numpy as np\n",
    "import scipy, math\n",
    "from scipy.stats import binom, erlang, poisson\n",
    "from scipy.optimize import minimize"
   ]
  },
  {
   "cell_type": "code",
   "execution_count": 40,
   "metadata": {
    "ExecuteTime": {
     "end_time": "2020-10-09T09:47:59.193648Z",
     "start_time": "2020-10-09T09:47:59.162401Z"
    },
    "code_folding": []
   },
   "outputs": [],
   "source": [
    "def SCV_to_params(SCV):\n",
    "    \n",
    "    # weighted Erlang case\n",
    "    if SCV <= 1:\n",
    "        K = math.floor(1/SCV)\n",
    "        p = ((K + 1) * SCV - math.sqrt((K + 1) * (1 - K * SCV))) / (SCV + 1)\n",
    "        mu = K + (1 - p)\n",
    "    \n",
    "        return K, p, mu\n",
    "    \n",
    "    # hyperexponential case\n",
    "    else:\n",
    "        p = 0.5 * (1 + np.sqrt((SCV - 1) / (SCV + 1)))\n",
    "        mu = 1 # 1 / mean\n",
    "        mu1 = 2 * p * mu\n",
    "        mu2 = 2 * (1 - p) * mu\n",
    "        \n",
    "        return p, mu1, mu2"
   ]
  },
  {
   "cell_type": "code",
   "execution_count": 61,
   "metadata": {
    "ExecuteTime": {
     "end_time": "2020-10-09T10:15:49.153463Z",
     "start_time": "2020-10-09T10:15:49.143482Z"
    }
   },
   "outputs": [],
   "source": [
    "n = 3\n",
    "omega = 0.5\n",
    "SCV = 1.3\n",
    "p, mu1, mu2 = SCV_to_params(SCV)"
   ]
  },
  {
   "cell_type": "code",
   "execution_count": 62,
   "metadata": {
    "ExecuteTime": {
     "end_time": "2020-10-09T10:15:50.477350Z",
     "start_time": "2020-10-09T10:15:50.422788Z"
    }
   },
   "outputs": [],
   "source": [
    "def trans_p(k,l,y,z,t,p,mu1,mu2):\n",
    "    \n",
    "    # 1. No client has been served before time t.\n",
    "    if l == k+1 and z == y:\n",
    "        if y == 1:\n",
    "            return np.exp(-mu1 * t)\n",
    "        elif y == 2:\n",
    "            return np.exp(-mu2 * t)\n",
    "    \n",
    "    # 2. All clients have been served before time t.\n",
    "    elif l == 1:\n",
    "        if y == 1:\n",
    "            prob = sum([binom.pmf(m, k-1, p) * psi(t, m+1, k-1-m, mu1, mu2) for m in range(k)])\n",
    "            if z == 1:\n",
    "                return p * prob\n",
    "            elif z == 2:\n",
    "                return (1-p) * prob\n",
    "        elif y == 2:\n",
    "            prob = sum([binom.pmf(m, k-1, p) * psi(t, m, k-m, mu1, mu2) for m in range(k)])\n",
    "            if z == 1:\n",
    "                return p * prob\n",
    "            elif z == 2:\n",
    "                return (1-p) * prob\n",
    "    \n",
    "    # 3. Some (but not all) clients have been served before time t.\n",
    "    elif 2 <= l <= k:\n",
    "        if y == 1:\n",
    "            prob_diff = sum([binom.pmf(m, k-l, p) * psi(t, m+1, k-l-m, mu1, mu2) for m in range(k-l+1)]) \\\n",
    "                            - sum([binom.pmf(m, k-l+1, p) * psi(t, m+1, k-l+1-m, mu1, mu2) for m in range(k-l+2)])\n",
    "            if z == 1:\n",
    "                return p * prob_diff\n",
    "            elif z == 2:\n",
    "                return (1-p) * prob_diff\n",
    "        elif y == 2:\n",
    "            prob_diff = sum([binom.pmf(m, k-l, p) * psi(t, m, k-l+1-m, mu1, mu2) for m in range(k-l+1)]) \\\n",
    "                            - sum([binom.pmf(m, k-l+1, p) * psi(t, m, k-l+2-m, mu1, mu2) for m in range(k-l+2)])\n",
    "            if z == 1:\n",
    "                return p * prob_diff\n",
    "            elif z == 2:\n",
    "                return (1-p) * prob_diff\n",
    "    \n",
    "    # any other case is invalid\n",
    "    return 0\n"
   ]
  },
  {
   "cell_type": "code",
   "execution_count": 63,
   "metadata": {
    "ExecuteTime": {
     "end_time": "2020-10-09T10:15:51.792763Z",
     "start_time": "2020-10-09T10:15:51.736919Z"
    }
   },
   "outputs": [],
   "source": [
    "def zeta(alpha, t, k):\n",
    "    \n",
    "    if not k:\n",
    "        return (np.exp(alpha * t) - 1) / alpha\n",
    "    else:\n",
    "        return ((t ** k) * np.exp(alpha * t) - k * zeta(alpha, t, k-1)) / alpha\n",
    "\n",
    "def rho(t,m,k,mu1,mu2):\n",
    "    \n",
    "    if not k:\n",
    "        return np.exp(-mu2 * t) * (mu1 ** m) / ((mu1 - mu2) ** (m + 1)) * erlang.cdf(t, m+1, scale=1/(mu1 - mu2))\n",
    "    elif not m:\n",
    "        return np.exp(-mu1 * t) * (mu2 ** k) / math.factorial(k) * zeta(mu1-mu2, t, k)\n",
    "    else:\n",
    "        return (mu1 * rho(t, m-1, k, mu1, mu2) - mu2 * rho(t, m, k-1, mu1, mu2)) / (mu1 - mu2)\n",
    "\n",
    "def psi(t,m,k,mu1,mu2):\n",
    "    \n",
    "    if not m:\n",
    "        return erlang.cdf(t, k, scale=1/mu2)\n",
    "    else:\n",
    "        return erlang.cdf(t, m, scale=1/mu1) - mu1 * sum([rho(t, m-1, i, mu1, mu2) for i in range(k)])\n",
    "    \n",
    "def sigma(t,m,k,mu1,mu2):\n",
    "    \n",
    "    if not k:\n",
    "        return t * erlang.cdf(t, m, scale=1/mu1) - (m / mu1) * erlang.cdf(t, m+1, scale=1/mu1)\n",
    "    elif not m:\n",
    "        return t * erlang.cdf(t, k, scale=1/mu2) - (k / mu2) * erlang.cdf(t, k+1, scale=1/mu2)\n",
    "    else:\n",
    "        return (t - k / mu2) * erlang.cdf(t, m, scale=1/mu1) - (m / mu1) * erlang.cdf(t, m+1, scale=1/mu1) \\\n",
    "                    + (mu1 / mu2) * sum([(k - i) * rho(t, m-1, i, mu1, mu2) for i in range(k)])\n"
   ]
  },
  {
   "cell_type": "code",
   "execution_count": 64,
   "metadata": {
    "ExecuteTime": {
     "end_time": "2020-10-09T10:15:52.812478Z",
     "start_time": "2020-10-09T10:15:52.739870Z"
    }
   },
   "outputs": [],
   "source": [
    "def f_bar(t,k,y,p,mu1,mu2):\n",
    "    \n",
    "    if y == 1:\n",
    "        return sum([binom.pmf(m, k-1, p) * sigma(t, m+1, k-1-m, mu1, mu2) for m in range(k)])\n",
    "    elif y == 2:\n",
    "        return sum([binom.pmf(m, k-1, p) * sigma(t, m, k-m, mu1, mu2) for m in range(k)])\n",
    "\n",
    "def h_bar(k,y,mu1,mu2):\n",
    "    \n",
    "    if k == 1:\n",
    "        return 0\n",
    "    else:\n",
    "        if y == 1:\n",
    "            return (k-2) + (1/mu1)\n",
    "        elif y == 2:\n",
    "            return (k-2) + (1/mu2)\n",
    "\n",
    "def compute_probs_hyp(t,p,mu1,mu2):\n",
    "    \"\"\"\n",
    "    Computes P(N_ti = j, Z_ti = z) for i=1,...,n, j=1,...,i and z=1,2.\n",
    "    \"\"\"\n",
    "    \n",
    "    n = len(t)\n",
    "    probs = [[[None for z in range(2)] for j in range(i+1)] for i in range(n)]\n",
    "    \n",
    "    probs[0][0][0] = p\n",
    "    probs[0][0][1] = 1 - p\n",
    "    \n",
    "    for i in range(2,n+1):\n",
    "        \n",
    "        x_i = t[i-1] - t[i-2]\n",
    "        \n",
    "        for j in range(1,i+1):\n",
    "            for z in range(1,3):\n",
    "                probs[i-1][j-1][z-1] = 0\n",
    "\n",
    "                for k in range(max(1,j-1),i):\n",
    "                    for y in range(1,3):\n",
    "                        probs[i-1][j-1][z-1] += trans_p(k,j,y,z,x_i,p,mu1,mu2) * probs[i-2][k-1][y-1]\n",
    "    return probs\n",
    "\n",
    "def static_cost_hyp(t,p,mu1,mu2,omega):\n",
    "    \"\"\"\n",
    "    Computes the cost of a static schedule in the weighted Erlang case.\n",
    "    \"\"\"\n",
    "    \n",
    "    n = len(t)\n",
    "    \n",
    "    # total expected waiting/idle time\n",
    "    sum_EW, sum_EI = 0, 0\n",
    "    probs = compute_probs_hyp(t, p, mu1, mu2)\n",
    "    \n",
    "    for i in range(2,n+1):\n",
    "        \n",
    "        # waiting time\n",
    "        for k in range(2,i+1):\n",
    "            sum_EW += h_bar(k, 1, mu1, mu2) * probs[i-1][k-1][0] + h_bar(k, 2, mu1, mu2) * probs[i-1][k-1][1]\n",
    "        \n",
    "        # idle time\n",
    "        for k in range(1,i):                \n",
    "            x_i = t[i-1] - t[i-2]\n",
    "            sum_EI += f_bar(x_i, k, 1, p, mu1, mu2) * probs[i-2][k-1][0] + f_bar(x_i, k, 2, p, mu1, mu2) * probs[i-2][k-1][1]\n",
    "    \n",
    "    return omega * sum_EI + (1 - omega) * sum_EW\n"
   ]
  },
  {
   "cell_type": "code",
   "execution_count": 65,
   "metadata": {
    "ExecuteTime": {
     "end_time": "2020-10-09T10:15:53.737591Z",
     "start_time": "2020-10-09T10:15:53.642826Z"
    }
   },
   "outputs": [
    {
     "data": {
      "text/plain": [
       "0.8793292712926135"
      ]
     },
     "execution_count": 65,
     "metadata": {},
     "output_type": "execute_result"
    }
   ],
   "source": [
    "static_cost_hyp(range(n),p,mu1,mu2,omega)"
   ]
  },
  {
   "cell_type": "code",
   "execution_count": 69,
   "metadata": {
    "ExecuteTime": {
     "end_time": "2020-10-09T10:16:16.175594Z",
     "start_time": "2020-10-09T10:16:14.744377Z"
    }
   },
   "outputs": [
    {
     "name": "stdout",
     "output_type": "stream",
     "text": [
      "      fun: 0.8713678479409223\n",
      " hess_inv: array([[ 1.29256506,  0.0621651 , -0.35473126],\n",
      "       [ 0.0621651 ,  1.18482708, -0.24699555],\n",
      "       [-0.35473126, -0.24699555,  1.60173126]])\n",
      "      jac: array([-7.45058060e-08, -2.23517418e-08,  8.94069672e-08])\n",
      "  message: 'Optimization terminated successfully.'\n",
      "     nfev: 30\n",
      "      nit: 5\n",
      "     njev: 6\n",
      "   status: 0\n",
      "  success: True\n",
      "        x: array([0.        , 0.8115546 , 1.82727047])\n"
     ]
    }
   ],
   "source": [
    "optimization = minimize(static_cost_hyp, range(n), args=(p,mu1,mu2,omega))\n",
    "sign = 1\n",
    "if optimization.x[0] < 0:\n",
    "    sign = -1\n",
    "\n",
    "optimization.x += optimization.x[0] * -sign # let the schedule start at time 0\n",
    "print(optimization)"
   ]
  },
  {
   "cell_type": "markdown",
   "metadata": {},
   "source": [
    "## Web Scraping"
   ]
  },
  {
   "cell_type": "code",
   "execution_count": 70,
   "metadata": {
    "ExecuteTime": {
     "end_time": "2020-10-09T10:16:18.618971Z",
     "start_time": "2020-10-09T10:16:18.609041Z"
    }
   },
   "outputs": [],
   "source": [
    "from urllib.request import urlopen\n",
    "from bs4 import BeautifulSoup as soup\n",
    "import pandas as pd"
   ]
  },
  {
   "cell_type": "code",
   "execution_count": 71,
   "metadata": {
    "ExecuteTime": {
     "end_time": "2020-10-09T10:16:19.536796Z",
     "start_time": "2020-10-09T10:16:19.376269Z"
    }
   },
   "outputs": [],
   "source": [
    "url = f'http://www.appointmentscheduling.info/index.php?SCV={SCV}&N={n}&omega={omega}&objFun=1'\n",
    "\n",
    "# opening up connection, grabbing the page\n",
    "uClient = urlopen(url)\n",
    "page_html = uClient.read()\n",
    "uClient.close()\n",
    "\n",
    "# html parsing\n",
    "page_soup = soup(page_html, \"html.parser\")\n",
    "table = page_soup.findAll(\"table\", {\"class\": \"bordered\"})[1]\n",
    "\n",
    "# get appointment schedule\n",
    "df = pd.read_html(str(table))[0]\n",
    "schedule = df[df.columns[2]].values[:-2]"
   ]
  },
  {
   "cell_type": "code",
   "execution_count": 72,
   "metadata": {
    "ExecuteTime": {
     "end_time": "2020-10-09T10:16:20.132657Z",
     "start_time": "2020-10-09T10:16:20.114748Z"
    }
   },
   "outputs": [
    {
     "data": {
      "text/plain": [
       "array([0.    , 0.829 , 1.8235])"
      ]
     },
     "execution_count": 72,
     "metadata": {},
     "output_type": "execute_result"
    }
   ],
   "source": [
    "schedule"
   ]
  },
  {
   "cell_type": "code",
   "execution_count": 73,
   "metadata": {
    "ExecuteTime": {
     "end_time": "2020-10-09T10:16:21.027726Z",
     "start_time": "2020-10-09T10:16:20.926351Z"
    }
   },
   "outputs": [
    {
     "data": {
      "text/plain": [
       "0.8714665901722874"
      ]
     },
     "execution_count": 73,
     "metadata": {},
     "output_type": "execute_result"
    }
   ],
   "source": [
    "static_cost_hyp(schedule,p,mu1,mu2,omega)"
   ]
  },
  {
   "cell_type": "code",
   "execution_count": null,
   "metadata": {},
   "outputs": [],
   "source": []
  }
 ],
 "metadata": {
  "kernelspec": {
   "display_name": "Python 3",
   "language": "python",
   "name": "python3"
  },
  "language_info": {
   "codemirror_mode": {
    "name": "ipython",
    "version": 3
   },
   "file_extension": ".py",
   "mimetype": "text/x-python",
   "name": "python",
   "nbconvert_exporter": "python",
   "pygments_lexer": "ipython3",
   "version": "3.7.7"
  },
  "latex_envs": {
   "LaTeX_envs_menu_present": true,
   "autoclose": false,
   "autocomplete": true,
   "bibliofile": "biblio.bib",
   "cite_by": "apalike",
   "current_citInitial": 1,
   "eqLabelWithNumbers": true,
   "eqNumInitial": 1,
   "hotkeys": {
    "equation": "Ctrl-E",
    "itemize": "Ctrl-I"
   },
   "labels_anchors": false,
   "latex_user_defs": false,
   "report_style_numbering": false,
   "user_envs_cfg": false
  },
  "toc": {
   "base_numbering": 1,
   "nav_menu": {},
   "number_sections": false,
   "sideBar": true,
   "skip_h1_title": false,
   "title_cell": "Table of Contents",
   "title_sidebar": "Contents",
   "toc_cell": false,
   "toc_position": {},
   "toc_section_display": true,
   "toc_window_display": false
  },
  "varInspector": {
   "cols": {
    "lenName": 16,
    "lenType": 16,
    "lenVar": 40
   },
   "kernels_config": {
    "python": {
     "delete_cmd_postfix": "",
     "delete_cmd_prefix": "del ",
     "library": "var_list.py",
     "varRefreshCmd": "print(var_dic_list())"
    },
    "r": {
     "delete_cmd_postfix": ") ",
     "delete_cmd_prefix": "rm(",
     "library": "var_list.r",
     "varRefreshCmd": "cat(var_dic_list()) "
    }
   },
   "types_to_exclude": [
    "module",
    "function",
    "builtin_function_or_method",
    "instance",
    "_Feature"
   ],
   "window_display": false
  }
 },
 "nbformat": 4,
 "nbformat_minor": 4
}
