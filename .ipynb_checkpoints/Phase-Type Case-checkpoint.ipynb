{
 "cells": [
  {
   "cell_type": "markdown",
   "metadata": {},
   "source": [
    "# Weighted Erlang Case"
   ]
  },
  {
   "cell_type": "markdown",
   "metadata": {},
   "source": [
    "Throughout this document, the following packages are required:"
   ]
  },
  {
   "cell_type": "code",
   "execution_count": 1,
   "metadata": {
    "ExecuteTime": {
     "end_time": "2020-06-29T10:29:38.527836Z",
     "start_time": "2020-06-29T10:29:38.521815Z"
    }
   },
   "outputs": [],
   "source": [
    "import numpy as np\n",
    "import scipy\n",
    "import math\n",
    "from scipy.stats import binom, erlang, poisson\n",
    "from scipy.optimize import minimize"
   ]
  },
  {
   "cell_type": "code",
   "execution_count": 13,
   "metadata": {},
   "outputs": [
    {
     "data": {
      "text/plain": [
       "int"
      ]
     },
     "execution_count": 13,
     "metadata": {},
     "output_type": "execute_result"
    }
   ],
   "source": [
    "import csv\n",
    "\n",
    "with open('phase/SCV_1.00_minima_n5.csv','r') as csvfile:\n",
    "    \n",
    "    reader = csv.reader(csvfile)\n",
    "    old_minima = list(reader)\n",
    "#     for row in reader:\n",
    "#         print(','.join(row))\n",
    "type(eval(old_minima[0][0])[99])"
   ]
  },
  {
   "cell_type": "markdown",
   "metadata": {},
   "source": [
    "### Weighted Erlang distribution\n",
    "\n",
    "In this section, we assume that the service time $B$ equals w.p. $p\\in[0,1]$ an Erlang-distributed random variable with $K$ exponentially distributed phases, each of them having mean $\\mu^{-1}$, and with probability $1-p$ an Erlang-distributed random variable with $K+1$ exponentially distributed phases, again with mean $\\mu^{-1}$:\n",
    "\n",
    "\\begin{align*}\n",
    "B \\stackrel{\\text{d}}{=} \\sum_{i=1}^{K}X_i + X_{K+1}\\mathbb{1}_{\\{U > p\\}},\n",
    "\\end{align*}\n",
    "\n",
    "where $X_i \\stackrel{iid}{\\sim} \\text{Exp}(\\mu)$ and $U\\sim\\text{Unif}[0,1]$."
   ]
  },
  {
   "cell_type": "code",
   "execution_count": 14,
   "metadata": {
    "ExecuteTime": {
     "end_time": "2020-06-29T10:34:14.844429Z",
     "start_time": "2020-06-29T10:34:14.834457Z"
    }
   },
   "outputs": [],
   "source": [
    "def SCV_to_params(SCV):\n",
    "    \n",
    "    # weighted Erlang case\n",
    "    if SCV <= 1:\n",
    "        K = math.floor(1/SCV)\n",
    "        p = ((K + 1) * SCV - math.sqrt((K + 1) * (1 - K * SCV))) / (SCV + 1)\n",
    "        mu = K + (1 - p)\n",
    "    \n",
    "        return K, p, mu\n",
    "    \n",
    "    # hyperexponential case\n",
    "    else:\n",
    "        p = 0.5 * (1 + np.sqrt((SCV - 1) / (SCV + 1)))\n",
    "        mu = 1 # 1 / mean\n",
    "        mu1 = 2 * p * mu\n",
    "        mu2 = 2 * (1 - p) * mu\n",
    "        \n",
    "        return p, mu1, mu2"
   ]
  },
  {
   "cell_type": "markdown",
   "metadata": {},
   "source": [
    "We keep the following parameters fixed:"
   ]
  },
  {
   "cell_type": "code",
   "execution_count": 15,
   "metadata": {
    "ExecuteTime": {
     "end_time": "2020-06-29T10:34:13.940358Z",
     "start_time": "2020-06-29T10:34:13.935370Z"
    }
   },
   "outputs": [],
   "source": [
    "n = 5\n",
    "omega = 0.5 ###\n",
    "Delta = 0.01\n",
    "K, p, mu = SCV_to_params(0.99)\n",
    "t_MAX = int(5/Delta)\n",
    "M = 500\n",
    "\n",
    "epsilon = 0.005"
   ]
  },
  {
   "cell_type": "markdown",
   "metadata": {},
   "source": [
    "The recursion of the dynamic program is given as follows. For $i=1,\\dots,n-1$, $k=1,\\dots,i$, and $m\\in\\mathbb{N}_0$,\n",
    "\n",
    "\\begin{align*}\n",
    "\\xi_i(k,m) &= \\inf_{t\\in \\mathbb{N}_0}\n",
    "\\Big(\n",
    "\\omega \\bar{f}^{\\circ}_{k,m\\Delta}(t\\Delta) + (1-\\omega)\\bar{h}^{\\circ}_{k,m\\Delta} +\n",
    "\\sum_{\\ell=2}^{k}\\sum_{j=0}^{t}\\bar{q}_{k\\ell,mj}(t)\\xi_{i+1}(\\ell,j) +\n",
    "P^{\\downarrow}_{k,m\\Delta}(t\\Delta)\\xi_{i+1}(1,0) +\n",
    "P^{\\uparrow}_{k,m\\Delta}(t\\Delta)\\xi_{i+1}(k+1,m+t)\n",
    "\\Big),\n",
    "\\end{align*}\n",
    "\n",
    "whereas, for $k=1,\\dots,n$ and $m\\in \\mathbb{N}_0$,\n",
    "\n",
    "\\begin{align*}\n",
    "\\xi_n(k,m) = (1-\\omega)\\bar{h}^{\\circ}_{k,m\\Delta}.\n",
    "\\end{align*}"
   ]
  },
  {
   "cell_type": "code",
   "execution_count": 17,
   "metadata": {},
   "outputs": [],
   "source": [
    "from functools import lru_cache"
   ]
  },
  {
   "cell_type": "code",
   "execution_count": 6,
   "metadata": {
    "scrolled": false
   },
   "outputs": [],
   "source": [
    "# # compute the poisson pmfs and cdfs\n",
    "# poisson_pmf = np.zeros((K+1,t_MAX**2+1), dtype=np.float64)\n",
    "# poisson_cdf = np.zeros((K+1,t_MAX**2+1), dtype=np.float64)\n",
    "\n",
    "# for z in range(K+1):\n",
    "#     for t_index in range(t_MAX+1):\n",
    "#         t = t_index*Delta\n",
    "#         poisson_pmf[z][t_index] = poisson.pmf(z, mu*t)\n",
    "#         poisson_cdf[z][t_index] = poisson.cdf(z, mu*t)\n",
    "\n",
    "# # # methode 1\n",
    "# # B_sfs = np.zeros(t_MAX**2+1)\n",
    "# # for t_index in range(t_MAX**2+1):\n",
    "# # #     B_sfs[t_index] = B_sf(t_index*Delta)\n",
    "# #     B_sfs[t_index] = poisson_cdf[K-1][t_index] + (1 - p) * poisson_pmf[K][t_index]\n",
    "    \n",
    "# # methode 2\n",
    "# # B_sfs = np.zeros(t_MAX**2+1)\n",
    "# poisson_pmfs = [np.zeros(t_MAX**2+1) for z in range(K+1)]\n",
    "# poisson_cdfs = [np.zeros(t_MAX**2+1) for z in range(K+1)]\n",
    "\n",
    "# # for t_index in range(t_MAX**2+1):\n",
    "# #     t = t_index*Delta\n",
    "# #     cdf, pmf = poisson.cdf(K-1, mu*t), poisson.pmf(K, mu*t)\n",
    "    \n",
    "# #     poisson_pmfs[K][t_index] = pmf\n",
    "# #     B_sfs[t_index] = cdf + (1 - p) * pmf\n",
    "\n",
    "# for z in range(n):\n",
    "#     for t_index in range(t_MAX**2+1):\n",
    "#         t = t_index*Delta\n",
    "        \n",
    "#         poisson_pmfs[z][t_index] = poisson.pmf(z, mu*t)\n",
    "#         poisson_cdfs[z][t_index] = poisson.cdf(z, mu*t)\n",
    "\n",
    "# B_sfs = poisson_cdfs[K-1] + (1 - p) * poisson_pmfs[K]"
   ]
  },
  {
   "cell_type": "code",
   "execution_count": 73,
   "metadata": {},
   "outputs": [],
   "source": [
    "# B_sfs[-240000]"
   ]
  },
  {
   "cell_type": "code",
   "execution_count": null,
   "metadata": {},
   "outputs": [],
   "source": [
    "# B_sfs_alt[-240000]"
   ]
  },
  {
   "cell_type": "code",
   "execution_count": null,
   "metadata": {},
   "outputs": [],
   "source": [
    "# poisson_pmfs[0][-240000]"
   ]
  },
  {
   "cell_type": "code",
   "execution_count": null,
   "metadata": {},
   "outputs": [],
   "source": [
    "# print(np.mean(B_sfs),np.std(B_sfs))\n",
    "# print(np.mean(B_sf),np.std(B_sf))\n"
   ]
  },
  {
   "cell_type": "code",
   "execution_count": null,
   "metadata": {},
   "outputs": [],
   "source": [
    "# poisson_pmf"
   ]
  },
  {
   "cell_type": "code",
   "execution_count": 18,
   "metadata": {
    "ExecuteTime": {
     "end_time": "2020-06-29T10:34:17.929391Z",
     "start_time": "2020-06-29T10:34:17.922448Z"
    }
   },
   "outputs": [],
   "source": [
    "### TRANSITION PROBABILITIES ###\n",
    "\n",
    "# 1. No client has been served before time t.\n",
    "@lru_cache(maxsize=128)\n",
    "def B_sf(t):\n",
    "    \"\"\"The survival function P(B > t).\"\"\"\n",
    "#     try:\n",
    "#         t_index = int(t/Delta)\n",
    "#         return B_sf[t_index]\n",
    "#     except:\n",
    "    return poisson.cdf(K-1, mu*t) + (1 - p) * poisson.pmf(K, mu*t)\n",
    "        \n",
    "\n",
    "@lru_cache(maxsize=128)\n",
    "def P_up(k, u, t):\n",
    "    \"\"\"Computes P(N_t- = k | N_0 = k, B_0 = u).\"\"\"\n",
    "#     try:\n",
    "#         u_index, t_index = int(u/Delta), int(t/Delta)\n",
    "#         return B_sf[u_index+t_index] / B_sf[u_index]\n",
    "#     except:\n",
    "    return B_sf(u+t) / B_sf(u)\n",
    "\n",
    "\n",
    "# 2. All clients have been served before time t.\n",
    "@lru_cache(maxsize=128)\n",
    "def gamma(z, t):\n",
    "    \"\"\"Computes P(Z_t = z | B > t).\"\"\"\n",
    "#     try:\n",
    "#         t_index = int(t/Delta)\n",
    "#         gamma_circ = poisson_pmfs[z-1][t_index]\n",
    "\n",
    "#         if z == K + 1:\n",
    "#             gamma_circ *= (1 - p)\n",
    "\n",
    "#         return gamma_circ / B_sfs[t_index]\n",
    "# #     except:\n",
    "    gamma_circ = poisson.pmf(z-1, mu*t)\n",
    "\n",
    "    if z == K + 1:\n",
    "        gamma_circ *= (1 - p)\n",
    "\n",
    "    return gamma_circ / B_sf(t)\n",
    "\n",
    "@lru_cache(maxsize=128)\n",
    "def P_k0(k, z, t):\n",
    "    \"\"\"Computes P(N_t- = 0 | N_0 = k, X_0 = z).\"\"\"\n",
    "    if z <= K:\n",
    "        return sum([binom.pmf(m, k, 1-p) * erlang.cdf(t, k*K-z+1+m, scale=1/mu) for m in range(k+1)])\n",
    "    elif z == K + 1:\n",
    "        return sum([binom.pmf(m, k-1, 1-p) * erlang.cdf(t, (k-1)*K+1+m, scale=1/mu) for m in range(k)])\n",
    "\n",
    "# @lru_cache(maxsize=128)\n",
    "def P_down(k, u, t):\n",
    "    \"\"\"Computes P(N_t- = 0 | N_0 = k, B_0 = u).\"\"\"\n",
    "    return sum([gamma(z, u) * P_k0(k, z, t) for z in range(1, K+2)])\n",
    "\n",
    "\n",
    "# 3. Some (but not all) clients have been served before time t.\n",
    "@lru_cache(maxsize=128)\n",
    "def psi(v, t, k, l):\n",
    "    \"\"\"\n",
    "    Computes P(t-v < Erl(k,mu) < t, Erl(k,mu) + Erl(l-k,mu) > t),\n",
    "    where Erl(k,mu) and Erl(l-k,mu) are independent.\n",
    "    \"\"\"\n",
    "#     try:\n",
    "#     t_index = int(t/Delta)\n",
    "#     return sum([poisson_pmfs[j][t_index] * binom.sf(j-k, j, v/t) for j in range(k, l)])\n",
    "#     except:\n",
    "    return sum([poisson.pmf(j, mu*t) * binom.sf(j-k, j, v/t) for j in range(k, l)])\n",
    "\n",
    "\n",
    "@lru_cache(maxsize=128)\n",
    "def q(k, l, z, v, t):\n",
    "    \"\"\"Computes P(N_t = l, B_t < v | N_0 = k, Z_0 = z).\"\"\"\n",
    "\n",
    "    q = 0\n",
    "\n",
    "    if z <= K:\n",
    "        for m in range(k-l+2):\n",
    "            I_klmz = (k - l + 1) * K - z + m + 1\n",
    "            E = p * psi(v, t, I_klmz, I_klmz+K) + (1 - p) * psi(v, t, I_klmz, I_klmz+K+1)\n",
    "            q += binom.pmf(m, k-l+1, 1-p) * E\n",
    "\n",
    "    elif z == K + 1:\n",
    "        for m in range(k-l+1):\n",
    "            I_klm = (k - l) * K + m + 1\n",
    "            E = p * psi(v, t, I_klm, I_klm+K) + (1 - p) * psi(v, t, I_klm, I_klm+K+1)\n",
    "            q += binom.pmf(m, k-l, 1-p) * E\n",
    "\n",
    "    return q\n",
    "\n",
    "def trunc(x, y):\n",
    "    \"\"\"Truncates x to the interval [0,y].\"\"\"\n",
    "    return min(max(0, x), y)\n",
    "\n",
    "@lru_cache(maxsize=128)\n",
    "def q_bar(k, l, m, j, t):\n",
    "    \"\"\"Approximates P(N_{t*Delta} = l, B_{t*Delta} \\in d(j*Delta) | N_0 = k, B_0 = m * Delta).\"\"\"\n",
    "\n",
    "    lower, upper = trunc((j-0.5)*Delta, t*Delta), trunc((j+0.5)*Delta, t*Delta)\n",
    "    q_bar = sum([gamma(z, m*Delta) * (q(k, l, z, upper, t*Delta) - q(k, l, z, lower, t*Delta)) for z in range(1, K+2)])\n",
    "\n",
    "    return q_bar"
   ]
  },
  {
   "cell_type": "code",
   "execution_count": 19,
   "metadata": {
    "ExecuteTime": {
     "end_time": "2020-06-29T10:34:20.822983Z",
     "start_time": "2020-06-29T10:34:20.812976Z"
    }
   },
   "outputs": [],
   "source": [
    "### OBJECTIVE/RISK FUNCTION ###\n",
    "\n",
    "@lru_cache(maxsize=128)\n",
    "def f(k, t):\n",
    "#     try:\n",
    "#     t_index = int(t/Delta)\n",
    "#     print(t_index,k-1)\n",
    "#     return (1 - poisson_cdfs[k-1][t_index]) * t - (1 - poisson_cdfs[k][t_index]) * k / mu\n",
    "#     except:\n",
    "    return poisson.sf(k-1, mu*t) * t - poisson.sf(k, mu*t) * k / mu\n",
    "\n",
    "@lru_cache(maxsize=128)\n",
    "def f_bar(k, z, t):  # TODO: deze kan sneller door wat op te slaan\n",
    "    if z <= K:\n",
    "        return sum([binom.pmf(m, k, 1 - p) * f(k*K+1-z+m, t) for m in range(k+1)])\n",
    "    elif z == K + 1:\n",
    "        return sum([binom.pmf(m, k-1, 1 - p) * f((k-1)*K+1+m, t) for m in range(k)])\n",
    "\n",
    "@lru_cache(maxsize=128)\n",
    "def f_circ(k, u, t):\n",
    "    return sum([gamma(z, u) * f_bar(k, z, t) for z in range(1, K+2)])\n",
    "\n",
    "@lru_cache(maxsize=128)\n",
    "def h_bar(k, z):\n",
    "\n",
    "    if k == 1:\n",
    "        return 0\n",
    "    elif z <= K: ################### TODO\n",
    "        return ((k - 1) * (K + 1 - p) + 1 - z) / mu\n",
    "    elif z == K + 1:\n",
    "        return ((k - 2) * (K + 1 - p) + 1) / mu\n",
    "\n",
    "@lru_cache(maxsize=128)\n",
    "def h_circ(k, u):\n",
    "    return sum([gamma(z, u) * h_bar(k, z) for z in range(1, K+2)])"
   ]
  },
  {
   "cell_type": "code",
   "execution_count": 20,
   "metadata": {
    "ExecuteTime": {
     "end_time": "2020-06-29T10:36:03.545640Z",
     "start_time": "2020-06-29T10:36:03.527714Z"
    },
    "code_folding": []
   },
   "outputs": [],
   "source": [
    "### COST ###\n",
    "def cost_we(t, i, k, m):\n",
    "    \"\"\"Computes (approximately) the cost when t is the next interarrival time.\"\"\"\n",
    "    \n",
    "    m = int(round(m))\n",
    "    \n",
    "    cost = omega * f_circ(k, m*Delta, t*Delta) + (1 - omega) * h_circ(k, m*Delta)\n",
    "    cost += P_down(k, m*Delta, t*Delta) * xi_we(i+1, 1, 0)\n",
    "    cost += P_up(k, m*Delta, t*Delta) * xi_we(i+1, k+1, m+t)\n",
    "\n",
    "    for l in range(2, k+1):\n",
    "        for j in range(t+1):\n",
    "            cost += q_bar(k, l, m, j, t) * xi_we(i+1, l, j)\n",
    "    \n",
    "    return cost\n",
    "\n",
    "\n",
    "def xi_we(i, k, m):\n",
    "    \"\"\"Implements the Weighted Erlang Case.\"\"\"\n",
    "    \n",
    "#     print(\"begin\",i,k,m)\n",
    "    \n",
    "    # truncate time in service m\n",
    "    if m > M:\n",
    "        m = M\n",
    "    \n",
    "    if xi_matrix[i-1][k-1][m-1]:  # retrieve stored value\n",
    "        pass\n",
    "    elif i == n:\n",
    "        xi_matrix[i-1][k-1][m-1] = (1 - omega) * h_circ(k, m*Delta)        \n",
    "    else:\n",
    "        \n",
    "        if m >= 3 and xi_matrix[i-1][k-1][m-2] and xi_matrix[i-1][k-1][m-3]:\n",
    "#             print(i,k,m)\n",
    "#             print(xi_matrix[i-1][k-1])\n",
    "            if abs(xi_matrix[i-1][k-1][m-2] - xi_matrix[i-1][k-1][m-3]) < epsilon:\n",
    "                xi_matrix[i-1][k-1][m-1:] = [xi_matrix[i-1][k-1][m-2]] * (M - (m - 1))\n",
    "                minima[i-1][k-1][m-1:] = [minima[i-1][k-1][m-2]] * (M - (m - 1))\n",
    "            \n",
    "                print(i,k,m,\"break\")\n",
    "                return xi_matrix[i-1][k-1][m-1]\n",
    "            \n",
    "                ### TODO: fill all coming values with current cost & minimum\n",
    "                    \n",
    "        t_guess = eval(old_minima[i-1][k-1])[m-1]\n",
    "        cost_guess = cost_we(t_guess, i, k, m)\n",
    "\n",
    "        t_new = t_guess\n",
    "\n",
    "        while True:\n",
    "#             print(i, k, m, t_guess, cost_guess)\n",
    "\n",
    "            t_new -= 1\n",
    "            cost_new = cost_we(t_new, i, k, m)\n",
    "            if cost_new < cost_guess:\n",
    "                t_guess = t_new\n",
    "                cost_guess = cost_new\n",
    "            else:\n",
    "                break\n",
    "\n",
    "        xi_matrix[i-1][k-1][m-1] = cost_guess\n",
    "        minima[i-1][k-1][m-1] = t_guess\n",
    "\n",
    "        print(\"eind\", i, k, m, t_guess, cost_guess)\n",
    "\n",
    "    return xi_matrix[i-1][k-1][m-1]"
   ]
  },
  {
   "cell_type": "code",
   "execution_count": 21,
   "metadata": {
    "ExecuteTime": {
     "end_time": "2020-06-29T10:41:13.160758Z",
     "start_time": "2020-06-29T10:36:04.602089Z"
    },
    "scrolled": false
   },
   "outputs": [],
   "source": [
    "xi_matrix = [[[None for m in range(t_MAX)] for k in range(i+1)] for i in range(n)]\n",
    "minima = [[[None for m in range(t_MAX)] for k in range(i+1)] for i in range(n)]\n",
    "\n",
    "# %%cython inline\n",
    "# print(\"Cost:\", xi_we(1, 1, 0))"
   ]
  },
  {
   "cell_type": "code",
   "execution_count": 22,
   "metadata": {},
   "outputs": [
    {
     "name": "stdout",
     "output_type": "stream",
     "text": [
      "i = 5 k = 1\n",
      "i = 5 k = 2\n",
      "i = 5 k = 3\n",
      "i = 5 k = 4\n",
      "i = 5 k = 5\n",
      "i = 4 k = 1\n",
      "eind 4 1 0 69 0.34590848602708724\n",
      "eind 4 1 1 69 0.3458894359532295\n",
      "eind 4 1 2 69 0.3458704170251468\n",
      "4 1 3 break\n",
      "i = 4 k = 2\n",
      "eind 4 2 0 168 1.0242568875974793\n",
      "eind 4 2 1 168 1.0242140307141159\n",
      "eind 4 2 2 168 1.0241712438992923\n",
      "4 2 3 break\n",
      "i = 4 k = 3\n",
      "eind 4 3 0 267 1.6570612713003086\n",
      "eind 4 3 1 267 1.6570207956694567\n",
      "eind 4 3 2 267 1.656980386213937\n",
      "4 3 3 break\n",
      "i = 4 k = 4\n",
      "eind 4 4 0 367 2.267444815510033\n",
      "eind 4 4 1 367 2.267405878655538\n",
      "eind 4 4 2 367 2.2673670054605632\n",
      "4 4 3 break\n",
      "i = 3 k = 1\n",
      "eind 3 1 0 86 0.7747992029576257\n",
      "eind 3 1 1 86 0.7747905648020879\n",
      "eind 3 1 2 86 0.7747819407694372\n",
      "3 1 3 break\n",
      "i = 3 k = 2\n",
      "eind 3 2 0 191 1.4761058096701762\n",
      "eind 3 2 1 191 1.4760647464099756\n",
      "eind 3 2 2 191 1.4760237502858466\n",
      "3 2 3 break\n",
      "i = 3 k = 3\n",
      "eind 3 3 0 296 2.1241075776165816\n",
      "eind 3 3 1 296 2.124066858540665\n",
      "eind 3 3 2 296 2.124026206038088\n",
      "3 3 3 break\n",
      "i = 2 k = 1\n",
      "eind 2 1 0 88 1.2133541317621777\n",
      "eind 2 1 1 88 1.2133451747611352\n",
      "eind 2 1 2 88 1.213336232404275\n",
      "2 1 3 break\n",
      "i = 2 k = 2\n",
      "eind 2 2 0 194 1.9169809833399798\n",
      "eind 2 2 1 194 1.9169397195999764\n",
      "eind 2 2 2 194 1.9168985233238125\n",
      "2 2 3 break\n",
      "i = 1 k = 1\n",
      "eind 1 1 0 88 1.6528734419920894\n",
      "eind 1 1 1 88 1.6528644319255872\n",
      "eind 1 1 2 88 1.6528554365900257\n",
      "1 1 3 break\n"
     ]
    }
   ],
   "source": [
    "for i in np.arange(n,0,-1):\n",
    "    for k in range(1,i+1):\n",
    "        print(\"i =\",i,\"k =\",k)\n",
    "        for m in range(t_MAX):\n",
    "            xi_we(i,k,m)"
   ]
  },
  {
   "cell_type": "code",
   "execution_count": null,
   "metadata": {},
   "outputs": [],
   "source": [
    "eind 14 1 0 69 0.3465760690660555\n",
    "eind 14 2 86 168 1.0258562318250255\n",
    "eind 14 2 85 168 1.0258562318250237\n",
    "eind 13 1 0 86 0.7756027183751549\n",
    "eind 14 3 279 267 1.659409653583836\n",
    "eind 14 2 0 168 1.0258562318250244\n",
    "eind 14 2 1 168 1.0258562318250255\n",
    "eind 14 2 2 168 1.0258562318250244\n",
    "14 2 3 break\n",
    "eind 14 3 278 267 1.659409653583836\n",
    "eind 13 2 88 191 1.477601341587333"
   ]
  },
  {
   "cell_type": "code",
   "execution_count": null,
   "metadata": {},
   "outputs": [],
   "source": [
    "import csv\n",
    "\n",
    "with open('phase/SCV_0.90_minima.csv','w', newline='') as myfile:\n",
    "    out = csv.writer(myfile)\n",
    "    out.writerows(minima)\n",
    "\n",
    "    with open('phase/SCV_0.90_minima.csv','w', newline='') as myfile:\n",
    "    out = csv.writer(myfile)\n",
    "    out.writerows(minima)\n"
   ]
  },
  {
   "cell_type": "code",
   "execution_count": null,
   "metadata": {
    "scrolled": false
   },
   "outputs": [],
   "source": [
    "xi_matrix[14][1]"
   ]
  },
  {
   "cell_type": "code",
   "execution_count": null,
   "metadata": {
    "ExecuteTime": {
     "end_time": "2020-06-23T21:03:21.254189Z",
     "start_time": "2020-06-23T21:03:21.248199Z"
    }
   },
   "outputs": [],
   "source": [
    "## t op 0.01 afronden\n",
    "## SCV op 0.05 afronden\n",
    "## m op 0.01 afronden"
   ]
  },
  {
   "cell_type": "code",
   "execution_count": null,
   "metadata": {},
   "outputs": [],
   "source": [
    "# u_max = 10**2 ### IDEE: Gamma's opslaan\n",
    "# gamma_matrix = [[None for z in range(K+1)] for u in range(u_max)]"
   ]
  },
  {
   "cell_type": "code",
   "execution_count": null,
   "metadata": {},
   "outputs": [],
   "source": []
  }
 ],
 "metadata": {
  "kernelspec": {
   "display_name": "Python 3",
   "language": "python",
   "name": "python3"
  },
  "language_info": {
   "codemirror_mode": {
    "name": "ipython",
    "version": 3
   },
   "file_extension": ".py",
   "mimetype": "text/x-python",
   "name": "python",
   "nbconvert_exporter": "python",
   "pygments_lexer": "ipython3",
   "version": "3.9.0"
  },
  "latex_envs": {
   "LaTeX_envs_menu_present": true,
   "autoclose": false,
   "autocomplete": true,
   "bibliofile": "biblio.bib",
   "cite_by": "apalike",
   "current_citInitial": 1,
   "eqLabelWithNumbers": true,
   "eqNumInitial": 1,
   "hotkeys": {
    "equation": "Ctrl-E",
    "itemize": "Ctrl-I"
   },
   "labels_anchors": false,
   "latex_user_defs": false,
   "report_style_numbering": false,
   "user_envs_cfg": false
  },
  "toc": {
   "base_numbering": 1,
   "nav_menu": {},
   "number_sections": true,
   "sideBar": true,
   "skip_h1_title": false,
   "title_cell": "Table of Contents",
   "title_sidebar": "Contents",
   "toc_cell": false,
   "toc_position": {},
   "toc_section_display": true,
   "toc_window_display": false
  },
  "varInspector": {
   "cols": {
    "lenName": 16,
    "lenType": 16,
    "lenVar": 40
   },
   "kernels_config": {
    "python": {
     "delete_cmd_postfix": "",
     "delete_cmd_prefix": "del ",
     "library": "var_list.py",
     "varRefreshCmd": "print(var_dic_list())"
    },
    "r": {
     "delete_cmd_postfix": ") ",
     "delete_cmd_prefix": "rm(",
     "library": "var_list.r",
     "varRefreshCmd": "cat(var_dic_list()) "
    }
   },
   "types_to_exclude": [
    "module",
    "function",
    "builtin_function_or_method",
    "instance",
    "_Feature"
   ],
   "window_display": false
  }
 },
 "nbformat": 4,
 "nbformat_minor": 2
}
