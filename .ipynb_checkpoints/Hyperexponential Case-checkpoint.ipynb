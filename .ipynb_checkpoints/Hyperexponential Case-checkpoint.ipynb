{
 "cells": [
  {
   "cell_type": "markdown",
   "metadata": {},
   "source": [
    "## Hyperexponential Case\n",
    "\n",
    "Throughout this document, the following packages are required:"
   ]
  },
  {
   "cell_type": "code",
   "execution_count": 1,
   "metadata": {},
   "outputs": [],
   "source": [
    "import numpy as np\n",
    "import scipy\n",
    "import math\n",
    "from scipy.stats import binom, erlang, poisson\n",
    "from scipy.optimize import minimize\n",
    "from functools import lru_cache"
   ]
  },
  {
   "cell_type": "markdown",
   "metadata": {},
   "source": [
    "### Plot Phase-Type Fit"
   ]
  },
  {
   "cell_type": "code",
   "execution_count": 2,
   "metadata": {},
   "outputs": [],
   "source": [
    "from ipywidgets import interact, interactive, fixed, interact_manual\n",
    "import ipywidgets as widgets\n",
    "import matplotlib.pyplot as plt"
   ]
  },
  {
   "cell_type": "code",
   "execution_count": 3,
   "metadata": {},
   "outputs": [],
   "source": [
    "def SCV_to_params(SCV):\n",
    "    \n",
    "    # weighted Erlang case\n",
    "    if SCV <= 1:\n",
    "        K = math.floor(1/SCV)\n",
    "        p = ((K + 1) * SCV - math.sqrt((K + 1) * (1 - K * SCV))) / (SCV + 1)\n",
    "        mu = K + (1 - p) * (K + 1)\n",
    "    \n",
    "        return K, p, mu\n",
    "    \n",
    "    # hyperexponential case\n",
    "    else:\n",
    "        p = 0.5 * (1 + np.sqrt((SCV - 1) / (SCV + 1)))\n",
    "        mu = 1 # 1 / mean\n",
    "        mu1 = 2 * p * mu\n",
    "        mu2 = 2 * (1 - p) * mu\n",
    "        \n",
    "        return p, mu1, mu2"
   ]
  },
  {
   "cell_type": "code",
   "execution_count": 7,
   "metadata": {},
   "outputs": [],
   "source": [
    "# for i in range(81):\n",
    "#     SCV = 1 + 0.1 * i\n",
    "#     print(round(SCV,2),SCV_to_params(SCV))"
   ]
  },
  {
   "cell_type": "code",
   "execution_count": 8,
   "metadata": {},
   "outputs": [],
   "source": [
    "def density_WE(x, K, p, mu):\n",
    "    return p * erlang.pdf(x, K, scale=1/mu) + (1 - p) * erlang.pdf(x, K+1, scale=1/mu)\n",
    "\n",
    "def density_HE(x, p, mu1, mu2):\n",
    "    return p * mu1 * np.exp(-mu1 * x) + (1 - p) * mu2 * np.exp(-mu2 * x)"
   ]
  },
  {
   "cell_type": "code",
   "execution_count": 9,
   "metadata": {},
   "outputs": [],
   "source": [
    "x = np.linspace(0,4,1001)\n",
    "\n",
    "def plot_f(SCV=1):\n",
    "    \n",
    "    if SCV <= 1:\n",
    "        K, p, mu = SCV_to_params(SCV)\n",
    "        f_x = density_WE(x, K, p, mu)\n",
    "        title = f'SCV = {SCV}\\n p = {p:.2f}, $K$ = {K}, $\\mu$ = {mu:.2f}'\n",
    "    else:\n",
    "        p, mu1, mu2 = SCV_to_params(SCV)\n",
    "        f_x = density_HE(x, p, mu1, mu2)\n",
    "        title = f'SCV = {SCV}\\n p = {p:.2f}, $\\mu_1$ = {mu1:.2f}, $\\mu_2$ = {mu2:.2f}'\n",
    "    \n",
    "    plt.plot(x,f_x)\n",
    "    plt.title(title)\n",
    "    plt.xlabel('$x$')\n",
    "    plt.ylabel('density')\n",
    "    plt.ylim(0,2)\n"
   ]
  },
  {
   "cell_type": "code",
   "execution_count": 10,
   "metadata": {
    "scrolled": true
   },
   "outputs": [
    {
     "data": {
      "application/vnd.jupyter.widget-view+json": {
       "model_id": "02ae9a6e6de943a9a0c1301274b4f4f7",
       "version_major": 2,
       "version_minor": 0
      },
      "text/plain": [
       "interactive(children=(FloatSlider(value=1.0, description='SCV', max=2.0, min=0.01, step=0.01), Output()), _dom…"
      ]
     },
     "metadata": {},
     "output_type": "display_data"
    }
   ],
   "source": [
    "interact(plot_f, SCV=(0.01,2,0.01));"
   ]
  },
  {
   "cell_type": "code",
   "execution_count": null,
   "metadata": {},
   "outputs": [],
   "source": []
  },
  {
   "cell_type": "markdown",
   "metadata": {},
   "source": [
    "The recursion of the dynamic program is given as follows. For $i=1,\\dots,n-1$, $k=1,\\dots,i$, and $m\\in\\mathbb{N}_0$,\n",
    "\n",
    "\\begin{align*}\n",
    "\\xi_i(k,m) &= \\inf_{t\\in \\mathbb{N}_0}\n",
    "\\Big(\n",
    "\\omega \\bar{f}^{\\circ}_{k,m\\Delta}(t\\Delta) + (1-\\omega)\\bar{h}^{\\circ}_{k,m\\Delta} +\n",
    "\\sum_{\\ell=2}^{k}\\sum_{j=0}^{t}\\bar{q}_{k\\ell,mj}(t)\\xi_{i+1}(\\ell,j) +\n",
    "P^{\\downarrow}_{k,m\\Delta}(t\\Delta)\\xi_{i+1}(1,0) +\n",
    "P^{\\uparrow}_{k,m\\Delta}(t\\Delta)\\xi_{i+1}(k+1,m+t)\n",
    "\\Big),\n",
    "\\end{align*}\n",
    "\n",
    "whereas, for $k=1,\\dots,n$ and $m\\in \\mathbb{N}_0$,\n",
    "\n",
    "\\begin{align*}\n",
    "\\xi_n(k,m) = (1-\\omega)\\bar{h}^{\\circ}_{k,m\\Delta}.\n",
    "\\end{align*}"
   ]
  },
  {
   "cell_type": "markdown",
   "metadata": {},
   "source": [
    "We will implement this dynamic program step by step. First, we implement all functions in the equation above.\n",
    "\n",
    "Our formulas rely heavily on the survival function $\\mathbb{P}(B>t)$ and $\\gamma_z(t) = \\mathbb{P}(Z_t = z\\mid B>t)$:"
   ]
  },
  {
   "cell_type": "code",
   "execution_count": 49,
   "metadata": {},
   "outputs": [],
   "source": [
    "@lru_cache(maxsize=128)\n",
    "def B_sf(t):\n",
    "    \"\"\"The survival function P(B > t).\"\"\"\n",
    "    return p * np.exp(-mu1 * t) + (1 - p) * np.exp(-mu2 * t)\n",
    "\n",
    "@lru_cache(maxsize=128)\n",
    "def gamma(z, t):\n",
    "    \"\"\"Computes P(Z_t = z | B > t).\"\"\"\n",
    "    \n",
    "    gamma_circ = B_sf(t)\n",
    "    \n",
    "    if z == 1:\n",
    "        return p * np.exp(-mu1 * t) / gamma_circ\n",
    "    elif z == 2:\n",
    "        return (1 - p) * np.exp(-mu2 * t) / gamma_circ"
   ]
  },
  {
   "cell_type": "markdown",
   "metadata": {},
   "source": [
    "Next, we implement $\\bar{f}^{\\circ}_{k,u}(t)$, which depends on $\\bar{f}_{k,z}(t)$:"
   ]
  },
  {
   "cell_type": "code",
   "execution_count": 50,
   "metadata": {},
   "outputs": [],
   "source": [
    "@lru_cache(maxsize=128)\n",
    "def f_bar(k,z,t):\n",
    "    \n",
    "    if z == 1:\n",
    "        return sum([binom.pmf(m, k-1, p) * sigma(t, m+1, k-1-m) for m in range(k)])\n",
    "    elif z == 2:\n",
    "        return sum([binom.pmf(m, k-1, p) * sigma(t, m, k-m) for m in range(k)])\n",
    "\n",
    "@lru_cache(maxsize=128)\n",
    "def f_circ(k, u, t):\n",
    "    return gamma(1, u) * f_bar(k, 1, t) + gamma(2, u) * f_bar(k, 2, t)"
   ]
  },
  {
   "cell_type": "markdown",
   "metadata": {},
   "source": [
    "In here, we need to evaluate the object $\\sigma_{t}[m,k]$, which depends on $\\rho_{t}[m,k]$:"
   ]
  },
  {
   "cell_type": "code",
   "execution_count": 75,
   "metadata": {},
   "outputs": [],
   "source": [
    "@lru_cache(maxsize=512)\n",
    "def sigma(t,m,k):\n",
    "    \n",
    "    return (t - k / mu2) * erlang.cdf(t, m, scale=1/mu1) - (m / mu1) * erlang.cdf(t, m+1, mu1) + \\\n",
    "            (mu1 / mu2) * sum([(k-i) * rho_t(t, m-1, i) for i in range(k)])\n",
    "\n",
    "@lru_cache(maxsize=512)\n",
    "def rho_t(t,m,k):\n",
    "    \n",
    "    if not k:\n",
    "        return np.exp(-mu2 * t) * (mu1 ** m) / ((mu1 - mu2) ** (m + 1)) * erlang.cdf(t, m+1, scale=1/(mu1 - mu2))\n",
    "    elif not m:\n",
    "        return np.exp(-mu1 * t) * (mu2 ** k) / ((mu1 - mu2) ** (k + 1)) * erlang.cdf(t, k+1, scale=1/(mu1 - mu2))\n",
    "    else:\n",
    "        return (mu1 * rho(t,a,m-1,k) - mu2 * rho(t,a,m,k-1)) / (mu1 - mu2)\n",
    "    \n",
    "\n",
    "@lru_cache(maxsize=512)\n",
    "def rho(t,a,m,k):\n",
    "    \n",
    "    if not k:\n",
    "        return np.exp(-mu2 * t) * (mu1 ** m) / ((mu1 - mu2) ** (m + 1)) * erlang.cdf(a, m+1, scale=1/(mu1 - mu2))\n",
    "    elif not m:\n",
    "        return np.exp(-mu1 * t) * (mu2 ** k) / ((mu1 - mu2) ** (k + 1)) * \\\n",
    "                    (erlang.cdf(t, k+1, scale=1/(mu1 - mu2)) - erlang.cdf(t-a, k+1, scale=1/(mu1 - mu2)))\n",
    "    else:\n",
    "        return (mu1 * rho(t,a,m-1,k) - mu2 * rho(t,a,m,k-1) - r(t,a,m,k)) / (mu1 - mu2)\n",
    "\n",
    "\n",
    "@lru_cache(maxsize=512)\n",
    "def r(t,s,m,k):\n",
    "    return poisson.pmf(m,mu1*s) * poisson.pmf(k,t-s)"
   ]
  },
  {
   "cell_type": "markdown",
   "metadata": {},
   "source": [
    "We do the same for $\\bar{h}^{\\circ}_{k,u}(t)$, which only depends on $\\bar{h}_{k,z}$:"
   ]
  },
  {
   "cell_type": "code",
   "execution_count": null,
   "metadata": {},
   "outputs": [],
   "source": [
    "@lru_cache(maxsize=128)\n",
    "def h_bar(k, z):\n",
    "\n",
    "    if k == 1:\n",
    "        return 0\n",
    "    elif z <= K:\n",
    "        return ((k - 1) * (K + 1 - p) + 1 - z) / mu\n",
    "    elif z == K + 1:\n",
    "        return ((k - 2) * (K + 1 - p) + 1) / mu\n",
    "\n",
    "@lru_cache(maxsize=128)\n",
    "def h_circ(k, u):\n",
    "    return gamma(1, u) * h_bar() sum([gamma(z, u) * h_bar(k, z) for z in range(1, K+2)])"
   ]
  },
  {
   "cell_type": "markdown",
   "metadata": {},
   "source": [
    "The next objective is to implement $\\bar{q}_{k\\ell,mj}(t)$. This function depends on $q_{k\\ell,z,v}(t)$, which depends on $\\psi_{vt}[k,\\ell]$: TODO"
   ]
  },
  {
   "cell_type": "code",
   "execution_count": 76,
   "metadata": {},
   "outputs": [],
   "source": [
    "# TODO"
   ]
  },
  {
   "cell_type": "code",
   "execution_count": 5,
   "metadata": {},
   "outputs": [
    {
     "data": {
      "text/plain": [
       "0.0"
      ]
     },
     "execution_count": 5,
     "metadata": {},
     "output_type": "execute_result"
    }
   ],
   "source": [
    "poisson.pmf(3,0)"
   ]
  },
  {
   "cell_type": "markdown",
   "metadata": {},
   "source": [
    "Finally, we implement the remaining transition probabilities $P^{\\uparrow}_{k,u}(t)$ and $P^{\\downarrow}_{k,u}(t)$:"
   ]
  },
  {
   "cell_type": "code",
   "execution_count": 83,
   "metadata": {},
   "outputs": [],
   "source": [
    "# @lru_cache(maxsize=128)\n",
    "def P_up(k, u, t):\n",
    "    \"\"\"Computes P(N_t- = k | N_0 = k, B_0 = u).\"\"\"\n",
    "    return B_sf(u + t) / B_sf(u)\n",
    "\n",
    "@lru_cache(maxsize=128)\n",
    "def P_down(k, u, t):\n",
    "    \"\"\"Computes P(N_t- = 0 | N_0 = k, B_0 = u).\"\"\"\n",
    "    return sum([binom.pmf(m, k, p) * Psi(t, m, k-m) for m in range(k+1)])\n",
    "\n",
    "@lru_cache(maxsize=128)\n",
    "def Psi(t, m, k):\n",
    "    return erlang.cdf(t, m, scale=1/mu1) - mu1 * sum([rho_t(t, m-1, i) for i in range(k)])"
   ]
  },
  {
   "cell_type": "code",
   "execution_count": 4,
   "metadata": {},
   "outputs": [
    {
     "data": {
      "text/plain": [
       "0.0"
      ]
     },
     "execution_count": 4,
     "metadata": {},
     "output_type": "execute_result"
    }
   ],
   "source": [
    "erlang.cdf(0,1,1)"
   ]
  }
 ],
 "metadata": {
  "kernelspec": {
   "display_name": "Python 3",
   "language": "python",
   "name": "python3"
  },
  "language_info": {
   "codemirror_mode": {
    "name": "ipython",
    "version": 3
   },
   "file_extension": ".py",
   "mimetype": "text/x-python",
   "name": "python",
   "nbconvert_exporter": "python",
   "pygments_lexer": "ipython3",
   "version": "3.7.7"
  }
 },
 "nbformat": 4,
 "nbformat_minor": 4
}
