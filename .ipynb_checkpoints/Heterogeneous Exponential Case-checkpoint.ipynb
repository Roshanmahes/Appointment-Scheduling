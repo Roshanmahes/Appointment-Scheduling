{
 "cells": [
  {
   "cell_type": "markdown",
   "metadata": {},
   "source": [
    "## Approach 1: Dynamic Programming\n",
    "\n",
    "Throughout this document, the following packages are required:"
   ]
  },
  {
   "cell_type": "code",
   "execution_count": 1,
   "metadata": {},
   "outputs": [],
   "source": [
    "import numpy as np\n",
    "import scipy, math\n",
    "from scipy.stats import poisson\n",
    "from scipy.optimize import minimize"
   ]
  },
  {
   "cell_type": "markdown",
   "metadata": {},
   "source": [
    "### Heterogeneous Exponential Case\n",
    "\n",
    "The following functions implement the heterogeneous exponential case (Theorem 2.28)."
   ]
  },
  {
   "cell_type": "markdown",
   "metadata": {},
   "source": [
    "Laat $B_j \\sim \\text{Exp}(\\mu_j)$ de behandeltijd van de $j$-de klant. Er geldt:\n",
    "\\begin{align*}\n",
    "p_{k\\ell,i}(t)\n",
    "= \\mathbb{P}_{i}(N_t = \\ell\\mid N_0 = k)\n",
    "&= \\mathbb{P}\\left(\\sum_{j=i-k+1}^{i-\\ell+2}B_j \\leq t\\right) - \\mathbb{P}\\left(\\sum_{j=i-k+1}^{i-\\ell+3}B_j \\leq t\\right) \\\\\n",
    "&= \\sum_{j=i-k+1}^{i-\\ell+2}\\frac{c_{i-k+1,k-\\ell+1,j}}{\\mu_j}(1 - e^{-\\mu_j t}) - \\sum_{j=i-k+1}^{i-\\ell+3}\\frac{c_{i-k+1,k-\\ell+2,j}}{\\mu_j}(1 - e^{-\\mu_j t}),\n",
    "\\end{align*}\n",
    "de $p_{k1,i}(t)$ klopt wel."
   ]
  },
  {
   "cell_type": "code",
   "execution_count": null,
   "metadata": {},
   "outputs": [],
   "source": []
  },
  {
   "cell_type": "code",
   "execution_count": null,
   "metadata": {},
   "outputs": [],
   "source": []
  },
  {
   "cell_type": "code",
   "execution_count": 2,
   "metadata": {},
   "outputs": [],
   "source": [
    "# helper functions\n",
    "def phi(k,l,s,mu):\n",
    "    return np.sum([c(k,l,j,mu) * np.exp(-mu[j-1] * s) for j in range(k,k+l+1)])\n",
    "\n",
    "def psi(j,t,mu):\n",
    "    return (1 - np.exp(-mu[j-1] * t)) / mu[j-1]\n",
    "\n",
    "def c(k,l,j,mu):\n",
    "    \"\"\"Computes the weights c of phi recursively (Lemma 2.23).\"\"\"\n",
    "\n",
    "    # storage indices\n",
    "    k_, l_, j_ = k - 1, l, j - 1\n",
    "    \n",
    "    if c_stored[k_][l_][j_] != None:\n",
    "        pass\n",
    "    elif k == j and not l:\n",
    "        c_stored[k_][l_][j_] = mu[k_]\n",
    "    elif l:\n",
    "        if j >= k and j < k + l:\n",
    "            c_stored[k_][l_][j_] = c(k,l-1,j,mu) * mu[k_+l_] / (mu[k_+l_] - mu[j-1])\n",
    "        elif k + l == j:\n",
    "            c_stored[k_][l_][j_] = np.sum([c(k,l-1,m,mu) * mu[j-1] / (mu[m-1] - mu[j-1]) for m in range(k,k+l)])\n",
    "    \n",
    "    return c_stored[k_][l_][j_]\n",
    "\n",
    "def trans_prob_het(t,i,k,mu):\n",
    "    \"\"\"Computes the transition probabilities (Prop. 2.25).\"\"\"\n",
    "    \n",
    "    p = [phi(i-k+1,k-l+1,t,mu) / mu[i-l+1] for l in range(2,k+2)]\n",
    "    \n",
    "    return [1 - np.sum(p)] + p\n",
    "\n",
    "def cost_het(t,i,k,mu,omega,n):\n",
    "    \"\"\"Computes the cost when t is the next interarrival time.\"\"\"\n",
    "    \n",
    "    f = t - np.sum([c(i-k+1,k-1,j,mu) * psi(j,t,mu) / mu[j-1] for j in range(i-k+1,i+1)])\n",
    "    #g = 0 ## alternative\n",
    "    #for l in range(k-1):\n",
    "    #   g += (k - l - 1) * np.sum([c(i-k+1,l,j,mu) * psi(j,t,mu) / mu[i-k+l] for j in range(i-k+1,i-k+l+2)])\n",
    "    h = np.sum(1 / mu[i-k:i-1])\n",
    "    \n",
    "    p = trans_prob_het(t,i,k,mu)\n",
    "    cost = omega * f[0] + (1 - omega) * h + np.sum([Cstar_het(i+1,l,mu,omega,n) * p[l-1] for l in range(1,k+2)])\n",
    "    \n",
    "    return cost\n",
    "    \n",
    "def Cstar_het(i,k,mu,omega,n):\n",
    "    \"\"\"Implements the Heterogeneous Exponential Case.\"\"\"\n",
    "    \n",
    "    mu = np.array(mu)\n",
    "\n",
    "    if C_matrix[i-1][k-1] != None: # retrieve stored value\n",
    "        pass\n",
    "    elif i == n: # initial condition\n",
    "        C_matrix[i-1][k-1] = (1 - omega) * np.sum(1 / mu[i-k:i-1])\n",
    "        # C_matrix[i-1][k-1] = (1 - omega) * np.sum([(k - l - 1) / mu[n-k+l] for l in range(k)]) ## alternative\n",
    "    else:\n",
    "        optimization = minimize(cost_het,0,args=(i,k,mu,omega,n),bounds=((0,500),))\n",
    "        C_matrix[i-1][k-1] = optimization.fun\n",
    "        minima[i-1][k-1] = optimization.x[0]\n",
    "        print(i,k,minima[i-1][k-1],C_matrix[i-1][k-1]) # displays C_i(k) and interarrival time\n",
    "    \n",
    "    return C_matrix[i-1][k-1]\n"
   ]
  },
  {
   "cell_type": "code",
   "execution_count": 76,
   "metadata": {},
   "outputs": [],
   "source": [
    "def trans_prob_het(t,i,k,mu):\n",
    "    \"\"\"Computes the transition probabilities (Prop. 2.25).\"\"\"\n",
    "    \n",
    "    p = [phi(i-k+1,k-l+1,t,mu) / mu[i-l+1] for l in range(2,k+2)]\n",
    "    \n",
    "    return [1 - np.sum(p)] + p\n",
    "\n",
    "def trans_prob_het2(t,i,k,mu):\n",
    "    \n",
    "    p = [0] * (k+1)\n",
    "    \n",
    "    p[0] = np.sum([c(i-k+1,k-1,j,mu) * psi(j,t,mu) for j in range(i-k+1,i+1)])\n",
    "    \n",
    "    for l in range(2,k+1):\n",
    "        p[l-1] = np.sum([c(i-k+1,k-l,j,mu) * psi(j,t,mu) for j in range(i-k+1,i-l+2)]) \\\n",
    "                    - np.sum([c(i-k+1,k-l+1,j,mu) * psi(j,t,mu) for j in range(i-k+1,i-l+3)])\n",
    "    \n",
    "    p[k] = np.exp(-mu[i-k] * t)\n",
    "    \n",
    "    return p"
   ]
  },
  {
   "cell_type": "code",
   "execution_count": 77,
   "metadata": {},
   "outputs": [
    {
     "name": "stdout",
     "output_type": "stream",
     "text": [
      "[0.36369407962193834, 0.1379052471787745, 0.16812577567696796, 0.18219451092685682, 0.14808038659546247]\n",
      "[0.3636940796219337, 0.13790524717877783, 0.16812577567696874, 0.18219451092685723, 0.14808038659546247]\n"
     ]
    }
   ],
   "source": [
    "t = 3.82\n",
    "i = 4\n",
    "k = 4\n",
    "mu = np.linspace(0.5,1.5,n)\n",
    "\n",
    "print(trans_prob_het(t,i,k,mu))\n",
    "print(trans_prob_het2(t,i,k,mu))"
   ]
  },
  {
   "cell_type": "code",
   "execution_count": 82,
   "metadata": {},
   "outputs": [
    {
     "name": "stdout",
     "output_type": "stream",
     "text": [
      "7.399050613835084\n",
      "7.399050613835084\n"
     ]
    }
   ],
   "source": [
    "g = 0\n",
    "for l in range(k-1):\n",
    "    g += (k - l - 1) * np.sum([c(i-k+1,l,j,mu) * psi(j,t,mu) / mu[i-k+l] for j in range(i-k+1,i-k+l+2)])\n",
    "print(g)\n",
    "\n",
    "g2 = (k-1) * psi(i-k+1,t,mu)\n",
    "for l in range(1,k-1):\n",
    "    g2 += (k - l - 1) * (np.sum([c(i-k+1,l-1,j,mu) * (t - psi(j,t,mu)) / mu[j-1] for j in range(i-k+1,i-k+l+1)]) \\\n",
    "            - np.sum([c(i-k+1,l,j,mu) * (t - psi(j,t,mu)) / mu[j-1] for j in range(i-k+1,i-k+l+2)]))\n",
    "print(g2)"
   ]
  },
  {
   "cell_type": "code",
   "execution_count": null,
   "metadata": {},
   "outputs": [],
   "source": []
  },
  {
   "cell_type": "markdown",
   "metadata": {},
   "source": [
    "With this code, we can compute the optimal cost $C_{1}(1)$ for the heterogeneous case dynamically. An example:"
   ]
  },
  {
   "cell_type": "code",
   "execution_count": 3,
   "metadata": {
    "scrolled": false
   },
   "outputs": [
    {
     "name": "stdout",
     "output_type": "stream",
     "text": [
      "omega = 0.7 and mu = [0.5  0.75 1.   1.25 1.5 ] \n",
      "\n",
      "(i,k,t*,C)\n",
      "4 1 0.28533998550485146 0.19973796860569054\n",
      "4 2 0.983740141087462 0.6625280023536871\n",
      "3 1 0.5074960827719017 0.5549860524936788\n",
      "4 3 1.9759634367783472 1.2456395920571923\n",
      "3 2 1.567667288718443 1.239582872454175\n",
      "2 1 0.7335205781113533 1.0684505384301732\n",
      "4 4 3.4509182821195994 2.112890155013404\n",
      "3 3 3.177705697955406 2.214345675064946\n",
      "2 2 2.3486391429776945 2.143643832599409\n",
      "1 1 1.1396884158870093 1.8662352954388974\n",
      "\n",
      "Cost: 1.8662352954388974\n"
     ]
    }
   ],
   "source": [
    "omega = 0.7\n",
    "n = 5\n",
    "mu = np.linspace(0.5,1.5,n)\n",
    "# mu = np.array([1e-1 * i for i in range(n)])\n",
    "# mu = mu - np.mean(mu) + 1\n",
    "print(\"omega =\", omega, \"and mu =\", mu, \"\\n\")\n",
    "\n",
    "print(\"(i,k,t*,C)\")\n",
    "C_matrix = [[None for k in range(n)] for i in range(n)]\n",
    "minima = [[None for k in range(n)] for i in range(n)]\n",
    "c_stored = [[[None for j in range(n)] for l in range(n)] for k in range(n)]\n",
    "\n",
    "# compute values\n",
    "for i in range(1,n+1):\n",
    "    for k in range(1,i+1):\n",
    "        Cstar_het(i,k,mu,omega=omega,n=n)\n",
    "\n",
    "# cost\n",
    "print(\"\\nCost:\", C_matrix[0][0])"
   ]
  },
  {
   "cell_type": "markdown",
   "metadata": {},
   "source": [
    "We can also compute the minimal cost when scheduling all clients instantaneously:"
   ]
  },
  {
   "cell_type": "code",
   "execution_count": 6,
   "metadata": {},
   "outputs": [],
   "source": [
    "def compute_probN_het(t,mu):\n",
    "    \"\"\"Computes P(N_ti = j) for i=1,...,n and j=1,...,i.\"\"\"\n",
    "    \n",
    "    n = len(mu)\n",
    "    p = np.zeros((n,n))\n",
    "    p[0][0] = 1\n",
    "    \n",
    "    for i in range(2,n+1):\n",
    "        \n",
    "        x = t[i-1] - t[i-2]\n",
    "        \n",
    "        # j = 1\n",
    "        for k in range(1,i):\n",
    "            p[i-1][0] += np.sum([c(i-k,k-1,m,mu) * psi(m,x,mu) for m in range(i-k,i)]) * p[i-2][k-1]\n",
    "        \n",
    "        # j = 2,...,i\n",
    "        for j in range(2,i+1):\n",
    "            p[i-1][j-1] = np.sum([(phi(i-k,k-j+1,x,mu) / mu[i-j]) * p[i-2][k-1] for k in range(j-1,i)])\n",
    "            \n",
    "    return p\n",
    "\n",
    "def static_cost_het(t,mu,omega):\n",
    "    \"\"\"Computes the cost of the optimal static schedule.\"\"\"\n",
    "    \n",
    "    mu, n = np.array(mu), len(mu)\n",
    "    EW, EI = np.zeros(n), np.zeros(n)    \n",
    "    p = compute_probN_het(t,mu)\n",
    "    \n",
    "    for i in range(2,n+1):\n",
    "        \n",
    "        x = t[i-1] - t[i-2]\n",
    "        EW[i-2] = np.sum([np.sum(1 / mu[i-j:i-1]) * p[i-1][j-1] for j in range(2,i+1)])\n",
    "        \n",
    "        for j in range(1,i):\n",
    "            f = np.sum([c(i-j,j-1,m,mu) * (x - psi(m,x,mu)) / mu[m-1] for m in range(i-j,i)])\n",
    "            EI[i-2] += f * p[i-2][j-1]\n",
    "            \n",
    "    return omega * np.sum(EI) + (1 - omega) * np.sum(EW)\n"
   ]
  },
  {
   "cell_type": "markdown",
   "metadata": {},
   "source": [
    "Again we give an example, in which we compare the dynamic program with the static program:"
   ]
  },
  {
   "cell_type": "code",
   "execution_count": 203,
   "metadata": {},
   "outputs": [
    {
     "name": "stdout",
     "output_type": "stream",
     "text": [
      "      fun: 2.709106957910307\n",
      " hess_inv: <10x10 LbfgsInvHessProduct with dtype=float64>\n",
      "      jac: array([-1.95399252e-06,  7.10542736e-07,  5.10702591e-06,  8.88178420e-08,\n",
      "       -4.88498131e-06, -7.59392549e-06,  2.66453526e-07, -5.32907052e-06,\n",
      "        8.83737528e-06,  4.52970994e-06])\n",
      "  message: b'CONVERGENCE: NORM_OF_PROJECTED_GRADIENT_<=_PGTOL'\n",
      "     nfev: 209\n",
      "      nit: 18\n",
      "   status: 0\n",
      "  success: True\n",
      "        x: array([ 0.        ,  5.15663978,  9.83029719, 13.80940071, 17.24877466,\n",
      "       20.26919878, 22.95624305, 25.36800462, 27.53301897, 29.35894463])\n",
      "\n",
      "mu: [0.5        0.61111111 0.72222222 0.83333333 0.94444444 1.05555556\n",
      " 1.16666667 1.27777778 1.38888889 1.5       ]\n",
      "omega: 0.1\n",
      "\n",
      "Dynamic Cost: 2.52\n",
      "Static Cost: 2.71\n",
      "ratio: 0.93\n"
     ]
    }
   ],
   "source": [
    "omega = 0.1\n",
    "n = 10\n",
    "mu = np.linspace(0.5,1.5,n)\n",
    "# Delta = 1.5\n",
    "# mu = np.linspace(1 - Delta/2,1 + Delta/2,n)\n",
    "# mu = mu[::-1]\n",
    "# mu = np.random.permutation(mu)\n",
    "\n",
    "C_matrix = [[None for k in range(n)] for i in range(n)]\n",
    "minima = [[None for k in range(n)] for i in range(n)]\n",
    "c_stored = [[[None for j in range(n)] for l in range(n)] for k in range(n)]\n",
    "\n",
    "# compute values\n",
    "for i in range(1,n+1):\n",
    "    for k in range(1,i+1):\n",
    "        Cstar_het(i,k,mu,omega=omega,n=n)\n",
    "\n",
    "# cost\n",
    "dynamic_cost = C_matrix[0][0]\n",
    "\n",
    "c_stored = [[[None for j in range(n)] for l in range(n)] for k in range(n)]\n",
    "optimization = minimize(static_cost_het,range(n),args=(mu,omega), bounds=(((0,0),) + (((0,None)),) * (n-1)))\n",
    "print(optimization)\n",
    "\n",
    "static_cost = optimization.fun\n",
    "\n",
    "print(\"\\nmu:\",mu)\n",
    "print(\"omega:\",omega)\n",
    "print(\"\\nDynamic Cost:\", round(dynamic_cost,2))\n",
    "print(\"Static Cost:\", round(static_cost,2))\n",
    "\n",
    "ratio = dynamic_cost / static_cost\n",
    "print(\"ratio:\", round(ratio,2))"
   ]
  },
  {
   "cell_type": "code",
   "execution_count": null,
   "metadata": {},
   "outputs": [],
   "source": [
    "# TODO: Old code\n",
    "\n",
    "\n",
    "# def C_static_het(times,i,k,mu,omega=0.5,n=15):\n",
    "#     \"\"\"\n",
    "#     Implements the Heterogeneous Exponential Case.\n",
    "#     \"\"\"\n",
    "#     mu = np.array(mu)\n",
    "\n",
    "# #     print(\"i\",i)\n",
    "#     if C_matrix[i-1][k-1] != None: # retrieve stored value\n",
    "#         pass\n",
    "#     elif i == n: # initial condition\n",
    "#         C_matrix[i-1][k-1] = (1 - omega) * np.sum([1 / mu[j-1] for j in range(i-k+1,i)])\n",
    "#     else:\n",
    "# #         print(\"n\",n)\n",
    "# #         print(\"i:\",i)\n",
    "#         t = times[i]\n",
    "# #         print(t)\n",
    "        \n",
    "#         # helper function\n",
    "#         psi = lambda j,t: (1 - np.exp(-mu[j-1] * t)) / mu[j-1]\n",
    "        \n",
    "#         # compute f and g\n",
    "#         f = np.sum([c(i-k+1,k-1,j,mu) * (t - psi(j,t)) / mu[j-1] for j in range(i-k+1,i+1)])\n",
    "#         g = np.sum([1 / mu[j-1] for j in range(i-k+1,i)])\n",
    "        \n",
    "#         p = trans_prob_het(t,i,k,mu)\n",
    "#         cost = omega * f + (1 - omega) * g + C_static_het(times,i+1,1,mu,omega,n) * p[0]\n",
    "    \n",
    "#         for l in range(2,k+2):\n",
    "# #             print(i)\n",
    "#             cost += C_static_het(times,i+1,l,mu,omega,n) * p[l-1]\n",
    "\n",
    "#         C_matrix[i-1][k-1] = cost\n",
    "# #         print(i,k,minima[i-1][k-1],C_matrix[i-1][k-1]) # displays C_i(k) and interarrival time\n",
    "    \n",
    "# #     print(i,k,C_matrix[i-1][k-1])\n",
    "#     return C_matrix[i-1][k-1]\n",
    "\n",
    "\n",
    "# t = [ 0.          ,4.65288472,  8.33895249, 11.07420249, 13.03410038]\n",
    "# n = len(t)\n",
    "# mu =  np.linspace(0.5,1.5,n)\n",
    "# omega = 0.1\n",
    "\n",
    "# C_matrix = [[None for k in range(n)] for i in range(n)]\n",
    "# c_stored = [[[None for j in range(n)] for l in range(n)] for k in range(n)]\n",
    "\n",
    "# print(\"Cost:\",C_static_het(t,1,1,mu,omega,n))\n",
    "\n",
    "# # for i in range(1,n+1):\n",
    "# #     for k in range(1,i+1):\n",
    "# #         print(t[i-1])\n",
    "# #         C_static_het(t[i-1],i,k,mu,omega=omega,n=n)\n",
    "\n",
    "# C_matrix"
   ]
  }
 ],
 "metadata": {
  "kernelspec": {
   "display_name": "Python 3",
   "language": "python",
   "name": "python3"
  },
  "language_info": {
   "codemirror_mode": {
    "name": "ipython",
    "version": 3
   },
   "file_extension": ".py",
   "mimetype": "text/x-python",
   "name": "python",
   "nbconvert_exporter": "python",
   "pygments_lexer": "ipython3",
   "version": "3.7.7"
  }
 },
 "nbformat": 4,
 "nbformat_minor": 2
}
