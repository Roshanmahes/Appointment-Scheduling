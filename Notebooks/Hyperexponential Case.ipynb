{
 "cells": [
  {
   "cell_type": "markdown",
   "metadata": {},
   "source": [
    "## Hyperexponential Case\n",
    "\n",
    "Throughout this document, the following packages are required:"
   ]
  },
  {
   "cell_type": "code",
   "execution_count": 9,
   "metadata": {},
   "outputs": [],
   "source": [
    "import numpy as np\n",
    "import scipy\n",
    "import math\n",
    "from scipy.stats import binom, erlang, poisson\n",
    "from scipy.optimize import minimize\n",
    "from functools import lru_cache"
   ]
  },
  {
   "cell_type": "markdown",
   "metadata": {},
   "source": [
    "### Plot Phase-Type Fit"
   ]
  },
  {
   "cell_type": "code",
   "execution_count": 10,
   "metadata": {},
   "outputs": [],
   "source": [
    "from ipywidgets import interact, interactive, fixed, interact_manual\n",
    "import ipywidgets as widgets\n",
    "import matplotlib.pyplot as plt"
   ]
  },
  {
   "cell_type": "code",
   "execution_count": 11,
   "metadata": {},
   "outputs": [],
   "source": [
    "def SCV_to_params(SCV):\n",
    "    \n",
    "    # weighted Erlang case\n",
    "    if SCV <= 1:\n",
    "        K = math.floor(1/SCV)\n",
    "        p = ((K + 1) * SCV - math.sqrt((K + 1) * (1 - K * SCV))) / (SCV + 1)\n",
    "        mu = K + (1 - p) * (K + 1)\n",
    "    \n",
    "        return K, p, mu\n",
    "    \n",
    "    # hyperexponential case\n",
    "    else:\n",
    "        p = 0.5 * (1 + np.sqrt((SCV - 1) / (SCV + 1)))\n",
    "        mu = 1 # 1 / mean\n",
    "        mu1 = 2 * p * mu\n",
    "        mu2 = 2 * (1 - p) * mu\n",
    "        \n",
    "        return p, mu1, mu2"
   ]
  },
  {
   "cell_type": "code",
   "execution_count": 13,
   "metadata": {},
   "outputs": [
    {
     "name": "stdout",
     "output_type": "stream",
     "text": [
      "1.0 (1, 1.0, 1.0)\n",
      "1.1 (0.6091089451179963, 1.2182178902359926, 0.7817821097640074)\n",
      "1.2 (0.6507556722888818, 1.3015113445777635, 0.6984886554222365)\n",
      "1.3 (0.6805787796286538, 1.3611575592573075, 0.6388424407426925)\n",
      "1.4 (0.7041241452319315, 1.408248290463863, 0.5917517095361371)\n",
      "1.5 (0.7236067977499789, 1.4472135954999579, 0.5527864045000421)\n",
      "1.6 (0.7401922307076307, 1.4803844614152615, 0.5196155385847385)\n",
      "1.7 (0.7545875386086578, 1.5091750772173156, 0.4908249227826844)\n",
      "1.8 (0.7672612419124244, 1.5345224838248488, 0.4654775161751512)\n",
      "1.9 (0.7785430072655778, 1.5570860145311556, 0.4429139854688444)\n",
      "2.0 (0.7886751345948129, 1.5773502691896257, 0.42264973081037427)\n",
      "2.1 (0.7978416985906354, 1.5956833971812707, 0.4043166028187293)\n",
      "2.2 (0.8061862178478973, 1.6123724356957947, 0.3876275643042053)\n",
      "2.3 (0.8138229572304239, 1.6276459144608477, 0.3723540855391523)\n",
      "2.4 (0.8208444739598739, 1.6416889479197478, 0.35831105208025216)\n",
      "2.5 (0.8273268353539885, 1.654653670707977, 0.3453463292920229)\n",
      "2.6 (0.8333333333333334, 1.6666666666666667, 0.33333333333333326)\n",
      "2.7 (0.8389171947022824, 1.6778343894045649, 0.32216561059543514)\n",
      "2.8 (0.8441236008058426, 1.6882472016116852, 0.3117527983883148)\n",
      "2.9 (0.8489912202260563, 1.6979824404521127, 0.30201755954788734)\n",
      "3.0 (0.8535533905932737, 1.7071067811865475, 0.29289321881345254)\n",
      "3.1 (0.8578390427102733, 1.7156780854205467, 0.2843219145794533)\n",
      "3.2 (0.8618734322278729, 1.7237468644557459, 0.2762531355442541)\n",
      "3.3 (0.8656787254306136, 1.7313574508612273, 0.2686425491387727)\n",
      "3.4 (0.8692744729379982, 1.7385489458759964, 0.2614510541240036)\n",
      "3.5 (0.8726779962499649, 1.7453559924999298, 0.2546440075000702)\n",
      "3.6 (0.8759047057780562, 1.7518094115561125, 0.24819058844388753)\n",
      "3.7 (0.8789683644799335, 1.757936728959867, 0.24206327104013292)\n",
      "3.8 (0.8818813079129866, 1.7637626158259732, 0.23623738417402684)\n",
      "3.9 (0.884654629081036, 1.769309258162072, 0.23069074183792804)\n",
      "4.0 (0.8872983346207417, 1.7745966692414834, 0.2254033307585166)\n",
      "4.1 (0.8898214774915891, 1.7796429549831783, 0.22035704501682174)\n",
      "4.2 (0.8922322702763681, 1.7844645405527362, 0.21553545944726382)\n",
      "4.3 (0.8945381823835186, 1.7890763647670371, 0.21092363523296287)\n",
      "4.4 (0.8967460238079361, 1.7934920476158722, 0.20650795238412778)\n",
      "4.5 (0.8988620176087327, 1.7977240352174655, 0.2022759647825345)\n",
      "4.6 (0.9008918628686365, 1.801783725737273, 0.19821627426272692)\n",
      "4.7 (0.9028407895861416, 1.8056815791722831, 0.1943184208277169)\n",
      "4.8 (0.9047136067001897, 1.8094272134003795, 0.19057278659962051)\n",
      "4.9 (0.9065147442444561, 1.8130294884889122, 0.1869705115110878)\n",
      "5.0 (0.908248290463863, 1.816496580927726, 0.18350341907227397)\n",
      "5.1 (0.9099180245918028, 1.8198360491836056, 0.18016395081639436)\n",
      "5.2 (0.9115274458765508, 1.8230548917531015, 0.17694510824689846)\n",
      "5.3 (0.9130797993547017, 1.8261595987094035, 0.17384040129059652)\n",
      "5.4 (0.914578098794425, 1.82915619758885, 0.17084380241115005)\n",
      "5.5 (0.9160251471689218, 1.8320502943378436, 0.1679497056621564)\n",
      "5.6 (0.9174235549683609, 1.8348471099367218, 0.16515289006327816)\n",
      "5.7 (0.9187757566148717, 1.8375515132297433, 0.1624484867702567)\n",
      "5.8 (0.9200840252084029, 1.8401680504168059, 0.15983194958319413)\n",
      "5.9 (0.9213504858001922, 1.8427009716003844, 0.15729902839961563)\n",
      "6.0 (0.9225771273642582, 1.8451542547285165, 0.15484574527148354)\n",
      "6.1 (0.9237658136149405, 1.847531627229881, 0.15246837277011904)\n",
      "6.2 (0.9249182927993987, 1.8498365855987975, 0.1501634144012025)\n",
      "6.3 (0.9260362065776435, 1.852072413155287, 0.14792758684471297)\n",
      "6.4 (0.9271210980886245, 1.854242196177249, 0.14575780382275094)\n",
      "6.5 (0.9281744192888376, 1.8563488385776752, 0.1436511614223248)\n",
      "6.6 (0.9291975376394761, 1.8583950752789522, 0.1416049247210478)\n",
      "6.7 (0.9301917422091399, 1.8603834844182798, 0.13961651558172017)\n",
      "6.8 (0.9311582492512882, 1.8623164985025764, 0.1376835014974236)\n",
      "6.9 (0.9320982073088173, 1.8641964146176346, 0.13580358538236537)\n",
      "7.0 (0.9330127018922193, 1.8660254037844386, 0.1339745962155614)\n",
      "7.1 (0.933902759772592, 1.867805519545184, 0.13219448045481608)\n",
      "7.2 (0.9347693529262412, 1.8695387058524824, 0.13046129414751761)\n",
      "7.3 (0.9356134021636368, 1.8712268043272735, 0.1287731956727265)\n",
      "7.4 (0.9364357804719847, 1.8728715609439694, 0.12712843905603055)\n",
      "7.5 (0.9372373160976031, 1.8744746321952062, 0.12552536780479384)\n",
      "7.6 (0.9380187953915666, 1.8760375907831333, 0.12396240921686674)\n",
      "7.7 (0.9387809654396871, 1.8775619308793743, 0.12243806912062571)\n",
      "7.8 (0.9395245364957663, 1.8790490729915326, 0.12095092700846743)\n",
      "7.9 (0.94025018423517, 1.88050036847034, 0.11949963152965992)\n",
      "8.0 (0.9409585518440984, 1.8819171036881968, 0.11808289631180324)\n",
      "8.1 (0.9416502519584304, 1.8833005039168609, 0.11669949608313912)\n",
      "8.2 (0.9423258684646914, 1.8846517369293827, 0.1153482630706173)\n",
      "8.3 (0.9429859581745057, 1.8859719163490114, 0.1140280836509886)\n",
      "8.4 (0.9436310523828306, 1.8872621047656613, 0.11273789523433875)\n",
      "8.5 (0.9442616583193193, 1.8885233166386386, 0.1114766833613614)\n",
      "8.6 (0.9448782605013046, 1.8897565210026093, 0.11024347899739073)\n",
      "8.7 (0.9454813219961333, 1.8909626439922667, 0.10903735600773334)\n",
      "8.8 (0.9460712855998856, 1.8921425711997713, 0.10785742880022875)\n",
      "8.9 (0.9466485749388993, 1.8932971498777986, 0.10670285012220138)\n",
      "9.0 (0.9472135954999579, 1.8944271909999157, 0.10557280900008426)\n"
     ]
    }
   ],
   "source": [
    "for i in range(81):\n",
    "    SCV = 1 + 0.1 * i\n",
    "    print(round(SCV,2),SCV_to_params(SCV))"
   ]
  },
  {
   "cell_type": "code",
   "execution_count": 12,
   "metadata": {},
   "outputs": [],
   "source": [
    "def density_WE(x, K, p, mu):\n",
    "    return p * erlang.pdf(x, K, scale=1/mu) + (1 - p) * erlang.pdf(x, K+1, scale=1/mu)\n",
    "\n",
    "def density_HE(x, p, mu1, mu2):\n",
    "    return p * mu1 * np.exp(-mu1 * x) + (1 - p) * mu2 * np.exp(-mu2 * x)"
   ]
  },
  {
   "cell_type": "code",
   "execution_count": 9,
   "metadata": {},
   "outputs": [],
   "source": [
    "x = np.linspace(0,4,1001)\n",
    "\n",
    "def plot_f(SCV=1):\n",
    "    \n",
    "    if SCV <= 1:\n",
    "        K, p, mu = SCV_to_params(SCV)\n",
    "        f_x = density_WE(x, K, p, mu)\n",
    "        title = f'SCV = {SCV}\\n p = {p:.2f}, $K$ = {K}, $\\mu$ = {mu:.2f}'\n",
    "    else:\n",
    "        p, mu1, mu2 = SCV_to_params(SCV)\n",
    "        f_x = density_HE(x, p, mu1, mu2)\n",
    "        title = f'SCV = {SCV}\\n p = {p:.2f}, $\\mu_1$ = {mu1:.2f}, $\\mu_2$ = {mu2:.2f}'\n",
    "    \n",
    "    plt.plot(x,f_x)\n",
    "    plt.title(title)\n",
    "    plt.xlabel('$x$')\n",
    "    plt.ylabel('density')\n",
    "    plt.ylim(0,2)\n"
   ]
  },
  {
   "cell_type": "code",
   "execution_count": 10,
   "metadata": {
    "scrolled": true
   },
   "outputs": [
    {
     "data": {
      "application/vnd.jupyter.widget-view+json": {
       "model_id": "02ae9a6e6de943a9a0c1301274b4f4f7",
       "version_major": 2,
       "version_minor": 0
      },
      "text/plain": [
       "interactive(children=(FloatSlider(value=1.0, description='SCV', max=2.0, min=0.01, step=0.01), Output()), _dom…"
      ]
     },
     "metadata": {},
     "output_type": "display_data"
    }
   ],
   "source": [
    "interact(plot_f, SCV=(0.01,2,0.01));"
   ]
  },
  {
   "cell_type": "code",
   "execution_count": null,
   "metadata": {},
   "outputs": [],
   "source": []
  },
  {
   "cell_type": "markdown",
   "metadata": {},
   "source": [
    "The recursion of the dynamic program is given as follows. For $i=1,\\dots,n-1$, $k=1,\\dots,i$, and $m\\in\\mathbb{N}_0$,\n",
    "\n",
    "\\begin{align*}\n",
    "\\xi_i(k,m) &= \\inf_{t\\in \\mathbb{N}_0}\n",
    "\\Big(\n",
    "\\omega \\bar{f}^{\\circ}_{k,m\\Delta}(t\\Delta) + (1-\\omega)\\bar{h}^{\\circ}_{k,m\\Delta} +\n",
    "\\sum_{\\ell=2}^{k}\\sum_{j=0}^{t}\\bar{q}_{k\\ell,mj}(t)\\xi_{i+1}(\\ell,j) +\n",
    "P^{\\downarrow}_{k,m\\Delta}(t\\Delta)\\xi_{i+1}(1,0) +\n",
    "P^{\\uparrow}_{k,m\\Delta}(t\\Delta)\\xi_{i+1}(k+1,m+t)\n",
    "\\Big),\n",
    "\\end{align*}\n",
    "\n",
    "whereas, for $k=1,\\dots,n$ and $m\\in \\mathbb{N}_0$,\n",
    "\n",
    "\\begin{align*}\n",
    "\\xi_n(k,m) = (1-\\omega)\\bar{h}^{\\circ}_{k,m\\Delta}.\n",
    "\\end{align*}"
   ]
  },
  {
   "cell_type": "markdown",
   "metadata": {},
   "source": [
    "We will implement this dynamic program step by step. First, we implement all functions in the equation above.\n",
    "\n",
    "Our formulas rely heavily on the survival function $\\mathbb{P}(B>t)$ and $\\gamma_z(t) = \\mathbb{P}(Z_t = z\\mid B>t)$:"
   ]
  },
  {
   "cell_type": "code",
   "execution_count": 49,
   "metadata": {},
   "outputs": [],
   "source": [
    "@lru_cache(maxsize=128)\n",
    "def B_sf(t):\n",
    "    \"\"\"The survival function P(B > t).\"\"\"\n",
    "    return p * np.exp(-mu1 * t) + (1 - p) * np.exp(-mu2 * t)\n",
    "\n",
    "@lru_cache(maxsize=128)\n",
    "def gamma(z, t):\n",
    "    \"\"\"Computes P(Z_t = z | B > t).\"\"\"\n",
    "    \n",
    "    gamma_circ = B_sf(t)\n",
    "    \n",
    "    if z == 1:\n",
    "        return p * np.exp(-mu1 * t) / gamma_circ\n",
    "    elif z == 2:\n",
    "        return (1 - p) * np.exp(-mu2 * t) / gamma_circ"
   ]
  },
  {
   "cell_type": "markdown",
   "metadata": {},
   "source": [
    "Next, we implement $\\bar{f}^{\\circ}_{k,u}(t)$, which depends on $\\bar{f}_{k,z}(t)$:"
   ]
  },
  {
   "cell_type": "code",
   "execution_count": 50,
   "metadata": {},
   "outputs": [],
   "source": [
    "@lru_cache(maxsize=128)\n",
    "def f_bar(k,z,t):\n",
    "    \n",
    "    if z == 1:\n",
    "        return sum([binom.pmf(m, k-1, p) * sigma(t, m+1, k-1-m) for m in range(k)])\n",
    "    elif z == 2:\n",
    "        return sum([binom.pmf(m, k-1, p) * sigma(t, m, k-m) for m in range(k)])\n",
    "\n",
    "@lru_cache(maxsize=128)\n",
    "def f_circ(k, u, t):\n",
    "    return gamma(1, u) * f_bar(k, 1, t) + gamma(2, u) * f_bar(k, 2, t)"
   ]
  },
  {
   "cell_type": "markdown",
   "metadata": {},
   "source": [
    "In here, we need to evaluate the object $\\sigma_{t}[m,k]$, which depends on $\\rho_{t}[m,k]$:"
   ]
  },
  {
   "cell_type": "code",
   "execution_count": 75,
   "metadata": {},
   "outputs": [],
   "source": [
    "@lru_cache(maxsize=512)\n",
    "def sigma(t,m,k):\n",
    "    \n",
    "    return (t - k / mu2) * erlang.cdf(t, m, scale=1/mu1) - (m / mu1) * erlang.cdf(t, m+1, mu1) + \\\n",
    "            (mu1 / mu2) * sum([(k-i) * rho_t(t, m-1, i) for i in range(k)])\n",
    "\n",
    "@lru_cache(maxsize=512)\n",
    "def rho_t(t,m,k):\n",
    "    \n",
    "    if not k:\n",
    "        return np.exp(-mu2 * t) * (mu1 ** m) / ((mu1 - mu2) ** (m + 1)) * erlang.cdf(t, m+1, scale=1/(mu1 - mu2))\n",
    "    elif not m:\n",
    "        return np.exp(-mu1 * t) * (mu2 ** k) / ((mu1 - mu2) ** (k + 1)) * erlang.cdf(t, k+1, scale=1/(mu1 - mu2))\n",
    "    else:\n",
    "        return (mu1 * rho(t,a,m-1,k) - mu2 * rho(t,a,m,k-1)) / (mu1 - mu2)\n",
    "    \n",
    "\n",
    "@lru_cache(maxsize=512)\n",
    "def rho(t,a,m,k):\n",
    "    \n",
    "    if not k:\n",
    "        return np.exp(-mu2 * t) * (mu1 ** m) / ((mu1 - mu2) ** (m + 1)) * erlang.cdf(a, m+1, scale=1/(mu1 - mu2))\n",
    "    elif not m:\n",
    "        return np.exp(-mu1 * t) * (mu2 ** k) / ((mu1 - mu2) ** (k + 1)) * \\\n",
    "                    (erlang.cdf(t, k+1, scale=1/(mu1 - mu2)) - erlang.cdf(t-a, k+1, scale=1/(mu1 - mu2)))\n",
    "    else:\n",
    "        return (mu1 * rho(t,a,m-1,k) - mu2 * rho(t,a,m,k-1) - r(t,a,m,k)) / (mu1 - mu2)\n",
    "\n",
    "\n",
    "@lru_cache(maxsize=512)\n",
    "def r(t,s,m,k):\n",
    "    return poisson.pmf(m,mu1*s) * poisson.pmf(k,t-s)"
   ]
  },
  {
   "cell_type": "markdown",
   "metadata": {},
   "source": [
    "We do the same for $\\bar{h}^{\\circ}_{k,u}(t)$, which only depends on $\\bar{h}_{k,z}$:"
   ]
  },
  {
   "cell_type": "code",
   "execution_count": null,
   "metadata": {},
   "outputs": [],
   "source": [
    "@lru_cache(maxsize=128)\n",
    "def h_bar(k, z):\n",
    "\n",
    "    if k == 1:\n",
    "        return 0\n",
    "    elif z <= K:\n",
    "        return ((k - 1) * (K + 1 - p) + 1 - z) / mu\n",
    "    elif z == K + 1:\n",
    "        return ((k - 2) * (K + 1 - p) + 1) / mu\n",
    "\n",
    "# @lru_cache(maxsize=128)\n",
    "# def h_circ(k, u):\n",
    "#     return gamma(1, u) * h_bar() sum([gamma(z, u) * h_bar(k, z) for z in range(1, K+2)])"
   ]
  },
  {
   "cell_type": "markdown",
   "metadata": {},
   "source": [
    "The next objective is to implement $\\bar{q}_{k\\ell,mj}(t)$. This function depends on $q_{k\\ell,z,v}(t)$, which depends on $\\psi_{vt}[k,\\ell]$: TODO"
   ]
  },
  {
   "cell_type": "code",
   "execution_count": 76,
   "metadata": {},
   "outputs": [],
   "source": [
    "# TODO"
   ]
  },
  {
   "cell_type": "code",
   "execution_count": 5,
   "metadata": {},
   "outputs": [
    {
     "data": {
      "text/plain": [
       "0.0"
      ]
     },
     "execution_count": 5,
     "metadata": {},
     "output_type": "execute_result"
    }
   ],
   "source": [
    "poisson.pmf(3,0)"
   ]
  },
  {
   "cell_type": "markdown",
   "metadata": {},
   "source": [
    "Finally, we implement the remaining transition probabilities $P^{\\uparrow}_{k,u}(t)$ and $P^{\\downarrow}_{k,u}(t)$:"
   ]
  },
  {
   "cell_type": "code",
   "execution_count": 83,
   "metadata": {},
   "outputs": [],
   "source": [
    "# @lru_cache(maxsize=128)\n",
    "def P_up(k, u, t):\n",
    "    \"\"\"Computes P(N_t- = k | N_0 = k, B_0 = u).\"\"\"\n",
    "    return B_sf(u + t) / B_sf(u)\n",
    "\n",
    "@lru_cache(maxsize=128)\n",
    "def P_down(k, u, t):\n",
    "    \"\"\"Computes P(N_t- = 0 | N_0 = k, B_0 = u).\"\"\"\n",
    "    return sum([binom.pmf(m, k, p) * Psi(t, m, k-m) for m in range(k+1)])\n",
    "\n",
    "@lru_cache(maxsize=128)\n",
    "def Psi(t, m, k):\n",
    "    return erlang.cdf(t, m, scale=1/mu1) - mu1 * sum([rho_t(t, m-1, i) for i in range(k)])"
   ]
  },
  {
   "cell_type": "code",
   "execution_count": 4,
   "metadata": {},
   "outputs": [
    {
     "data": {
      "text/plain": [
       "0.0"
      ]
     },
     "execution_count": 4,
     "metadata": {},
     "output_type": "execute_result"
    }
   ],
   "source": [
    "erlang.cdf(0,1,1)"
   ]
  }
 ],
 "metadata": {
  "kernelspec": {
   "display_name": "Python 3",
   "language": "python",
   "name": "python3"
  },
  "language_info": {
   "codemirror_mode": {
    "name": "ipython",
    "version": 3
   },
   "file_extension": ".py",
   "mimetype": "text/x-python",
   "name": "python",
   "nbconvert_exporter": "python",
   "pygments_lexer": "ipython3",
   "version": "3.7.7"
  },
  "latex_envs": {
   "LaTeX_envs_menu_present": true,
   "autoclose": false,
   "autocomplete": true,
   "bibliofile": "biblio.bib",
   "cite_by": "apalike",
   "current_citInitial": 1,
   "eqLabelWithNumbers": true,
   "eqNumInitial": 1,
   "hotkeys": {
    "equation": "Ctrl-E",
    "itemize": "Ctrl-I"
   },
   "labels_anchors": false,
   "latex_user_defs": false,
   "report_style_numbering": false,
   "user_envs_cfg": false
  },
  "toc": {
   "base_numbering": 1,
   "nav_menu": {},
   "number_sections": true,
   "sideBar": true,
   "skip_h1_title": false,
   "title_cell": "Table of Contents",
   "title_sidebar": "Contents",
   "toc_cell": false,
   "toc_position": {},
   "toc_section_display": true,
   "toc_window_display": false
  },
  "varInspector": {
   "cols": {
    "lenName": 16,
    "lenType": 16,
    "lenVar": 40
   },
   "kernels_config": {
    "python": {
     "delete_cmd_postfix": "",
     "delete_cmd_prefix": "del ",
     "library": "var_list.py",
     "varRefreshCmd": "print(var_dic_list())"
    },
    "r": {
     "delete_cmd_postfix": ") ",
     "delete_cmd_prefix": "rm(",
     "library": "var_list.r",
     "varRefreshCmd": "cat(var_dic_list()) "
    }
   },
   "types_to_exclude": [
    "module",
    "function",
    "builtin_function_or_method",
    "instance",
    "_Feature"
   ],
   "window_display": false
  }
 },
 "nbformat": 4,
 "nbformat_minor": 4
}
