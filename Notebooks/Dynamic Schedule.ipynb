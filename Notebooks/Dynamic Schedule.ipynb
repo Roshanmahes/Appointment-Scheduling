{
 "cells": [
  {
   "cell_type": "markdown",
   "metadata": {
    "toc": true
   },
   "source": [
    "<h1>Table of Contents<span class=\"tocSkip\"></span></h1>\n",
    "<div class=\"toc\"><ul class=\"toc-item\"><li><span><a href=\"#Dynamic-Schedule\" data-toc-modified-id=\"Dynamic-Schedule-1\"><span class=\"toc-item-num\">1&nbsp;&nbsp;</span>Dynamic Schedule</a></span><ul class=\"toc-item\"><li><span><a href=\"#Homogeneous-Exponential-Case\" data-toc-modified-id=\"Homogeneous-Exponential-Case-1.1\"><span class=\"toc-item-num\">1.1&nbsp;&nbsp;</span>Homogeneous Exponential Case</a></span></li><li><span><a href=\"#Heterogeneous-Exponential-Case\" data-toc-modified-id=\"Heterogeneous-Exponential-Case-1.2\"><span class=\"toc-item-num\">1.2&nbsp;&nbsp;</span>Heterogeneous Exponential Case</a></span></li><li><span><a href=\"#Phase-Type-Case\" data-toc-modified-id=\"Phase-Type-Case-1.3\"><span class=\"toc-item-num\">1.3&nbsp;&nbsp;</span>Phase-Type Case</a></span><ul class=\"toc-item\"><li><span><a href=\"#Phase-Type-Fit\" data-toc-modified-id=\"Phase-Type-Fit-1.3.1\"><span class=\"toc-item-num\">1.3.1&nbsp;&nbsp;</span>Phase-Type Fit</a></span></li><li><span><a href=\"#Weighted-Erlang-Distribution\" data-toc-modified-id=\"Weighted-Erlang-Distribution-1.3.2\"><span class=\"toc-item-num\">1.3.2&nbsp;&nbsp;</span>Weighted Erlang Distribution</a></span></li><li><span><a href=\"#Hyperexponential-Distribution\" data-toc-modified-id=\"Hyperexponential-Distribution-1.3.3\"><span class=\"toc-item-num\">1.3.3&nbsp;&nbsp;</span>Hyperexponential Distribution</a></span></li></ul></li></ul></li></ul></div>"
   ]
  },
  {
   "cell_type": "markdown",
   "metadata": {},
   "source": [
    "# Dynamic Schedule\n",
    "_Roshan Mahes, Michel Mandjes, Marko Boon_\n",
    "\n",
    "In this notebook we determine dynamic schedules that minimize the following cost function:\n",
    "\\begin{align*}\n",
    "\\omega \\sum_{i=1}^{n}\\mathbb{E}I_i + (1 - \\omega)\\sum_{i=1}^{n}\\mathbb{E}W_i,\\quad \\omega\\in(0,1),\n",
    "\\end{align*}\n",
    "where $I_i$ and $W_i$ are the expected idle and waiting time associated to client $i$, respectively. We assume that the service tasks $B_1,\\dots,B_n$ are independent and solve the problem assuming different types of distributions.\n",
    "\n",
    "The following packages are required:"
   ]
  },
  {
   "cell_type": "code",
   "execution_count": 1,
   "metadata": {
    "ExecuteTime": {
     "end_time": "2020-12-24T18:58:54.476154Z",
     "start_time": "2020-12-24T18:58:52.874114Z"
    }
   },
   "outputs": [],
   "source": [
    "# math\n",
    "import numpy as np\n",
    "import scipy\n",
    "import math\n",
    "from scipy.stats import binom, erlang, poisson\n",
    "from scipy.optimize import minimize\n",
    "\n",
    "# web scraping\n",
    "from urllib.request import urlopen\n",
    "from bs4 import BeautifulSoup as soup\n",
    "import pandas as pd\n",
    "\n",
    "# plotting\n",
    "import plotly.graph_objects as go\n",
    "import plotly.express as px\n",
    "from itertools import cycle\n",
    "\n",
    "# caching\n",
    "from functools import cache"
   ]
  },
  {
   "cell_type": "markdown",
   "metadata": {},
   "source": [
    "## Homogeneous Exponential Case\n",
    "\n",
    "In the first case, we assume $B_1,\\dots,B_n \\stackrel{i.i.d.}{\\sim} B \\stackrel{d}{=} \\text{Exp}(\\mu)$ for some $\\mu > 0$. In our thesis, we have determined a recursive procedure. We state the result.\n",
    "\n",
    "<div class=\"alert alert-warning\">\n",
    "<b>Corollary 2.5.</b>\n",
    "For arrival time $t$ we have, with $X_t \\sim \\text{Pois}(\\mu t)$ and $\\ell = 2,\\dots,k+1$,\n",
    "\\begin{align*}\n",
    "p_{k1}(t) = \\mathbb{P}(X_t\\geq k),\\quad \n",
    "p_{k\\ell}(t) = \\mathbb{P}(X_t = k-\\ell+1).\n",
    "\\end{align*}\n",
    "</div>\n",
    "\n",
    "<div class=\"alert alert-warning\">\n",
    "<b>Proposition 2.7.</b>\n",
    "Let $X_t \\sim \\text{Pois}(\\mu t)$. Then\n",
    "\\begin{align*}\n",
    "f_k(t) &= t\\mathbb{P}(X_t\\geq k) - \\frac{k}{\\mu}\\mathbb{P}(X_t\\geq k+1), \\\\\n",
    "g_k(t) &= \\frac{k(k-1)}{2\\mu}\\mathbb{P}(X_t\\geq k+1) + (k-1)t\\mathbb{P}(X_t\\leq k-1) - \\frac{\\mu t^2}{2}\\mathbb{P}(X_t\\leq k-2).\n",
    "\\end{align*}\n",
    "</div>\n",
    "\n",
    "<div class=\"alert alert-warning\">\n",
    "<b>Theorem 3.5.</b>\n",
    "Let $p_{k\\ell}(t)$, $f_k(t)$ and $g_k(t)$ be given by Corollary 2.5 and Proposition 2.7. The following recursion holds: for $i=1,\\dots,n-1$ and $k=1,\\dots,i$,\n",
    "\\[\n",
    "C_i^{\\star}(k) = \\inf_{t\\geq 0}\\left(\\omega f_k(t) + (1 - \\omega)g_k(t) + \\sum_{\\ell=1}^{k+1}p_{k\\ell}(t)C_{i+1}^{\\star}(\\ell)\\right),\n",
    "\\]\n",
    "whereas, for $k=1,\\dots,n$,\n",
    "\\[\n",
    "C_n^{\\star}(k) = (1-\\omega)g_{k}(\\infty) = (1-\\omega)\\frac{k(k-1)}{2\\mu}.\n",
    "\\]\n",
    "</div>\n",
    "\n",
    "We have implemented the formulas as follows."
   ]
  },
  {
   "cell_type": "code",
   "execution_count": 14,
   "metadata": {
    "ExecuteTime": {
     "end_time": "2020-12-24T19:23:51.582466Z",
     "start_time": "2020-12-24T19:23:51.558482Z"
    }
   },
   "outputs": [],
   "source": [
    "def cost(t,i,k,mu,omega,n,C_matrix,use_h=True):\n",
    "    \"\"\"\n",
    "    Computes the cost of the (remaining) schedule\n",
    "    when t is the next interarrival time.\n",
    "    \"\"\"\n",
    "    \n",
    "    Fk = [poisson.cdf(k,mu*t), poisson.cdf(k-2,mu*t), poisson.cdf(k-1,mu*t)]\n",
    "    f = (1 - Fk[-1]) * t - (1 - Fk[0]) * k / mu\n",
    "    if use_h:\n",
    "        g = (k - 1) / mu\n",
    "    else:\n",
    "        g = Fk[-1] * (k - 1) * t - Fk[-2] * mu * t**2 / 2 + (1 - Fk[0]) * k * (k - 1) / (2 * mu)\n",
    "    \n",
    "    cost = omega * f + (1 - omega) * g\n",
    "    cost += (1 - Fk[-1]) * Cstar_homexp(i+1,1,mu,omega,n,C_matrix,use_h)\n",
    "    for l in range(2,k+2):\n",
    "        cost += poisson.pmf(k-l+1,mu*t) * Cstar_homexp(i+1,l,mu,omega,n,C_matrix,use_h)\n",
    "    \n",
    "    return cost\n",
    "\n",
    "\n",
    "def Cstar_homexp(i,k,mu=1,omega=1/2,n=15,C_matrix=None,use_h=True):\n",
    "    \"\"\"\n",
    "    Computes C*_i(k) in the homogeneous exponential case.\n",
    "    \"\"\"\n",
    "\n",
    "    if C_matrix[i-1][k-1] != None: # retrieve stored value\n",
    "        pass\n",
    "    elif i == n: # initial condition\n",
    "        if use_h:\n",
    "            C_matrix[i-1][k-1] = (1 - omega) * (k - 1) / mu\n",
    "        else:\n",
    "            C_matrix[i-1][k-1] = (1 - omega) * k * (k - 1) / (2 * mu)\n",
    "    else:\n",
    "        optimization = minimize(cost,0,args=(i,k,mu,omega,n,C_matrix,use_h),method='Nelder-Mead')\n",
    "        C_matrix[i-1][k-1] = optimization.fun\n",
    "        minima[i-1][k-1] = optimization.x[0]\n",
    "    \n",
    "    return C_matrix[i-1][k-1]\n"
   ]
  },
  {
   "cell_type": "markdown",
   "metadata": {
    "ExecuteTime": {
     "end_time": "2020-10-27T13:55:48.028464Z",
     "start_time": "2020-10-27T13:55:47.989573Z"
    }
   },
   "source": [
    "Now we plot our dynamic schedule for $n = 15$ and $\\omega = 0.5$:"
   ]
  },
  {
   "cell_type": "code",
   "execution_count": 28,
   "metadata": {
    "ExecuteTime": {
     "end_time": "2020-12-24T19:35:22.956659Z",
     "start_time": "2020-12-24T19:35:18.389035Z"
    }
   },
   "outputs": [
    {
     "data": {
      "application/vnd.plotly.v1+json": {
       "config": {
        "plotlyServerURL": "https://plot.ly"
       },
       "data": [
        {
         "marker": {
          "color": "#ea4388"
         },
         "name": "1",
         "type": "scatter",
         "x": [
          1,
          2,
          3,
          4,
          5,
          6,
          7,
          8,
          9,
          10,
          11,
          12,
          13,
          14,
          15,
          16
         ],
         "y": [
          0.8793125000000009,
          0.8793125000000009,
          0.8793125000000009,
          0.8793125000000009,
          0.8793125000000009,
          0.8793125000000009,
          0.8793125000000009,
          0.8793125000000009,
          0.8793125000000009,
          0.8793125000000009,
          0.8791250000000009,
          0.8771250000000009,
          0.8580625000000008,
          0.6931250000000008,
          null
         ]
        },
        {
         "marker": {
          "color": "#cf244b"
         },
         "name": "2",
         "type": "scatter",
         "x": [
          1,
          2,
          3,
          4,
          5,
          6,
          7,
          8,
          9,
          10,
          11,
          12,
          13,
          14,
          15,
          16
         ],
         "y": [
          null,
          1.9436250000000024,
          1.9436250000000024,
          1.9436250000000024,
          1.9436250000000024,
          1.9436250000000024,
          1.9436250000000024,
          1.9436250000000024,
          1.9436250000000024,
          1.9435625000000023,
          1.9433125000000024,
          1.9405625000000022,
          1.9142500000000022,
          1.6783750000000017,
          null
         ]
        },
        {
         "marker": {
          "color": "#b51a15"
         },
         "name": "3",
         "type": "scatter",
         "x": [
          1,
          2,
          3,
          4,
          5,
          6,
          7,
          8,
          9,
          10,
          11,
          12,
          13,
          14,
          15,
          16
         ],
         "y": [
          null,
          null,
          2.9912500000000035,
          2.9912500000000035,
          2.9912500000000035,
          2.9912500000000035,
          2.9912500000000035,
          2.9912500000000035,
          2.9912500000000035,
          2.9912500000000035,
          2.9909375000000034,
          2.9877500000000032,
          2.9566875000000032,
          2.674062500000003,
          null
         ]
        },
        {
         "marker": {
          "color": "#bd4304"
         },
         "name": "4",
         "type": "scatter",
         "x": [
          1,
          2,
          3,
          4,
          5,
          6,
          7,
          8,
          9,
          10,
          11,
          12,
          13,
          14,
          15,
          16
         ],
         "y": [
          null,
          null,
          null,
          4.029437500000006,
          4.029437500000006,
          4.029437500000006,
          4.029437500000006,
          4.029437500000006,
          4.029437500000006,
          4.029437500000006,
          4.0290625000000055,
          4.0255000000000045,
          3.9908750000000053,
          3.6720625000000044,
          null
         ]
        },
        {
         "marker": {
          "color": "#cc6904"
         },
         "name": "5",
         "type": "scatter",
         "x": [
          1,
          2,
          3,
          4,
          5,
          6,
          7,
          8,
          9,
          10,
          11,
          12,
          13,
          14,
          15,
          16
         ],
         "y": [
          null,
          null,
          null,
          null,
          5.061687500000007,
          5.061687500000007,
          5.061687500000007,
          5.061687500000007,
          5.0616250000000065,
          5.0616250000000065,
          5.0612500000000065,
          5.057375000000006,
          5.0197500000000055,
          4.670937500000006,
          null
         ]
        },
        {
         "marker": {
          "color": "#d58f04"
         },
         "name": "6",
         "type": "scatter",
         "x": [
          1,
          2,
          3,
          4,
          5,
          6,
          7,
          8,
          9,
          10,
          11,
          12,
          13,
          14,
          15,
          16
         ],
         "y": [
          null,
          null,
          null,
          null,
          null,
          6.089687500000007,
          6.089687500000007,
          6.089687500000007,
          6.089687500000007,
          6.089625000000008,
          6.089250000000008,
          6.085125000000008,
          6.0449375000000085,
          5.670187500000008,
          null
         ]
        },
        {
         "marker": {
          "color": "#cfaa27"
         },
         "name": "7",
         "type": "scatter",
         "x": [
          1,
          2,
          3,
          4,
          5,
          6,
          7,
          8,
          9,
          10,
          11,
          12,
          13,
          14,
          15,
          16
         ],
         "y": [
          null,
          null,
          null,
          null,
          null,
          null,
          7.114687500000009,
          7.114687500000009,
          7.114687500000009,
          7.114625000000009,
          7.114187500000009,
          7.109812500000009,
          7.067437500000009,
          6.669625000000009,
          null
         ]
        },
        {
         "marker": {
          "color": "#a19f62"
         },
         "name": "8",
         "type": "scatter",
         "x": [
          1,
          2,
          3,
          4,
          5,
          6,
          7,
          8,
          9,
          10,
          11,
          12,
          13,
          14,
          15,
          16
         ],
         "y": [
          null,
          null,
          null,
          null,
          null,
          null,
          null,
          8.137250000000009,
          8.137250000000009,
          8.137250000000009,
          8.13675000000001,
          8.13218750000001,
          8.08775000000001,
          7.669250000000009,
          null
         ]
        },
        {
         "marker": {
          "color": "#588a93"
         },
         "name": "9",
         "type": "scatter",
         "x": [
          1,
          2,
          3,
          4,
          5,
          6,
          7,
          8,
          9,
          10,
          11,
          12,
          13,
          14,
          15,
          16
         ],
         "y": [
          null,
          null,
          null,
          null,
          null,
          null,
          null,
          null,
          9.15800000000001,
          9.15793750000001,
          9.15743750000001,
          9.15268750000001,
          9.10643750000001,
          8.66893750000001,
          null
         ]
        },
        {
         "marker": {
          "color": "#2269c4"
         },
         "name": "10",
         "type": "scatter",
         "x": [
          1,
          2,
          3,
          4,
          5,
          6,
          7,
          8,
          9,
          10,
          11,
          12,
          13,
          14,
          15,
          16
         ],
         "y": [
          null,
          null,
          null,
          null,
          null,
          null,
          null,
          null,
          null,
          10.17706250000001,
          10.176562500000012,
          10.171687500000012,
          10.123687500000011,
          9.66868750000001,
          null
         ]
        },
        {
         "marker": {
          "color": "#3e3ef0"
         },
         "name": "11",
         "type": "scatter",
         "x": [
          1,
          2,
          3,
          4,
          5,
          6,
          7,
          8,
          9,
          10,
          11,
          12,
          13,
          14,
          15,
          16
         ],
         "y": [
          null,
          null,
          null,
          null,
          null,
          null,
          null,
          null,
          null,
          null,
          11.194375000000012,
          11.189375000000013,
          11.139750000000012,
          10.668500000000012,
          null
         ]
        },
        {
         "marker": {
          "color": "#6b4ef9"
         },
         "name": "12",
         "type": "scatter",
         "x": [
          1,
          2,
          3,
          4,
          5,
          6,
          7,
          8,
          9,
          10,
          11,
          12,
          13,
          14,
          15,
          16
         ],
         "y": [
          null,
          null,
          null,
          null,
          null,
          null,
          null,
          null,
          null,
          null,
          null,
          12.205937500000013,
          12.154875000000015,
          11.668375000000012,
          null
         ]
        },
        {
         "marker": {
          "color": "#956bfa"
         },
         "name": "13",
         "type": "scatter",
         "x": [
          1,
          2,
          3,
          4,
          5,
          6,
          7,
          8,
          9,
          10,
          11,
          12,
          13,
          14,
          15,
          16
         ],
         "y": [
          null,
          null,
          null,
          null,
          null,
          null,
          null,
          null,
          null,
          null,
          null,
          null,
          13.169125000000015,
          12.668250000000015,
          null
         ]
        },
        {
         "marker": {
          "color": "#cd7dfe"
         },
         "name": "14",
         "type": "scatter",
         "x": [
          1,
          2,
          3,
          4,
          5,
          6,
          7,
          8,
          9,
          10,
          11,
          12,
          13,
          14,
          15,
          16
         ],
         "y": [
          null,
          null,
          null,
          null,
          null,
          null,
          null,
          null,
          null,
          null,
          null,
          null,
          null,
          13.668125000000014,
          null
         ]
        }
       ],
       "layout": {
        "legend": {
         "title": {
          "text": "$\\text{Clients in System}\\ (k)$"
         }
        },
        "template": {
         "data": {
          "bar": [
           {
            "error_x": {
             "color": "#2a3f5f"
            },
            "error_y": {
             "color": "#2a3f5f"
            },
            "marker": {
             "line": {
              "color": "white",
              "width": 0.5
             }
            },
            "type": "bar"
           }
          ],
          "barpolar": [
           {
            "marker": {
             "line": {
              "color": "white",
              "width": 0.5
             }
            },
            "type": "barpolar"
           }
          ],
          "carpet": [
           {
            "aaxis": {
             "endlinecolor": "#2a3f5f",
             "gridcolor": "#C8D4E3",
             "linecolor": "#C8D4E3",
             "minorgridcolor": "#C8D4E3",
             "startlinecolor": "#2a3f5f"
            },
            "baxis": {
             "endlinecolor": "#2a3f5f",
             "gridcolor": "#C8D4E3",
             "linecolor": "#C8D4E3",
             "minorgridcolor": "#C8D4E3",
             "startlinecolor": "#2a3f5f"
            },
            "type": "carpet"
           }
          ],
          "choropleth": [
           {
            "colorbar": {
             "outlinewidth": 0,
             "ticks": ""
            },
            "type": "choropleth"
           }
          ],
          "contour": [
           {
            "colorbar": {
             "outlinewidth": 0,
             "ticks": ""
            },
            "colorscale": [
             [
              0,
              "#0d0887"
             ],
             [
              0.1111111111111111,
              "#46039f"
             ],
             [
              0.2222222222222222,
              "#7201a8"
             ],
             [
              0.3333333333333333,
              "#9c179e"
             ],
             [
              0.4444444444444444,
              "#bd3786"
             ],
             [
              0.5555555555555556,
              "#d8576b"
             ],
             [
              0.6666666666666666,
              "#ed7953"
             ],
             [
              0.7777777777777778,
              "#fb9f3a"
             ],
             [
              0.8888888888888888,
              "#fdca26"
             ],
             [
              1,
              "#f0f921"
             ]
            ],
            "type": "contour"
           }
          ],
          "contourcarpet": [
           {
            "colorbar": {
             "outlinewidth": 0,
             "ticks": ""
            },
            "type": "contourcarpet"
           }
          ],
          "heatmap": [
           {
            "colorbar": {
             "outlinewidth": 0,
             "ticks": ""
            },
            "colorscale": [
             [
              0,
              "#0d0887"
             ],
             [
              0.1111111111111111,
              "#46039f"
             ],
             [
              0.2222222222222222,
              "#7201a8"
             ],
             [
              0.3333333333333333,
              "#9c179e"
             ],
             [
              0.4444444444444444,
              "#bd3786"
             ],
             [
              0.5555555555555556,
              "#d8576b"
             ],
             [
              0.6666666666666666,
              "#ed7953"
             ],
             [
              0.7777777777777778,
              "#fb9f3a"
             ],
             [
              0.8888888888888888,
              "#fdca26"
             ],
             [
              1,
              "#f0f921"
             ]
            ],
            "type": "heatmap"
           }
          ],
          "heatmapgl": [
           {
            "colorbar": {
             "outlinewidth": 0,
             "ticks": ""
            },
            "colorscale": [
             [
              0,
              "#0d0887"
             ],
             [
              0.1111111111111111,
              "#46039f"
             ],
             [
              0.2222222222222222,
              "#7201a8"
             ],
             [
              0.3333333333333333,
              "#9c179e"
             ],
             [
              0.4444444444444444,
              "#bd3786"
             ],
             [
              0.5555555555555556,
              "#d8576b"
             ],
             [
              0.6666666666666666,
              "#ed7953"
             ],
             [
              0.7777777777777778,
              "#fb9f3a"
             ],
             [
              0.8888888888888888,
              "#fdca26"
             ],
             [
              1,
              "#f0f921"
             ]
            ],
            "type": "heatmapgl"
           }
          ],
          "histogram": [
           {
            "marker": {
             "colorbar": {
              "outlinewidth": 0,
              "ticks": ""
             }
            },
            "type": "histogram"
           }
          ],
          "histogram2d": [
           {
            "colorbar": {
             "outlinewidth": 0,
             "ticks": ""
            },
            "colorscale": [
             [
              0,
              "#0d0887"
             ],
             [
              0.1111111111111111,
              "#46039f"
             ],
             [
              0.2222222222222222,
              "#7201a8"
             ],
             [
              0.3333333333333333,
              "#9c179e"
             ],
             [
              0.4444444444444444,
              "#bd3786"
             ],
             [
              0.5555555555555556,
              "#d8576b"
             ],
             [
              0.6666666666666666,
              "#ed7953"
             ],
             [
              0.7777777777777778,
              "#fb9f3a"
             ],
             [
              0.8888888888888888,
              "#fdca26"
             ],
             [
              1,
              "#f0f921"
             ]
            ],
            "type": "histogram2d"
           }
          ],
          "histogram2dcontour": [
           {
            "colorbar": {
             "outlinewidth": 0,
             "ticks": ""
            },
            "colorscale": [
             [
              0,
              "#0d0887"
             ],
             [
              0.1111111111111111,
              "#46039f"
             ],
             [
              0.2222222222222222,
              "#7201a8"
             ],
             [
              0.3333333333333333,
              "#9c179e"
             ],
             [
              0.4444444444444444,
              "#bd3786"
             ],
             [
              0.5555555555555556,
              "#d8576b"
             ],
             [
              0.6666666666666666,
              "#ed7953"
             ],
             [
              0.7777777777777778,
              "#fb9f3a"
             ],
             [
              0.8888888888888888,
              "#fdca26"
             ],
             [
              1,
              "#f0f921"
             ]
            ],
            "type": "histogram2dcontour"
           }
          ],
          "mesh3d": [
           {
            "colorbar": {
             "outlinewidth": 0,
             "ticks": ""
            },
            "type": "mesh3d"
           }
          ],
          "parcoords": [
           {
            "line": {
             "colorbar": {
              "outlinewidth": 0,
              "ticks": ""
             }
            },
            "type": "parcoords"
           }
          ],
          "pie": [
           {
            "automargin": true,
            "type": "pie"
           }
          ],
          "scatter": [
           {
            "marker": {
             "colorbar": {
              "outlinewidth": 0,
              "ticks": ""
             }
            },
            "type": "scatter"
           }
          ],
          "scatter3d": [
           {
            "line": {
             "colorbar": {
              "outlinewidth": 0,
              "ticks": ""
             }
            },
            "marker": {
             "colorbar": {
              "outlinewidth": 0,
              "ticks": ""
             }
            },
            "type": "scatter3d"
           }
          ],
          "scattercarpet": [
           {
            "marker": {
             "colorbar": {
              "outlinewidth": 0,
              "ticks": ""
             }
            },
            "type": "scattercarpet"
           }
          ],
          "scattergeo": [
           {
            "marker": {
             "colorbar": {
              "outlinewidth": 0,
              "ticks": ""
             }
            },
            "type": "scattergeo"
           }
          ],
          "scattergl": [
           {
            "marker": {
             "colorbar": {
              "outlinewidth": 0,
              "ticks": ""
             }
            },
            "type": "scattergl"
           }
          ],
          "scattermapbox": [
           {
            "marker": {
             "colorbar": {
              "outlinewidth": 0,
              "ticks": ""
             }
            },
            "type": "scattermapbox"
           }
          ],
          "scatterpolar": [
           {
            "marker": {
             "colorbar": {
              "outlinewidth": 0,
              "ticks": ""
             }
            },
            "type": "scatterpolar"
           }
          ],
          "scatterpolargl": [
           {
            "marker": {
             "colorbar": {
              "outlinewidth": 0,
              "ticks": ""
             }
            },
            "type": "scatterpolargl"
           }
          ],
          "scatterternary": [
           {
            "marker": {
             "colorbar": {
              "outlinewidth": 0,
              "ticks": ""
             }
            },
            "type": "scatterternary"
           }
          ],
          "surface": [
           {
            "colorbar": {
             "outlinewidth": 0,
             "ticks": ""
            },
            "colorscale": [
             [
              0,
              "#0d0887"
             ],
             [
              0.1111111111111111,
              "#46039f"
             ],
             [
              0.2222222222222222,
              "#7201a8"
             ],
             [
              0.3333333333333333,
              "#9c179e"
             ],
             [
              0.4444444444444444,
              "#bd3786"
             ],
             [
              0.5555555555555556,
              "#d8576b"
             ],
             [
              0.6666666666666666,
              "#ed7953"
             ],
             [
              0.7777777777777778,
              "#fb9f3a"
             ],
             [
              0.8888888888888888,
              "#fdca26"
             ],
             [
              1,
              "#f0f921"
             ]
            ],
            "type": "surface"
           }
          ],
          "table": [
           {
            "cells": {
             "fill": {
              "color": "#EBF0F8"
             },
             "line": {
              "color": "white"
             }
            },
            "header": {
             "fill": {
              "color": "#C8D4E3"
             },
             "line": {
              "color": "white"
             }
            },
            "type": "table"
           }
          ]
         },
         "layout": {
          "annotationdefaults": {
           "arrowcolor": "#2a3f5f",
           "arrowhead": 0,
           "arrowwidth": 1
          },
          "coloraxis": {
           "colorbar": {
            "outlinewidth": 0,
            "ticks": ""
           }
          },
          "colorscale": {
           "diverging": [
            [
             0,
             "#8e0152"
            ],
            [
             0.1,
             "#c51b7d"
            ],
            [
             0.2,
             "#de77ae"
            ],
            [
             0.3,
             "#f1b6da"
            ],
            [
             0.4,
             "#fde0ef"
            ],
            [
             0.5,
             "#f7f7f7"
            ],
            [
             0.6,
             "#e6f5d0"
            ],
            [
             0.7,
             "#b8e186"
            ],
            [
             0.8,
             "#7fbc41"
            ],
            [
             0.9,
             "#4d9221"
            ],
            [
             1,
             "#276419"
            ]
           ],
           "sequential": [
            [
             0,
             "#0d0887"
            ],
            [
             0.1111111111111111,
             "#46039f"
            ],
            [
             0.2222222222222222,
             "#7201a8"
            ],
            [
             0.3333333333333333,
             "#9c179e"
            ],
            [
             0.4444444444444444,
             "#bd3786"
            ],
            [
             0.5555555555555556,
             "#d8576b"
            ],
            [
             0.6666666666666666,
             "#ed7953"
            ],
            [
             0.7777777777777778,
             "#fb9f3a"
            ],
            [
             0.8888888888888888,
             "#fdca26"
            ],
            [
             1,
             "#f0f921"
            ]
           ],
           "sequentialminus": [
            [
             0,
             "#0d0887"
            ],
            [
             0.1111111111111111,
             "#46039f"
            ],
            [
             0.2222222222222222,
             "#7201a8"
            ],
            [
             0.3333333333333333,
             "#9c179e"
            ],
            [
             0.4444444444444444,
             "#bd3786"
            ],
            [
             0.5555555555555556,
             "#d8576b"
            ],
            [
             0.6666666666666666,
             "#ed7953"
            ],
            [
             0.7777777777777778,
             "#fb9f3a"
            ],
            [
             0.8888888888888888,
             "#fdca26"
            ],
            [
             1,
             "#f0f921"
            ]
           ]
          },
          "colorway": [
           "#636efa",
           "#EF553B",
           "#00cc96",
           "#ab63fa",
           "#FFA15A",
           "#19d3f3",
           "#FF6692",
           "#B6E880",
           "#FF97FF",
           "#FECB52"
          ],
          "font": {
           "color": "#2a3f5f"
          },
          "geo": {
           "bgcolor": "white",
           "lakecolor": "white",
           "landcolor": "white",
           "showlakes": true,
           "showland": true,
           "subunitcolor": "#C8D4E3"
          },
          "hoverlabel": {
           "align": "left"
          },
          "hovermode": "closest",
          "mapbox": {
           "style": "light"
          },
          "paper_bgcolor": "white",
          "plot_bgcolor": "white",
          "polar": {
           "angularaxis": {
            "gridcolor": "#EBF0F8",
            "linecolor": "#EBF0F8",
            "ticks": ""
           },
           "bgcolor": "white",
           "radialaxis": {
            "gridcolor": "#EBF0F8",
            "linecolor": "#EBF0F8",
            "ticks": ""
           }
          },
          "scene": {
           "xaxis": {
            "backgroundcolor": "white",
            "gridcolor": "#DFE8F3",
            "gridwidth": 2,
            "linecolor": "#EBF0F8",
            "showbackground": true,
            "ticks": "",
            "zerolinecolor": "#EBF0F8"
           },
           "yaxis": {
            "backgroundcolor": "white",
            "gridcolor": "#DFE8F3",
            "gridwidth": 2,
            "linecolor": "#EBF0F8",
            "showbackground": true,
            "ticks": "",
            "zerolinecolor": "#EBF0F8"
           },
           "zaxis": {
            "backgroundcolor": "white",
            "gridcolor": "#DFE8F3",
            "gridwidth": 2,
            "linecolor": "#EBF0F8",
            "showbackground": true,
            "ticks": "",
            "zerolinecolor": "#EBF0F8"
           }
          },
          "shapedefaults": {
           "line": {
            "color": "#2a3f5f"
           }
          },
          "ternary": {
           "aaxis": {
            "gridcolor": "#DFE8F3",
            "linecolor": "#A2B1C6",
            "ticks": ""
           },
           "baxis": {
            "gridcolor": "#DFE8F3",
            "linecolor": "#A2B1C6",
            "ticks": ""
           },
           "bgcolor": "white",
           "caxis": {
            "gridcolor": "#DFE8F3",
            "linecolor": "#A2B1C6",
            "ticks": ""
           }
          },
          "title": {
           "x": 0.05
          },
          "xaxis": {
           "automargin": true,
           "gridcolor": "#EBF0F8",
           "linecolor": "#EBF0F8",
           "ticks": "",
           "title": {
            "standoff": 15
           },
           "zerolinecolor": "#EBF0F8",
           "zerolinewidth": 2
          },
          "yaxis": {
           "automargin": true,
           "gridcolor": "#EBF0F8",
           "linecolor": "#EBF0F8",
           "ticks": "",
           "title": {
            "standoff": 15
           },
           "zerolinecolor": "#EBF0F8",
           "zerolinewidth": 2
          }
         }
        },
        "title": {
         "text": "$\\text{Dynamic Schedule}\\ (n=15,\\ \\omega=0.5)$"
        },
        "xaxis": {
         "dtick": 1,
         "range": [
          0.7,
          14.3
         ],
         "title": {
          "text": "$\\text{Client Position}\\ (i)$"
         }
        },
        "yaxis": {
         "dtick": 1,
         "title": {
          "text": "$\\text{Interarrival Time}\\ (\\tau_{i}(k))$"
         }
        }
       }
      },
      "text/html": [
       "<div>                            <div id=\"d27fa7c4-f439-46bd-b465-64854442d47b\" class=\"plotly-graph-div\" style=\"height:525px; width:100%;\"></div>            <script type=\"text/javascript\">                require([\"plotly\"], function(Plotly) {                    window.PLOTLYENV=window.PLOTLYENV || {};                                    if (document.getElementById(\"d27fa7c4-f439-46bd-b465-64854442d47b\")) {                    Plotly.newPlot(                        \"d27fa7c4-f439-46bd-b465-64854442d47b\",                        [{\"marker\": {\"color\": \"#ea4388\"}, \"name\": \"1\", \"type\": \"scatter\", \"x\": [1, 2, 3, 4, 5, 6, 7, 8, 9, 10, 11, 12, 13, 14, 15, 16], \"y\": [0.8793125000000009, 0.8793125000000009, 0.8793125000000009, 0.8793125000000009, 0.8793125000000009, 0.8793125000000009, 0.8793125000000009, 0.8793125000000009, 0.8793125000000009, 0.8793125000000009, 0.8791250000000009, 0.8771250000000009, 0.8580625000000008, 0.6931250000000008, null]}, {\"marker\": {\"color\": \"#cf244b\"}, \"name\": \"2\", \"type\": \"scatter\", \"x\": [1, 2, 3, 4, 5, 6, 7, 8, 9, 10, 11, 12, 13, 14, 15, 16], \"y\": [null, 1.9436250000000024, 1.9436250000000024, 1.9436250000000024, 1.9436250000000024, 1.9436250000000024, 1.9436250000000024, 1.9436250000000024, 1.9436250000000024, 1.9435625000000023, 1.9433125000000024, 1.9405625000000022, 1.9142500000000022, 1.6783750000000017, null]}, {\"marker\": {\"color\": \"#b51a15\"}, \"name\": \"3\", \"type\": \"scatter\", \"x\": [1, 2, 3, 4, 5, 6, 7, 8, 9, 10, 11, 12, 13, 14, 15, 16], \"y\": [null, null, 2.9912500000000035, 2.9912500000000035, 2.9912500000000035, 2.9912500000000035, 2.9912500000000035, 2.9912500000000035, 2.9912500000000035, 2.9912500000000035, 2.9909375000000034, 2.9877500000000032, 2.9566875000000032, 2.674062500000003, null]}, {\"marker\": {\"color\": \"#bd4304\"}, \"name\": \"4\", \"type\": \"scatter\", \"x\": [1, 2, 3, 4, 5, 6, 7, 8, 9, 10, 11, 12, 13, 14, 15, 16], \"y\": [null, null, null, 4.029437500000006, 4.029437500000006, 4.029437500000006, 4.029437500000006, 4.029437500000006, 4.029437500000006, 4.029437500000006, 4.0290625000000055, 4.0255000000000045, 3.9908750000000053, 3.6720625000000044, null]}, {\"marker\": {\"color\": \"#cc6904\"}, \"name\": \"5\", \"type\": \"scatter\", \"x\": [1, 2, 3, 4, 5, 6, 7, 8, 9, 10, 11, 12, 13, 14, 15, 16], \"y\": [null, null, null, null, 5.061687500000007, 5.061687500000007, 5.061687500000007, 5.061687500000007, 5.0616250000000065, 5.0616250000000065, 5.0612500000000065, 5.057375000000006, 5.0197500000000055, 4.670937500000006, null]}, {\"marker\": {\"color\": \"#d58f04\"}, \"name\": \"6\", \"type\": \"scatter\", \"x\": [1, 2, 3, 4, 5, 6, 7, 8, 9, 10, 11, 12, 13, 14, 15, 16], \"y\": [null, null, null, null, null, 6.089687500000007, 6.089687500000007, 6.089687500000007, 6.089687500000007, 6.089625000000008, 6.089250000000008, 6.085125000000008, 6.0449375000000085, 5.670187500000008, null]}, {\"marker\": {\"color\": \"#cfaa27\"}, \"name\": \"7\", \"type\": \"scatter\", \"x\": [1, 2, 3, 4, 5, 6, 7, 8, 9, 10, 11, 12, 13, 14, 15, 16], \"y\": [null, null, null, null, null, null, 7.114687500000009, 7.114687500000009, 7.114687500000009, 7.114625000000009, 7.114187500000009, 7.109812500000009, 7.067437500000009, 6.669625000000009, null]}, {\"marker\": {\"color\": \"#a19f62\"}, \"name\": \"8\", \"type\": \"scatter\", \"x\": [1, 2, 3, 4, 5, 6, 7, 8, 9, 10, 11, 12, 13, 14, 15, 16], \"y\": [null, null, null, null, null, null, null, 8.137250000000009, 8.137250000000009, 8.137250000000009, 8.13675000000001, 8.13218750000001, 8.08775000000001, 7.669250000000009, null]}, {\"marker\": {\"color\": \"#588a93\"}, \"name\": \"9\", \"type\": \"scatter\", \"x\": [1, 2, 3, 4, 5, 6, 7, 8, 9, 10, 11, 12, 13, 14, 15, 16], \"y\": [null, null, null, null, null, null, null, null, 9.15800000000001, 9.15793750000001, 9.15743750000001, 9.15268750000001, 9.10643750000001, 8.66893750000001, null]}, {\"marker\": {\"color\": \"#2269c4\"}, \"name\": \"10\", \"type\": \"scatter\", \"x\": [1, 2, 3, 4, 5, 6, 7, 8, 9, 10, 11, 12, 13, 14, 15, 16], \"y\": [null, null, null, null, null, null, null, null, null, 10.17706250000001, 10.176562500000012, 10.171687500000012, 10.123687500000011, 9.66868750000001, null]}, {\"marker\": {\"color\": \"#3e3ef0\"}, \"name\": \"11\", \"type\": \"scatter\", \"x\": [1, 2, 3, 4, 5, 6, 7, 8, 9, 10, 11, 12, 13, 14, 15, 16], \"y\": [null, null, null, null, null, null, null, null, null, null, 11.194375000000012, 11.189375000000013, 11.139750000000012, 10.668500000000012, null]}, {\"marker\": {\"color\": \"#6b4ef9\"}, \"name\": \"12\", \"type\": \"scatter\", \"x\": [1, 2, 3, 4, 5, 6, 7, 8, 9, 10, 11, 12, 13, 14, 15, 16], \"y\": [null, null, null, null, null, null, null, null, null, null, null, 12.205937500000013, 12.154875000000015, 11.668375000000012, null]}, {\"marker\": {\"color\": \"#956bfa\"}, \"name\": \"13\", \"type\": \"scatter\", \"x\": [1, 2, 3, 4, 5, 6, 7, 8, 9, 10, 11, 12, 13, 14, 15, 16], \"y\": [null, null, null, null, null, null, null, null, null, null, null, null, 13.169125000000015, 12.668250000000015, null]}, {\"marker\": {\"color\": \"#cd7dfe\"}, \"name\": \"14\", \"type\": \"scatter\", \"x\": [1, 2, 3, 4, 5, 6, 7, 8, 9, 10, 11, 12, 13, 14, 15, 16], \"y\": [null, null, null, null, null, null, null, null, null, null, null, null, null, 13.668125000000014, null]}],                        {\"legend\": {\"title\": {\"text\": \"$\\\\text{Clients in System}\\\\ (k)$\"}}, \"template\": {\"data\": {\"bar\": [{\"error_x\": {\"color\": \"#2a3f5f\"}, \"error_y\": {\"color\": \"#2a3f5f\"}, \"marker\": {\"line\": {\"color\": \"white\", \"width\": 0.5}}, \"type\": \"bar\"}], \"barpolar\": [{\"marker\": {\"line\": {\"color\": \"white\", \"width\": 0.5}}, \"type\": \"barpolar\"}], \"carpet\": [{\"aaxis\": {\"endlinecolor\": \"#2a3f5f\", \"gridcolor\": \"#C8D4E3\", \"linecolor\": \"#C8D4E3\", \"minorgridcolor\": \"#C8D4E3\", \"startlinecolor\": \"#2a3f5f\"}, \"baxis\": {\"endlinecolor\": \"#2a3f5f\", \"gridcolor\": \"#C8D4E3\", \"linecolor\": \"#C8D4E3\", \"minorgridcolor\": \"#C8D4E3\", \"startlinecolor\": \"#2a3f5f\"}, \"type\": \"carpet\"}], \"choropleth\": [{\"colorbar\": {\"outlinewidth\": 0, \"ticks\": \"\"}, \"type\": \"choropleth\"}], \"contour\": [{\"colorbar\": {\"outlinewidth\": 0, \"ticks\": \"\"}, \"colorscale\": [[0.0, \"#0d0887\"], [0.1111111111111111, \"#46039f\"], [0.2222222222222222, \"#7201a8\"], [0.3333333333333333, \"#9c179e\"], [0.4444444444444444, \"#bd3786\"], [0.5555555555555556, \"#d8576b\"], [0.6666666666666666, \"#ed7953\"], [0.7777777777777778, \"#fb9f3a\"], [0.8888888888888888, \"#fdca26\"], [1.0, \"#f0f921\"]], \"type\": \"contour\"}], \"contourcarpet\": [{\"colorbar\": {\"outlinewidth\": 0, \"ticks\": \"\"}, \"type\": \"contourcarpet\"}], \"heatmap\": [{\"colorbar\": {\"outlinewidth\": 0, \"ticks\": \"\"}, \"colorscale\": [[0.0, \"#0d0887\"], [0.1111111111111111, \"#46039f\"], [0.2222222222222222, \"#7201a8\"], [0.3333333333333333, \"#9c179e\"], [0.4444444444444444, \"#bd3786\"], [0.5555555555555556, \"#d8576b\"], [0.6666666666666666, \"#ed7953\"], [0.7777777777777778, \"#fb9f3a\"], [0.8888888888888888, \"#fdca26\"], [1.0, \"#f0f921\"]], \"type\": \"heatmap\"}], \"heatmapgl\": [{\"colorbar\": {\"outlinewidth\": 0, \"ticks\": \"\"}, \"colorscale\": [[0.0, \"#0d0887\"], [0.1111111111111111, \"#46039f\"], [0.2222222222222222, \"#7201a8\"], [0.3333333333333333, \"#9c179e\"], [0.4444444444444444, \"#bd3786\"], [0.5555555555555556, \"#d8576b\"], [0.6666666666666666, \"#ed7953\"], [0.7777777777777778, \"#fb9f3a\"], [0.8888888888888888, \"#fdca26\"], [1.0, \"#f0f921\"]], \"type\": \"heatmapgl\"}], \"histogram\": [{\"marker\": {\"colorbar\": {\"outlinewidth\": 0, \"ticks\": \"\"}}, \"type\": \"histogram\"}], \"histogram2d\": [{\"colorbar\": {\"outlinewidth\": 0, \"ticks\": \"\"}, \"colorscale\": [[0.0, \"#0d0887\"], [0.1111111111111111, \"#46039f\"], [0.2222222222222222, \"#7201a8\"], [0.3333333333333333, \"#9c179e\"], [0.4444444444444444, \"#bd3786\"], [0.5555555555555556, \"#d8576b\"], [0.6666666666666666, \"#ed7953\"], [0.7777777777777778, \"#fb9f3a\"], [0.8888888888888888, \"#fdca26\"], [1.0, \"#f0f921\"]], \"type\": \"histogram2d\"}], \"histogram2dcontour\": [{\"colorbar\": {\"outlinewidth\": 0, \"ticks\": \"\"}, \"colorscale\": [[0.0, \"#0d0887\"], [0.1111111111111111, \"#46039f\"], [0.2222222222222222, \"#7201a8\"], [0.3333333333333333, \"#9c179e\"], [0.4444444444444444, \"#bd3786\"], [0.5555555555555556, \"#d8576b\"], [0.6666666666666666, \"#ed7953\"], [0.7777777777777778, \"#fb9f3a\"], [0.8888888888888888, \"#fdca26\"], [1.0, \"#f0f921\"]], \"type\": \"histogram2dcontour\"}], \"mesh3d\": [{\"colorbar\": {\"outlinewidth\": 0, \"ticks\": \"\"}, \"type\": \"mesh3d\"}], \"parcoords\": [{\"line\": {\"colorbar\": {\"outlinewidth\": 0, \"ticks\": \"\"}}, \"type\": \"parcoords\"}], \"pie\": [{\"automargin\": true, \"type\": \"pie\"}], \"scatter\": [{\"marker\": {\"colorbar\": {\"outlinewidth\": 0, \"ticks\": \"\"}}, \"type\": \"scatter\"}], \"scatter3d\": [{\"line\": {\"colorbar\": {\"outlinewidth\": 0, \"ticks\": \"\"}}, \"marker\": {\"colorbar\": {\"outlinewidth\": 0, \"ticks\": \"\"}}, \"type\": \"scatter3d\"}], \"scattercarpet\": [{\"marker\": {\"colorbar\": {\"outlinewidth\": 0, \"ticks\": \"\"}}, \"type\": \"scattercarpet\"}], \"scattergeo\": [{\"marker\": {\"colorbar\": {\"outlinewidth\": 0, \"ticks\": \"\"}}, \"type\": \"scattergeo\"}], \"scattergl\": [{\"marker\": {\"colorbar\": {\"outlinewidth\": 0, \"ticks\": \"\"}}, \"type\": \"scattergl\"}], \"scattermapbox\": [{\"marker\": {\"colorbar\": {\"outlinewidth\": 0, \"ticks\": \"\"}}, \"type\": \"scattermapbox\"}], \"scatterpolar\": [{\"marker\": {\"colorbar\": {\"outlinewidth\": 0, \"ticks\": \"\"}}, \"type\": \"scatterpolar\"}], \"scatterpolargl\": [{\"marker\": {\"colorbar\": {\"outlinewidth\": 0, \"ticks\": \"\"}}, \"type\": \"scatterpolargl\"}], \"scatterternary\": [{\"marker\": {\"colorbar\": {\"outlinewidth\": 0, \"ticks\": \"\"}}, \"type\": \"scatterternary\"}], \"surface\": [{\"colorbar\": {\"outlinewidth\": 0, \"ticks\": \"\"}, \"colorscale\": [[0.0, \"#0d0887\"], [0.1111111111111111, \"#46039f\"], [0.2222222222222222, \"#7201a8\"], [0.3333333333333333, \"#9c179e\"], [0.4444444444444444, \"#bd3786\"], [0.5555555555555556, \"#d8576b\"], [0.6666666666666666, \"#ed7953\"], [0.7777777777777778, \"#fb9f3a\"], [0.8888888888888888, \"#fdca26\"], [1.0, \"#f0f921\"]], \"type\": \"surface\"}], \"table\": [{\"cells\": {\"fill\": {\"color\": \"#EBF0F8\"}, \"line\": {\"color\": \"white\"}}, \"header\": {\"fill\": {\"color\": \"#C8D4E3\"}, \"line\": {\"color\": \"white\"}}, \"type\": \"table\"}]}, \"layout\": {\"annotationdefaults\": {\"arrowcolor\": \"#2a3f5f\", \"arrowhead\": 0, \"arrowwidth\": 1}, \"coloraxis\": {\"colorbar\": {\"outlinewidth\": 0, \"ticks\": \"\"}}, \"colorscale\": {\"diverging\": [[0, \"#8e0152\"], [0.1, \"#c51b7d\"], [0.2, \"#de77ae\"], [0.3, \"#f1b6da\"], [0.4, \"#fde0ef\"], [0.5, \"#f7f7f7\"], [0.6, \"#e6f5d0\"], [0.7, \"#b8e186\"], [0.8, \"#7fbc41\"], [0.9, \"#4d9221\"], [1, \"#276419\"]], \"sequential\": [[0.0, \"#0d0887\"], [0.1111111111111111, \"#46039f\"], [0.2222222222222222, \"#7201a8\"], [0.3333333333333333, \"#9c179e\"], [0.4444444444444444, \"#bd3786\"], [0.5555555555555556, \"#d8576b\"], [0.6666666666666666, \"#ed7953\"], [0.7777777777777778, \"#fb9f3a\"], [0.8888888888888888, \"#fdca26\"], [1.0, \"#f0f921\"]], \"sequentialminus\": [[0.0, \"#0d0887\"], [0.1111111111111111, \"#46039f\"], [0.2222222222222222, \"#7201a8\"], [0.3333333333333333, \"#9c179e\"], [0.4444444444444444, \"#bd3786\"], [0.5555555555555556, \"#d8576b\"], [0.6666666666666666, \"#ed7953\"], [0.7777777777777778, \"#fb9f3a\"], [0.8888888888888888, \"#fdca26\"], [1.0, \"#f0f921\"]]}, \"colorway\": [\"#636efa\", \"#EF553B\", \"#00cc96\", \"#ab63fa\", \"#FFA15A\", \"#19d3f3\", \"#FF6692\", \"#B6E880\", \"#FF97FF\", \"#FECB52\"], \"font\": {\"color\": \"#2a3f5f\"}, \"geo\": {\"bgcolor\": \"white\", \"lakecolor\": \"white\", \"landcolor\": \"white\", \"showlakes\": true, \"showland\": true, \"subunitcolor\": \"#C8D4E3\"}, \"hoverlabel\": {\"align\": \"left\"}, \"hovermode\": \"closest\", \"mapbox\": {\"style\": \"light\"}, \"paper_bgcolor\": \"white\", \"plot_bgcolor\": \"white\", \"polar\": {\"angularaxis\": {\"gridcolor\": \"#EBF0F8\", \"linecolor\": \"#EBF0F8\", \"ticks\": \"\"}, \"bgcolor\": \"white\", \"radialaxis\": {\"gridcolor\": \"#EBF0F8\", \"linecolor\": \"#EBF0F8\", \"ticks\": \"\"}}, \"scene\": {\"xaxis\": {\"backgroundcolor\": \"white\", \"gridcolor\": \"#DFE8F3\", \"gridwidth\": 2, \"linecolor\": \"#EBF0F8\", \"showbackground\": true, \"ticks\": \"\", \"zerolinecolor\": \"#EBF0F8\"}, \"yaxis\": {\"backgroundcolor\": \"white\", \"gridcolor\": \"#DFE8F3\", \"gridwidth\": 2, \"linecolor\": \"#EBF0F8\", \"showbackground\": true, \"ticks\": \"\", \"zerolinecolor\": \"#EBF0F8\"}, \"zaxis\": {\"backgroundcolor\": \"white\", \"gridcolor\": \"#DFE8F3\", \"gridwidth\": 2, \"linecolor\": \"#EBF0F8\", \"showbackground\": true, \"ticks\": \"\", \"zerolinecolor\": \"#EBF0F8\"}}, \"shapedefaults\": {\"line\": {\"color\": \"#2a3f5f\"}}, \"ternary\": {\"aaxis\": {\"gridcolor\": \"#DFE8F3\", \"linecolor\": \"#A2B1C6\", \"ticks\": \"\"}, \"baxis\": {\"gridcolor\": \"#DFE8F3\", \"linecolor\": \"#A2B1C6\", \"ticks\": \"\"}, \"bgcolor\": \"white\", \"caxis\": {\"gridcolor\": \"#DFE8F3\", \"linecolor\": \"#A2B1C6\", \"ticks\": \"\"}}, \"title\": {\"x\": 0.05}, \"xaxis\": {\"automargin\": true, \"gridcolor\": \"#EBF0F8\", \"linecolor\": \"#EBF0F8\", \"ticks\": \"\", \"title\": {\"standoff\": 15}, \"zerolinecolor\": \"#EBF0F8\", \"zerolinewidth\": 2}, \"yaxis\": {\"automargin\": true, \"gridcolor\": \"#EBF0F8\", \"linecolor\": \"#EBF0F8\", \"ticks\": \"\", \"title\": {\"standoff\": 15}, \"zerolinecolor\": \"#EBF0F8\", \"zerolinewidth\": 2}}}, \"title\": {\"text\": \"$\\\\text{Dynamic Schedule}\\\\ (n=15,\\\\ \\\\omega=0.5)$\"}, \"xaxis\": {\"dtick\": 1, \"range\": [0.7, 14.3], \"title\": {\"text\": \"$\\\\text{Client Position}\\\\ (i)$\"}}, \"yaxis\": {\"dtick\": 1, \"title\": {\"text\": \"$\\\\text{Interarrival Time}\\\\ (\\\\tau_{i}(k))$\"}}},                        {\"responsive\": true}                    ).then(function(){\n",
       "                            \n",
       "var gd = document.getElementById('d27fa7c4-f439-46bd-b465-64854442d47b');\n",
       "var x = new MutationObserver(function (mutations, observer) {{\n",
       "        var display = window.getComputedStyle(gd).display;\n",
       "        if (!display || display === 'none') {{\n",
       "            console.log([gd, 'removed!']);\n",
       "            Plotly.purge(gd);\n",
       "            observer.disconnect();\n",
       "        }}\n",
       "}});\n",
       "\n",
       "// Listen for the removal of the full notebook cells\n",
       "var notebookContainer = gd.closest('#notebook-container');\n",
       "if (notebookContainer) {{\n",
       "    x.observe(notebookContainer, {childList: true});\n",
       "}}\n",
       "\n",
       "// Listen for the clearing of the current output cell\n",
       "var outputEl = gd.closest('.output');\n",
       "if (outputEl) {{\n",
       "    x.observe(outputEl, {childList: true});\n",
       "}}\n",
       "\n",
       "                        })                };                });            </script>        </div>"
      ]
     },
     "metadata": {},
     "output_type": "display_data"
    },
    {
     "name": "stdout",
     "output_type": "stream",
     "text": [
      "Cost: 6.05029568250075\n"
     ]
    }
   ],
   "source": [
    "omega = 0.5\n",
    "n = 15\n",
    "\n",
    "# compute schedule\n",
    "C_matrix = [[None for k in range(n+1)] for i in range(n)]\n",
    "minima = [[None for k in range(n+1)] for i in range(n)]\n",
    "\n",
    "for i in range(1,n+1):\n",
    "    for k in range(1,i+1):\n",
    "        Cstar_homexp(i,k,mu=1,omega=omega,n=n,C_matrix=C_matrix,use_h=True)\n",
    "\n",
    "# plot schedule\n",
    "palette = cycle(px.colors.cyclical.mrybm[2:])\n",
    "fig = go.Figure()\n",
    "\n",
    "for k in range(1,n):\n",
    "    fig.add_trace(go.Scatter(x=np.arange(1,n+2), y=[minima[i][k-1] for i in range(n)],\n",
    "                             name=k, marker_color=next(palette)))\n",
    "                                                   \n",
    "fig.update_layout(\n",
    "    template='plotly_white',\n",
    "    title='$\\\\text{Dynamic Schedule}\\ (n=' + f'{n},\\ \\omega={omega})$',\n",
    "    legend_title='$\\\\text{Clients in System}\\ (k)$', \n",
    "    xaxis = {'title': '$\\\\text{Client Position}\\ (i)$', 'range': [0.7, n - 0.7], 'dtick': 1},\n",
    "    yaxis = {'title': '$\\\\text{Interarrival Time}\\ (\\\\tau_{i}(k))$', 'dtick': 1}\n",
    ")\n",
    "\n",
    "fig.show()\n",
    "\n",
    "print(f'Cost: {C_matrix[0][0]}')"
   ]
  },
  {
   "cell_type": "code",
   "execution_count": 24,
   "metadata": {
    "ExecuteTime": {
     "end_time": "2020-12-24T19:27:03.292912Z",
     "start_time": "2020-12-24T19:27:03.276923Z"
    }
   },
   "outputs": [
    {
     "data": {
      "text/plain": [
       "[[0.8793125000000009],\n",
       " [0.8793125000000009, 1.9436250000000024],\n",
       " [0.8793125000000009, 1.9436250000000024, 2.9912500000000035],\n",
       " [0.8793125000000009,\n",
       "  1.9436250000000024,\n",
       "  2.9912500000000035,\n",
       "  4.029437500000006],\n",
       " [0.8793125000000009,\n",
       "  1.9436250000000024,\n",
       "  2.9912500000000035,\n",
       "  4.029437500000006,\n",
       "  5.061687500000007],\n",
       " [0.8793125000000009,\n",
       "  1.9436250000000024,\n",
       "  2.9912500000000035,\n",
       "  4.029437500000006,\n",
       "  5.061687500000007,\n",
       "  6.089687500000007],\n",
       " [0.8793125000000009,\n",
       "  1.9436250000000024,\n",
       "  2.9912500000000035,\n",
       "  4.029437500000006,\n",
       "  5.061687500000007,\n",
       "  6.089687500000007,\n",
       "  7.114687500000009],\n",
       " [0.8793125000000009,\n",
       "  1.9436250000000024,\n",
       "  2.9912500000000035,\n",
       "  4.029437500000006,\n",
       "  5.061687500000007,\n",
       "  6.089687500000007,\n",
       "  7.114687500000009,\n",
       "  8.137250000000009],\n",
       " [0.8793125000000009,\n",
       "  1.9436250000000024,\n",
       "  2.9912500000000035,\n",
       "  4.029437500000006,\n",
       "  5.0616250000000065,\n",
       "  6.089687500000007,\n",
       "  7.114687500000009,\n",
       "  8.137250000000009,\n",
       "  9.15800000000001],\n",
       " [0.8793125000000009,\n",
       "  1.9435625000000023,\n",
       "  2.9912500000000035,\n",
       "  4.029437500000006,\n",
       "  5.0616250000000065,\n",
       "  6.089625000000008,\n",
       "  7.114625000000009,\n",
       "  8.137250000000009,\n",
       "  9.15793750000001,\n",
       "  10.17706250000001],\n",
       " [0.8791250000000009,\n",
       "  1.9433125000000024,\n",
       "  2.9909375000000034,\n",
       "  4.0290625000000055,\n",
       "  5.0612500000000065,\n",
       "  6.089250000000008,\n",
       "  7.114187500000009,\n",
       "  8.13675000000001,\n",
       "  9.15743750000001,\n",
       "  10.176562500000012,\n",
       "  11.194375000000012],\n",
       " [0.8771250000000009,\n",
       "  1.9405625000000022,\n",
       "  2.9877500000000032,\n",
       "  4.0255000000000045,\n",
       "  5.057375000000006,\n",
       "  6.085125000000008,\n",
       "  7.109812500000009,\n",
       "  8.13218750000001,\n",
       "  9.15268750000001,\n",
       "  10.171687500000012,\n",
       "  11.189375000000013,\n",
       "  12.205937500000013],\n",
       " [0.8580625000000008,\n",
       "  1.9142500000000022,\n",
       "  2.9566875000000032,\n",
       "  3.9908750000000053,\n",
       "  5.0197500000000055,\n",
       "  6.0449375000000085,\n",
       "  7.067437500000009,\n",
       "  8.08775000000001,\n",
       "  9.10643750000001,\n",
       "  10.123687500000011,\n",
       "  11.139750000000012,\n",
       "  12.154875000000015,\n",
       "  13.169125000000015],\n",
       " [0.6931250000000008,\n",
       "  1.6783750000000017,\n",
       "  2.674062500000003,\n",
       "  3.6720625000000044,\n",
       "  4.670937500000006,\n",
       "  5.670187500000008,\n",
       "  6.669625000000009,\n",
       "  7.669250000000009,\n",
       "  8.66893750000001,\n",
       "  9.66868750000001,\n",
       "  10.668500000000012,\n",
       "  11.668375000000012,\n",
       "  12.668250000000015,\n",
       "  13.668125000000014],\n",
       " [None,\n",
       "  None,\n",
       "  None,\n",
       "  None,\n",
       "  None,\n",
       "  None,\n",
       "  None,\n",
       "  None,\n",
       "  None,\n",
       "  None,\n",
       "  None,\n",
       "  None,\n",
       "  None,\n",
       "  None,\n",
       "  None]]"
      ]
     },
     "execution_count": 24,
     "metadata": {},
     "output_type": "execute_result"
    }
   ],
   "source": [
    "minima"
   ]
  },
  {
   "cell_type": "markdown",
   "metadata": {},
   "source": [
    "## Heterogeneous Exponential Case\n",
    "\n",
    "Now we consider the case that the service tasks $B_i$ are independent and _heterogeneous exponentially_ distributed, i.e. $B_i \\sim \\text{Exp}(\\mu_i)$, $i=1,\\dots,n$. For ease we assume that all $\\mu_i$ are distinct, i.e., $\\mu_i \\neq \\mu_j$ for $i,j = 1,\\dots,n$, $i\\neq j$, but the case that some of the $\\mu_i$ coincide can be considered analogously. We obtain the following result.\n",
    "\n",
    "<div class=\"alert alert-warning\">\n",
    "<b>Lemma 2.12.</b>\n",
    "For $k=1,\\dots,n$ and $\\ell=0,\\dots,n-k$, we can write the density $\\varphi_{k\\ell}$ as\n",
    "\\[\n",
    "\\varphi_{k\\ell}(s) := \\mathbb{P}\\left(\\sum_{j=k}^{k+\\ell}B_j \\in\\mathrm{d}s\\right)\n",
    "= \\sum_{j=k}^{k+\\ell}c_{k\\ell j}e^{-\\mu_j s},\\quad s \\geq 0.\n",
    "\\]\n",
    "The coefficients $c_{k\\ell j}$ are given recursively through $c_{k0k} = \\mu_k$ and\n",
    "\\[\n",
    "c_{k,\\ell+1,j} = c_{k\\ell j}\\frac{\\mu_{k+\\ell+1}}{\\mu_{k+\\ell+1} - \\mu_j}\\quad \\text{for}\\ j = k,\\dots,k+\\ell,\\quad c_{k,\\ell+1,k+\\ell+1} = \\sum_{j=k}^{k+\\ell}c_{k\\ell j}\\frac{\\mu_{k+\\ell+1}}{\\mu_j - \\mu_{k+\\ell+1}}.\n",
    "\\]\n",
    "</div>\n",
    "\n",
    "<div class=\"alert alert-warning\">\n",
    "<b>Proposition 2.16.</b>\n",
    "For $i=1,\\dots,n-1$, $k=1,\\dots,i$, $\\ell = 2,\\dots,k+1$ and $t\\geq 0$,\n",
    "\\[\n",
    "p_{k1,i}(t) = 1 - \\sum_{\\ell=2}^{k+1}p_{k\\ell,i}(t),\\quad\n",
    "p_{k\\ell,i}(t) = \\frac{\\varphi_{i-k+1,k-\\ell+1}(t)}{\\mu_{i-\\ell+2}}.\n",
    "\\]\n",
    "</div>\n",
    "\n",
    "<div class=\"alert alert-warning\">\n",
    "<b>Proposition 2.17.</b>\n",
    "For $i=1,\\dots,n-1$ and $k=1,\\dots,i$,\n",
    "\\begin{align*}\n",
    "f_{k,i}(t) = t - \\sum_{j=i-k+1}^{i}\\frac{c_{i-k+1,k-1,j}}{\\mu_j}\\psi_{j}(t),\n",
    "\\quad\n",
    "g_{k,i}(t) = \\sum_{\\ell=0}^{k-1}(k-\\ell-1)\\sum_{j=i-k+1}^{i-k+\\ell+1}\\frac{c_{i-k+1,\\ell,j}}{\\mu_{i-k+\\ell+1}}\\psi_{j}(t),\n",
    "\\end{align*}\n",
    "with $\\psi_{j}(t) = (1 - e^{-\\mu_j t})/\\mu_j$.\n",
    "</div>\n",
    "\n",
    "<div class=\"alert alert-warning\">\n",
    "<b>Theorem 3.9.</b>\n",
    "We can determine the $C^{\\star}_i(k)$ recursively: for $i=1,\\dots,n-1$ and $k=1,\\dots,i$,\n",
    "\\[\n",
    "C^{\\star}_i(k) = \\inf_{t\\ge 0}\\left(\\omega f_{k,i}(t) + (1-\\omega)g_{k,i}(t) + \\sum_{\\ell=1}^{k+1}p_{k\\ell,i}(t)C^{\\star}_{i+1}(\\ell)\\right),\n",
    "\\]\n",
    "whereas, for $k=1,\\dots,n$,\n",
    "\\[\n",
    "C^{\\star}_n(k) = (1 - \\omega)g_{k,n}(\\infty) = (1 - \\omega)\\sum_{\\ell=0}^{k-1}(k-\\ell-1)\\frac{1}{\\mu_{n-k+\\ell+1}}.\n",
    "\\]\n",
    "</div>\n",
    "\n",
    "These formulas lead to the following implementation."
   ]
  },
  {
   "cell_type": "code",
   "execution_count": 30,
   "metadata": {
    "ExecuteTime": {
     "end_time": "2020-12-24T19:56:44.107015Z",
     "start_time": "2020-12-24T19:56:44.073228Z"
    }
   },
   "outputs": [],
   "source": [
    "# helper functions\n",
    "def c(k,l,j,mu):\n",
    "    \"\"\"Computes the weights c of phi recursively (Lemma 2.23).\"\"\"\n",
    "\n",
    "    # storage indices\n",
    "    k_, l_, j_ = k - 1, l, j - 1\n",
    "    \n",
    "    if c_stored[k_][l_][j_] != None:\n",
    "        pass\n",
    "    elif k == j and not l:\n",
    "        c_stored[k_][l_][j_] = mu[k_]\n",
    "    elif l:\n",
    "        if j >= k and j < k + l:\n",
    "            c_stored[k_][l_][j_] = c(k,l-1,j,mu) * mu[k_+l_] / (mu[k_+l_] - mu[j-1])\n",
    "        elif k + l == j:\n",
    "            c_stored[k_][l_][j_] = sum([c(k,l-1,m,mu) * mu[j-1] / (mu[m-1] - mu[j-1])\n",
    "                                        for m in range(k,k+l)])\n",
    "    \n",
    "    return c_stored[k_][l_][j_]\n",
    "\n",
    "def phi(k,l,s,mu):\n",
    "    return sum([c(k,l,j,mu) * math.exp(-mu[j-1] * s) for j in range(k,k+l+1)])\n",
    "\n",
    "def psi(j,t,mu):\n",
    "    return (1 - math.exp(-mu[j-1] * t)) / mu[j-1]\n",
    "\n",
    "# transition probabilities\n",
    "def trans_prob_het(t,i,k,mu):\n",
    "    \"\"\"Computes the transition probabilities (Prop. 2.25).\"\"\"\n",
    "    \n",
    "    p = [phi(i-k+1,k-l+1,t,mu) / mu[i-l+1] for l in range(2,k+2)]\n",
    "    \n",
    "    return [1 - sum(p)] + p\n",
    "\n",
    "# cost function\n",
    "def cost_het(t,i,k,mu,omega,n,C_matrix,use_h=True):\n",
    "    \"\"\"Computes the cost of the (remaining) schedule\n",
    "    when t is the next interarrival time.\"\"\"\n",
    "    \n",
    "    f = t - sum([c(i-k+1,k-1,j,mu) * psi(j,t,mu) / mu[j-1] for j in range(i-k+1,i+1)])\n",
    "\n",
    "    if use_h:\n",
    "        g = sum(1 / mu[i-k:i-1])\n",
    "    else:        \n",
    "        g = 0\n",
    "        for l in range(k-1):\n",
    "            g += (k - l - 1) * sum([c(i-k+1,l,j,mu) * psi(j,t,mu) / mu[i-k+l] for j in range(i-k+1,i-k+l+2)])\n",
    "    \n",
    "    \n",
    "    p = trans_prob_het(t,i,k,mu)\n",
    "    cost = omega * f + (1 - omega) * g\n",
    "    cost += sum([Cstar_het(i+1,l,mu,omega,n,C_matrix,use_h) * p[l-1] for l in range(1,k+2)])\n",
    "    \n",
    "    return cost\n",
    "\n",
    "\n",
    "def Cstar_het(i,k,mu,omega,n,C_matrix,use_h=True):\n",
    "    \"\"\"Computes C*_i(k) in the heterogeneous exponential case.\"\"\"\n",
    "    \n",
    "    if C_matrix[i-1][k-1] != None: # retrieve stored value\n",
    "        pass\n",
    "    elif i == n: # initial condition\n",
    "        if use_h:\n",
    "            C_matrix[i-1][k-1] = (1 - omega) * sum(1 / mu[i-k:i-1])\n",
    "        else:\n",
    "            C_matrix[i-1][k-1] = (1 - omega) * sum([(k - l - 1) / mu[n-k+l] for l in range(k)])\n",
    "    else:\n",
    "        optimization = minimize(cost_het,0,args=(i,k,mu,omega,n,C_matrix,use_h))#,bounds=((0,500),))\n",
    "        C_matrix[i-1][k-1] = optimization.fun\n",
    "        minima[i-1][k-1] = optimization.x[0]\n",
    "    \n",
    "    return C_matrix[i-1][k-1]\n"
   ]
  },
  {
   "cell_type": "markdown",
   "metadata": {
    "ExecuteTime": {
     "end_time": "2020-10-29T13:30:15.249370Z",
     "start_time": "2020-10-29T13:30:15.238399Z"
    }
   },
   "source": [
    "Again we can plot our dynamic schedule:"
   ]
  },
  {
   "cell_type": "code",
   "execution_count": 61,
   "metadata": {
    "ExecuteTime": {
     "end_time": "2020-10-29T18:06:28.766248Z",
     "start_time": "2020-10-29T18:06:28.215755Z"
    }
   },
   "outputs": [
    {
     "name": "stdout",
     "output_type": "stream",
     "text": [
      "omega = 0.5\n",
      "mu = [0.5 0.6 0.7 0.8 0.9 1.  1.1 1.2 1.3 1.4 1.5]\n",
      "\n",
      "Cost: 5.134931235680707\n"
     ]
    },
    {
     "data": {
      "application/vnd.plotly.v1+json": {
       "config": {
        "plotlyServerURL": "https://plot.ly"
       },
       "data": [
        {
         "marker": {
          "color": "#ea4388"
         },
         "name": "1",
         "type": "scatter",
         "x": [
          1,
          2,
          3,
          4,
          5,
          6,
          7,
          8,
          9,
          10,
          11,
          12
         ],
         "y": [
          1.7989370348049318,
          1.4938967518808495,
          1.2772146678892478,
          1.1153702916315265,
          0.989914051716733,
          0.8897793434693693,
          0.8077968406741498,
          0.7377789967705234,
          0.6640551257042456,
          0.49509995747191676,
          null
         ]
        },
        {
         "marker": {
          "color": "#cf244b"
         },
         "name": "2",
         "type": "scatter",
         "x": [
          1,
          2,
          3,
          4,
          5,
          6,
          7,
          8,
          9,
          10,
          11,
          12
         ],
         "y": [
          null,
          3.6085339649520014,
          3.0412591447310438,
          2.6285719103826057,
          2.314723326743614,
          2.067919705374312,
          1.8683813492664805,
          1.7013226551629412,
          1.5401830703897565,
          1.2445522691955835,
          null
         ]
        },
        {
         "marker": {
          "color": "#b51a15"
         },
         "name": "3",
         "type": "scatter",
         "x": [
          1,
          2,
          3,
          4,
          5,
          6,
          7,
          8,
          9,
          10,
          11,
          12
         ],
         "y": [
          null,
          null,
          5.117549661692096,
          4.361371674643202,
          3.8015385039513063,
          3.3699092615615673,
          3.0263652190423973,
          2.743320828659252,
          2.4823113810702373,
          2.063777819282606,
          null
         ]
        },
        {
         "marker": {
          "color": "#bd4304"
         },
         "name": "4",
         "type": "scatter",
         "x": [
          1,
          2,
          3,
          4,
          5,
          6,
          7,
          8,
          9,
          10,
          11,
          12
         ],
         "y": [
          null,
          null,
          null,
          6.416239639735539,
          5.516861316495074,
          4.841961765149793,
          4.3155029833027045,
          3.8894862854353,
          3.5094457591017245,
          2.9582991279463378,
          null
         ]
        },
        {
         "marker": {
          "color": "#cc6904"
         },
         "name": "5",
         "type": "scatter",
         "x": [
          1,
          2,
          3,
          4,
          5,
          6,
          7,
          8,
          9,
          10,
          11,
          12
         ],
         "y": [
          null,
          null,
          null,
          null,
          7.558122935056124,
          6.546133079942209,
          5.778126900037241,
          5.16990054315116,
          4.643725307649515,
          3.941560372416148,
          null
         ]
        },
        {
         "marker": {
          "color": "#d58f04"
         },
         "name": "6",
         "type": "scatter",
         "x": [
          1,
          2,
          3,
          4,
          5,
          6,
          7,
          8,
          9,
          10,
          11,
          12
         ],
         "y": [
          null,
          null,
          null,
          null,
          null,
          8.577858370658465,
          7.474600956398767,
          6.62525918053726,
          5.9136725849977365,
          5.032680028363555,
          null
         ]
        },
        {
         "marker": {
          "color": "#cfaa27"
         },
         "name": "7",
         "type": "scatter",
         "x": [
          1,
          2,
          3,
          4,
          5,
          6,
          7,
          8,
          9,
          10,
          11,
          12
         ],
         "y": [
          null,
          null,
          null,
          null,
          null,
          null,
          9.498852410005352,
          8.315071434502782,
          7.358907643320123,
          6.257195120874675,
          null
         ]
        },
        {
         "marker": {
          "color": "#a19f62"
         },
         "name": "8",
         "type": "scatter",
         "x": [
          1,
          2,
          3,
          4,
          5,
          6,
          7,
          8,
          9,
          10,
          11,
          12
         ],
         "y": [
          null,
          null,
          null,
          null,
          null,
          null,
          null,
          10.332811423455476,
          9.037189324142188,
          7.650179791433557,
          null
         ]
        },
        {
         "marker": {
          "color": "#588a93"
         },
         "name": "9",
         "type": "scatter",
         "x": [
          1,
          2,
          3,
          4,
          5,
          6,
          7,
          8,
          9,
          10,
          11,
          12
         ],
         "y": [
          null,
          null,
          null,
          null,
          null,
          null,
          null,
          null,
          11.043306675751973,
          9.277562623013075,
          null
         ]
        },
        {
         "marker": {
          "color": "#2269c4"
         },
         "name": "10",
         "type": "scatter",
         "x": [
          1,
          2,
          3,
          4,
          5,
          6,
          7,
          8,
          9,
          10,
          11,
          12
         ],
         "y": [
          null,
          null,
          null,
          null,
          null,
          null,
          null,
          null,
          null,
          11.220172808541113,
          null
         ]
        }
       ],
       "layout": {
        "height": 600,
        "legend": {
         "title": {
          "text": "$\\text{Clients in System}\\ (k)$"
         }
        },
        "template": {
         "data": {
          "bar": [
           {
            "error_x": {
             "color": "#2a3f5f"
            },
            "error_y": {
             "color": "#2a3f5f"
            },
            "marker": {
             "line": {
              "color": "white",
              "width": 0.5
             }
            },
            "type": "bar"
           }
          ],
          "barpolar": [
           {
            "marker": {
             "line": {
              "color": "white",
              "width": 0.5
             }
            },
            "type": "barpolar"
           }
          ],
          "carpet": [
           {
            "aaxis": {
             "endlinecolor": "#2a3f5f",
             "gridcolor": "#C8D4E3",
             "linecolor": "#C8D4E3",
             "minorgridcolor": "#C8D4E3",
             "startlinecolor": "#2a3f5f"
            },
            "baxis": {
             "endlinecolor": "#2a3f5f",
             "gridcolor": "#C8D4E3",
             "linecolor": "#C8D4E3",
             "minorgridcolor": "#C8D4E3",
             "startlinecolor": "#2a3f5f"
            },
            "type": "carpet"
           }
          ],
          "choropleth": [
           {
            "colorbar": {
             "outlinewidth": 0,
             "ticks": ""
            },
            "type": "choropleth"
           }
          ],
          "contour": [
           {
            "colorbar": {
             "outlinewidth": 0,
             "ticks": ""
            },
            "colorscale": [
             [
              0,
              "#0d0887"
             ],
             [
              0.1111111111111111,
              "#46039f"
             ],
             [
              0.2222222222222222,
              "#7201a8"
             ],
             [
              0.3333333333333333,
              "#9c179e"
             ],
             [
              0.4444444444444444,
              "#bd3786"
             ],
             [
              0.5555555555555556,
              "#d8576b"
             ],
             [
              0.6666666666666666,
              "#ed7953"
             ],
             [
              0.7777777777777778,
              "#fb9f3a"
             ],
             [
              0.8888888888888888,
              "#fdca26"
             ],
             [
              1,
              "#f0f921"
             ]
            ],
            "type": "contour"
           }
          ],
          "contourcarpet": [
           {
            "colorbar": {
             "outlinewidth": 0,
             "ticks": ""
            },
            "type": "contourcarpet"
           }
          ],
          "heatmap": [
           {
            "colorbar": {
             "outlinewidth": 0,
             "ticks": ""
            },
            "colorscale": [
             [
              0,
              "#0d0887"
             ],
             [
              0.1111111111111111,
              "#46039f"
             ],
             [
              0.2222222222222222,
              "#7201a8"
             ],
             [
              0.3333333333333333,
              "#9c179e"
             ],
             [
              0.4444444444444444,
              "#bd3786"
             ],
             [
              0.5555555555555556,
              "#d8576b"
             ],
             [
              0.6666666666666666,
              "#ed7953"
             ],
             [
              0.7777777777777778,
              "#fb9f3a"
             ],
             [
              0.8888888888888888,
              "#fdca26"
             ],
             [
              1,
              "#f0f921"
             ]
            ],
            "type": "heatmap"
           }
          ],
          "heatmapgl": [
           {
            "colorbar": {
             "outlinewidth": 0,
             "ticks": ""
            },
            "colorscale": [
             [
              0,
              "#0d0887"
             ],
             [
              0.1111111111111111,
              "#46039f"
             ],
             [
              0.2222222222222222,
              "#7201a8"
             ],
             [
              0.3333333333333333,
              "#9c179e"
             ],
             [
              0.4444444444444444,
              "#bd3786"
             ],
             [
              0.5555555555555556,
              "#d8576b"
             ],
             [
              0.6666666666666666,
              "#ed7953"
             ],
             [
              0.7777777777777778,
              "#fb9f3a"
             ],
             [
              0.8888888888888888,
              "#fdca26"
             ],
             [
              1,
              "#f0f921"
             ]
            ],
            "type": "heatmapgl"
           }
          ],
          "histogram": [
           {
            "marker": {
             "colorbar": {
              "outlinewidth": 0,
              "ticks": ""
             }
            },
            "type": "histogram"
           }
          ],
          "histogram2d": [
           {
            "colorbar": {
             "outlinewidth": 0,
             "ticks": ""
            },
            "colorscale": [
             [
              0,
              "#0d0887"
             ],
             [
              0.1111111111111111,
              "#46039f"
             ],
             [
              0.2222222222222222,
              "#7201a8"
             ],
             [
              0.3333333333333333,
              "#9c179e"
             ],
             [
              0.4444444444444444,
              "#bd3786"
             ],
             [
              0.5555555555555556,
              "#d8576b"
             ],
             [
              0.6666666666666666,
              "#ed7953"
             ],
             [
              0.7777777777777778,
              "#fb9f3a"
             ],
             [
              0.8888888888888888,
              "#fdca26"
             ],
             [
              1,
              "#f0f921"
             ]
            ],
            "type": "histogram2d"
           }
          ],
          "histogram2dcontour": [
           {
            "colorbar": {
             "outlinewidth": 0,
             "ticks": ""
            },
            "colorscale": [
             [
              0,
              "#0d0887"
             ],
             [
              0.1111111111111111,
              "#46039f"
             ],
             [
              0.2222222222222222,
              "#7201a8"
             ],
             [
              0.3333333333333333,
              "#9c179e"
             ],
             [
              0.4444444444444444,
              "#bd3786"
             ],
             [
              0.5555555555555556,
              "#d8576b"
             ],
             [
              0.6666666666666666,
              "#ed7953"
             ],
             [
              0.7777777777777778,
              "#fb9f3a"
             ],
             [
              0.8888888888888888,
              "#fdca26"
             ],
             [
              1,
              "#f0f921"
             ]
            ],
            "type": "histogram2dcontour"
           }
          ],
          "mesh3d": [
           {
            "colorbar": {
             "outlinewidth": 0,
             "ticks": ""
            },
            "type": "mesh3d"
           }
          ],
          "parcoords": [
           {
            "line": {
             "colorbar": {
              "outlinewidth": 0,
              "ticks": ""
             }
            },
            "type": "parcoords"
           }
          ],
          "pie": [
           {
            "automargin": true,
            "type": "pie"
           }
          ],
          "scatter": [
           {
            "marker": {
             "colorbar": {
              "outlinewidth": 0,
              "ticks": ""
             }
            },
            "type": "scatter"
           }
          ],
          "scatter3d": [
           {
            "line": {
             "colorbar": {
              "outlinewidth": 0,
              "ticks": ""
             }
            },
            "marker": {
             "colorbar": {
              "outlinewidth": 0,
              "ticks": ""
             }
            },
            "type": "scatter3d"
           }
          ],
          "scattercarpet": [
           {
            "marker": {
             "colorbar": {
              "outlinewidth": 0,
              "ticks": ""
             }
            },
            "type": "scattercarpet"
           }
          ],
          "scattergeo": [
           {
            "marker": {
             "colorbar": {
              "outlinewidth": 0,
              "ticks": ""
             }
            },
            "type": "scattergeo"
           }
          ],
          "scattergl": [
           {
            "marker": {
             "colorbar": {
              "outlinewidth": 0,
              "ticks": ""
             }
            },
            "type": "scattergl"
           }
          ],
          "scattermapbox": [
           {
            "marker": {
             "colorbar": {
              "outlinewidth": 0,
              "ticks": ""
             }
            },
            "type": "scattermapbox"
           }
          ],
          "scatterpolar": [
           {
            "marker": {
             "colorbar": {
              "outlinewidth": 0,
              "ticks": ""
             }
            },
            "type": "scatterpolar"
           }
          ],
          "scatterpolargl": [
           {
            "marker": {
             "colorbar": {
              "outlinewidth": 0,
              "ticks": ""
             }
            },
            "type": "scatterpolargl"
           }
          ],
          "scatterternary": [
           {
            "marker": {
             "colorbar": {
              "outlinewidth": 0,
              "ticks": ""
             }
            },
            "type": "scatterternary"
           }
          ],
          "surface": [
           {
            "colorbar": {
             "outlinewidth": 0,
             "ticks": ""
            },
            "colorscale": [
             [
              0,
              "#0d0887"
             ],
             [
              0.1111111111111111,
              "#46039f"
             ],
             [
              0.2222222222222222,
              "#7201a8"
             ],
             [
              0.3333333333333333,
              "#9c179e"
             ],
             [
              0.4444444444444444,
              "#bd3786"
             ],
             [
              0.5555555555555556,
              "#d8576b"
             ],
             [
              0.6666666666666666,
              "#ed7953"
             ],
             [
              0.7777777777777778,
              "#fb9f3a"
             ],
             [
              0.8888888888888888,
              "#fdca26"
             ],
             [
              1,
              "#f0f921"
             ]
            ],
            "type": "surface"
           }
          ],
          "table": [
           {
            "cells": {
             "fill": {
              "color": "#EBF0F8"
             },
             "line": {
              "color": "white"
             }
            },
            "header": {
             "fill": {
              "color": "#C8D4E3"
             },
             "line": {
              "color": "white"
             }
            },
            "type": "table"
           }
          ]
         },
         "layout": {
          "annotationdefaults": {
           "arrowcolor": "#2a3f5f",
           "arrowhead": 0,
           "arrowwidth": 1
          },
          "coloraxis": {
           "colorbar": {
            "outlinewidth": 0,
            "ticks": ""
           }
          },
          "colorscale": {
           "diverging": [
            [
             0,
             "#8e0152"
            ],
            [
             0.1,
             "#c51b7d"
            ],
            [
             0.2,
             "#de77ae"
            ],
            [
             0.3,
             "#f1b6da"
            ],
            [
             0.4,
             "#fde0ef"
            ],
            [
             0.5,
             "#f7f7f7"
            ],
            [
             0.6,
             "#e6f5d0"
            ],
            [
             0.7,
             "#b8e186"
            ],
            [
             0.8,
             "#7fbc41"
            ],
            [
             0.9,
             "#4d9221"
            ],
            [
             1,
             "#276419"
            ]
           ],
           "sequential": [
            [
             0,
             "#0d0887"
            ],
            [
             0.1111111111111111,
             "#46039f"
            ],
            [
             0.2222222222222222,
             "#7201a8"
            ],
            [
             0.3333333333333333,
             "#9c179e"
            ],
            [
             0.4444444444444444,
             "#bd3786"
            ],
            [
             0.5555555555555556,
             "#d8576b"
            ],
            [
             0.6666666666666666,
             "#ed7953"
            ],
            [
             0.7777777777777778,
             "#fb9f3a"
            ],
            [
             0.8888888888888888,
             "#fdca26"
            ],
            [
             1,
             "#f0f921"
            ]
           ],
           "sequentialminus": [
            [
             0,
             "#0d0887"
            ],
            [
             0.1111111111111111,
             "#46039f"
            ],
            [
             0.2222222222222222,
             "#7201a8"
            ],
            [
             0.3333333333333333,
             "#9c179e"
            ],
            [
             0.4444444444444444,
             "#bd3786"
            ],
            [
             0.5555555555555556,
             "#d8576b"
            ],
            [
             0.6666666666666666,
             "#ed7953"
            ],
            [
             0.7777777777777778,
             "#fb9f3a"
            ],
            [
             0.8888888888888888,
             "#fdca26"
            ],
            [
             1,
             "#f0f921"
            ]
           ]
          },
          "colorway": [
           "#636efa",
           "#EF553B",
           "#00cc96",
           "#ab63fa",
           "#FFA15A",
           "#19d3f3",
           "#FF6692",
           "#B6E880",
           "#FF97FF",
           "#FECB52"
          ],
          "font": {
           "color": "#2a3f5f"
          },
          "geo": {
           "bgcolor": "white",
           "lakecolor": "white",
           "landcolor": "white",
           "showlakes": true,
           "showland": true,
           "subunitcolor": "#C8D4E3"
          },
          "hoverlabel": {
           "align": "left"
          },
          "hovermode": "closest",
          "mapbox": {
           "style": "light"
          },
          "paper_bgcolor": "white",
          "plot_bgcolor": "white",
          "polar": {
           "angularaxis": {
            "gridcolor": "#EBF0F8",
            "linecolor": "#EBF0F8",
            "ticks": ""
           },
           "bgcolor": "white",
           "radialaxis": {
            "gridcolor": "#EBF0F8",
            "linecolor": "#EBF0F8",
            "ticks": ""
           }
          },
          "scene": {
           "xaxis": {
            "backgroundcolor": "white",
            "gridcolor": "#DFE8F3",
            "gridwidth": 2,
            "linecolor": "#EBF0F8",
            "showbackground": true,
            "ticks": "",
            "zerolinecolor": "#EBF0F8"
           },
           "yaxis": {
            "backgroundcolor": "white",
            "gridcolor": "#DFE8F3",
            "gridwidth": 2,
            "linecolor": "#EBF0F8",
            "showbackground": true,
            "ticks": "",
            "zerolinecolor": "#EBF0F8"
           },
           "zaxis": {
            "backgroundcolor": "white",
            "gridcolor": "#DFE8F3",
            "gridwidth": 2,
            "linecolor": "#EBF0F8",
            "showbackground": true,
            "ticks": "",
            "zerolinecolor": "#EBF0F8"
           }
          },
          "shapedefaults": {
           "line": {
            "color": "#2a3f5f"
           }
          },
          "ternary": {
           "aaxis": {
            "gridcolor": "#DFE8F3",
            "linecolor": "#A2B1C6",
            "ticks": ""
           },
           "baxis": {
            "gridcolor": "#DFE8F3",
            "linecolor": "#A2B1C6",
            "ticks": ""
           },
           "bgcolor": "white",
           "caxis": {
            "gridcolor": "#DFE8F3",
            "linecolor": "#A2B1C6",
            "ticks": ""
           }
          },
          "title": {
           "x": 0.05
          },
          "xaxis": {
           "automargin": true,
           "gridcolor": "#EBF0F8",
           "linecolor": "#EBF0F8",
           "ticks": "",
           "title": {
            "standoff": 15
           },
           "zerolinecolor": "#EBF0F8",
           "zerolinewidth": 2
          },
          "yaxis": {
           "automargin": true,
           "gridcolor": "#EBF0F8",
           "linecolor": "#EBF0F8",
           "ticks": "",
           "title": {
            "standoff": 15
           },
           "zerolinecolor": "#EBF0F8",
           "zerolinewidth": 2
          }
         }
        },
        "title": {
         "text": "$\\text{Dynamic Schedule}\\ (n=11,\\ \\omega=0.5)$"
        },
        "width": 800,
        "xaxis": {
         "dtick": 1,
         "range": [
          0.7,
          10.3
         ],
         "title": {
          "text": "$\\text{Client Position}\\ (i)$"
         }
        },
        "yaxis": {
         "dtick": 1,
         "title": {
          "text": "$\\text{Interarrival Time}\\ (\\tau_{i}(k))$"
         }
        }
       }
      },
      "text/html": [
       "<div>\n",
       "        \n",
       "        \n",
       "            <div id=\"a29b8cc2-3667-4e55-ac75-b58d68db3aa1\" class=\"plotly-graph-div\" style=\"height:600px; width:800px;\"></div>\n",
       "            <script type=\"text/javascript\">\n",
       "                require([\"plotly\"], function(Plotly) {\n",
       "                    window.PLOTLYENV=window.PLOTLYENV || {};\n",
       "                    \n",
       "                if (document.getElementById(\"a29b8cc2-3667-4e55-ac75-b58d68db3aa1\")) {\n",
       "                    Plotly.newPlot(\n",
       "                        'a29b8cc2-3667-4e55-ac75-b58d68db3aa1',\n",
       "                        [{\"marker\": {\"color\": \"#ea4388\"}, \"name\": \"1\", \"type\": \"scatter\", \"x\": [1, 2, 3, 4, 5, 6, 7, 8, 9, 10, 11, 12], \"y\": [1.7989370348049318, 1.4938967518808495, 1.2772146678892478, 1.1153702916315265, 0.989914051716733, 0.8897793434693693, 0.8077968406741498, 0.7377789967705234, 0.6640551257042456, 0.49509995747191676, null]}, {\"marker\": {\"color\": \"#cf244b\"}, \"name\": \"2\", \"type\": \"scatter\", \"x\": [1, 2, 3, 4, 5, 6, 7, 8, 9, 10, 11, 12], \"y\": [null, 3.6085339649520014, 3.0412591447310438, 2.6285719103826057, 2.314723326743614, 2.067919705374312, 1.8683813492664805, 1.7013226551629412, 1.5401830703897565, 1.2445522691955835, null]}, {\"marker\": {\"color\": \"#b51a15\"}, \"name\": \"3\", \"type\": \"scatter\", \"x\": [1, 2, 3, 4, 5, 6, 7, 8, 9, 10, 11, 12], \"y\": [null, null, 5.117549661692096, 4.361371674643202, 3.8015385039513063, 3.3699092615615673, 3.0263652190423973, 2.743320828659252, 2.4823113810702373, 2.063777819282606, null]}, {\"marker\": {\"color\": \"#bd4304\"}, \"name\": \"4\", \"type\": \"scatter\", \"x\": [1, 2, 3, 4, 5, 6, 7, 8, 9, 10, 11, 12], \"y\": [null, null, null, 6.416239639735539, 5.516861316495074, 4.841961765149793, 4.3155029833027045, 3.8894862854353, 3.5094457591017245, 2.9582991279463378, null]}, {\"marker\": {\"color\": \"#cc6904\"}, \"name\": \"5\", \"type\": \"scatter\", \"x\": [1, 2, 3, 4, 5, 6, 7, 8, 9, 10, 11, 12], \"y\": [null, null, null, null, 7.558122935056124, 6.546133079942209, 5.778126900037241, 5.16990054315116, 4.643725307649515, 3.941560372416148, null]}, {\"marker\": {\"color\": \"#d58f04\"}, \"name\": \"6\", \"type\": \"scatter\", \"x\": [1, 2, 3, 4, 5, 6, 7, 8, 9, 10, 11, 12], \"y\": [null, null, null, null, null, 8.577858370658465, 7.474600956398767, 6.62525918053726, 5.9136725849977365, 5.032680028363555, null]}, {\"marker\": {\"color\": \"#cfaa27\"}, \"name\": \"7\", \"type\": \"scatter\", \"x\": [1, 2, 3, 4, 5, 6, 7, 8, 9, 10, 11, 12], \"y\": [null, null, null, null, null, null, 9.498852410005352, 8.315071434502782, 7.358907643320123, 6.257195120874675, null]}, {\"marker\": {\"color\": \"#a19f62\"}, \"name\": \"8\", \"type\": \"scatter\", \"x\": [1, 2, 3, 4, 5, 6, 7, 8, 9, 10, 11, 12], \"y\": [null, null, null, null, null, null, null, 10.332811423455476, 9.037189324142188, 7.650179791433557, null]}, {\"marker\": {\"color\": \"#588a93\"}, \"name\": \"9\", \"type\": \"scatter\", \"x\": [1, 2, 3, 4, 5, 6, 7, 8, 9, 10, 11, 12], \"y\": [null, null, null, null, null, null, null, null, 11.043306675751973, 9.277562623013075, null]}, {\"marker\": {\"color\": \"#2269c4\"}, \"name\": \"10\", \"type\": \"scatter\", \"x\": [1, 2, 3, 4, 5, 6, 7, 8, 9, 10, 11, 12], \"y\": [null, null, null, null, null, null, null, null, null, 11.220172808541113, null]}],\n",
       "                        {\"height\": 600, \"legend\": {\"title\": {\"text\": \"$\\\\text{Clients in System}\\\\ (k)$\"}}, \"template\": {\"data\": {\"bar\": [{\"error_x\": {\"color\": \"#2a3f5f\"}, \"error_y\": {\"color\": \"#2a3f5f\"}, \"marker\": {\"line\": {\"color\": \"white\", \"width\": 0.5}}, \"type\": \"bar\"}], \"barpolar\": [{\"marker\": {\"line\": {\"color\": \"white\", \"width\": 0.5}}, \"type\": \"barpolar\"}], \"carpet\": [{\"aaxis\": {\"endlinecolor\": \"#2a3f5f\", \"gridcolor\": \"#C8D4E3\", \"linecolor\": \"#C8D4E3\", \"minorgridcolor\": \"#C8D4E3\", \"startlinecolor\": \"#2a3f5f\"}, \"baxis\": {\"endlinecolor\": \"#2a3f5f\", \"gridcolor\": \"#C8D4E3\", \"linecolor\": \"#C8D4E3\", \"minorgridcolor\": \"#C8D4E3\", \"startlinecolor\": \"#2a3f5f\"}, \"type\": \"carpet\"}], \"choropleth\": [{\"colorbar\": {\"outlinewidth\": 0, \"ticks\": \"\"}, \"type\": \"choropleth\"}], \"contour\": [{\"colorbar\": {\"outlinewidth\": 0, \"ticks\": \"\"}, \"colorscale\": [[0.0, \"#0d0887\"], [0.1111111111111111, \"#46039f\"], [0.2222222222222222, \"#7201a8\"], [0.3333333333333333, \"#9c179e\"], [0.4444444444444444, \"#bd3786\"], [0.5555555555555556, \"#d8576b\"], [0.6666666666666666, \"#ed7953\"], [0.7777777777777778, \"#fb9f3a\"], [0.8888888888888888, \"#fdca26\"], [1.0, \"#f0f921\"]], \"type\": \"contour\"}], \"contourcarpet\": [{\"colorbar\": {\"outlinewidth\": 0, \"ticks\": \"\"}, \"type\": \"contourcarpet\"}], \"heatmap\": [{\"colorbar\": {\"outlinewidth\": 0, \"ticks\": \"\"}, \"colorscale\": [[0.0, \"#0d0887\"], [0.1111111111111111, \"#46039f\"], [0.2222222222222222, \"#7201a8\"], [0.3333333333333333, \"#9c179e\"], [0.4444444444444444, \"#bd3786\"], [0.5555555555555556, \"#d8576b\"], [0.6666666666666666, \"#ed7953\"], [0.7777777777777778, \"#fb9f3a\"], [0.8888888888888888, \"#fdca26\"], [1.0, \"#f0f921\"]], \"type\": \"heatmap\"}], \"heatmapgl\": [{\"colorbar\": {\"outlinewidth\": 0, \"ticks\": \"\"}, \"colorscale\": [[0.0, \"#0d0887\"], [0.1111111111111111, \"#46039f\"], [0.2222222222222222, \"#7201a8\"], [0.3333333333333333, \"#9c179e\"], [0.4444444444444444, \"#bd3786\"], [0.5555555555555556, \"#d8576b\"], [0.6666666666666666, \"#ed7953\"], [0.7777777777777778, \"#fb9f3a\"], [0.8888888888888888, \"#fdca26\"], [1.0, \"#f0f921\"]], \"type\": \"heatmapgl\"}], \"histogram\": [{\"marker\": {\"colorbar\": {\"outlinewidth\": 0, \"ticks\": \"\"}}, \"type\": \"histogram\"}], \"histogram2d\": [{\"colorbar\": {\"outlinewidth\": 0, \"ticks\": \"\"}, \"colorscale\": [[0.0, \"#0d0887\"], [0.1111111111111111, \"#46039f\"], [0.2222222222222222, \"#7201a8\"], [0.3333333333333333, \"#9c179e\"], [0.4444444444444444, \"#bd3786\"], [0.5555555555555556, \"#d8576b\"], [0.6666666666666666, \"#ed7953\"], [0.7777777777777778, \"#fb9f3a\"], [0.8888888888888888, \"#fdca26\"], [1.0, \"#f0f921\"]], \"type\": \"histogram2d\"}], \"histogram2dcontour\": [{\"colorbar\": {\"outlinewidth\": 0, \"ticks\": \"\"}, \"colorscale\": [[0.0, \"#0d0887\"], [0.1111111111111111, \"#46039f\"], [0.2222222222222222, \"#7201a8\"], [0.3333333333333333, \"#9c179e\"], [0.4444444444444444, \"#bd3786\"], [0.5555555555555556, \"#d8576b\"], [0.6666666666666666, \"#ed7953\"], [0.7777777777777778, \"#fb9f3a\"], [0.8888888888888888, \"#fdca26\"], [1.0, \"#f0f921\"]], \"type\": \"histogram2dcontour\"}], \"mesh3d\": [{\"colorbar\": {\"outlinewidth\": 0, \"ticks\": \"\"}, \"type\": \"mesh3d\"}], \"parcoords\": [{\"line\": {\"colorbar\": {\"outlinewidth\": 0, \"ticks\": \"\"}}, \"type\": \"parcoords\"}], \"pie\": [{\"automargin\": true, \"type\": \"pie\"}], \"scatter\": [{\"marker\": {\"colorbar\": {\"outlinewidth\": 0, \"ticks\": \"\"}}, \"type\": \"scatter\"}], \"scatter3d\": [{\"line\": {\"colorbar\": {\"outlinewidth\": 0, \"ticks\": \"\"}}, \"marker\": {\"colorbar\": {\"outlinewidth\": 0, \"ticks\": \"\"}}, \"type\": \"scatter3d\"}], \"scattercarpet\": [{\"marker\": {\"colorbar\": {\"outlinewidth\": 0, \"ticks\": \"\"}}, \"type\": \"scattercarpet\"}], \"scattergeo\": [{\"marker\": {\"colorbar\": {\"outlinewidth\": 0, \"ticks\": \"\"}}, \"type\": \"scattergeo\"}], \"scattergl\": [{\"marker\": {\"colorbar\": {\"outlinewidth\": 0, \"ticks\": \"\"}}, \"type\": \"scattergl\"}], \"scattermapbox\": [{\"marker\": {\"colorbar\": {\"outlinewidth\": 0, \"ticks\": \"\"}}, \"type\": \"scattermapbox\"}], \"scatterpolar\": [{\"marker\": {\"colorbar\": {\"outlinewidth\": 0, \"ticks\": \"\"}}, \"type\": \"scatterpolar\"}], \"scatterpolargl\": [{\"marker\": {\"colorbar\": {\"outlinewidth\": 0, \"ticks\": \"\"}}, \"type\": \"scatterpolargl\"}], \"scatterternary\": [{\"marker\": {\"colorbar\": {\"outlinewidth\": 0, \"ticks\": \"\"}}, \"type\": \"scatterternary\"}], \"surface\": [{\"colorbar\": {\"outlinewidth\": 0, \"ticks\": \"\"}, \"colorscale\": [[0.0, \"#0d0887\"], [0.1111111111111111, \"#46039f\"], [0.2222222222222222, \"#7201a8\"], [0.3333333333333333, \"#9c179e\"], [0.4444444444444444, \"#bd3786\"], [0.5555555555555556, \"#d8576b\"], [0.6666666666666666, \"#ed7953\"], [0.7777777777777778, \"#fb9f3a\"], [0.8888888888888888, \"#fdca26\"], [1.0, \"#f0f921\"]], \"type\": \"surface\"}], \"table\": [{\"cells\": {\"fill\": {\"color\": \"#EBF0F8\"}, \"line\": {\"color\": \"white\"}}, \"header\": {\"fill\": {\"color\": \"#C8D4E3\"}, \"line\": {\"color\": \"white\"}}, \"type\": \"table\"}]}, \"layout\": {\"annotationdefaults\": {\"arrowcolor\": \"#2a3f5f\", \"arrowhead\": 0, \"arrowwidth\": 1}, \"coloraxis\": {\"colorbar\": {\"outlinewidth\": 0, \"ticks\": \"\"}}, \"colorscale\": {\"diverging\": [[0, \"#8e0152\"], [0.1, \"#c51b7d\"], [0.2, \"#de77ae\"], [0.3, \"#f1b6da\"], [0.4, \"#fde0ef\"], [0.5, \"#f7f7f7\"], [0.6, \"#e6f5d0\"], [0.7, \"#b8e186\"], [0.8, \"#7fbc41\"], [0.9, \"#4d9221\"], [1, \"#276419\"]], \"sequential\": [[0.0, \"#0d0887\"], [0.1111111111111111, \"#46039f\"], [0.2222222222222222, \"#7201a8\"], [0.3333333333333333, \"#9c179e\"], [0.4444444444444444, \"#bd3786\"], [0.5555555555555556, \"#d8576b\"], [0.6666666666666666, \"#ed7953\"], [0.7777777777777778, \"#fb9f3a\"], [0.8888888888888888, \"#fdca26\"], [1.0, \"#f0f921\"]], \"sequentialminus\": [[0.0, \"#0d0887\"], [0.1111111111111111, \"#46039f\"], [0.2222222222222222, \"#7201a8\"], [0.3333333333333333, \"#9c179e\"], [0.4444444444444444, \"#bd3786\"], [0.5555555555555556, \"#d8576b\"], [0.6666666666666666, \"#ed7953\"], [0.7777777777777778, \"#fb9f3a\"], [0.8888888888888888, \"#fdca26\"], [1.0, \"#f0f921\"]]}, \"colorway\": [\"#636efa\", \"#EF553B\", \"#00cc96\", \"#ab63fa\", \"#FFA15A\", \"#19d3f3\", \"#FF6692\", \"#B6E880\", \"#FF97FF\", \"#FECB52\"], \"font\": {\"color\": \"#2a3f5f\"}, \"geo\": {\"bgcolor\": \"white\", \"lakecolor\": \"white\", \"landcolor\": \"white\", \"showlakes\": true, \"showland\": true, \"subunitcolor\": \"#C8D4E3\"}, \"hoverlabel\": {\"align\": \"left\"}, \"hovermode\": \"closest\", \"mapbox\": {\"style\": \"light\"}, \"paper_bgcolor\": \"white\", \"plot_bgcolor\": \"white\", \"polar\": {\"angularaxis\": {\"gridcolor\": \"#EBF0F8\", \"linecolor\": \"#EBF0F8\", \"ticks\": \"\"}, \"bgcolor\": \"white\", \"radialaxis\": {\"gridcolor\": \"#EBF0F8\", \"linecolor\": \"#EBF0F8\", \"ticks\": \"\"}}, \"scene\": {\"xaxis\": {\"backgroundcolor\": \"white\", \"gridcolor\": \"#DFE8F3\", \"gridwidth\": 2, \"linecolor\": \"#EBF0F8\", \"showbackground\": true, \"ticks\": \"\", \"zerolinecolor\": \"#EBF0F8\"}, \"yaxis\": {\"backgroundcolor\": \"white\", \"gridcolor\": \"#DFE8F3\", \"gridwidth\": 2, \"linecolor\": \"#EBF0F8\", \"showbackground\": true, \"ticks\": \"\", \"zerolinecolor\": \"#EBF0F8\"}, \"zaxis\": {\"backgroundcolor\": \"white\", \"gridcolor\": \"#DFE8F3\", \"gridwidth\": 2, \"linecolor\": \"#EBF0F8\", \"showbackground\": true, \"ticks\": \"\", \"zerolinecolor\": \"#EBF0F8\"}}, \"shapedefaults\": {\"line\": {\"color\": \"#2a3f5f\"}}, \"ternary\": {\"aaxis\": {\"gridcolor\": \"#DFE8F3\", \"linecolor\": \"#A2B1C6\", \"ticks\": \"\"}, \"baxis\": {\"gridcolor\": \"#DFE8F3\", \"linecolor\": \"#A2B1C6\", \"ticks\": \"\"}, \"bgcolor\": \"white\", \"caxis\": {\"gridcolor\": \"#DFE8F3\", \"linecolor\": \"#A2B1C6\", \"ticks\": \"\"}}, \"title\": {\"x\": 0.05}, \"xaxis\": {\"automargin\": true, \"gridcolor\": \"#EBF0F8\", \"linecolor\": \"#EBF0F8\", \"ticks\": \"\", \"title\": {\"standoff\": 15}, \"zerolinecolor\": \"#EBF0F8\", \"zerolinewidth\": 2}, \"yaxis\": {\"automargin\": true, \"gridcolor\": \"#EBF0F8\", \"linecolor\": \"#EBF0F8\", \"ticks\": \"\", \"title\": {\"standoff\": 15}, \"zerolinecolor\": \"#EBF0F8\", \"zerolinewidth\": 2}}}, \"title\": {\"text\": \"$\\\\text{Dynamic Schedule}\\\\ (n=11,\\\\ \\\\omega=0.5)$\"}, \"width\": 800, \"xaxis\": {\"dtick\": 1, \"range\": [0.7, 10.3], \"title\": {\"text\": \"$\\\\text{Client Position}\\\\ (i)$\"}}, \"yaxis\": {\"dtick\": 1, \"title\": {\"text\": \"$\\\\text{Interarrival Time}\\\\ (\\\\tau_{i}(k))$\"}}},\n",
       "                        {\"responsive\": true}\n",
       "                    ).then(function(){\n",
       "                            \n",
       "var gd = document.getElementById('a29b8cc2-3667-4e55-ac75-b58d68db3aa1');\n",
       "var x = new MutationObserver(function (mutations, observer) {{\n",
       "        var display = window.getComputedStyle(gd).display;\n",
       "        if (!display || display === 'none') {{\n",
       "            console.log([gd, 'removed!']);\n",
       "            Plotly.purge(gd);\n",
       "            observer.disconnect();\n",
       "        }}\n",
       "}});\n",
       "\n",
       "// Listen for the removal of the full notebook cells\n",
       "var notebookContainer = gd.closest('#notebook-container');\n",
       "if (notebookContainer) {{\n",
       "    x.observe(notebookContainer, {childList: true});\n",
       "}}\n",
       "\n",
       "// Listen for the clearing of the current output cell\n",
       "var outputEl = gd.closest('.output');\n",
       "if (outputEl) {{\n",
       "    x.observe(outputEl, {childList: true});\n",
       "}}\n",
       "\n",
       "                        })\n",
       "                };\n",
       "                });\n",
       "            </script>\n",
       "        </div>"
      ]
     },
     "metadata": {},
     "output_type": "display_data"
    }
   ],
   "source": [
    "omega = 0.5\n",
    "n = 11\n",
    "mus = np.linspace(0.5,1.5,n)\n",
    "\n",
    "# plot schedule\n",
    "palette = cycle(px.colors.cyclical.mrybm[2:])\n",
    "fig = go.Figure()\n",
    "\n",
    "print(f'omega = {omega}\\nmu = {mus}\\n')\n",
    "\n",
    "C_matrix = [[None for k in range(n)] for i in range(n)]\n",
    "minima = [[None for k in range(n)] for i in range(n)]\n",
    "c_stored = [[[None for j in range(n)] for l in range(n)] for k in range(n)]\n",
    "\n",
    "# compute values\n",
    "for i in range(1,n+1):\n",
    "    for k in range(1,i+1):\n",
    "        Cstar_het(i,k,mus,omega=omega,n=n,C_matrix=C_matrix,use_h=True)\n",
    "\n",
    "# cost\n",
    "print(f'Cost: {C_matrix[0][0]}')\n",
    "\n",
    "for k in range(1,n):\n",
    "    fig.add_trace(go.Scatter(x=np.arange(1,n+2), y=[minima[i][k-1] for i in range(n)],\n",
    "                             name=k, marker_color=next(palette)))\n",
    "\n",
    "fig.update_layout(\n",
    "    template='plotly_white',\n",
    "    title='$\\\\text{Dynamic Schedule}\\ (n=' + f'{n},\\ \\omega={omega})$',\n",
    "    legend_title='$\\\\text{Clients in System}\\ (k)$', \n",
    "    xaxis = {'title': '$\\\\text{Client Position}\\ (i)$', 'range': [0.7, n - 0.7], 'dtick': 1},\n",
    "    yaxis = {'title': '$\\\\text{Interarrival Time}\\ (\\\\tau_{i}(k))$', 'dtick': 1},\n",
    "    width=800,\n",
    "    height=600\n",
    ")\n",
    "\n",
    "fig.show()\n"
   ]
  },
  {
   "cell_type": "markdown",
   "metadata": {},
   "source": [
    "## Phase-Type Case\n",
    "\n",
    "Our most general case consists of service time distributions constructed by convolutions and mixtures of exponential distributions, the so-called _phase-type distributions_.\n",
    "\n",
    "### Phase-Type Fit\n",
    "\n",
    "There are two special cases of phase-type distributions that are of particular interest: the weighted Erlang distribution and the hyperexponential distribution. The idea is to fit the first two moments of the real service-time distribution. The former distribution can be used to approximate any non-negative distribution with coefficient of variation below 1, whereas the latter can be used if this coefficient of variation is larger than 1. The parameters of the weighted Erlang and hyperexponential distribution are obtained with the following function."
   ]
  },
  {
   "cell_type": "code",
   "execution_count": 3,
   "metadata": {
    "ExecuteTime": {
     "end_time": "2020-12-13T16:49:07.575414Z",
     "start_time": "2020-12-13T16:49:07.570428Z"
    }
   },
   "outputs": [],
   "source": [
    "def SCV_to_params(SCV, mean=1):\n",
    "    \n",
    "    # weighted Erlang case\n",
    "    if SCV <= 1:\n",
    "        K = math.floor(1/SCV)\n",
    "        p = ((K + 1) * SCV - math.sqrt((K + 1) * (1 - K * SCV))) / (SCV + 1)\n",
    "        mu = (K + 1 - p) / mean\n",
    "    \n",
    "        return K, p, mu\n",
    "    \n",
    "    # hyperexponential case\n",
    "    else:\n",
    "        p = 0.5 * (1 + np.sqrt((SCV - 1) / (SCV + 1)))\n",
    "        mu = 1 / mean\n",
    "        mu1 = 2 * p * mu\n",
    "        mu2 = 2 * (1 - p) * mu\n",
    "        \n",
    "        return p, mu1, mu2"
   ]
  },
  {
   "cell_type": "markdown",
   "metadata": {},
   "source": [
    "In the following subsections we develop procedures for finding the optimal static schedule in the weighted Erlang case and the hyperexponential case, respectively.\n",
    "\n",
    "### Weighted Erlang Distribution\n",
    "\n",
    "In this case, we assume that the service time $B$ equals w.p. $p\\in[0,1]$ an Erlang-distributed random variable with $K$ exponentially distributed phases, each of them having mean $\\mu^{-1}$, and with probability $1-p$ an Erlang-distributed random variable with $K+1$ exponentially distributed phases, again with mean $\\mu^{-1}$:\n",
    "\n",
    "\\begin{align*}\n",
    "B \\stackrel{\\text{d}}{=} \\sum_{i=1}^{K}X_i + X_{K+1}\\mathbb{1}_{\\{U > p\\}},\n",
    "\\end{align*}\n",
    "\n",
    "where $X_i \\stackrel{iid}{\\sim} \\text{Exp}(\\mu)$ and $U\\sim\\text{Unif}[0,1]$. The following recursion can be found in the thesis.\n",
    "\n",
    "<div class=\"alert alert-warning\">\n",
    "<b>Theorem 3.16 (discrete version).</b>\n",
    "For $i=1,\\dots,n-1$, $k=1,\\dots,i$, and $m\\in\\mathbb{N}_0$,\n",
    "\\[\n",
    "\\xi_i(k,m) = \\inf_{t\\in \\mathbb{N}_0}\\Bigg(\\omega \\bar{f}^{\\circ}_{k,m\\Delta}(t\\Delta) \n",
    "+ (1 - \\omega)\\bar{h}^{\\circ}_{k,m\\Delta} + \\sum_{\\ell=2}^{k}\\sum_{j=0}^{t}\\bar{q}_{k\\ell,mj}(t)\\xi_{i+1}(\\ell,j)\n",
    "+ P^{\\downarrow}_{k,m\\Delta}(t\\Delta)\\xi_{i+1}(1,0) + P^{\\uparrow}_{k,m\\Delta}(t\\Delta)\\xi_{i+1}(k+1,m+t) \\Bigg),\n",
    "\\]\n",
    "whereas, for $k=1,\\dots,n$ and $m \\in \\mathbb{N}_0$,\n",
    "\\[\n",
    "\\xi_n(k,m) = (1 - \\omega)\\bar{h}^{\\circ}_{k,m\\Delta}.\n",
    "\\]\n",
    "</div>\n",
    "\n",
    "Below is our implementation."
   ]
  },
  {
   "cell_type": "code",
   "execution_count": 4,
   "metadata": {
    "ExecuteTime": {
     "end_time": "2020-12-10T13:27:12.274017Z",
     "start_time": "2020-12-10T13:27:12.241106Z"
    }
   },
   "outputs": [],
   "source": [
    "### helper functions\n",
    "\n",
    "@cache\n",
    "def gamma(z, u):\n",
    "    gamma_circ = poisson.pmf(z-1, mu*u)\n",
    "\n",
    "    if z == K + 1:\n",
    "        gamma_circ *= (1 - p)\n",
    "\n",
    "    return gamma_circ / B_sf(u)\n",
    "\n",
    "@cache\n",
    "def B_sf(t):\n",
    "    \"\"\"The survival function P(B > t).\"\"\"\n",
    "    return poisson.cdf(K-1, mu*t) + (1 - p) * poisson.pmf(K, mu*t)\n",
    "\n",
    "@cache\n",
    "def P_k0(k, z, t):\n",
    "    \"\"\"Computes P(N_t- = 0 | N_0 = k, Z_0 = z).\"\"\"\n",
    "    if z <= K:\n",
    "        return sum([binom.pmf(m, k, 1-p) * erlang.cdf(t, k*K-z+1+m, scale=1/mu) for m in range(k+1)])\n",
    "    elif z == K + 1:\n",
    "        return sum([binom.pmf(m, k-1, 1-p) * erlang.cdf(t, (k-1)*K+1+m, scale=1/mu) for m in range(k)])\n",
    "\n",
    "@cache\n",
    "def psi(v, t, k, l):\n",
    "    \"\"\"\n",
    "    Computes P(t-v < Erl(k,mu) < t, Erl(k,mu) + Erl(l-k,mu) > t),\n",
    "    where Erl(k,mu) and Erl(l-k,mu) are independent.\n",
    "    \"\"\"\n",
    "    return sum([poisson.pmf(j, mu*t) * binom.sf(j-k, j, v/t) for j in range(k, l)])\n",
    "\n",
    "\n",
    "@cache\n",
    "def f(k, t):\n",
    "    return poisson.sf(k-1, mu*t) * t - poisson.sf(k, mu*t) * k / mu\n",
    "\n",
    "@cache\n",
    "def f_bar(k, z, t):\n",
    "    \"\"\"Computes the mean idle time given (N_0, Z_0) = (k,z).\"\"\"\n",
    "    if z <= K:\n",
    "        return sum([binom.pmf(m, k, 1 - p) * f(k*K+1-z+m, t) for m in range(k+1)])\n",
    "    elif z == K + 1:\n",
    "        return sum([binom.pmf(m, k-1, 1 - p) * f((k-1)*K+1+m, t) for m in range(k)])\n",
    "\n",
    "@cache\n",
    "def f_circ(k, u, t):\n",
    "    \"\"\"Computes the mean idle time given (N_0, B_0) = (k,u).\"\"\"\n",
    "    return sum([gamma(z, u) * f_bar(k, z, t) for z in range(1, K+2)])\n",
    "\n",
    "@cache\n",
    "def h_bar(k, z):\n",
    "    \"\"\"Computes the mean waiting time given (N_0, Z_0) = (k,z).\"\"\"\n",
    "    if k == 1:\n",
    "        return 0\n",
    "    elif z <= K:\n",
    "        return ((k - 1) * (K + 1 - p) + 1 - z) / mu\n",
    "    elif z == K + 1:\n",
    "        return ((k - 2) * (K + 1 - p) + 1) / mu\n",
    "\n",
    "@cache\n",
    "def h_circ(k, u):\n",
    "    \"\"\"Computes the mean waiting time given (N_0, B_0) = (k,u).\"\"\"\n",
    "    return sum([gamma(z, u) * h_bar(k, z) for z in range(1, K+2)])\n",
    "\n",
    "\n",
    "### transition probabilities\n",
    "\n",
    "# 1. No client has been served before time t.\n",
    "@cache\n",
    "def P_up(k, u, t):\n",
    "    \"\"\"Computes P(N_t- = k | N_0 = k, B_0 = u).\"\"\"\n",
    "    return B_sf(u+t) / B_sf(u)\n",
    "\n",
    "# 2. All clients have been served before time t.\n",
    "@cache\n",
    "def P_down(k, u, t):\n",
    "    \"\"\"Computes P(N_t- = 0 | N_0 = k, B_0 = u).\"\"\"\n",
    "    return sum([gamma(z, u) * P_k0(k, z, t) for z in range(1, K+2)])\n",
    "\n",
    "# 3. Some (but not all) clients have been served before time t.\n",
    "@cache\n",
    "def q(diff, z, v, t):\n",
    "    \"\"\"\n",
    "    Computes P(N_t = l, B_t < v | N_0 = k, Z_0 = z).\n",
    "    Note: diff = k-l.\n",
    "    \"\"\"\n",
    "\n",
    "    q = 0\n",
    "\n",
    "    if z <= K:\n",
    "        for m in range(diff+2):\n",
    "            I_klmz = (diff + 1) * K - z + m + 1\n",
    "            E = p * psi(v, t, I_klmz, I_klmz+K) + (1 - p) * psi(v, t, I_klmz, I_klmz+K+1)\n",
    "            q += binom.pmf(m, diff+1, 1-p) * E\n",
    "\n",
    "    elif z == K + 1:\n",
    "        for m in range(diff+1):\n",
    "            I_klm = diff * K + m + 1\n",
    "            E = p * psi(v, t, I_klm, I_klm+K) + (1 - p) * psi(v, t, I_klm, I_klm+K+1)\n",
    "            q += binom.pmf(m, diff, 1-p) * E\n",
    "\n",
    "    return q\n",
    "\n",
    "@cache\n",
    "def q_bar(diff, m, j, t):\n",
    "    \"\"\"\n",
    "    Approximates P(N_{t*Delta} = l, B_{t*Delta} in d(j*Delta) | N_0 = k, B_0 = m * Delta).\n",
    "    Note: diff = k-l.\n",
    "    \"\"\"\n",
    "    \n",
    "    lower = min(max(0, (j - 0.5) * Delta), t*Delta)\n",
    "    upper = min(max(0, (j + 0.5) * Delta), t*Delta)\n",
    "    \n",
    "    q_bar = sum([gamma(z, m*Delta) * (q(diff, z, upper, t*Delta) - q(diff, z, lower, t*Delta)) for z in range(1, K+2)])\n",
    "    \n",
    "    return q_bar\n",
    "    \n",
    "\n",
    "### cost function\n",
    "\n",
    "@cache\n",
    "def cost_we(t, i, k, m):\n",
    "    \"\"\"Computes (approximately) the cost when\n",
    "    t/Delta is the next interarrival time.\"\"\"\n",
    "        \n",
    "    cost = omega * f_circ(k, m*Delta, t*Delta) + (1 - omega) * h_circ(k, m*Delta)\n",
    "    cost += P_down(k, m*Delta, t*Delta) * xi_we(i+1, 1, 0) + P_up(k, m*Delta, t*Delta) * xi_we(i+1, k+1, m+t) #### \n",
    "    \n",
    "#     print('f_circ(k, m*Delta, t*Delta)', f_circ(k, m*Delta, t*Delta))\n",
    "#     print('h_circ(k, m*Delta)', h_circ(k, m*Delta))\n",
    "#     print('P_down(k, m*Delta, t*Delta)', P_down(k, m*Delta, t*Delta))\n",
    "#     print('xi_we(i+1, 1, 0)', xi_we(i+1, 1, 0))\n",
    "#     print('P_up(k, m*Delta, t*Delta', P_up(k, m*Delta, t*Delta))\n",
    "#     print('xi_we(i+1, k+1, m+t)', xi_we(i+1, k+1, m+t))\n",
    "\n",
    "    for l in range(2, k+1):\n",
    "        for j in range(t+1):\n",
    "            cost += q_bar(k-l, m, j, t) * xi_we(i+1, l, j)\n",
    "    \n",
    "    return cost\n"
   ]
  },
  {
   "cell_type": "code",
   "execution_count": 9,
   "metadata": {
    "ExecuteTime": {
     "end_time": "2020-11-18T15:02:58.548239Z",
     "start_time": "2020-11-18T15:02:58.536270Z"
    }
   },
   "outputs": [
    {
     "data": {
      "text/plain": [
       "1.769113842979593"
      ]
     },
     "execution_count": 9,
     "metadata": {},
     "output_type": "execute_result"
    }
   ],
   "source": [
    "k, u = 3, 4\n",
    "\n",
    "h_circ(k, u)"
   ]
  },
  {
   "cell_type": "code",
   "execution_count": 15,
   "metadata": {
    "ExecuteTime": {
     "end_time": "2020-11-18T15:38:44.382082Z",
     "start_time": "2020-11-18T15:38:44.378126Z"
    }
   },
   "outputs": [],
   "source": [
    "i = 2\n",
    "k = 1\n",
    "m = 1\n",
    "t = 9\n",
    "\n",
    "# cost_we(t, i, k, m)\n",
    "\n",
    "# for t in range(1,21):\n",
    "#     print(t, cost_we(t, i, k, m) - cost_we(t-1, i, k, m))"
   ]
  },
  {
   "cell_type": "code",
   "execution_count": 36,
   "metadata": {
    "ExecuteTime": {
     "end_time": "2020-11-19T23:03:15.259888Z",
     "start_time": "2020-11-19T23:03:15.252904Z"
    }
   },
   "outputs": [
    {
     "data": {
      "text/plain": [
       "0.4362059564857282"
      ]
     },
     "execution_count": 36,
     "metadata": {},
     "output_type": "execute_result"
    }
   ],
   "source": [
    "(1 - 0.5) * h_circ(2, 1)"
   ]
  },
  {
   "cell_type": "code",
   "execution_count": 43,
   "metadata": {
    "ExecuteTime": {
     "end_time": "2020-11-19T23:04:17.065604Z",
     "start_time": "2020-11-19T23:04:17.058657Z"
    }
   },
   "outputs": [
    {
     "name": "stdout",
     "output_type": "stream",
     "text": [
      "i: 3, k: 2, m: 10\n"
     ]
    },
    {
     "data": {
      "text/plain": [
       "0.4362059564857282"
      ]
     },
     "execution_count": 43,
     "metadata": {},
     "output_type": "execute_result"
    }
   ],
   "source": [
    "xi_we(3,2,10) #### 0.4362059564857282"
   ]
  },
  {
   "cell_type": "code",
   "execution_count": 16,
   "metadata": {
    "ExecuteTime": {
     "end_time": "2020-11-19T22:56:07.731202Z",
     "start_time": "2020-11-19T22:56:07.724218Z"
    }
   },
   "outputs": [
    {
     "data": {
      "text/plain": [
       "0.4362059564857282"
      ]
     },
     "execution_count": 16,
     "metadata": {},
     "output_type": "execute_result"
    }
   ],
   "source": [
    "i = 3\n",
    "k = 2\n",
    "m = 1\n",
    "t = 9\n",
    "\n",
    "(1 - omega) * h_circ(k, (m+t)*Delta)\n"
   ]
  },
  {
   "cell_type": "code",
   "execution_count": null,
   "metadata": {},
   "outputs": [],
   "source": [
    "# def xi_we(i, k, m):\n",
    "#     \"\"\"Implements the Weighted Erlang Case.\"\"\"\n",
    "    \n",
    "#     # truncate time in service m\n",
    "#     if m >= t_MAX:\n",
    "#         m_new = t_MAX-1\n",
    "#     else:\n",
    "#         m_new = m\n",
    "    \n",
    "#     if xi_matrix[i-1][k-1][m]: # retrieve stored value\n",
    "#         pass\n",
    "#     elif i == n: # initial condition\n",
    "#         xi_matrix[i-1][k-1][m] = (1 - omega) * h_circ(k, m*Delta)        \n",
    "#     else:\n",
    "        \n",
    "#         # initial guess\n",
    "#         if m > 0 and minima[i-1][k-1][m-1]:\n",
    "#             t_guess = minima[i-1][k-1][m-1]\n",
    "#         else:\n",
    "#             t_guess = eval(old_minima[i-1][k-1])[m]\n",
    "        \n",
    "#         cost_guess = cost_we(t_guess, i, k, m)\n",
    "#         t_new = t_guess\n",
    "        \n",
    "#         # walk to the left\n",
    "#         while True:\n",
    "#             t_new -= 1\n",
    "#             cost_new = cost_we(t_new, i, k, m)\n",
    "\n",
    "#             if cost_new < cost_guess:\n",
    "#                 t_guess = t_new\n",
    "#                 cost_guess = cost_new\n",
    "#             elif cost_new > cost_guess:\n",
    "#                 break\n",
    "        \n",
    "#         # walk to the right\n",
    "#         while True:\n",
    "#             t_new += 1\n",
    "#             cost_new = cost_we(t_new, i, k, m)\n",
    "\n",
    "#             if cost_new < cost_guess:\n",
    "#                 t_guess = t_new\n",
    "#                 cost_guess = cost_new\n",
    "#             elif cost_new > cost_guess:\n",
    "#                 break\n",
    "\n",
    "#         xi_matrix[i-1][k-1][m] = cost_guess\n",
    "#         minima[i-1][k-1][m] = t_guess\n",
    "\n",
    "#         print(\"end\",i,k,m,t_guess,cost_guess)\n",
    "\n",
    "#     return xi_matrix[i-1][k-1][m]       \n"
   ]
  },
  {
   "cell_type": "code",
   "execution_count": 8,
   "metadata": {
    "ExecuteTime": {
     "end_time": "2020-12-10T13:27:43.976383Z",
     "start_time": "2020-12-10T13:27:43.965413Z"
    }
   },
   "outputs": [],
   "source": [
    "def xi_we(i, k, m):\n",
    "    \"\"\"Implements the Weighted Erlang Case.\"\"\"\n",
    "    \n",
    "    if m <= t_MAX and xi_matrix[i-1][k-1][m]: # retrieve stored value\n",
    "        pass\n",
    "    elif i == n: # initial condition\n",
    "        if m <= t_MAX:\n",
    "            xi_matrix[i-1][k-1][m] = (1 - omega) * h_circ(k, m*Delta)\n",
    "        else:\n",
    "            return (1 - omega) * h_circ(k, m*Delta)\n",
    "    else:\n",
    "        if m <= t_MAX:\n",
    "            # initial guess\n",
    "            if m > 0 and minima[i-1][k-1][m-1]:\n",
    "                t_guess = minima[i-1][k-1][m-1]\n",
    "            else:\n",
    "                t_guess = eval(old_minima[i-1][k-1])[m]\n",
    "        else:\n",
    "            if minima[i-1][k-1][t_MAX]:\n",
    "                t_guess = minima[i-1][k-1][t_MAX]\n",
    "            else:\n",
    "                t_guess = old_minima[i-1][k-1][t_MAX]\n",
    "\n",
    "        cost_guess = cost_we(t_guess, i, k, m)\n",
    "        t_new = t_guess\n",
    "        \n",
    "        # walk to the left\n",
    "        while True:\n",
    "            t_new -= 1\n",
    "            cost_new = cost_we(t_new, i, k, m)\n",
    "\n",
    "            if cost_new < cost_guess:\n",
    "                t_guess = t_new\n",
    "                cost_guess = cost_new\n",
    "            elif cost_new > cost_guess:\n",
    "                break\n",
    "        \n",
    "        # walk to the right\n",
    "        while True:\n",
    "            t_new += 1\n",
    "            cost_new = cost_we(t_new, i, k, m)\n",
    "\n",
    "            if cost_new < cost_guess:\n",
    "                t_guess = t_new\n",
    "                cost_guess = cost_new\n",
    "            elif cost_new > cost_guess:\n",
    "                break\n",
    "\n",
    "        if m <= t_MAX:            \n",
    "            xi_matrix[i-1][k-1][m] = cost_guess\n",
    "            minima[i-1][k-1][m] = t_guess\n",
    "        else:\n",
    "            return cost_guess\n",
    "        \n",
    "        if m <= 2:\n",
    "            print(\"end\",i,k,m,t_guess,cost_guess)\n",
    "\n",
    "    return xi_matrix[i-1][k-1][m]       \n"
   ]
  },
  {
   "cell_type": "code",
   "execution_count": 5,
   "metadata": {
    "ExecuteTime": {
     "end_time": "2020-12-10T13:27:33.097467Z",
     "start_time": "2020-12-10T13:27:33.092481Z"
    }
   },
   "outputs": [],
   "source": [
    "SCV = 0.6\n",
    "\n",
    "K, p, mu = SCV_to_params(SCV)\n",
    "\n",
    "Delta = 0.01\n",
    "# epsilon = 0.005\n",
    "t_MAX = int(5/Delta) # int(5/Delta)\n",
    "n = 5\n",
    "omega = 0.5\n"
   ]
  },
  {
   "cell_type": "code",
   "execution_count": 6,
   "metadata": {
    "ExecuteTime": {
     "end_time": "2020-12-10T13:27:35.619724Z",
     "start_time": "2020-12-10T13:27:35.348449Z"
    }
   },
   "outputs": [
    {
     "name": "stdout",
     "output_type": "stream",
     "text": [
      "\n",
      "Cost: 1.6537135578121354\n"
     ]
    }
   ],
   "source": [
    "import csv\n",
    "\n",
    "C_matrix = [[None for k in range(n)] for i in range(n)]\n",
    "minima = [[None for k in range(n-1)] for i in range(n-1)]\n",
    "\n",
    "# compute values\n",
    "for i in range(1,n+1):\n",
    "    for k in range(1,i+1):\n",
    "        Cstar_homexp(i,k,mu=1,omega=omega,n=n,C_matrix=C_matrix)\n",
    "\n",
    "# # cost\n",
    "print(\"\\nCost:\", C_matrix[0][0])\n",
    "\n",
    "new_minima = [[[None for m in range(t_MAX+1)] for k in range(n-1)] for i in range(n-1)]\n",
    "\n",
    "for i in range(n-1):\n",
    "    for k in range(i+1):\n",
    "        new_minima[i][k] = [int(round(minima[i][k],2) / Delta)] * t_MAX * 2\n",
    "\n",
    "with open(f'SCV_1.00_omega_{omega}_minima.csv','w', newline='') as myfile:\n",
    "    out = csv.writer(myfile)\n",
    "    out.writerows(new_minima)\n",
    "\n",
    "with open(f'SCV_1.00_omega_{omega:.1f}_minima.csv','r') as csvfile:\n",
    "    reader = csv.reader(csvfile)\n",
    "    old_minima = list(reader)"
   ]
  },
  {
   "cell_type": "code",
   "execution_count": 9,
   "metadata": {
    "ExecuteTime": {
     "end_time": "2020-12-10T13:31:01.021756Z",
     "start_time": "2020-12-10T13:27:47.240657Z"
    },
    "scrolled": false
   },
   "outputs": [
    {
     "name": "stdout",
     "output_type": "stream",
     "text": [
      "i = 5 k = 1\n",
      "i = 5 k = 2\n",
      "i = 5 k = 3\n",
      "i = 5 k = 4\n",
      "i = 5 k = 5\n",
      "i = 4 k = 1\n",
      "end 4 1 0 82 0.2873682111225399\n",
      "end 4 1 1 81 0.28693974485785917\n",
      "end 4 1 2 80 0.28650344978448095\n",
      "i = 4 k = 2\n",
      "end 4 2 0 182 0.9215541171307058\n",
      "end 4 2 1 181 0.9180487498596738\n",
      "end 4 2 2 180 0.914631314276397\n",
      "i = 4 k = 3\n",
      "end 4 3 0 281 1.5225754902496644\n",
      "end 4 3 1 281 1.5191277971145967\n",
      "end 4 3 2 280 1.5157679832191553\n",
      "i = 4 k = 4\n",
      "end 4 4 0 381 2.1070594237343347\n",
      "end 4 4 1 381 2.1036447710622146\n",
      "end 4 4 2 380 2.1003175119211934\n",
      "i = 3 k = 1\n",
      "end 3 1 0 94 0.6263562174481256\n",
      "end 3 1 1 93 0.6258978562726628\n",
      "end 3 1 2 92 0.6254298032627335\n",
      "i = 3 k = 2\n",
      "end 3 2 0 197 1.2736796408723197\n",
      "end 3 2 1 197 1.2701612595145089\n",
      "end 3 2 2 196 1.2667205384834836\n",
      "i = 3 k = 3\n",
      "end 3 3 0 300 1.8842402297082577\n",
      "end 3 3 1 299 1.880782121602777\n",
      "end 3 3 2 299 1.8774064863218618\n",
      "i = 2 k = 1\n",
      "end 2 1 0 95 0.9701097779289116\n",
      "end 2 1 1 94 0.9696505804090179\n",
      "end 2 1 2 93 0.9691816389343737\n",
      "i = 2 k = 2\n",
      "end 2 2 0 199 1.6185901568300645\n",
      "end 2 2 1 198 1.6150664129100896\n",
      "end 2 2 2 197 1.611629909342177\n",
      "i = 1 k = 1\n",
      "end 1 1 0 95 1.3142789413749045\n",
      "end 1 1 1 94 1.3138212264456954\n",
      "end 1 1 2 93 1.3133538599555434\n"
     ]
    }
   ],
   "source": [
    "xi_matrix = [[[None for m in range(t_MAX+1)] for k in range(i+1)] for i in range(n)]\n",
    "minima = [[[None for m in range(t_MAX+1)] for k in range(i+1)] for i in range(n)]\n",
    "\n",
    "for i in np.arange(n,0,-1):\n",
    "    for k in range(1,i+1):\n",
    "        print(\"i =\",i,\"k =\",k)\n",
    "        for m in range(t_MAX+1):\n",
    "            xi_we(i,k,m)"
   ]
  },
  {
   "cell_type": "code",
   "execution_count": 15,
   "metadata": {
    "ExecuteTime": {
     "end_time": "2020-11-18T15:05:17.202298Z",
     "start_time": "2020-11-18T15:05:17.197278Z"
    }
   },
   "outputs": [
    {
     "name": "stdout",
     "output_type": "stream",
     "text": [
      "1.4811601582524796\n",
      "None\n"
     ]
    }
   ],
   "source": [
    "i, k, m = 5, 4, 2\n",
    "\n",
    "print(xi_we(i,k,m))\n",
    "print(minima[i-1][k-1][m])"
   ]
  },
  {
   "cell_type": "code",
   "execution_count": null,
   "metadata": {},
   "outputs": [],
   "source": []
  },
  {
   "cell_type": "markdown",
   "metadata": {},
   "source": [
    "We proceed by analyzing the second case, i.e., the hyperexponential case.\n",
    "\n",
    "### Hyperexponential Distribution\n",
    "\n",
    "In this case the service times $B_i$ are independent and distributed as $B$, where $B$ equals with probability $p\\in [0,1]$ an exponentially distributed random variable with mean $\\mu_1^{-1}$, and with probability $1-p$ an exponentially distributed random variable with mean $\\mu_{2}^{-1}$. The following recursion can be derived from the thesis.\n",
    "\n",
    "<div class=\"alert alert-warning\">\n",
    "<b>Theorem 3.19 (discrete version).</b>\n",
    "For $i=1,\\dots,n-1$, $k=1,\\dots,i$, and $m\\in\\mathbb{N}_0$,\n",
    "\\[\n",
    "\\xi_i(k,m) = \\inf_{t\\in \\mathbb{N}_0}\\Bigg(\\omega \\bar{f}^{\\circ}_{k,m\\Delta}(t\\Delta) \n",
    "+ (1 - \\omega)\\bar{h}^{\\circ}_{k,m\\Delta} + \\sum_{\\ell=2}^{k}\\sum_{j=0}^{t}\\bar{q}_{k\\ell,mj}(t)\\xi_{i+1}(\\ell,j)\n",
    "+ P^{\\downarrow}_{k,m\\Delta}(t\\Delta)\\xi_{i+1}(1,0) + P^{\\uparrow}_{k,m\\Delta}(t\\Delta)\\xi_{i+1}(k+1,m+t) \\Bigg),\n",
    "\\]\n",
    "whereas, for $k=1,\\dots,n$ and $m \\in \\mathbb{N}_0$,\n",
    "\\[\n",
    "\\xi_n(k,m) = (1 - \\omega)\\bar{h}^{\\circ}_{k,m\\Delta}.\n",
    "\\]\n",
    "</div>\n",
    "\n",
    "Below is our implementation."
   ]
  },
  {
   "cell_type": "code",
   "execution_count": 8,
   "metadata": {
    "ExecuteTime": {
     "end_time": "2020-12-13T16:49:54.096228Z",
     "start_time": "2020-12-13T16:49:54.068303Z"
    }
   },
   "outputs": [],
   "source": [
    "### helper functions\n",
    "\n",
    "# @cache\n",
    "def gamma(z, u):\n",
    "    if z == 1:\n",
    "        return p * np.exp(-mu1 * u) / B_sf(u)\n",
    "    elif z == 2:\n",
    "        return (1 - p) * np.exp(-mu2 * u) / B_sf(u)\n",
    "\n",
    "# @cache\n",
    "def B_sf(t):\n",
    "    return p * np.exp(-mu1 * t) + (1 - p) * np.exp(-mu2 * t) ### gamma_circ\n",
    "\n",
    "# @cache\n",
    "def zeta(alpha, t, k):\n",
    "    if not k:\n",
    "        return (np.exp(alpha * t) - 1) / alpha\n",
    "    else:\n",
    "        return ((t ** k) * np.exp(alpha * t) - k * zeta(alpha, t, k-1)) / alpha\n",
    "\n",
    "# @cache\n",
    "def rho(t,m,k):\n",
    "    if not k:\n",
    "        return np.exp(-mu2 * t) * (mu1 ** m) / ((mu1 - mu2) ** (m + 1)) * erlang.cdf(t, m+1, scale=1/(mu1 - mu2))\n",
    "    elif not m:\n",
    "        return np.exp(-mu1 * t) * (mu2 ** k) / math.factorial(k) * zeta(mu1-mu2, t, k)\n",
    "    else:\n",
    "        return (mu1 * rho(t, m-1, k) - mu2 * rho(t, m, k-1)) / (mu1 - mu2)\n",
    "\n",
    "# @cache\n",
    "def Psi(t,m,k):\n",
    "    if not m:\n",
    "        return erlang.cdf(t, k, scale=1/mu2)\n",
    "    else:\n",
    "        return erlang.cdf(t, m, scale=1/mu1) - mu1 * sum([rho(t, m-1, i) for i in range(k)])\n",
    "\n",
    "# @cache\n",
    "def chi(v, t, z, k, l):\n",
    "    \"\"\"\n",
    "    Computes P(t-v < Erl(k,mu1) + Erl(l,mu2) < t, Erl(k,mu1) + Erl(l,mu2) + E(1,mu_z) > t),\n",
    "    where Erl(k,mu1) and Erl(l,mu2) are independent.\n",
    "    \"\"\"\n",
    "        \n",
    "    if z == 1:\n",
    "        \n",
    "        if not k and l:\n",
    "            return np.exp(-mu1 * t) * ((mu2) ** l) \\\n",
    "                        * (zeta(mu1-mu2, t, l-1) - zeta(mu1-mu2, t-v, l-1)) / math.factorial(l-1)\n",
    "        elif k and not l:\n",
    "            return poisson.pmf(k, mu1*t) * binom.sf(0, k, v/t)\n",
    "        else:\n",
    "            return mu2 * (rho(t, k, l-1) - np.exp(-mu1 * v) * rho(t-v, k, l-1))\n",
    "    \n",
    "    elif z == 2:\n",
    "        \n",
    "        if not k and l:\n",
    "            return poisson.pmf(l, mu2*t) * binom.sf(0, l, v/t)\n",
    "        elif k and not l:\n",
    "            return np.exp(-mu2 * t) * (erlang.cdf(t, k, scale=1/(mu1-mu2)) - erlang.cdf(t-v, k, scale=1/(mu1-mu2))) \\\n",
    "                        * (mu1 / (mu1 - mu2)) ** k\n",
    "        else:\n",
    "            return mu1 * (rho(t, k-1, l) - np.exp(-mu2 * v) * rho(t-v, k-1, l))\n",
    "\n",
    "# @cache    \n",
    "def sigma(t, m, k):\n",
    "    \n",
    "    if not k:\n",
    "        return t * erlang.cdf(t, m, scale=1/mu1) - (m / mu1) * erlang.cdf(t, m+1, scale=1/mu1)\n",
    "    elif not m:\n",
    "        return t * erlang.cdf(t, k, scale=1/mu2) - (k / mu2) * erlang.cdf(t, k+1, scale=1/mu2)\n",
    "    else:\n",
    "        return (t - k / mu2) * erlang.cdf(t, m, scale=1/mu1) - (m / mu1) * erlang.cdf(t, m+1, scale=1/mu1) \\\n",
    "                    + (mu1 / mu2) * sum([(k - i) * rho(t, m-1, i) for i in range(k)])\n",
    "\n",
    "# @cache\n",
    "def f_bar(k, z, t):\n",
    "    \"\"\"Computes the mean idle time given (N_0, Z_0) = (k,z).\"\"\"\n",
    "    \n",
    "    if z == 1:\n",
    "        return sum([binom.pmf(m, k-1, p) * sigma(t, m+1, k-1-m) for m in range(k)])\n",
    "    elif z == 2:\n",
    "        return sum([binom.pmf(m, k-1, p) * sigma(t, m, k-m) for m in range(k)])\n",
    "\n",
    "# @cache\n",
    "def h_bar(k, z):\n",
    "    \"\"\"Computes the mean waiting time given (N_0, Z_0) = (k,z).\"\"\"\n",
    "    \n",
    "    if k == 1:\n",
    "        return 0\n",
    "    else:\n",
    "        if z == 1:\n",
    "            return (k-2) + (1/mu1)\n",
    "        elif z == 2:\n",
    "            return (k-2) + (1/mu2)\n",
    "\n",
    "# @cache\n",
    "def f_circ(k, u, t):\n",
    "    \"\"\"Computes the mean idle time given (N_0, B_0) = (k,u).\"\"\"\n",
    "    return gamma(1, u) * f_bar(k, 1, t) + gamma(2, u) * f_bar(k, 2, t)\n",
    "\n",
    "# @cache\n",
    "def h_circ(k, u):\n",
    "    \"\"\"Computes the mean waiting time given (N_0, B_0) = (k,u).\"\"\"\n",
    "    return gamma(1, u) * h_bar(k, 1) + gamma(2, u) * h_bar(k, 2)\n",
    "\n",
    "    \n",
    "### transition probabilities\n",
    "\n",
    "# 1. No client has been served before time t.\n",
    "# @cache\n",
    "def P_up(k, u, t):\n",
    "    \"\"\"Computes P(N_t- = k | N_0 = k, B_0 = u).\"\"\"\n",
    "    return B_sf(u + t) / B_sf(u)\n",
    "\n",
    "# 2. All clients have been served before time t.\n",
    "# @cache\n",
    "def P_down(k, u, t):\n",
    "    \"\"\"Computes P(N_t- = 0 | N_0 = k, B_0 = u).\"\"\"\n",
    "    return sum([binom.pmf(m, k-1, p) * (Psi(t, m+1, k-1-m) * gamma(1, u) \\\n",
    "                        + Psi(t, m, k-m) * gamma(2, u)) for m in range(k)])\n",
    "\n",
    "# 3. Some (but not all) clients have been served before time t.\n",
    "# @cache\n",
    "def q(diff, z, v, t):\n",
    "    \"\"\"\n",
    "    Computes P(N_t = l, B_t < v | N_0 = k, Z_0 = z).\n",
    "    Note: diff = k-l.\n",
    "    \"\"\"\n",
    "\n",
    "    if z == 1:\n",
    "        return sum([binom.pmf(m, diff, p) * (p * chi(v, t, 1, m+1, diff-m) \\\n",
    "                        + (1 - p) * chi(v, t, 2, m+1, diff-m)) for m in range(diff+1)])\n",
    "    elif z == 2:\n",
    "        return sum([binom.pmf(m, diff, p) * (p * chi(v, t, 1, m, diff-m+1) \\\n",
    "                        + (1 - p) * chi(v, t, 2, m, diff-m+1)) for m in range(diff+1)])\n",
    "\n",
    "# @cache\n",
    "def q_bar(diff, m, j, t):\n",
    "    \"\"\"\n",
    "    Approximates P(N_{t*Delta} = l, B_{t*Delta} in d(j*Delta) | N_0 = k, B_0 = m * Delta).\n",
    "    Note: diff = k-l.\n",
    "    \"\"\"\n",
    "    \n",
    "    lower = min(max(0, (j - 0.5) * Delta), t*Delta)\n",
    "    upper = min(max(0, (j + 0.5) * Delta), t*Delta)\n",
    "    \n",
    "    q1_low = q(diff, 1, lower, t*Delta)\n",
    "    q1_upp = q(diff, 1, upper, t*Delta)\n",
    "    q2_low = q(diff, 2, lower, t*Delta)\n",
    "    q2_upp = q(diff, 2, upper, t*Delta)\n",
    "    \n",
    "    return gamma(1, m*Delta) * (q1_upp - q1_low) + gamma(2, m*Delta) * (q2_upp - q2_low)\n",
    "\n",
    "\n",
    "### cost function\n",
    "\n",
    "# @cache\n",
    "def cost_he(t, i, k, m):\n",
    "    \"\"\"\n",
    "    Computes (approximately) the cost when\n",
    "    t/Delta is the next interarrival time.\n",
    "    \"\"\"\n",
    "\n",
    "    cost = omega * f_circ(k, m*Delta, t*Delta) + (1 - omega) * h_circ(k, m*Delta)\n",
    "    cost += P_down(k, m*Delta, t*Delta) * xi_he(i+1, 1, 0) + P_up(k, m*Delta, t*Delta) * xi_he(i+1, k+1, m+t)\n",
    "\n",
    "    for l in range(2, k+1):\n",
    "        for j in range(t+1):\n",
    "\n",
    "            cost_diff = q_bar(k-l, m, j, t) * xi_he(i+1, l, j)\n",
    "#             if cost_diff > 1e-10:\n",
    "            cost += cost_diff\n",
    "\n",
    "    return cost\n"
   ]
  },
  {
   "cell_type": "code",
   "execution_count": 25,
   "metadata": {
    "ExecuteTime": {
     "end_time": "2020-12-13T17:03:09.460950Z",
     "start_time": "2020-12-13T17:03:09.455963Z"
    }
   },
   "outputs": [],
   "source": [
    "# k = 2\n",
    "\n",
    "# np.exp(-mu1 * t) * (mu2 ** k) / math.factorial(k) * zeta(mu1-mu2, t, k)"
   ]
  },
  {
   "cell_type": "code",
   "execution_count": 27,
   "metadata": {
    "ExecuteTime": {
     "end_time": "2020-12-13T17:03:13.146093Z",
     "start_time": "2020-12-13T17:03:13.142105Z"
    }
   },
   "outputs": [],
   "source": [
    "# (np.exp(-mu1 * t) * (mu2 ** k) / (mu2 - mu1) ** (k+1)) * \\\n",
    "#     (1 - sum([np.exp((mu1 - mu2) * t) * ((((mu2 - mu1) * t) ** i) / math.factorial(i)) for i in range(k+1)]))"
   ]
  },
  {
   "cell_type": "code",
   "execution_count": 57,
   "metadata": {
    "ExecuteTime": {
     "end_time": "2020-12-13T17:36:34.984491Z",
     "start_time": "2020-12-13T17:36:34.978508Z"
    }
   },
   "outputs": [
    {
     "data": {
      "text/plain": [
       "0.0006259664048255367"
      ]
     },
     "execution_count": 57,
     "metadata": {},
     "output_type": "execute_result"
    }
   ],
   "source": [
    "l = 2\n",
    "\n",
    "# chi_1[0,l]\n",
    "np.exp(-mu1 * t) * ((mu2) ** l) \\\n",
    "                        * (zeta(mu1-mu2, t, l-1) - zeta(mu1-mu2, t-v, l-1)) / math.factorial(l-1)"
   ]
  },
  {
   "cell_type": "code",
   "execution_count": 58,
   "metadata": {
    "ExecuteTime": {
     "end_time": "2020-12-13T17:36:35.499116Z",
     "start_time": "2020-12-13T17:36:35.492135Z"
    }
   },
   "outputs": [
    {
     "data": {
      "text/plain": [
       "0.0006259664048255289"
      ]
     },
     "execution_count": 58,
     "metadata": {},
     "output_type": "execute_result"
    }
   ],
   "source": [
    "(np.exp(-mu1 * t) * ((mu2 / (mu2 - mu1)) ** l)) * \\\n",
    "    (sum([np.exp(-(mu2-mu1)*(t-v)) * (((mu2 - mu1) * (t - v)) ** i) / math.factorial(i) for i in range(l)]) - \\\n",
    "    sum([np.exp(-(mu2-mu1)*t) * (((mu2 - mu1) * t) ** i) / math.factorial(i) for i in range(l)]))"
   ]
  },
  {
   "cell_type": "code",
   "execution_count": null,
   "metadata": {},
   "outputs": [],
   "source": []
  },
  {
   "cell_type": "code",
   "execution_count": null,
   "metadata": {},
   "outputs": [],
   "source": []
  },
  {
   "cell_type": "code",
   "execution_count": 19,
   "metadata": {
    "ExecuteTime": {
     "end_time": "2020-11-10T12:34:50.147356Z",
     "start_time": "2020-11-10T12:34:50.118440Z"
    }
   },
   "outputs": [
    {
     "data": {
      "text/plain": [
       "0.001414313797522792"
      ]
     },
     "execution_count": 19,
     "metadata": {},
     "output_type": "execute_result"
    }
   ],
   "source": [
    "f_circ(k, m*Delta, t*Delta)"
   ]
  },
  {
   "cell_type": "code",
   "execution_count": 20,
   "metadata": {
    "ExecuteTime": {
     "end_time": "2020-11-10T12:34:51.933383Z",
     "start_time": "2020-11-10T12:34:51.915479Z"
    }
   },
   "outputs": [
    {
     "data": {
      "text/plain": [
       "1.0"
      ]
     },
     "execution_count": 20,
     "metadata": {},
     "output_type": "execute_result"
    }
   ],
   "source": [
    "h_circ(k, m*Delta)"
   ]
  },
  {
   "cell_type": "code",
   "execution_count": 21,
   "metadata": {
    "ExecuteTime": {
     "end_time": "2020-11-10T12:34:53.239169Z",
     "start_time": "2020-11-10T12:34:53.222212Z"
    }
   },
   "outputs": [
    {
     "data": {
      "text/plain": [
       "0.020412354725205008"
      ]
     },
     "execution_count": 21,
     "metadata": {},
     "output_type": "execute_result"
    }
   ],
   "source": [
    "P_down(k, m*Delta, t*Delta)"
   ]
  },
  {
   "cell_type": "code",
   "execution_count": 23,
   "metadata": {
    "ExecuteTime": {
     "end_time": "2020-11-10T12:34:55.648154Z",
     "start_time": "2020-11-10T12:34:55.626193Z"
    }
   },
   "outputs": [
    {
     "data": {
      "text/plain": [
       "0.0"
      ]
     },
     "execution_count": 23,
     "metadata": {},
     "output_type": "execute_result"
    }
   ],
   "source": [
    "xi_he(i+1, 1, 0)"
   ]
  },
  {
   "cell_type": "code",
   "execution_count": 22,
   "metadata": {
    "ExecuteTime": {
     "end_time": "2020-11-10T12:34:54.408322Z",
     "start_time": "2020-11-10T12:34:54.385008Z"
    }
   },
   "outputs": [
    {
     "data": {
      "text/plain": [
       "0.8053247684339386"
      ]
     },
     "execution_count": 22,
     "metadata": {},
     "output_type": "execute_result"
    }
   ],
   "source": [
    "P_up(k, m*Delta, t*Delta)"
   ]
  },
  {
   "cell_type": "code",
   "execution_count": 24,
   "metadata": {
    "ExecuteTime": {
     "end_time": "2020-11-10T12:34:56.858732Z",
     "start_time": "2020-11-10T12:34:56.837032Z"
    }
   },
   "outputs": [
    {
     "data": {
      "text/plain": [
       "1.0092478449335704"
      ]
     },
     "execution_count": 24,
     "metadata": {},
     "output_type": "execute_result"
    }
   ],
   "source": [
    "xi_he(i+1, k+1, m+t)"
   ]
  },
  {
   "cell_type": "code",
   "execution_count": null,
   "metadata": {},
   "outputs": [],
   "source": []
  },
  {
   "cell_type": "code",
   "execution_count": 18,
   "metadata": {
    "ExecuteTime": {
     "end_time": "2020-11-10T12:32:38.808770Z",
     "start_time": "2020-11-10T12:32:38.781840Z"
    }
   },
   "outputs": [
    {
     "data": {
      "text/plain": [
       "1.3134794439123407"
      ]
     },
     "execution_count": 18,
     "metadata": {},
     "output_type": "execute_result"
    }
   ],
   "source": [
    "t = 2\n",
    "i = 4\n",
    "k = 2 ### k > 1\n",
    "m = 0\n",
    "\n",
    "cost_he(t,i,k,m)"
   ]
  },
  {
   "cell_type": "code",
   "execution_count": 175,
   "metadata": {
    "ExecuteTime": {
     "end_time": "2020-11-06T13:49:52.216590Z",
     "start_time": "2020-11-06T13:49:52.020633Z"
    }
   },
   "outputs": [
    {
     "data": {
      "text/plain": [
       "1.4692406777096875e-10"
      ]
     },
     "execution_count": 175,
     "metadata": {},
     "output_type": "execute_result"
    }
   ],
   "source": [
    "v = 1.3\n",
    "t = 2.8\n",
    "\n",
    "z = 2\n",
    "k = 4\n",
    "l = 0\n",
    "\n",
    "q(k-l,z,v,t) ### q hangt alleen af van k-l\n",
    "q_bar(k-l, v, v, t)"
   ]
  },
  {
   "cell_type": "code",
   "execution_count": 176,
   "metadata": {
    "ExecuteTime": {
     "end_time": "2020-11-06T13:49:54.095325Z",
     "start_time": "2020-11-06T13:49:54.071328Z"
    }
   },
   "outputs": [
    {
     "data": {
      "text/plain": [
       "0.35139047627887793"
      ]
     },
     "execution_count": 176,
     "metadata": {},
     "output_type": "execute_result"
    }
   ],
   "source": [
    "np.exp(-mu2 * t) * ((mu1 ** k) / math.factorial(k-1)) * (zeta(mu2 - mu1, t, k-1) - zeta(mu2 - mu1, t-v, k-1))"
   ]
  },
  {
   "cell_type": "code",
   "execution_count": 10,
   "metadata": {
    "ExecuteTime": {
     "end_time": "2020-12-13T16:50:04.844671Z",
     "start_time": "2020-12-13T16:50:04.831707Z"
    }
   },
   "outputs": [
    {
     "name": "stdout",
     "output_type": "stream",
     "text": [
      "0.06735885509069447\n",
      "0.019684231847361004\n",
      "0.020257934213589106\n",
      "0.06934130576431743\n"
     ]
    }
   ],
   "source": [
    "SCV = 2\n",
    "\n",
    "p, mu1, mu2 = SCV_to_params(SCV)\n",
    "\n",
    "n = 5\n",
    "\n",
    "v = 0.05\n",
    "t = 0.10\n",
    "\n",
    "print(chi(v,t,1,1,0)) ## 0.00776 (klopt)\n",
    "print(chi(v,t,1,0,1)) ## 0.02081 (FOUT) bij mij 0????\n",
    "\n",
    "print(chi(v,t,2,0,1)) ## 0.0021 (klopt)\n",
    "print(chi(v,t,2,1,0)) ## 0.0077 (klopt)"
   ]
  },
  {
   "cell_type": "code",
   "execution_count": 53,
   "metadata": {
    "ExecuteTime": {
     "end_time": "2020-12-13T13:53:15.424025Z",
     "start_time": "2020-12-13T13:53:15.416048Z"
    }
   },
   "outputs": [
    {
     "data": {
      "text/plain": [
       "-1.1547005383792515"
      ]
     },
     "execution_count": 53,
     "metadata": {},
     "output_type": "execute_result"
    }
   ],
   "source": [
    "mu2-mu1"
   ]
  },
  {
   "cell_type": "code",
   "execution_count": 78,
   "metadata": {
    "ExecuteTime": {
     "end_time": "2020-12-13T14:02:26.361971Z",
     "start_time": "2020-12-13T14:02:26.355386Z"
    }
   },
   "outputs": [
    {
     "data": {
      "text/plain": [
       "-0.5958713301520124"
      ]
     },
     "execution_count": 78,
     "metadata": {},
     "output_type": "execute_result"
    }
   ],
   "source": [
    "l = 1\n",
    "\n",
    "np.exp(-mu1 * t) * ((mu2 / (mu1 - mu2)) ** l) * \\\n",
    "    (\n",
    "        sum([np.exp(-(mu1-mu2)*(t-v)) * (((mu2 - mu1) * (t - v)) ** i) / math.factorial(i) for i in range(l)])) - \\\n",
    "        sum([np.exp(-(mu1-mu2)*t) * (((mu2 - mu1) * t) ** i) / math.factorial(i) for i in range(l)]\n",
    "    )\n"
   ]
  },
  {
   "cell_type": "code",
   "execution_count": 20,
   "metadata": {
    "ExecuteTime": {
     "end_time": "2020-12-13T11:13:18.882875Z",
     "start_time": "2020-12-13T11:13:18.866875Z"
    }
   },
   "outputs": [
    {
     "data": {
      "text/plain": [
       "0.002081754501324677"
      ]
     },
     "execution_count": 20,
     "metadata": {},
     "output_type": "execute_result"
    }
   ],
   "source": [
    "l = 1\n",
    "\n",
    "np.exp(-mu1 * t) * ((mu2 / (mu2 - mu1)) ** l) * \\\n",
    "        (1 - sum([np.exp(-(mu2-mu1)*t) * (((mu2 - mu1) * t) ** i) / math.factorial(i) for i in range(l)])) \\\n",
    "        - np.exp(-mu1*(t-v)) * ((mu2 / (mu2 - mu1)) ** l) * \\\n",
    "        (1 - sum([np.exp(-(mu2-mu1)*(t-v)) * (((mu2 - mu1) * (t - v)) ** i) / math.factorial(i) for i in range(l)]))\n"
   ]
  },
  {
   "cell_type": "code",
   "execution_count": null,
   "metadata": {},
   "outputs": [],
   "source": []
  },
  {
   "cell_type": "code",
   "execution_count": 5,
   "metadata": {
    "ExecuteTime": {
     "end_time": "2020-11-20T13:41:43.129481Z",
     "start_time": "2020-11-20T13:41:43.118511Z"
    },
    "code_folding": []
   },
   "outputs": [],
   "source": [
    "def xi_he(i, k, m):\n",
    "    \"\"\"Implements the Hyperexponential Case.\"\"\"\n",
    "        \n",
    "    # truncate time in service m\n",
    "    if m >= t_MAX:\n",
    "        m = t_MAX-1\n",
    "\n",
    "    if xi_matrix[i-1][k-1][m]: # retrieve stored value\n",
    "        pass\n",
    "    elif i == n: # initial condition\n",
    "        xi_matrix[i-1][k-1][m] = (1 - omega) * h_circ(k, m*Delta)\n",
    "    else:\n",
    "#         if m >= 2 and xi_matrix[i-1][k-1][m-1] and xi_matrix[i-1][k-1][m-2]:\n",
    "#             # fill all coming values with current cost & minimum\n",
    "#             if abs(xi_matrix[i-1][k-1][m-1] - xi_matrix[i-1][k-1][m-2]) < epsilon:\n",
    "#                 xi_matrix[i-1][k-1][m:] = [xi_matrix[i-1][k-1][m-1]] * (t_MAX - (m - 1))\n",
    "#                 minima[i-1][k-1][m:] = [minima[i-1][k-1][m-1]] * (t_MAX - (m - 1))\n",
    "\n",
    "#                 print(i,k,m,\"break\")\n",
    "#                 return xi_matrix[i-1][k-1][m]\n",
    "\n",
    "        # initial guess\n",
    "        if m > 0 and minima[i-1][k-1][m-1]:\n",
    "            t_guess = minima[i-1][k-1][m-1]\n",
    "        else:\n",
    "            t_guess = eval(old_minima[i-1][k-1])[m]\n",
    "        \n",
    "        cost_guess = cost_he(t_guess, i, k, m)\n",
    "\n",
    "        t_new = t_guess\n",
    "\n",
    "        # walk to the left\n",
    "        while True:\n",
    "            t_new -= 1\n",
    "            cost_new = cost_he(t_new, i, k, m)\n",
    "\n",
    "            if cost_new < cost_guess:\n",
    "                t_guess = t_new\n",
    "                cost_guess = cost_new\n",
    "            elif cost_new > cost_guess:\n",
    "                break\n",
    "        \n",
    "        # walk to the right\n",
    "        while True:\n",
    "            t_new += 1\n",
    "            cost_new = cost_he(t_new, i, k, m)\n",
    "\n",
    "            if cost_new < cost_guess:\n",
    "                t_guess = t_new\n",
    "                cost_guess = cost_new\n",
    "            elif cost_new > cost_guess:\n",
    "                break\n",
    "\n",
    "\n",
    "        xi_matrix[i-1][k-1][m] = cost_guess\n",
    "        minima[i-1][k-1][m] = t_guess\n",
    "\n",
    "        if m <= 20:\n",
    "            print(\"end\",i,k,m,t_guess,cost_guess)\n",
    "\n",
    "    return xi_matrix[i-1][k-1][m]\n",
    "    "
   ]
  },
  {
   "cell_type": "markdown",
   "metadata": {},
   "source": [
    "With this program, we can obtain dynamic schedules in the hyperexponential case:"
   ]
  },
  {
   "cell_type": "code",
   "execution_count": 6,
   "metadata": {
    "ExecuteTime": {
     "end_time": "2020-11-20T13:41:45.640298Z",
     "start_time": "2020-11-20T13:41:45.635315Z"
    }
   },
   "outputs": [],
   "source": [
    "SCV = 2.5\n",
    "\n",
    "p, mu1, mu2 = SCV_to_params(SCV)\n",
    "\n",
    "Delta = 0.01\n",
    "epsilon = 0.005\n",
    "t_MAX = int(5/Delta)\n",
    "n = 5\n",
    "omega = 0.5\n"
   ]
  },
  {
   "cell_type": "code",
   "execution_count": 7,
   "metadata": {
    "ExecuteTime": {
     "end_time": "2020-11-20T13:41:46.793695Z",
     "start_time": "2020-11-20T13:41:46.789711Z"
    }
   },
   "outputs": [],
   "source": [
    "import csv"
   ]
  },
  {
   "cell_type": "code",
   "execution_count": 8,
   "metadata": {
    "ExecuteTime": {
     "end_time": "2020-11-20T13:41:50.138040Z",
     "start_time": "2020-11-20T13:41:49.799913Z"
    }
   },
   "outputs": [
    {
     "name": "stdout",
     "output_type": "stream",
     "text": [
      "\n",
      "Cost: 1.6537135578121354\n"
     ]
    }
   ],
   "source": [
    "C_matrix = [[None for k in range(n)] for i in range(n)]\n",
    "minima = [[None for k in range(n-1)] for i in range(n-1)]\n",
    "\n",
    "# compute values\n",
    "for i in range(1,n+1):\n",
    "    for k in range(1,i+1):\n",
    "        Cstar_homexp(i,k,mu=1,omega=omega,n=n,C_matrix=C_matrix)\n",
    "\n",
    "# # cost\n",
    "print(\"\\nCost:\", C_matrix[0][0])\n",
    "\n",
    "new_minima = [[[None for m in range(t_MAX)] for k in range(n-1)] for i in range(n-1)]\n",
    "\n",
    "for i in range(n-1):\n",
    "    for k in range(i+1):\n",
    "        new_minima[i][k] = [int(round(minima[i][k],2) / Delta)] * t_MAX * 2\n",
    "\n",
    "with open(f'SCV_1.00_omega_{omega}_minima.csv','w', newline='') as myfile:\n",
    "    out = csv.writer(myfile)\n",
    "    out.writerows(new_minima)\n",
    "\n",
    "with open(f'SCV_1.00_omega_{omega:.1f}_minima.csv','r') as csvfile:\n",
    "    reader = csv.reader(csvfile)\n",
    "    old_minima = list(reader)"
   ]
  },
  {
   "cell_type": "code",
   "execution_count": 9,
   "metadata": {
    "ExecuteTime": {
     "end_time": "2020-11-20T13:41:51.137989Z",
     "start_time": "2020-11-20T13:41:51.133030Z"
    }
   },
   "outputs": [],
   "source": [
    "xi_matrix = [[[None for m in range(t_MAX)] for k in range(i+1)] for i in range(n)]\n",
    "minima = [[[None for m in range(t_MAX)] for k in range(i+1)] for i in range(n)]"
   ]
  },
  {
   "cell_type": "code",
   "execution_count": 13,
   "metadata": {
    "ExecuteTime": {
     "end_time": "2020-11-10T12:40:26.315678Z",
     "start_time": "2020-11-10T12:40:26.290921Z"
    }
   },
   "outputs": [
    {
     "name": "stdout",
     "output_type": "stream",
     "text": [
      "3 1 0 0.8132959054568288\n",
      "3 1 1 0.8180987817781893\n",
      "3 1 2 0.8229816100502851\n"
     ]
    }
   ],
   "source": [
    "# i = 3\n",
    "# k = 1\n",
    "# # m = 0\n",
    "\n",
    "# # for k in np.arange(1,5):\n",
    "# for m in np.arange(3):\n",
    "#     print(i,k,m,xi_he(i,k,m))"
   ]
  },
  {
   "cell_type": "code",
   "execution_count": 10,
   "metadata": {
    "ExecuteTime": {
     "end_time": "2020-11-20T13:50:07.770833Z",
     "start_time": "2020-11-20T13:41:52.795332Z"
    },
    "scrolled": false
   },
   "outputs": [
    {
     "name": "stdout",
     "output_type": "stream",
     "text": [
      "i = 5 k = 1\n",
      "i = 5 k = 2\n",
      "i = 5 k = 3\n",
      "i = 5 k = 4\n",
      "i = 5 k = 5\n",
      "i = 4 k = 1\n",
      "end 4 1 0 51 0.3892766899221483\n",
      "end 4 1 1 51 0.3911973982481302\n",
      "end 4 1 2 51 0.3931345451210404\n",
      "end 4 1 3 51 0.3950881743079189\n",
      "end 4 1 4 52 0.3970531180294289\n",
      "end 4 1 5 52 0.3990318573873012\n",
      "end 4 1 6 52 0.4010271309045299\n",
      "end 4 1 7 52 0.40303897351777573\n",
      "end 4 1 8 52 0.40506741788243716\n",
      "end 4 1 9 52 0.4071124943256763\n",
      "end 4 1 10 52 0.40917423079953014\n",
      "end 4 1 11 53 0.41125219958522147\n",
      "end 4 1 12 53 0.413338799081719\n",
      "end 4 1 13 53 0.41544205962772235\n",
      "end 4 1 14 53 0.41756199913540815\n",
      "end 4 1 15 53 0.4196986329203527\n",
      "end 4 1 16 53 0.42185197365599736\n",
      "end 4 1 17 53 0.42402203132842287\n",
      "end 4 1 18 54 0.42620767494452133\n",
      "end 4 1 19 54 0.42840208923310824\n",
      "end 4 1 20 54 0.4306131647817601\n",
      "i = 4 k = 2\n",
      "end 4 2 0 130 1.1468370277906883\n",
      "end 4 2 1 130 1.1507011357785257\n",
      "end 4 2 2 130 1.1545983150659638\n",
      "end 4 2 3 131 1.1585229327683013\n",
      "end 4 2 4 131 1.1624794775576734\n",
      "end 4 2 5 131 1.1664692858596253\n",
      "end 4 2 6 131 1.1704924326232622\n",
      "end 4 2 7 131 1.1745489882927163\n",
      "end 4 2 8 132 1.1786321496436372\n",
      "end 4 2 9 132 1.1827483470551852\n",
      "end 4 2 10 132 1.186898076697339\n",
      "end 4 2 11 132 1.1910813899554953\n",
      "end 4 2 12 133 1.1952958711794037\n",
      "end 4 2 13 133 1.1995388409749475\n",
      "end 4 2 14 133 1.2038154577339018\n",
      "end 4 2 15 133 1.208125752352837\n",
      "end 4 2 16 133 1.212469750398259\n",
      "end 4 2 17 134 1.2168400001932524\n",
      "end 4 2 18 134 1.2212434754533992\n",
      "end 4 2 19 134 1.2256806368692912\n",
      "end 4 2 20 134 1.2301514877761288\n",
      "i = 4 k = 3\n",
      "end 4 3 0 215 1.8581729374348546\n",
      "end 4 3 1 216 1.86187710291127\n",
      "end 4 3 2 216 1.8656068637406293\n",
      "end 4 3 3 216 1.8693683594321593\n",
      "end 4 3 4 216 1.8731616702081444\n",
      "end 4 3 5 217 1.876986012861089\n",
      "end 4 3 6 217 1.8808366852799365\n",
      "end 4 3 7 217 1.8847193343478463\n",
      "end 4 3 8 217 1.8886340230863694\n",
      "end 4 3 9 218 1.89257811354977\n",
      "end 4 3 10 218 1.8965503250009172\n",
      "end 4 3 11 218 1.9005546834195959\n",
      "end 4 3 12 218 1.9045912332370947\n",
      "end 4 3 13 219 1.9086543403627185\n",
      "end 4 3 14 219 1.9127484218635846\n",
      "end 4 3 15 219 1.916874743780492\n",
      "end 4 3 16 220 1.9210306804340052\n",
      "end 4 3 17 220 1.9252144025882583\n",
      "end 4 3 18 220 1.9294303678334177\n",
      "end 4 3 19 221 1.9336782289522347\n",
      "end 4 3 20 221 1.9379513673359576\n",
      "i = 4 k = 4\n",
      "end 4 4 0 305 2.541833980611242\n",
      "end 4 4 1 305 2.5454011683681097\n",
      "end 4 4 2 305 2.5489988862073303\n",
      "end 4 4 3 306 2.552626458280673\n",
      "end 4 4 4 306 2.556279652608573\n",
      "end 4 4 5 306 2.5599635601172697\n",
      "end 4 4 6 306 2.563678250009491\n",
      "end 4 4 7 307 2.567418605100593\n",
      "end 4 4 8 307 2.5711890195186644\n",
      "end 4 4 9 307 2.574990349169092\n",
      "end 4 4 10 308 2.578818278910557\n",
      "end 4 4 11 308 2.582675399568664\n",
      "end 4 4 12 308 2.5865635279679475\n",
      "end 4 4 13 309 2.5904785638204895\n",
      "end 4 4 14 309 2.5944224658507036\n",
      "end 4 4 15 309 2.598397425651064\n",
      "end 4 4 16 310 2.602398968225232\n",
      "end 4 4 17 310 2.6064295963977213\n",
      "end 4 4 18 310 2.610491287797124\n",
      "end 4 4 19 311 2.614578601489173\n",
      "end 4 4 20 311 2.6186957642183866\n",
      "i = 3 k = 1\n",
      "end 3 1 0 69 0.9495738420971059\n",
      "end 3 1 1 69 0.9526852388039216\n",
      "end 3 1 2 69 0.9558209407485092\n",
      "end 3 1 3 69 0.9589827936128631\n",
      "end 3 1 4 70 0.9621611962758998\n",
      "end 3 1 5 70 0.9653557595432427\n",
      "end 3 1 6 70 0.9685759256686399\n",
      "end 3 1 7 70 0.9718205010634928\n",
      "end 3 1 8 71 0.9750781615506714\n",
      "end 3 1 9 71 0.9783556016888837\n",
      "end 3 1 10 71 0.9816595531535486\n",
      "end 3 1 11 72 0.9849823442409033\n",
      "end 3 1 12 72 0.9883170386873309\n",
      "end 3 1 13 72 0.991677766246601\n",
      "end 3 1 14 72 0.9950613371377426\n",
      "end 3 1 15 73 0.9984547649262273\n",
      "end 3 1 16 73 1.0018713330479312\n",
      "end 3 1 17 73 1.0053112158891788\n",
      "end 3 1 18 74 1.008763138982413\n",
      "end 3 1 19 74 1.012234694566898\n",
      "end 3 1 20 74 1.0157293282444861\n",
      "i = 3 k = 2\n",
      "end 3 2 0 165 1.7864100801187974\n",
      "end 3 2 1 165 1.7908972986067602\n",
      "end 3 2 2 165 1.7954219423799442\n",
      "end 3 2 3 166 1.7999822358151456\n",
      "end 3 2 4 166 1.8045707636490196\n",
      "end 3 2 5 166 1.809196913907906\n",
      "end 3 2 6 167 1.8138578605228248\n",
      "end 3 2 7 167 1.8185480235329021\n",
      "end 3 2 8 167 1.823275808272421\n",
      "end 3 2 9 168 1.8280368989382172\n",
      "end 3 2 10 168 1.832828899228996\n",
      "end 3 2 11 168 1.8376580647561032\n",
      "end 3 2 12 169 1.8425189204720158\n",
      "end 3 2 13 169 1.8474122131231192\n",
      "end 3 2 14 170 1.8523397996712216\n",
      "end 3 2 15 170 1.8572908305810365\n",
      "end 3 2 16 170 1.8622797885766857\n",
      "end 3 2 17 171 1.8672982213601266\n",
      "end 3 2 18 171 1.8723508804602667\n",
      "end 3 2 19 172 1.8774408871959738\n",
      "end 3 2 20 172 1.8825569503919253\n",
      "i = 3 k = 3\n",
      "end 3 3 0 262 2.5440796214682533\n",
      "end 3 3 1 263 2.548184806418288\n",
      "end 3 3 2 263 2.5523197245921083\n",
      "end 3 3 3 263 2.556489576717037\n",
      "end 3 3 4 264 2.560691377267669\n",
      "end 3 3 5 264 2.564923392295268\n",
      "end 3 3 6 264 2.569190769641089\n",
      "end 3 3 7 265 2.5734885514465713\n",
      "end 3 3 8 265 2.5778182049222425\n",
      "end 3 3 9 265 2.582183010785078\n",
      "end 3 3 10 266 2.586576579195082\n",
      "end 3 3 11 266 2.5910036804271956\n",
      "end 3 3 12 267 2.5954654250539564\n",
      "end 3 3 13 267 2.599954750294519\n",
      "end 3 3 14 267 2.604479672467583\n",
      "end 3 3 15 268 2.609035593605502\n",
      "end 3 3 16 268 2.6136225964996775\n",
      "end 3 3 17 268 2.618245209474561\n",
      "end 3 3 18 269 2.622894382537872\n",
      "end 3 3 19 269 2.6275788335661816\n",
      "end 3 3 20 270 2.6322941788094436\n",
      "i = 2 k = 1\n",
      "end 2 1 0 75 1.5588953090301163\n",
      "end 2 1 1 75 1.5622766597766022\n",
      "end 2 1 2 75 1.5656809894068642\n",
      "end 2 1 3 76 1.5691073224604994\n",
      "end 2 1 4 76 1.5725452176867842\n",
      "end 2 1 5 76 1.5760093762807956\n",
      "end 2 1 6 77 1.579492448650593\n",
      "end 2 1 7 77 1.5829890893713137\n",
      "end 2 1 8 77 1.586509036700928\n",
      "end 2 1 9 78 1.5900484235824286\n",
      "end 2 1 10 78 1.5935997184927821\n",
      "end 2 1 11 78 1.5971763519738627\n",
      "end 2 1 12 79 1.600766716880622\n",
      "end 2 1 13 79 1.6043738621786485\n",
      "end 2 1 14 79 1.6080062746016983\n",
      "end 2 1 15 80 1.611644350071131\n",
      "end 2 1 16 80 1.6153059051995187\n",
      "end 2 1 17 81 1.6189849319310778\n",
      "end 2 1 18 81 1.622674962593625\n",
      "end 2 1 19 81 1.6263896623041463\n",
      "end 2 1 20 82 1.6301106992063656\n",
      "i = 2 k = 2\n",
      "end 2 2 0 175 2.4063727773366645\n",
      "end 2 2 1 175 2.4109248250230273\n",
      "end 2 2 2 175 2.415514225883361\n",
      "end 2 2 3 176 2.420134553302172\n",
      "end 2 2 4 176 2.4247889362276323\n",
      "end 2 2 5 176 2.429480965965977\n",
      "end 2 2 6 177 2.4342019752185347\n",
      "end 2 2 7 177 2.438959067057868\n",
      "end 2 2 8 178 2.443753403551615\n",
      "end 2 2 9 178 2.4485751804633593\n",
      "end 2 2 10 178 2.453435237916394\n",
      "end 2 2 11 179 2.4583291474381155\n",
      "end 2 2 12 179 2.463253911825902\n",
      "end 2 2 13 179 2.468216890372884\n",
      "end 2 2 14 180 2.4732097148031196\n",
      "end 2 2 15 180 2.4782374931028666\n",
      "end 2 2 16 181 2.4833018805731952\n",
      "end 2 2 17 181 2.4883941411458457\n",
      "end 2 2 18 181 2.4935244833085366\n",
      "end 2 2 19 182 2.4986861028303586\n",
      "end 2 2 20 182 2.503880794373194\n",
      "i = 1 k = 1\n",
      "end 1 1 0 75 2.174301751315047\n",
      "end 1 1 1 76 2.17771334444651\n",
      "end 1 1 2 76 2.1811443737863927\n",
      "end 1 1 3 76 2.184602008346885\n",
      "end 1 1 4 77 2.1880713048314986\n",
      "end 1 1 5 77 2.1915614542255057\n",
      "end 1 1 6 77 2.195076840829048\n",
      "end 1 1 7 78 2.1986017440660643\n",
      "end 1 1 8 78 2.2021488260580506\n",
      "end 1 1 9 78 2.2057198760141166\n",
      "end 1 1 10 79 2.2092985006388326\n",
      "end 1 1 11 79 2.212900301804197\n",
      "end 1 1 12 80 2.216522507929222\n",
      "end 1 1 13 80 2.2201548085265177\n",
      "end 1 1 14 80 2.223811599379833\n",
      "end 1 1 15 81 2.227480864771279\n",
      "end 1 1 16 81 2.231166490429105\n",
      "end 1 1 17 82 2.2348744003523717\n",
      "end 1 1 18 82 2.2385893886526604\n",
      "end 1 1 19 82 2.2423272538463648\n",
      "end 1 1 20 83 2.2460762391472944\n"
     ]
    }
   ],
   "source": [
    "xi_matrix = [[[None for m in range(t_MAX)] for k in range(i+1)] for i in range(n)]\n",
    "minima = [[[None for m in range(t_MAX)] for k in range(i+1)] for i in range(n)]\n",
    "\n",
    "for i in np.arange(n,0,-1):\n",
    "    for k in range(1,i+1):\n",
    "        print(\"i =\",i,\"k =\",k)\n",
    "        for m in range(101):\n",
    "            xi_he(i,k,m)"
   ]
  },
  {
   "cell_type": "code",
   "execution_count": 12,
   "metadata": {
    "ExecuteTime": {
     "end_time": "2020-11-18T13:09:31.234772Z",
     "start_time": "2020-11-18T13:09:31.225801Z"
    },
    "scrolled": false
   },
   "outputs": [
    {
     "data": {
      "text/plain": [
       "1.7547249323015766"
      ]
     },
     "execution_count": 12,
     "metadata": {},
     "output_type": "execute_result"
    }
   ],
   "source": [
    "xi_he(1,1,0)"
   ]
  },
  {
   "cell_type": "code",
   "execution_count": 13,
   "metadata": {
    "ExecuteTime": {
     "end_time": "2020-11-18T13:09:38.419563Z",
     "start_time": "2020-11-18T13:09:38.412581Z"
    }
   },
   "outputs": [
    {
     "name": "stdout",
     "output_type": "stream",
     "text": [
      "Function Summary\n",
      "gamma   :  9111836 hits                1000 misses            99.99% gain\n",
      "B_sf    :    27552 hits                1464 misses            94.95% gain\n",
      "zeta    :   199332 hits                3278 misses            98.38% gain\n",
      "rho     :   255033 hits                4973 misses            98.09% gain\n",
      "Psi     :    58020 hits                 812 misses            98.62% gain\n",
      "chi     :   128622 hits              525990 misses            19.65% gain\n",
      "sigma   :      328 hits                 812 misses            28.77% gain\n",
      "f_bar   :    27532 hits                 484 misses            98.27% gain\n",
      "h_bar   :     4990 hits                  10 misses            99.80% gain\n",
      "f_circ  :     1386 hits               14008 misses            9.00% gain\n",
      "h_circ  :    21548 hits                2500 misses            89.60% gain\n",
      "P_up    :     1386 hits               14008 misses            9.00% gain\n",
      "P_down  :     1386 hits               14008 misses            9.00% gain\n",
      "q       : 17843292 hits              198684 misses            98.90% gain\n",
      "q_bar   :      383 hits             4510494 misses            0.01% gain\n",
      "cost_he :     5010 hits               15394 misses            24.55% gain\n"
     ]
    }
   ],
   "source": [
    "print('Function Summary')\n",
    "functions = ['gamma', 'B_sf', 'zeta', 'rho', 'Psi', 'chi', 'sigma', 'f_bar', 'h_bar',\n",
    "             'f_circ', 'h_circ', 'P_up', 'P_down', 'q', 'q_bar', 'cost_he']\n",
    "\n",
    "for function in functions:\n",
    "    \n",
    "    info = eval(function).cache_info()\n",
    "    \n",
    "    print(f'{str(function):8s}: {info.hits:8d} hits\\\n",
    "            {info.misses:8d} misses\\\n",
    "            {info.hits/(info.hits + info.misses):.2%} gain')\n"
   ]
  },
  {
   "cell_type": "code",
   "execution_count": null,
   "metadata": {},
   "outputs": [],
   "source": []
  },
  {
   "cell_type": "code",
   "execution_count": null,
   "metadata": {},
   "outputs": [],
   "source": []
  },
  {
   "cell_type": "code",
   "execution_count": null,
   "metadata": {},
   "outputs": [],
   "source": []
  },
  {
   "cell_type": "code",
   "execution_count": null,
   "metadata": {},
   "outputs": [],
   "source": []
  }
 ],
 "metadata": {
  "kernelspec": {
   "display_name": "Python 3",
   "language": "python",
   "name": "python3"
  },
  "language_info": {
   "codemirror_mode": {
    "name": "ipython",
    "version": 3
   },
   "file_extension": ".py",
   "mimetype": "text/x-python",
   "name": "python",
   "nbconvert_exporter": "python",
   "pygments_lexer": "ipython3",
   "version": "3.9.0"
  },
  "latex_envs": {
   "LaTeX_envs_menu_present": true,
   "autoclose": false,
   "autocomplete": true,
   "bibliofile": "biblio.bib",
   "cite_by": "apalike",
   "current_citInitial": 1,
   "eqLabelWithNumbers": true,
   "eqNumInitial": 1,
   "hotkeys": {
    "equation": "Ctrl-E",
    "itemize": "Ctrl-I"
   },
   "labels_anchors": false,
   "latex_user_defs": false,
   "report_style_numbering": false,
   "user_envs_cfg": true
  },
  "toc": {
   "base_numbering": 1,
   "nav_menu": {},
   "number_sections": true,
   "sideBar": true,
   "skip_h1_title": false,
   "title_cell": "Table of Contents",
   "title_sidebar": "Contents",
   "toc_cell": true,
   "toc_position": {},
   "toc_section_display": true,
   "toc_window_display": false
  },
  "varInspector": {
   "cols": {
    "lenName": 16,
    "lenType": 16,
    "lenVar": 40
   },
   "kernels_config": {
    "python": {
     "delete_cmd_postfix": "",
     "delete_cmd_prefix": "del ",
     "library": "var_list.py",
     "varRefreshCmd": "print(var_dic_list())"
    },
    "r": {
     "delete_cmd_postfix": ") ",
     "delete_cmd_prefix": "rm(",
     "library": "var_list.r",
     "varRefreshCmd": "cat(var_dic_list()) "
    }
   },
   "types_to_exclude": [
    "module",
    "function",
    "builtin_function_or_method",
    "instance",
    "_Feature"
   ],
   "window_display": false
  }
 },
 "nbformat": 4,
 "nbformat_minor": 4
}
