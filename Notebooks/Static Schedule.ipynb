{
 "cells": [
  {
   "cell_type": "markdown",
   "metadata": {
    "toc": true
   },
   "source": [
    "<h1>Table of Contents<span class=\"tocSkip\"></span></h1>\n",
    "<div class=\"toc\"><ul class=\"toc-item\"><li><span><a href=\"#Static-Schedule\" data-toc-modified-id=\"Static-Schedule-1\"><span class=\"toc-item-num\">1&nbsp;&nbsp;</span>Static Schedule</a></span><ul class=\"toc-item\"><li><span><a href=\"#Homogeneous-Exponential-Case\" data-toc-modified-id=\"Homogeneous-Exponential-Case-1.1\"><span class=\"toc-item-num\">1.1&nbsp;&nbsp;</span>Homogeneous Exponential Case</a></span></li><li><span><a href=\"#Heterogeneous-Exponential-Case\" data-toc-modified-id=\"Heterogeneous-Exponential-Case-1.2\"><span class=\"toc-item-num\">1.2&nbsp;&nbsp;</span>Heterogeneous Exponential Case</a></span></li><li><span><a href=\"#Phase-Type-Case\" data-toc-modified-id=\"Phase-Type-Case-1.3\"><span class=\"toc-item-num\">1.3&nbsp;&nbsp;</span>Phase-Type Case</a></span><ul class=\"toc-item\"><li><span><a href=\"#Phase-Type-Fit\" data-toc-modified-id=\"Phase-Type-Fit-1.3.1\"><span class=\"toc-item-num\">1.3.1&nbsp;&nbsp;</span>Phase-Type Fit</a></span></li><li><span><a href=\"#Weighted-Erlang-Distribution\" data-toc-modified-id=\"Weighted-Erlang-Distribution-1.3.2\"><span class=\"toc-item-num\">1.3.2&nbsp;&nbsp;</span>Weighted Erlang Distribution</a></span></li><li><span><a href=\"#Hyperexponential-Distribution\" data-toc-modified-id=\"Hyperexponential-Distribution-1.3.3\"><span class=\"toc-item-num\">1.3.3&nbsp;&nbsp;</span>Hyperexponential Distribution</a></span></li></ul></li></ul></li></ul></div>"
   ]
  },
  {
   "cell_type": "markdown",
   "metadata": {},
   "source": [
    "# Static Schedule\n",
    "_Roshan Mahes, Michel Mandjes, Marko Boon_\n",
    "\n",
    "In this notebook we determine static schedules $t_1,\\dots,t_n$ that minimize the following cost function:\n",
    "\\begin{align*}\n",
    "\\omega \\sum_{i=1}^{n}\\mathbb{E}I_i + (1 - \\omega)\\sum_{i=1}^{n}\\mathbb{E}W_i,\\quad \\omega\\in(0,1),\n",
    "\\end{align*}\n",
    "where $I_i$ and $W_i$ are the expected idle and waiting time associated to client $i$, respectively. We assume that the service tasks $B_1,\\dots,B_n$ are independent and solve the problem assuming different types of distributions.\n",
    "\n",
    "The following packages are required:"
   ]
  },
  {
   "cell_type": "code",
   "execution_count": 1,
   "metadata": {
    "ExecuteTime": {
     "end_time": "2020-10-18T17:35:55.277821Z",
     "start_time": "2020-10-18T17:35:42.197239Z"
    }
   },
   "outputs": [],
   "source": [
    "# math\n",
    "import numpy as np\n",
    "import scipy\n",
    "import math\n",
    "from scipy.stats import binom, erlang, poisson\n",
    "from scipy.optimize import minimize\n",
    "\n",
    "# web scraping\n",
    "from urllib.request import urlopen\n",
    "from bs4 import BeautifulSoup as soup\n",
    "import pandas as pd\n",
    "\n",
    "# plotting\n",
    "import plotly.graph_objects as go\n",
    "import plotly.express as px\n",
    "from itertools import cycle"
   ]
  },
  {
   "cell_type": "markdown",
   "metadata": {},
   "source": [
    "## Homogeneous Exponential Case\n",
    "\n",
    "In the first case, we assume $B_1,\\dots,B_n \\stackrel{i.i.d.}{\\sim} B \\stackrel{d}{=} \\text{Exp}(\\mu)$ for some $\\mu > 0$. In our thesis, we have determined a recursive procedure. We state the result.\n",
    "\n",
    "<div class=\"alert alert-warning\">\n",
    "<b>Corollary 2.5.</b>\n",
    "For arrival time $t$ we have, with $X_t \\sim \\text{Pois}(\\mu t)$ and $\\ell = 2,\\dots,k+1$,\n",
    "\\begin{align*}\n",
    "p_{k1}(t) = \\mathbb{P}(X_t\\geq k),\\quad \n",
    "p_{k\\ell}(t) = \\mathbb{P}(X_t = k-\\ell+1).\n",
    "\\end{align*}\n",
    "</div>\n",
    "\n",
    "<div class=\"alert alert-warning\">\n",
    "<b>Proposition 2.7.</b>\n",
    "Let $X_t \\sim \\text{Pois}(\\mu t)$. Then\n",
    "\\begin{align*}\n",
    "f_k(t) &= t\\mathbb{P}(X_t\\geq k) - \\frac{k}{\\mu}\\mathbb{P}(X_t\\geq k+1), \\\\\n",
    "g_k(t) &= \\frac{k(k-1)}{2\\mu}\\mathbb{P}(X_t\\geq k+1) + (k-1)t\\mathbb{P}(X_t\\leq k-1) - \\frac{\\mu t^2}{2}\\mathbb{P}(X_t\\leq k-2).\n",
    "\\end{align*}\n",
    "</div>\n",
    "\n",
    "<div class=\"alert alert-warning\">\n",
    "<b>Theorem 2.8.</b>\n",
    "Let $p_{k\\ell}(t)$ and $f_k(t)$ and $g_{k}(t)$ be given by Corollary 2.5 and Proposition 2.7, and let $N_s$ denote the number of clients at time $s\\geq 0$. Suppose that the clients are scheduled at (strictly increasing) times $t_1 = 0, t_2,\\dots,t_n$. Then, for $i=1,\\dots,n$,\n",
    "\\begin{align*}\n",
    "\\mathbb{E}I_i = \\sum_{k=1}^{i-1}f_k(x_{i})\\mathbb{P}(N_{t_{i-1}} = k),\\quad\n",
    "\\mathbb{E}W_i = \\sum_{k=1}^{i-1}g_k(x_{i})\\mathbb{P}(N_{t_{i-1}} = k),\n",
    "\\end{align*}\n",
    "where the following recursion holds: $\\mathbb{P}(N_{t_1} = 1) = 1$ and for $i=2,\\dots,n$ and $j = 1,\\dots,i$,\n",
    "\\begin{align*}\n",
    "\\mathbb{P}(N_{t_i} = j) = \\sum_{k=\\max\\{1,j-1\\}}^{i-1}p_{kj}(x_{i})\\mathbb{P}(N_{t_{i-1}} = k).\n",
    "\\end{align*}\n",
    "</div>\n",
    "\n",
    "We have implemented the formulas as follows."
   ]
  },
  {
   "cell_type": "code",
   "execution_count": 2,
   "metadata": {
    "ExecuteTime": {
     "end_time": "2020-10-18T17:35:58.137839Z",
     "start_time": "2020-10-18T17:35:58.089840Z"
    }
   },
   "outputs": [],
   "source": [
    "def compute_probs_N(t,mu=1):\n",
    "    \"\"\"\n",
    "    Computes P(N_ti = j) for i=1,...,n and j=1,...,i.\n",
    "    \"\"\"\n",
    "    \n",
    "    n = len(t)\n",
    "    probs = [[None for i in range(n)] for j in range(n)]\n",
    "    probs[0][0] = 1\n",
    "    \n",
    "    for i in range(2,n+1):\n",
    "        \n",
    "        x = t[i-1] - t[i-2]\n",
    "        \n",
    "        # j = 1\n",
    "        probs[i-1][0] = 0\n",
    "        for l in range(1,i):\n",
    "            probs[i-1][0] += (1 - poisson.cdf(l-1,mu*x)) * probs[i-2][l-1]\n",
    "\n",
    "        # j = 2,...,i\n",
    "        for j in range(2,i+1):\n",
    "            probs[i-1][j-1] = 0\n",
    "            for l in range(j-1,i):\n",
    "                probs[i-1][j-1] += poisson.pmf(l-j+1,mu*x) * probs[i-2][l-1]\n",
    "            \n",
    "    return probs\n",
    "    \n",
    "\n",
    "def static_cost_hom(t,mu=1,omega=0.5):\n",
    "    \"\"\"\n",
    "    Computes the costs given a schedule t=t_1,...,t_n.\n",
    "    \"\"\"\n",
    "    \n",
    "    n = len(t)\n",
    "    \n",
    "    # total expected waiting/idle time\n",
    "    sum_EW, sum_EI = 0, 0\n",
    "    probs = compute_probs_N(t,mu)\n",
    "    \n",
    "    for i in range(2,n+1):\n",
    "        for j in range(2,i+1):\n",
    "            sum_EW += probs[i-1][j-1] * (j - 1) / mu\n",
    "            \n",
    "        for j in range(1,i):\n",
    "            \n",
    "            x = t[i-1] - t[i-2]\n",
    "            f = (1 - poisson.cdf(j-1,mu*x)) * x - (1 - poisson.cdf(j,mu*x)) * j / mu\n",
    "            sum_EI += f * probs[i-2][j-1]\n",
    "            \n",
    "    return omega * sum_EI + (1 - omega) * sum_EW"
   ]
  },
  {
   "cell_type": "markdown",
   "metadata": {},
   "source": [
    "The optimal schedule can be found by minimizing the costs using the `scipy.minimize` function."
   ]
  },
  {
   "cell_type": "code",
   "execution_count": 3,
   "metadata": {
    "ExecuteTime": {
     "end_time": "2020-10-18T17:36:17.719702Z",
     "start_time": "2020-10-18T17:35:59.964705Z"
    }
   },
   "outputs": [
    {
     "name": "stdout",
     "output_type": "stream",
     "text": [
      "Optimal Schedule: [ 0.          1.00598929  2.51522436  4.10472425  5.71586273  7.32586108\n",
      "  8.91671709 10.4621948  11.90391219 13.02923183]\n",
      "Costs: 4.693543137482357\n"
     ]
    }
   ],
   "source": [
    "mu = 1\n",
    "omega = 0.5\n",
    "n = 10\n",
    "\n",
    "optimization = minimize(static_cost_hom, range(n), args=(mu, omega))\n",
    "optimization.x -= optimization.x[0] # let the schedule start at time 0\n",
    "\n",
    "print(f'Optimal Schedule: {optimization.x}')\n",
    "print(f'Costs: {optimization.fun}')"
   ]
  },
  {
   "cell_type": "markdown",
   "metadata": {},
   "source": [
    "Now we make a plot in which our schedules are obtained by web scraping the schedules from www.appointmentscheduling.info, a webapp created by Ruben Brokkelkamp."
   ]
  },
  {
   "cell_type": "code",
   "execution_count": 4,
   "metadata": {
    "ExecuteTime": {
     "end_time": "2020-10-18T17:36:20.340736Z",
     "start_time": "2020-10-18T17:36:19.315345Z"
    }
   },
   "outputs": [],
   "source": [
    "mu = 1\n",
    "n = 15\n",
    "\n",
    "optimizations = []\n",
    "costs = []\n",
    "\n",
    "for omega in np.arange(0.1,1,0.1):\n",
    "    \n",
    "    url = f'http://www.appointmentscheduling.info/index.php?SCV=1&N={n}&omega={omega}&objFun=1'\n",
    "\n",
    "    # opening up connection, grabbing the page\n",
    "    uClient = urlopen(url)\n",
    "    page_html = uClient.read()\n",
    "    uClient.close()\n",
    "\n",
    "    # html parsing\n",
    "    page_soup = soup(page_html, \"html.parser\")\n",
    "    table = page_soup.findAll(\"table\", {\"class\": \"bordered\"})[1]\n",
    "\n",
    "    # get appointment schedule\n",
    "    df = pd.read_html(str(table))[0]\n",
    "    schedule = df[df.columns[2]].values[:-2]\n",
    "    \n",
    "    optimizations += [schedule]"
   ]
  },
  {
   "cell_type": "code",
   "execution_count": 6,
   "metadata": {
    "ExecuteTime": {
     "end_time": "2020-10-18T17:36:50.994946Z",
     "start_time": "2020-10-18T17:36:50.814949Z"
    },
    "scrolled": false
   },
   "outputs": [
    {
     "data": {
      "application/vnd.plotly.v1+json": {
       "config": {
        "plotlyServerURL": "https://plot.ly"
       },
       "data": [
        {
         "marker": {
          "color": "rgb(214, 249, 207)"
         },
         "name": "$0.1$",
         "type": "scatter",
         "x": [
          2,
          3,
          4,
          5,
          6,
          7,
          8,
          9,
          10,
          11,
          12,
          13,
          14,
          15
         ],
         "y": [
          2.5048,
          2.7233000000000005,
          2.741599999999999,
          2.7455999999999996,
          2.7467000000000006,
          2.747,
          2.7470999999999997,
          2.7470999999999997,
          2.7468000000000004,
          2.746100000000002,
          2.7439999999999998,
          2.737099999999998,
          2.709299999999999,
          2.509900000000002
         ]
        },
        {
         "marker": {
          "color": "rgb(186, 228, 174)"
         },
         "name": "$0.2$",
         "type": "scatter",
         "x": [
          2,
          3,
          4,
          5,
          6,
          7,
          8,
          9,
          10,
          11,
          12,
          13,
          14,
          15
         ],
         "y": [
          1.8858,
          2.2089,
          2.2456000000000005,
          2.2559999999999993,
          2.2597000000000005,
          2.2611000000000008,
          2.2615,
          2.261000000000001,
          2.259599999999999,
          2.2563999999999993,
          2.2490999999999985,
          2.230900000000002,
          2.1758999999999986,
          1.9058000000000028
         ]
        },
        {
         "marker": {
          "color": "rgb(156, 209, 143)"
         },
         "name": "$0.3$",
         "type": "scatter",
         "x": [
          2,
          3,
          4,
          5,
          6,
          7,
          8,
          9,
          10,
          11,
          12,
          13,
          14,
          15
         ],
         "y": [
          1.516,
          1.9148,
          1.9682999999999997,
          1.9853000000000005,
          1.992,
          1.9946000000000002,
          1.995099999999999,
          1.9939,
          1.9906000000000006,
          1.9838999999999984,
          1.9703000000000017,
          1.9406999999999996,
          1.8640000000000008,
          1.5594000000000001
         ]
        },
        {
         "marker": {
          "color": "rgb(124, 191, 115)"
         },
         "name": "$0.4$",
         "type": "scatter",
         "x": [
          2,
          3,
          4,
          5,
          6,
          7,
          8,
          9,
          10,
          11,
          12,
          13,
          14,
          15
         ],
         "y": [
          1.2401,
          1.6991999999999998,
          1.7689,
          1.7925000000000004,
          1.8024000000000004,
          1.8063000000000002,
          1.806799999999999,
          1.8043999999999993,
          1.7987000000000002,
          1.788000000000002,
          1.7678999999999974,
          1.7277000000000022,
          1.6340000000000003,
          1.3154000000000003
         ]
        },
        {
         "marker": {
          "color": "rgb(85, 174, 91)"
         },
         "name": "$0.5$",
         "type": "scatter",
         "x": [
          2,
          3,
          4,
          5,
          6,
          7,
          8,
          9,
          10,
          11,
          12,
          13,
          14,
          15
         ],
         "y": [
          1.0099,
          1.5184000000000002,
          1.6046999999999998,
          1.6353,
          1.6482999999999999,
          1.6534000000000004,
          1.6536999999999988,
          1.6500000000000004,
          1.6417000000000002,
          1.6266999999999996,
          1.6003000000000007,
          1.550699999999999,
          1.4444000000000017,
          1.1262000000000008
         ]
        },
        {
         "marker": {
          "color": "rgb(37, 157, 81)"
         },
         "name": "$0.6$",
         "type": "scatter",
         "x": [
          2,
          3,
          4,
          5,
          6,
          7,
          8,
          9,
          10,
          11,
          12,
          13,
          14,
          15
         ],
         "y": [
          0.8029,
          1.3509,
          1.4551000000000003,
          1.4931999999999999,
          1.5096999999999996,
          1.5161000000000007,
          1.5160999999999998,
          1.5108999999999995,
          1.4998000000000005,
          1.4807000000000006,
          1.4483999999999995,
          1.3912000000000013,
          1.2770999999999972,
          0.9709000000000003
         ]
        },
        {
         "marker": {
          "color": "rgb(7, 138, 78)"
         },
         "name": "$0.7$",
         "type": "scatter",
         "x": [
          2,
          3,
          4,
          5,
          6,
          7,
          8,
          9,
          10,
          11,
          12,
          13,
          14,
          15
         ],
         "y": [
          0.6051,
          1.1796,
          1.3050000000000002,
          1.3519,
          1.3725999999999994,
          1.3805000000000005,
          1.3805000000000005,
          1.373899999999999,
          1.3602000000000007,
          1.337299999999999,
          1.3003,
          1.2380000000000013,
          1.121999999999998,
          0.8382000000000005
         ]
        },
        {
         "marker": {
          "color": "rgb(13, 117, 71)"
         },
         "name": "$0.8$",
         "type": "scatter",
         "x": [
          2,
          3,
          4,
          5,
          6,
          7,
          8,
          9,
          10,
          11,
          12,
          13,
          14,
          15
         ],
         "y": [
          0.4056,
          0.9823999999999999,
          1.1351,
          1.1941000000000002,
          1.2207,
          1.2313,
          1.2321,
          1.2247999999999992,
          1.2095000000000002,
          1.1844000000000001,
          1.1449999999999996,
          1.0821000000000005,
          0.9718,
          0.720600000000001
         ]
        },
        {
         "marker": {
          "color": "rgb(23, 95, 61)"
         },
         "name": "$0.9$",
         "type": "scatter",
         "x": [
          2,
          3,
          4,
          5,
          6,
          7,
          8,
          9,
          10,
          11,
          12,
          13,
          14,
          15
         ],
         "y": [
          0.1956,
          0.7068,
          0.9,
          0.9802,
          1.0185,
          1.0362,
          1.0412999999999997,
          1.0369000000000002,
          1.0238000000000005,
          1.0011,
          0.9657999999999998,
          0.9107000000000003,
          0.8177000000000003,
          0.6115999999999993
         ]
        }
       ],
       "layout": {
        "legend": {
         "title": {
          "text": "$\\text{Omega}\\ (\\omega)$"
         }
        },
        "template": {
         "data": {
          "bar": [
           {
            "error_x": {
             "color": "#2a3f5f"
            },
            "error_y": {
             "color": "#2a3f5f"
            },
            "marker": {
             "line": {
              "color": "white",
              "width": 0.5
             }
            },
            "type": "bar"
           }
          ],
          "barpolar": [
           {
            "marker": {
             "line": {
              "color": "white",
              "width": 0.5
             }
            },
            "type": "barpolar"
           }
          ],
          "carpet": [
           {
            "aaxis": {
             "endlinecolor": "#2a3f5f",
             "gridcolor": "#C8D4E3",
             "linecolor": "#C8D4E3",
             "minorgridcolor": "#C8D4E3",
             "startlinecolor": "#2a3f5f"
            },
            "baxis": {
             "endlinecolor": "#2a3f5f",
             "gridcolor": "#C8D4E3",
             "linecolor": "#C8D4E3",
             "minorgridcolor": "#C8D4E3",
             "startlinecolor": "#2a3f5f"
            },
            "type": "carpet"
           }
          ],
          "choropleth": [
           {
            "colorbar": {
             "outlinewidth": 0,
             "ticks": ""
            },
            "type": "choropleth"
           }
          ],
          "contour": [
           {
            "colorbar": {
             "outlinewidth": 0,
             "ticks": ""
            },
            "colorscale": [
             [
              0,
              "#0d0887"
             ],
             [
              0.1111111111111111,
              "#46039f"
             ],
             [
              0.2222222222222222,
              "#7201a8"
             ],
             [
              0.3333333333333333,
              "#9c179e"
             ],
             [
              0.4444444444444444,
              "#bd3786"
             ],
             [
              0.5555555555555556,
              "#d8576b"
             ],
             [
              0.6666666666666666,
              "#ed7953"
             ],
             [
              0.7777777777777778,
              "#fb9f3a"
             ],
             [
              0.8888888888888888,
              "#fdca26"
             ],
             [
              1,
              "#f0f921"
             ]
            ],
            "type": "contour"
           }
          ],
          "contourcarpet": [
           {
            "colorbar": {
             "outlinewidth": 0,
             "ticks": ""
            },
            "type": "contourcarpet"
           }
          ],
          "heatmap": [
           {
            "colorbar": {
             "outlinewidth": 0,
             "ticks": ""
            },
            "colorscale": [
             [
              0,
              "#0d0887"
             ],
             [
              0.1111111111111111,
              "#46039f"
             ],
             [
              0.2222222222222222,
              "#7201a8"
             ],
             [
              0.3333333333333333,
              "#9c179e"
             ],
             [
              0.4444444444444444,
              "#bd3786"
             ],
             [
              0.5555555555555556,
              "#d8576b"
             ],
             [
              0.6666666666666666,
              "#ed7953"
             ],
             [
              0.7777777777777778,
              "#fb9f3a"
             ],
             [
              0.8888888888888888,
              "#fdca26"
             ],
             [
              1,
              "#f0f921"
             ]
            ],
            "type": "heatmap"
           }
          ],
          "heatmapgl": [
           {
            "colorbar": {
             "outlinewidth": 0,
             "ticks": ""
            },
            "colorscale": [
             [
              0,
              "#0d0887"
             ],
             [
              0.1111111111111111,
              "#46039f"
             ],
             [
              0.2222222222222222,
              "#7201a8"
             ],
             [
              0.3333333333333333,
              "#9c179e"
             ],
             [
              0.4444444444444444,
              "#bd3786"
             ],
             [
              0.5555555555555556,
              "#d8576b"
             ],
             [
              0.6666666666666666,
              "#ed7953"
             ],
             [
              0.7777777777777778,
              "#fb9f3a"
             ],
             [
              0.8888888888888888,
              "#fdca26"
             ],
             [
              1,
              "#f0f921"
             ]
            ],
            "type": "heatmapgl"
           }
          ],
          "histogram": [
           {
            "marker": {
             "colorbar": {
              "outlinewidth": 0,
              "ticks": ""
             }
            },
            "type": "histogram"
           }
          ],
          "histogram2d": [
           {
            "colorbar": {
             "outlinewidth": 0,
             "ticks": ""
            },
            "colorscale": [
             [
              0,
              "#0d0887"
             ],
             [
              0.1111111111111111,
              "#46039f"
             ],
             [
              0.2222222222222222,
              "#7201a8"
             ],
             [
              0.3333333333333333,
              "#9c179e"
             ],
             [
              0.4444444444444444,
              "#bd3786"
             ],
             [
              0.5555555555555556,
              "#d8576b"
             ],
             [
              0.6666666666666666,
              "#ed7953"
             ],
             [
              0.7777777777777778,
              "#fb9f3a"
             ],
             [
              0.8888888888888888,
              "#fdca26"
             ],
             [
              1,
              "#f0f921"
             ]
            ],
            "type": "histogram2d"
           }
          ],
          "histogram2dcontour": [
           {
            "colorbar": {
             "outlinewidth": 0,
             "ticks": ""
            },
            "colorscale": [
             [
              0,
              "#0d0887"
             ],
             [
              0.1111111111111111,
              "#46039f"
             ],
             [
              0.2222222222222222,
              "#7201a8"
             ],
             [
              0.3333333333333333,
              "#9c179e"
             ],
             [
              0.4444444444444444,
              "#bd3786"
             ],
             [
              0.5555555555555556,
              "#d8576b"
             ],
             [
              0.6666666666666666,
              "#ed7953"
             ],
             [
              0.7777777777777778,
              "#fb9f3a"
             ],
             [
              0.8888888888888888,
              "#fdca26"
             ],
             [
              1,
              "#f0f921"
             ]
            ],
            "type": "histogram2dcontour"
           }
          ],
          "mesh3d": [
           {
            "colorbar": {
             "outlinewidth": 0,
             "ticks": ""
            },
            "type": "mesh3d"
           }
          ],
          "parcoords": [
           {
            "line": {
             "colorbar": {
              "outlinewidth": 0,
              "ticks": ""
             }
            },
            "type": "parcoords"
           }
          ],
          "pie": [
           {
            "automargin": true,
            "type": "pie"
           }
          ],
          "scatter": [
           {
            "marker": {
             "colorbar": {
              "outlinewidth": 0,
              "ticks": ""
             }
            },
            "type": "scatter"
           }
          ],
          "scatter3d": [
           {
            "line": {
             "colorbar": {
              "outlinewidth": 0,
              "ticks": ""
             }
            },
            "marker": {
             "colorbar": {
              "outlinewidth": 0,
              "ticks": ""
             }
            },
            "type": "scatter3d"
           }
          ],
          "scattercarpet": [
           {
            "marker": {
             "colorbar": {
              "outlinewidth": 0,
              "ticks": ""
             }
            },
            "type": "scattercarpet"
           }
          ],
          "scattergeo": [
           {
            "marker": {
             "colorbar": {
              "outlinewidth": 0,
              "ticks": ""
             }
            },
            "type": "scattergeo"
           }
          ],
          "scattergl": [
           {
            "marker": {
             "colorbar": {
              "outlinewidth": 0,
              "ticks": ""
             }
            },
            "type": "scattergl"
           }
          ],
          "scattermapbox": [
           {
            "marker": {
             "colorbar": {
              "outlinewidth": 0,
              "ticks": ""
             }
            },
            "type": "scattermapbox"
           }
          ],
          "scatterpolar": [
           {
            "marker": {
             "colorbar": {
              "outlinewidth": 0,
              "ticks": ""
             }
            },
            "type": "scatterpolar"
           }
          ],
          "scatterpolargl": [
           {
            "marker": {
             "colorbar": {
              "outlinewidth": 0,
              "ticks": ""
             }
            },
            "type": "scatterpolargl"
           }
          ],
          "scatterternary": [
           {
            "marker": {
             "colorbar": {
              "outlinewidth": 0,
              "ticks": ""
             }
            },
            "type": "scatterternary"
           }
          ],
          "surface": [
           {
            "colorbar": {
             "outlinewidth": 0,
             "ticks": ""
            },
            "colorscale": [
             [
              0,
              "#0d0887"
             ],
             [
              0.1111111111111111,
              "#46039f"
             ],
             [
              0.2222222222222222,
              "#7201a8"
             ],
             [
              0.3333333333333333,
              "#9c179e"
             ],
             [
              0.4444444444444444,
              "#bd3786"
             ],
             [
              0.5555555555555556,
              "#d8576b"
             ],
             [
              0.6666666666666666,
              "#ed7953"
             ],
             [
              0.7777777777777778,
              "#fb9f3a"
             ],
             [
              0.8888888888888888,
              "#fdca26"
             ],
             [
              1,
              "#f0f921"
             ]
            ],
            "type": "surface"
           }
          ],
          "table": [
           {
            "cells": {
             "fill": {
              "color": "#EBF0F8"
             },
             "line": {
              "color": "white"
             }
            },
            "header": {
             "fill": {
              "color": "#C8D4E3"
             },
             "line": {
              "color": "white"
             }
            },
            "type": "table"
           }
          ]
         },
         "layout": {
          "annotationdefaults": {
           "arrowcolor": "#2a3f5f",
           "arrowhead": 0,
           "arrowwidth": 1
          },
          "coloraxis": {
           "colorbar": {
            "outlinewidth": 0,
            "ticks": ""
           }
          },
          "colorscale": {
           "diverging": [
            [
             0,
             "#8e0152"
            ],
            [
             0.1,
             "#c51b7d"
            ],
            [
             0.2,
             "#de77ae"
            ],
            [
             0.3,
             "#f1b6da"
            ],
            [
             0.4,
             "#fde0ef"
            ],
            [
             0.5,
             "#f7f7f7"
            ],
            [
             0.6,
             "#e6f5d0"
            ],
            [
             0.7,
             "#b8e186"
            ],
            [
             0.8,
             "#7fbc41"
            ],
            [
             0.9,
             "#4d9221"
            ],
            [
             1,
             "#276419"
            ]
           ],
           "sequential": [
            [
             0,
             "#0d0887"
            ],
            [
             0.1111111111111111,
             "#46039f"
            ],
            [
             0.2222222222222222,
             "#7201a8"
            ],
            [
             0.3333333333333333,
             "#9c179e"
            ],
            [
             0.4444444444444444,
             "#bd3786"
            ],
            [
             0.5555555555555556,
             "#d8576b"
            ],
            [
             0.6666666666666666,
             "#ed7953"
            ],
            [
             0.7777777777777778,
             "#fb9f3a"
            ],
            [
             0.8888888888888888,
             "#fdca26"
            ],
            [
             1,
             "#f0f921"
            ]
           ],
           "sequentialminus": [
            [
             0,
             "#0d0887"
            ],
            [
             0.1111111111111111,
             "#46039f"
            ],
            [
             0.2222222222222222,
             "#7201a8"
            ],
            [
             0.3333333333333333,
             "#9c179e"
            ],
            [
             0.4444444444444444,
             "#bd3786"
            ],
            [
             0.5555555555555556,
             "#d8576b"
            ],
            [
             0.6666666666666666,
             "#ed7953"
            ],
            [
             0.7777777777777778,
             "#fb9f3a"
            ],
            [
             0.8888888888888888,
             "#fdca26"
            ],
            [
             1,
             "#f0f921"
            ]
           ]
          },
          "colorway": [
           "#636efa",
           "#EF553B",
           "#00cc96",
           "#ab63fa",
           "#FFA15A",
           "#19d3f3",
           "#FF6692",
           "#B6E880",
           "#FF97FF",
           "#FECB52"
          ],
          "font": {
           "color": "#2a3f5f"
          },
          "geo": {
           "bgcolor": "white",
           "lakecolor": "white",
           "landcolor": "white",
           "showlakes": true,
           "showland": true,
           "subunitcolor": "#C8D4E3"
          },
          "hoverlabel": {
           "align": "left"
          },
          "hovermode": "closest",
          "mapbox": {
           "style": "light"
          },
          "paper_bgcolor": "white",
          "plot_bgcolor": "white",
          "polar": {
           "angularaxis": {
            "gridcolor": "#EBF0F8",
            "linecolor": "#EBF0F8",
            "ticks": ""
           },
           "bgcolor": "white",
           "radialaxis": {
            "gridcolor": "#EBF0F8",
            "linecolor": "#EBF0F8",
            "ticks": ""
           }
          },
          "scene": {
           "xaxis": {
            "backgroundcolor": "white",
            "gridcolor": "#DFE8F3",
            "gridwidth": 2,
            "linecolor": "#EBF0F8",
            "showbackground": true,
            "ticks": "",
            "zerolinecolor": "#EBF0F8"
           },
           "yaxis": {
            "backgroundcolor": "white",
            "gridcolor": "#DFE8F3",
            "gridwidth": 2,
            "linecolor": "#EBF0F8",
            "showbackground": true,
            "ticks": "",
            "zerolinecolor": "#EBF0F8"
           },
           "zaxis": {
            "backgroundcolor": "white",
            "gridcolor": "#DFE8F3",
            "gridwidth": 2,
            "linecolor": "#EBF0F8",
            "showbackground": true,
            "ticks": "",
            "zerolinecolor": "#EBF0F8"
           }
          },
          "shapedefaults": {
           "line": {
            "color": "#2a3f5f"
           }
          },
          "ternary": {
           "aaxis": {
            "gridcolor": "#DFE8F3",
            "linecolor": "#A2B1C6",
            "ticks": ""
           },
           "baxis": {
            "gridcolor": "#DFE8F3",
            "linecolor": "#A2B1C6",
            "ticks": ""
           },
           "bgcolor": "white",
           "caxis": {
            "gridcolor": "#DFE8F3",
            "linecolor": "#A2B1C6",
            "ticks": ""
           }
          },
          "title": {
           "x": 0.05
          },
          "xaxis": {
           "automargin": true,
           "gridcolor": "#EBF0F8",
           "linecolor": "#EBF0F8",
           "ticks": "",
           "title": {
            "standoff": 15
           },
           "zerolinecolor": "#EBF0F8",
           "zerolinewidth": 2
          },
          "yaxis": {
           "automargin": true,
           "gridcolor": "#EBF0F8",
           "linecolor": "#EBF0F8",
           "ticks": "",
           "title": {
            "standoff": 15
           },
           "zerolinecolor": "#EBF0F8",
           "zerolinewidth": 2
          }
         }
        },
        "title": {
         "text": "$\\text{Static Schedule}\\ (n=15)$"
        },
        "xaxis": {
         "dtick": 1,
         "range": [
          1.7,
          15.3
         ],
         "title": {
          "text": "$\\text{Client Position}\\ (i)$"
         }
        },
        "yaxis": {
         "range": [
          0,
          3
         ],
         "title": {
          "text": "$\\text{Interarrival Time}\\ (x_i)$"
         }
        }
       }
      },
      "text/html": [
       "<div>\n",
       "        \n",
       "        \n",
       "            <div id=\"4d757061-dbf7-4dcf-8973-52b48eca2a0d\" class=\"plotly-graph-div\" style=\"height:525px; width:100%;\"></div>\n",
       "            <script type=\"text/javascript\">\n",
       "                require([\"plotly\"], function(Plotly) {\n",
       "                    window.PLOTLYENV=window.PLOTLYENV || {};\n",
       "                    \n",
       "                if (document.getElementById(\"4d757061-dbf7-4dcf-8973-52b48eca2a0d\")) {\n",
       "                    Plotly.newPlot(\n",
       "                        '4d757061-dbf7-4dcf-8973-52b48eca2a0d',\n",
       "                        [{\"marker\": {\"color\": \"rgb(214, 249, 207)\"}, \"name\": \"$0.1$\", \"type\": \"scatter\", \"x\": [2, 3, 4, 5, 6, 7, 8, 9, 10, 11, 12, 13, 14, 15], \"y\": [2.5048, 2.7233000000000005, 2.741599999999999, 2.7455999999999996, 2.7467000000000006, 2.747, 2.7470999999999997, 2.7470999999999997, 2.7468000000000004, 2.746100000000002, 2.7439999999999998, 2.737099999999998, 2.709299999999999, 2.509900000000002]}, {\"marker\": {\"color\": \"rgb(186, 228, 174)\"}, \"name\": \"$0.2$\", \"type\": \"scatter\", \"x\": [2, 3, 4, 5, 6, 7, 8, 9, 10, 11, 12, 13, 14, 15], \"y\": [1.8858, 2.2089, 2.2456000000000005, 2.2559999999999993, 2.2597000000000005, 2.2611000000000008, 2.2615, 2.261000000000001, 2.259599999999999, 2.2563999999999993, 2.2490999999999985, 2.230900000000002, 2.1758999999999986, 1.9058000000000028]}, {\"marker\": {\"color\": \"rgb(156, 209, 143)\"}, \"name\": \"$0.3$\", \"type\": \"scatter\", \"x\": [2, 3, 4, 5, 6, 7, 8, 9, 10, 11, 12, 13, 14, 15], \"y\": [1.516, 1.9148, 1.9682999999999997, 1.9853000000000005, 1.992, 1.9946000000000002, 1.995099999999999, 1.9939, 1.9906000000000006, 1.9838999999999984, 1.9703000000000017, 1.9406999999999996, 1.8640000000000008, 1.5594000000000001]}, {\"marker\": {\"color\": \"rgb(124, 191, 115)\"}, \"name\": \"$0.4$\", \"type\": \"scatter\", \"x\": [2, 3, 4, 5, 6, 7, 8, 9, 10, 11, 12, 13, 14, 15], \"y\": [1.2401, 1.6991999999999998, 1.7689, 1.7925000000000004, 1.8024000000000004, 1.8063000000000002, 1.806799999999999, 1.8043999999999993, 1.7987000000000002, 1.788000000000002, 1.7678999999999974, 1.7277000000000022, 1.6340000000000003, 1.3154000000000003]}, {\"marker\": {\"color\": \"rgb(85, 174, 91)\"}, \"name\": \"$0.5$\", \"type\": \"scatter\", \"x\": [2, 3, 4, 5, 6, 7, 8, 9, 10, 11, 12, 13, 14, 15], \"y\": [1.0099, 1.5184000000000002, 1.6046999999999998, 1.6353, 1.6482999999999999, 1.6534000000000004, 1.6536999999999988, 1.6500000000000004, 1.6417000000000002, 1.6266999999999996, 1.6003000000000007, 1.550699999999999, 1.4444000000000017, 1.1262000000000008]}, {\"marker\": {\"color\": \"rgb(37, 157, 81)\"}, \"name\": \"$0.6$\", \"type\": \"scatter\", \"x\": [2, 3, 4, 5, 6, 7, 8, 9, 10, 11, 12, 13, 14, 15], \"y\": [0.8029, 1.3509, 1.4551000000000003, 1.4931999999999999, 1.5096999999999996, 1.5161000000000007, 1.5160999999999998, 1.5108999999999995, 1.4998000000000005, 1.4807000000000006, 1.4483999999999995, 1.3912000000000013, 1.2770999999999972, 0.9709000000000003]}, {\"marker\": {\"color\": \"rgb(7, 138, 78)\"}, \"name\": \"$0.7$\", \"type\": \"scatter\", \"x\": [2, 3, 4, 5, 6, 7, 8, 9, 10, 11, 12, 13, 14, 15], \"y\": [0.6051, 1.1796, 1.3050000000000002, 1.3519, 1.3725999999999994, 1.3805000000000005, 1.3805000000000005, 1.373899999999999, 1.3602000000000007, 1.337299999999999, 1.3003, 1.2380000000000013, 1.121999999999998, 0.8382000000000005]}, {\"marker\": {\"color\": \"rgb(13, 117, 71)\"}, \"name\": \"$0.8$\", \"type\": \"scatter\", \"x\": [2, 3, 4, 5, 6, 7, 8, 9, 10, 11, 12, 13, 14, 15], \"y\": [0.4056, 0.9823999999999999, 1.1351, 1.1941000000000002, 1.2207, 1.2313, 1.2321, 1.2247999999999992, 1.2095000000000002, 1.1844000000000001, 1.1449999999999996, 1.0821000000000005, 0.9718, 0.720600000000001]}, {\"marker\": {\"color\": \"rgb(23, 95, 61)\"}, \"name\": \"$0.9$\", \"type\": \"scatter\", \"x\": [2, 3, 4, 5, 6, 7, 8, 9, 10, 11, 12, 13, 14, 15], \"y\": [0.1956, 0.7068, 0.9, 0.9802, 1.0185, 1.0362, 1.0412999999999997, 1.0369000000000002, 1.0238000000000005, 1.0011, 0.9657999999999998, 0.9107000000000003, 0.8177000000000003, 0.6115999999999993]}],\n",
       "                        {\"legend\": {\"title\": {\"text\": \"$\\\\text{Omega}\\\\ (\\\\omega)$\"}}, \"template\": {\"data\": {\"bar\": [{\"error_x\": {\"color\": \"#2a3f5f\"}, \"error_y\": {\"color\": \"#2a3f5f\"}, \"marker\": {\"line\": {\"color\": \"white\", \"width\": 0.5}}, \"type\": \"bar\"}], \"barpolar\": [{\"marker\": {\"line\": {\"color\": \"white\", \"width\": 0.5}}, \"type\": \"barpolar\"}], \"carpet\": [{\"aaxis\": {\"endlinecolor\": \"#2a3f5f\", \"gridcolor\": \"#C8D4E3\", \"linecolor\": \"#C8D4E3\", \"minorgridcolor\": \"#C8D4E3\", \"startlinecolor\": \"#2a3f5f\"}, \"baxis\": {\"endlinecolor\": \"#2a3f5f\", \"gridcolor\": \"#C8D4E3\", \"linecolor\": \"#C8D4E3\", \"minorgridcolor\": \"#C8D4E3\", \"startlinecolor\": \"#2a3f5f\"}, \"type\": \"carpet\"}], \"choropleth\": [{\"colorbar\": {\"outlinewidth\": 0, \"ticks\": \"\"}, \"type\": \"choropleth\"}], \"contour\": [{\"colorbar\": {\"outlinewidth\": 0, \"ticks\": \"\"}, \"colorscale\": [[0.0, \"#0d0887\"], [0.1111111111111111, \"#46039f\"], [0.2222222222222222, \"#7201a8\"], [0.3333333333333333, \"#9c179e\"], [0.4444444444444444, \"#bd3786\"], [0.5555555555555556, \"#d8576b\"], [0.6666666666666666, \"#ed7953\"], [0.7777777777777778, \"#fb9f3a\"], [0.8888888888888888, \"#fdca26\"], [1.0, \"#f0f921\"]], \"type\": \"contour\"}], \"contourcarpet\": [{\"colorbar\": {\"outlinewidth\": 0, \"ticks\": \"\"}, \"type\": \"contourcarpet\"}], \"heatmap\": [{\"colorbar\": {\"outlinewidth\": 0, \"ticks\": \"\"}, \"colorscale\": [[0.0, \"#0d0887\"], [0.1111111111111111, \"#46039f\"], [0.2222222222222222, \"#7201a8\"], [0.3333333333333333, \"#9c179e\"], [0.4444444444444444, \"#bd3786\"], [0.5555555555555556, \"#d8576b\"], [0.6666666666666666, \"#ed7953\"], [0.7777777777777778, \"#fb9f3a\"], [0.8888888888888888, \"#fdca26\"], [1.0, \"#f0f921\"]], \"type\": \"heatmap\"}], \"heatmapgl\": [{\"colorbar\": {\"outlinewidth\": 0, \"ticks\": \"\"}, \"colorscale\": [[0.0, \"#0d0887\"], [0.1111111111111111, \"#46039f\"], [0.2222222222222222, \"#7201a8\"], [0.3333333333333333, \"#9c179e\"], [0.4444444444444444, \"#bd3786\"], [0.5555555555555556, \"#d8576b\"], [0.6666666666666666, \"#ed7953\"], [0.7777777777777778, \"#fb9f3a\"], [0.8888888888888888, \"#fdca26\"], [1.0, \"#f0f921\"]], \"type\": \"heatmapgl\"}], \"histogram\": [{\"marker\": {\"colorbar\": {\"outlinewidth\": 0, \"ticks\": \"\"}}, \"type\": \"histogram\"}], \"histogram2d\": [{\"colorbar\": {\"outlinewidth\": 0, \"ticks\": \"\"}, \"colorscale\": [[0.0, \"#0d0887\"], [0.1111111111111111, \"#46039f\"], [0.2222222222222222, \"#7201a8\"], [0.3333333333333333, \"#9c179e\"], [0.4444444444444444, \"#bd3786\"], [0.5555555555555556, \"#d8576b\"], [0.6666666666666666, \"#ed7953\"], [0.7777777777777778, \"#fb9f3a\"], [0.8888888888888888, \"#fdca26\"], [1.0, \"#f0f921\"]], \"type\": \"histogram2d\"}], \"histogram2dcontour\": [{\"colorbar\": {\"outlinewidth\": 0, \"ticks\": \"\"}, \"colorscale\": [[0.0, \"#0d0887\"], [0.1111111111111111, \"#46039f\"], [0.2222222222222222, \"#7201a8\"], [0.3333333333333333, \"#9c179e\"], [0.4444444444444444, \"#bd3786\"], [0.5555555555555556, \"#d8576b\"], [0.6666666666666666, \"#ed7953\"], [0.7777777777777778, \"#fb9f3a\"], [0.8888888888888888, \"#fdca26\"], [1.0, \"#f0f921\"]], \"type\": \"histogram2dcontour\"}], \"mesh3d\": [{\"colorbar\": {\"outlinewidth\": 0, \"ticks\": \"\"}, \"type\": \"mesh3d\"}], \"parcoords\": [{\"line\": {\"colorbar\": {\"outlinewidth\": 0, \"ticks\": \"\"}}, \"type\": \"parcoords\"}], \"pie\": [{\"automargin\": true, \"type\": \"pie\"}], \"scatter\": [{\"marker\": {\"colorbar\": {\"outlinewidth\": 0, \"ticks\": \"\"}}, \"type\": \"scatter\"}], \"scatter3d\": [{\"line\": {\"colorbar\": {\"outlinewidth\": 0, \"ticks\": \"\"}}, \"marker\": {\"colorbar\": {\"outlinewidth\": 0, \"ticks\": \"\"}}, \"type\": \"scatter3d\"}], \"scattercarpet\": [{\"marker\": {\"colorbar\": {\"outlinewidth\": 0, \"ticks\": \"\"}}, \"type\": \"scattercarpet\"}], \"scattergeo\": [{\"marker\": {\"colorbar\": {\"outlinewidth\": 0, \"ticks\": \"\"}}, \"type\": \"scattergeo\"}], \"scattergl\": [{\"marker\": {\"colorbar\": {\"outlinewidth\": 0, \"ticks\": \"\"}}, \"type\": \"scattergl\"}], \"scattermapbox\": [{\"marker\": {\"colorbar\": {\"outlinewidth\": 0, \"ticks\": \"\"}}, \"type\": \"scattermapbox\"}], \"scatterpolar\": [{\"marker\": {\"colorbar\": {\"outlinewidth\": 0, \"ticks\": \"\"}}, \"type\": \"scatterpolar\"}], \"scatterpolargl\": [{\"marker\": {\"colorbar\": {\"outlinewidth\": 0, \"ticks\": \"\"}}, \"type\": \"scatterpolargl\"}], \"scatterternary\": [{\"marker\": {\"colorbar\": {\"outlinewidth\": 0, \"ticks\": \"\"}}, \"type\": \"scatterternary\"}], \"surface\": [{\"colorbar\": {\"outlinewidth\": 0, \"ticks\": \"\"}, \"colorscale\": [[0.0, \"#0d0887\"], [0.1111111111111111, \"#46039f\"], [0.2222222222222222, \"#7201a8\"], [0.3333333333333333, \"#9c179e\"], [0.4444444444444444, \"#bd3786\"], [0.5555555555555556, \"#d8576b\"], [0.6666666666666666, \"#ed7953\"], [0.7777777777777778, \"#fb9f3a\"], [0.8888888888888888, \"#fdca26\"], [1.0, \"#f0f921\"]], \"type\": \"surface\"}], \"table\": [{\"cells\": {\"fill\": {\"color\": \"#EBF0F8\"}, \"line\": {\"color\": \"white\"}}, \"header\": {\"fill\": {\"color\": \"#C8D4E3\"}, \"line\": {\"color\": \"white\"}}, \"type\": \"table\"}]}, \"layout\": {\"annotationdefaults\": {\"arrowcolor\": \"#2a3f5f\", \"arrowhead\": 0, \"arrowwidth\": 1}, \"coloraxis\": {\"colorbar\": {\"outlinewidth\": 0, \"ticks\": \"\"}}, \"colorscale\": {\"diverging\": [[0, \"#8e0152\"], [0.1, \"#c51b7d\"], [0.2, \"#de77ae\"], [0.3, \"#f1b6da\"], [0.4, \"#fde0ef\"], [0.5, \"#f7f7f7\"], [0.6, \"#e6f5d0\"], [0.7, \"#b8e186\"], [0.8, \"#7fbc41\"], [0.9, \"#4d9221\"], [1, \"#276419\"]], \"sequential\": [[0.0, \"#0d0887\"], [0.1111111111111111, \"#46039f\"], [0.2222222222222222, \"#7201a8\"], [0.3333333333333333, \"#9c179e\"], [0.4444444444444444, \"#bd3786\"], [0.5555555555555556, \"#d8576b\"], [0.6666666666666666, \"#ed7953\"], [0.7777777777777778, \"#fb9f3a\"], [0.8888888888888888, \"#fdca26\"], [1.0, \"#f0f921\"]], \"sequentialminus\": [[0.0, \"#0d0887\"], [0.1111111111111111, \"#46039f\"], [0.2222222222222222, \"#7201a8\"], [0.3333333333333333, \"#9c179e\"], [0.4444444444444444, \"#bd3786\"], [0.5555555555555556, \"#d8576b\"], [0.6666666666666666, \"#ed7953\"], [0.7777777777777778, \"#fb9f3a\"], [0.8888888888888888, \"#fdca26\"], [1.0, \"#f0f921\"]]}, \"colorway\": [\"#636efa\", \"#EF553B\", \"#00cc96\", \"#ab63fa\", \"#FFA15A\", \"#19d3f3\", \"#FF6692\", \"#B6E880\", \"#FF97FF\", \"#FECB52\"], \"font\": {\"color\": \"#2a3f5f\"}, \"geo\": {\"bgcolor\": \"white\", \"lakecolor\": \"white\", \"landcolor\": \"white\", \"showlakes\": true, \"showland\": true, \"subunitcolor\": \"#C8D4E3\"}, \"hoverlabel\": {\"align\": \"left\"}, \"hovermode\": \"closest\", \"mapbox\": {\"style\": \"light\"}, \"paper_bgcolor\": \"white\", \"plot_bgcolor\": \"white\", \"polar\": {\"angularaxis\": {\"gridcolor\": \"#EBF0F8\", \"linecolor\": \"#EBF0F8\", \"ticks\": \"\"}, \"bgcolor\": \"white\", \"radialaxis\": {\"gridcolor\": \"#EBF0F8\", \"linecolor\": \"#EBF0F8\", \"ticks\": \"\"}}, \"scene\": {\"xaxis\": {\"backgroundcolor\": \"white\", \"gridcolor\": \"#DFE8F3\", \"gridwidth\": 2, \"linecolor\": \"#EBF0F8\", \"showbackground\": true, \"ticks\": \"\", \"zerolinecolor\": \"#EBF0F8\"}, \"yaxis\": {\"backgroundcolor\": \"white\", \"gridcolor\": \"#DFE8F3\", \"gridwidth\": 2, \"linecolor\": \"#EBF0F8\", \"showbackground\": true, \"ticks\": \"\", \"zerolinecolor\": \"#EBF0F8\"}, \"zaxis\": {\"backgroundcolor\": \"white\", \"gridcolor\": \"#DFE8F3\", \"gridwidth\": 2, \"linecolor\": \"#EBF0F8\", \"showbackground\": true, \"ticks\": \"\", \"zerolinecolor\": \"#EBF0F8\"}}, \"shapedefaults\": {\"line\": {\"color\": \"#2a3f5f\"}}, \"ternary\": {\"aaxis\": {\"gridcolor\": \"#DFE8F3\", \"linecolor\": \"#A2B1C6\", \"ticks\": \"\"}, \"baxis\": {\"gridcolor\": \"#DFE8F3\", \"linecolor\": \"#A2B1C6\", \"ticks\": \"\"}, \"bgcolor\": \"white\", \"caxis\": {\"gridcolor\": \"#DFE8F3\", \"linecolor\": \"#A2B1C6\", \"ticks\": \"\"}}, \"title\": {\"x\": 0.05}, \"xaxis\": {\"automargin\": true, \"gridcolor\": \"#EBF0F8\", \"linecolor\": \"#EBF0F8\", \"ticks\": \"\", \"title\": {\"standoff\": 15}, \"zerolinecolor\": \"#EBF0F8\", \"zerolinewidth\": 2}, \"yaxis\": {\"automargin\": true, \"gridcolor\": \"#EBF0F8\", \"linecolor\": \"#EBF0F8\", \"ticks\": \"\", \"title\": {\"standoff\": 15}, \"zerolinecolor\": \"#EBF0F8\", \"zerolinewidth\": 2}}}, \"title\": {\"text\": \"$\\\\text{Static Schedule}\\\\ (n=15)$\"}, \"xaxis\": {\"dtick\": 1, \"range\": [1.7, 15.3], \"title\": {\"text\": \"$\\\\text{Client Position}\\\\ (i)$\"}}, \"yaxis\": {\"range\": [0, 3], \"title\": {\"text\": \"$\\\\text{Interarrival Time}\\\\ (x_i)$\"}}},\n",
       "                        {\"responsive\": true}\n",
       "                    ).then(function(){\n",
       "                            \n",
       "var gd = document.getElementById('4d757061-dbf7-4dcf-8973-52b48eca2a0d');\n",
       "var x = new MutationObserver(function (mutations, observer) {{\n",
       "        var display = window.getComputedStyle(gd).display;\n",
       "        if (!display || display === 'none') {{\n",
       "            console.log([gd, 'removed!']);\n",
       "            Plotly.purge(gd);\n",
       "            observer.disconnect();\n",
       "        }}\n",
       "}});\n",
       "\n",
       "// Listen for the removal of the full notebook cells\n",
       "var notebookContainer = gd.closest('#notebook-container');\n",
       "if (notebookContainer) {{\n",
       "    x.observe(notebookContainer, {childList: true});\n",
       "}}\n",
       "\n",
       "// Listen for the clearing of the current output cell\n",
       "var outputEl = gd.closest('.output');\n",
       "if (outputEl) {{\n",
       "    x.observe(outputEl, {childList: true});\n",
       "}}\n",
       "\n",
       "                        })\n",
       "                };\n",
       "                });\n",
       "            </script>\n",
       "        </div>"
      ]
     },
     "metadata": {},
     "output_type": "display_data"
    }
   ],
   "source": [
    "palette = cycle(px.colors.sequential.algae)\n",
    "inter_times = np.diff(optimizations)\n",
    "\n",
    "fig = go.Figure()\n",
    "\n",
    "for i in range(9):\n",
    "    \n",
    "    omega = 0.1 * (i + 1)\n",
    "    fig.add_trace(go.Scatter(x=np.arange(2,n+1), y=inter_times[i],\n",
    "                             name=f'${omega:.1f}$', marker_color=next(palette)))\n",
    "\n",
    "fig.update_layout(\n",
    "    template='plotly_white',\n",
    "    title='$\\\\text{Static Schedule}\\ (n=15)$',\n",
    "    legend_title='$\\\\text{Omega}\\ (\\omega)$', \n",
    "    xaxis = {'title': '$\\\\text{Client Position}\\ (i)$', 'range': [1.7, n + 0.3], 'dtick': 1},\n",
    "    yaxis = {'title': '$\\\\text{Interarrival Time}\\ (x_i)$', 'range': [0,3]}\n",
    ")\n",
    "\n",
    "fig.show()"
   ]
  },
  {
   "cell_type": "markdown",
   "metadata": {},
   "source": [
    "## Heterogeneous Exponential Case\n",
    "\n",
    "Now we consider the case that the service tasks $B_i$ are independent and _heterogeneous exponentially_ distributed, i.e. $B_i \\sim \\text{Exp}(\\mu_i)$, $i=1,\\dots,n$. For ease we assume that all $\\mu_i$ are distinct, i.e., $\\mu_i \\neq \\mu_j$ for $i,j = 1,\\dots,n$, $i\\neq j$, but the case that some of the $\\mu_i$ coincide can be considered analogously. We obtain the following result.\n",
    "\n",
    "<div class=\"alert alert-warning\">\n",
    "<b>Lemma 2.12.</b>\n",
    "For $k=1,\\dots,n$ and $\\ell=0,\\dots,n-k$, we can write the density $\\varphi_{k\\ell}$ as\n",
    "\\[\n",
    "\\varphi_{k\\ell}(s) := \\mathbb{P}\\left(\\sum_{j=k}^{k+\\ell}B_j \\in\\mathrm{d}s\\right)\n",
    "= \\sum_{j=k}^{k+\\ell}c_{k\\ell j}e^{-\\mu_j s},\\quad s \\geq 0.\n",
    "\\]\n",
    "The coefficients $c_{k\\ell j}$ are given recursively through $c_{k0k} = \\mu_k$ and\n",
    "\\[\n",
    "c_{k,\\ell+1,j} = c_{k\\ell j}\\frac{\\mu_{k+\\ell+1}}{\\mu_{k+\\ell+1} - \\mu_j}\\quad \\text{for}\\ j = k,\\dots,k+\\ell,\\quad c_{k,\\ell+1,k+\\ell+1} = \\sum_{j=k}^{k+\\ell}c_{k\\ell j}\\frac{\\mu_{k+\\ell+1}}{\\mu_j - \\mu_{k+\\ell+1}}.\n",
    "\\]\n",
    "</div>\n",
    "\n",
    "<div class=\"alert alert-warning\">\n",
    "<b>Proposition 2.16.</b>\n",
    "For $i=1,\\dots,n-1$, $k=1,\\dots,i$, $\\ell = 2,\\dots,k+1$ and $t\\geq 0$,\n",
    "\\[\n",
    "p_{k1,i}(t) = 1 - \\sum_{\\ell=2}^{k+1}p_{k\\ell,i}(t),\\quad\n",
    "p_{k\\ell,i}(t) = \\frac{\\varphi_{i-k+1,k-\\ell+1}(t)}{\\mu_{i-\\ell+2}}.\n",
    "\\]\n",
    "</div>\n",
    "\n",
    "<div class=\"alert alert-warning\">\n",
    "<b>Proposition 2.17.</b>\n",
    "For $i=1,\\dots,n-1$ and $k=1,\\dots,i$,\n",
    "\\begin{align*}\n",
    "f_{k,i}(t) = t - \\sum_{j=i-k+1}^{i}\\frac{c_{i-k+1,k-1,j}}{\\mu_j}\\psi_{j}(t),\n",
    "\\quad\n",
    "g_{k,i}(t) = \\sum_{\\ell=0}^{k-1}(k-\\ell-1)\\sum_{j=i-k+1}^{i-k+\\ell+1}\\frac{c_{i-k+1,\\ell,j}}{\\mu_{i-k+\\ell+1}}\\psi_{j}(t),\n",
    "\\end{align*}\n",
    "with $\\psi_{j}(t) = (1 - e^{-\\mu_j t})/\\mu_j$.\n",
    "</div>\n",
    "\n",
    "<div class=\"alert alert-warning\">\n",
    "<b>Theorem 2.18.</b>\n",
    "Let $N_s$ denote the number of clients at time $s\\geq 0$. Suppose that the clients are scheduled at (strictly increasing) times $t_1 = 0, t_2,\\dots,t_n$. Then, for $i=1,\\dots,n$,\n",
    "\\[\n",
    "\\mathbb{E}I_i = \\sum_{k=1}^{i-1}f_{k,i-1}(x_{i})\\mathbb{P}(N_{t_{i-1}} = k),\\quad\n",
    "\\mathbb{E}W_i = \\sum_{k=1}^{i-1}g_{k,i-1}(x_{i})\\mathbb{P}(N_{t_{i-1}} = k),\n",
    "\\]\n",
    "where the following recursion holds: $\\mathbb{P}(N_{t_1} = 1) = 1$ and for $i=2,\\dots,n$ and $j = 1,\\dots,i$,\n",
    "\\begin{align*}\n",
    "\\mathbb{P}(N_{t_i} = j) = \\sum_{k=\\max\\{1,j-1\\}}^{i-1}p_{kj,i-1}(x_{i})\\mathbb{P}(N_{t_{i-1}} = k).\n",
    "\\end{align*}\n",
    "</div>\n",
    "\n",
    "These formulas lead to the following implementation."
   ]
  },
  {
   "cell_type": "code",
   "execution_count": null,
   "metadata": {},
   "outputs": [],
   "source": []
  },
  {
   "cell_type": "code",
   "execution_count": null,
   "metadata": {},
   "outputs": [],
   "source": []
  },
  {
   "cell_type": "code",
   "execution_count": null,
   "metadata": {},
   "outputs": [],
   "source": []
  },
  {
   "cell_type": "code",
   "execution_count": null,
   "metadata": {},
   "outputs": [],
   "source": [
    "# mu = 1\n",
    "# n = 15\n",
    "\n",
    "# optimizations = []\n",
    "# costs = []\n",
    "\n",
    "# for omega in np.arange(0.1,1,0.1):\n",
    "    \n",
    "#     url = f'http://www.appointmentscheduling.info/index.php?SCV=1&N={n}&omega={omega}&objFun=1'\n",
    "\n",
    "#     # opening up connection, grabbing the page\n",
    "#     uClient = urlopen(url)\n",
    "#     page_html = uClient.read()\n",
    "#     uClient.close()\n",
    "\n",
    "#     # html parsing\n",
    "#     page_soup = soup(page_html, \"html.parser\")\n",
    "#     table = page_soup.findAll(\"table\", {\"class\": \"bordered\"})[1]\n",
    "\n",
    "#     # get appointment schedule\n",
    "#     df = pd.read_html(str(table))[0]\n",
    "#     schedule = df[df.columns[2]].values[:-2]\n",
    "    \n",
    "#     optimizations += [schedule]\n",
    "    \n",
    "# #     optimization = minimize(static_cost_hom, schedule, args=(mu, omega))#, method='BFGS')\n",
    "# #     optimization.x -= optimization.x[0] # let the schedule start at time 0\n",
    "    \n",
    "# #     optimizations += [optimization.x]\n",
    "# #     costs += [optimization.fun]\n"
   ]
  },
  {
   "cell_type": "code",
   "execution_count": null,
   "metadata": {},
   "outputs": [],
   "source": []
  },
  {
   "cell_type": "markdown",
   "metadata": {},
   "source": [
    "## Phase-Type Case\n",
    "\n",
    "Our most general case consists of service time distributions constructed by convolutions and mixtures of exponential distributions, the so-called _phase-type distributions_.\n",
    "\n",
    "### Phase-Type Fit\n",
    "\n",
    "There are two special cases of phase-type distributions that are of particular interest: the weighted Erlang distribution and the hyperexponential distribution. The idea is to fit the first two moments of the real service-time distribution. The former distribution can be used to approximate any non-negative distribution with coefficient of variation below 1, whereas the latter can be used if this coefficient of variation is larger than 1. The parameters of the weighted Erlang and hyperexponential distribution are obtained with the following function."
   ]
  },
  {
   "cell_type": "code",
   "execution_count": 7,
   "metadata": {
    "ExecuteTime": {
     "end_time": "2020-10-18T18:05:19.064632Z",
     "start_time": "2020-10-18T18:05:19.040614Z"
    }
   },
   "outputs": [],
   "source": [
    "def SCV_to_params(SCV, mean=1):\n",
    "    \n",
    "    # weighted Erlang case\n",
    "    if SCV <= 1:\n",
    "        K = math.floor(1/SCV)\n",
    "        p = ((K + 1) * SCV - math.sqrt((K + 1) * (1 - K * SCV))) / (SCV + 1)\n",
    "        mu = K + (1 - p) / mean\n",
    "    \n",
    "        return K, p, mu\n",
    "    \n",
    "    # hyperexponential case\n",
    "    else:\n",
    "        p = 0.5 * (1 + np.sqrt((SCV - 1) / (SCV + 1)))\n",
    "        mu = 1 / mean\n",
    "        mu1 = 2 * p * mu\n",
    "        mu2 = 2 * (1 - p) * mu\n",
    "        \n",
    "        return p, mu1, mu2"
   ]
  },
  {
   "cell_type": "markdown",
   "metadata": {},
   "source": [
    "In the following subsections we develop procedures for finding the optimal static schedule in the weighted Erlang case and the hyperexponential case, respectively.\n",
    "\n",
    "### Weighted Erlang Distribution"
   ]
  },
  {
   "cell_type": "code",
   "execution_count": 24,
   "metadata": {
    "ExecuteTime": {
     "end_time": "2020-10-11T11:58:16.285540Z",
     "start_time": "2020-10-11T11:58:16.273634Z"
    }
   },
   "outputs": [],
   "source": [
    "n = 10\n",
    "omega = 0.3\n",
    "SCV = 0.8\n",
    "K, p, mu = SCV_to_params(SCV)"
   ]
  },
  {
   "cell_type": "code",
   "execution_count": null,
   "metadata": {},
   "outputs": [],
   "source": []
  },
  {
   "cell_type": "code",
   "execution_count": 25,
   "metadata": {
    "ExecuteTime": {
     "end_time": "2020-10-11T11:58:17.591114Z",
     "start_time": "2020-10-11T11:58:17.531338Z"
    }
   },
   "outputs": [],
   "source": [
    "def trans_p(k,l,y,z,t,K,p,mu):\n",
    "    \n",
    "    # 1. No client has been served before time t.\n",
    "    if l == k + 1:\n",
    "        if y <= K and z <= K:\n",
    "            return poisson.pmf(z-y, mu*t)\n",
    "        elif y <= K and z == K+1:\n",
    "            return (1-p) * poisson.pmf(K+1-y, mu*t)\n",
    "        elif y == K+1 and z == K+1:\n",
    "            return np.exp(-mu * t)\n",
    "    \n",
    "    # 2. All clients have been served before time t.\n",
    "    elif l == 1 and z == 1:\n",
    "        if y <= K:\n",
    "            return sum([binom.pmf(m, k, 1-p) * erlang.cdf(t, k*K-y+m+1, scale=1/mu) for m in range(k+1)])\n",
    "        elif y == K+1:\n",
    "            return sum([binom.pmf(m, k-1, 1-p) * erlang.cdf(t, (k-1)*K+m+1, scale=1/mu) for m in range(k)])\n",
    "    \n",
    "    # 3. Some (but not all) clients have been served before time t.\n",
    "    elif 2 <= l <= k:\n",
    "        if y <= K:  \n",
    "            if z <= K:\n",
    "                return sum([binom.pmf(m, k-l+1, 1-p) * poisson.pmf((k-l+1)*K+m+z-y, mu*t) for m in range(k-l+2)])\n",
    "            elif z == K+1:\n",
    "                return (1-p) * sum([binom.pmf(m, k-l+1, 1-p) * poisson.pmf((k-l+1)*K+m+z-y, mu*t) for m in range(k-l+2)])\n",
    "        \n",
    "        elif y == K+1:\n",
    "            if z <= K:\n",
    "                return sum([binom.pmf(m, k-l, 1-p) * poisson.pmf((k-l)*K+m+z, mu*t) for m in range(k-l+1)])\n",
    "            elif z == K+1:\n",
    "                return (1-p) * sum([binom.pmf(m, k-l, 1-p) * poisson.pmf((k-l)*K+m+z, mu*t) for m in range(k-l+1)])\n",
    "    \n",
    "    # any other case is invalid\n",
    "    return 0\n",
    "    "
   ]
  },
  {
   "cell_type": "code",
   "execution_count": 26,
   "metadata": {
    "ExecuteTime": {
     "end_time": "2020-10-11T11:58:18.640124Z",
     "start_time": "2020-10-11T11:58:18.565347Z"
    }
   },
   "outputs": [],
   "source": [
    "def f(k,t,mu):\n",
    "    return poisson.sf(k-1, mu*t) * t - poisson.sf(k, mu*t) * k / mu\n",
    "\n",
    "def f_bar(t,k,y,K,p,mu):\n",
    "    if y <= K:\n",
    "        return sum([binom.pmf(m, k, 1-p) * f(k*K-y+m+1, t, mu) for m in range(k+1)])\n",
    "    elif y == K+1:\n",
    "        return sum([binom.pmf(m, k, 1-p) * f((k-1)*K+m+1, t, mu) for m in range(k)])\n",
    "\n",
    "def h_bar(k,y,K,p,mu):\n",
    "    if k == 1:\n",
    "        return 0\n",
    "    else:\n",
    "        if y <= K:\n",
    "            return ((k-1)*(K+1-p) + 1 - y) / mu\n",
    "        elif y == K+1:\n",
    "            return ((k-2)*(K+1-p) + 1) / mu\n",
    "\n",
    "def compute_probs_we(t,K,p,mu):\n",
    "    \"\"\"\n",
    "    Computes P(N_ti = j, Z_ti = z) for i=1,...,n, j=1,...,i and z=1,...,K.\n",
    "    \"\"\"\n",
    "    \n",
    "    n = len(t)\n",
    "    probs = [[[None for z in range(K+1)] for j in range(i+1)] for i in range(n)]\n",
    "    \n",
    "    probs[0][0][0] = 1\n",
    "    for z in range(2,K+2):\n",
    "        probs[0][0][z-1] = 0\n",
    "    \n",
    "    for i in range(2,n+1):\n",
    "        \n",
    "        x_i = t[i-1] - t[i-2]\n",
    "        \n",
    "        for j in range(1,i+1):\n",
    "            for z in range(1,K+2):\n",
    "                probs[i-1][j-1][z-1] = 0\n",
    "\n",
    "                for k in range(max(1,j-1),i):\n",
    "                    for y in range(1,K+2):\n",
    "                        probs[i-1][j-1][z-1] += trans_p(k,j,y,z,x_i,K,p,mu) * probs[i-2][k-1][y-1]\n",
    "    return probs\n",
    "\n",
    "    \n",
    "def static_cost_we(t,K,p,mu,omega):\n",
    "    \"\"\"\n",
    "    Computes the cost of a static schedule in the weighted Erlang case.\n",
    "    \"\"\"\n",
    "    \n",
    "    n = len(t)\n",
    "    \n",
    "    # total expected waiting/idle time\n",
    "    sum_EW, sum_EI = 0, 0\n",
    "    probs = compute_probs_we(t,K,p,mu)\n",
    "    \n",
    "    for i in range(2,n+1):\n",
    "        \n",
    "        # waiting time\n",
    "        for k in range(2,i+1):\n",
    "            for y in range(1,K+2):\n",
    "                sum_EW += h_bar(k,y,K,p,mu) * probs[i-1][k-1][y-1]\n",
    "        \n",
    "        # idle time\n",
    "        for k in range(1,i):\n",
    "            for y in range(1,K+2):\n",
    "                \n",
    "                x_i = t[i-1] - t[i-2]\n",
    "                sum_EI += f_bar(x_i,k,y,K,p,mu) * probs[i-2][k-1][y-1]\n",
    "            \n",
    "    return omega * sum_EI + (1 - omega) * sum_EW"
   ]
  },
  {
   "cell_type": "code",
   "execution_count": 27,
   "metadata": {
    "ExecuteTime": {
     "end_time": "2020-10-11T12:07:13.687467Z",
     "start_time": "2020-10-11T11:58:19.729853Z"
    }
   },
   "outputs": [
    {
     "name": "stdout",
     "output_type": "stream",
     "text": [
      "      fun: 3.580034547607752\n",
      " hess_inv: array([[ 4.19452104,  2.84195898,  1.38572263,  0.62490717, -0.18975768,\n",
      "        -1.02006866, -1.40826001, -1.43929191, -1.80190108, -2.18876368],\n",
      "       [ 2.84195898,  3.76511582,  1.71842193,  0.55982141, -0.27227133,\n",
      "        -0.81781783, -1.23218493, -1.64640379, -1.96379139, -1.95292545],\n",
      "       [ 1.38572263,  1.71842193,  2.67302163,  0.97703094,  0.16822227,\n",
      "        -0.53260319, -1.09226044, -1.46582383, -1.5020256 , -1.32982266],\n",
      "       [ 0.62490717,  0.55982141,  0.97703094,  2.55002228,  1.00544771,\n",
      "        -0.18510747, -0.94032073, -0.96789357, -1.12222627, -1.50293584],\n",
      "       [-0.18975768, -0.27227133,  0.16822227,  1.00544771,  2.06007638,\n",
      "         0.47297368, -0.03328244, -0.24711655, -0.72107403, -1.24407876],\n",
      "       [-1.02006866, -0.81781783, -0.53260319, -0.18510747,  0.47297368,\n",
      "         2.03712382,  1.05961826,  0.49222479, -0.13859368, -0.36737502],\n",
      "       [-1.40826001, -1.23218493, -1.09226044, -0.94032073, -0.03328244,\n",
      "         1.05961826,  2.47049006,  1.0337853 ,  0.58460268,  0.55869472],\n",
      "       [-1.43929191, -1.64640379, -1.46582383, -0.96789357, -0.24711655,\n",
      "         0.49222479,  1.0337853 ,  2.32284996,  1.45495713,  1.46302524],\n",
      "       [-1.80190108, -1.96379139, -1.5020256 , -1.12222627, -0.72107403,\n",
      "        -0.13859368,  0.58460268,  1.45495713,  3.39188899,  2.81854845],\n",
      "       [-2.18876368, -1.95292545, -1.32982266, -1.50293584, -1.24407876,\n",
      "        -0.36737502,  0.55869472,  1.46302524,  2.81854845,  4.74691065]])\n",
      "      jac: array([ 2.95042992e-06, -4.70876694e-06,  3.36766243e-06, -8.94069672e-08,\n",
      "       -4.44054604e-06, -2.98023224e-08,  1.28149986e-06,  8.04662704e-07,\n",
      "        4.20212746e-06, -3.36766243e-06])\n",
      "  message: 'Optimization terminated successfully.'\n",
      "     nfev: 216\n",
      "      nit: 17\n",
      "     njev: 18\n",
      "   status: 0\n",
      "  success: True\n",
      "        x: array([ 0.        ,  1.48204366,  3.31593562,  5.17748089,  7.04871123,\n",
      "        8.9197637 , 10.78274305, 12.62404002, 14.40783333, 15.96000891])\n"
     ]
    }
   ],
   "source": [
    "optimization = minimize(static_cost_we, range(n), args=(K,p,mu,omega))\n",
    "optimization.x -= optimization.x[0] # let the schedule start at time 0\n",
    "print(optimization)"
   ]
  },
  {
   "cell_type": "code",
   "execution_count": null,
   "metadata": {},
   "outputs": [],
   "source": []
  },
  {
   "cell_type": "code",
   "execution_count": null,
   "metadata": {},
   "outputs": [],
   "source": []
  },
  {
   "cell_type": "code",
   "execution_count": null,
   "metadata": {},
   "outputs": [],
   "source": []
  },
  {
   "cell_type": "code",
   "execution_count": null,
   "metadata": {},
   "outputs": [],
   "source": []
  },
  {
   "cell_type": "markdown",
   "metadata": {},
   "source": [
    "### Hyperexponential Distribution"
   ]
  },
  {
   "cell_type": "code",
   "execution_count": 1,
   "metadata": {
    "ExecuteTime": {
     "end_time": "2020-10-16T12:00:26.770756Z",
     "start_time": "2020-10-16T12:00:26.712639Z"
    }
   },
   "outputs": [],
   "source": [
    "def trans_p(k,l,y,z,t,p,mu1,mu2):\n",
    "    \n",
    "    # 1. No client has been served before time t.\n",
    "    if l == k+1 and z == y:\n",
    "        if y == 1:\n",
    "            return np.exp(-mu1 * t)\n",
    "        elif y == 2:\n",
    "            return np.exp(-mu2 * t)\n",
    "    \n",
    "    # 2. All clients have been served before time t.\n",
    "    elif l == 1:\n",
    "        if y == 1:\n",
    "            prob = sum([binom.pmf(m, k-1, p) * psi(t, m+1, k-1-m, mu1, mu2) for m in range(k)])\n",
    "            if z == 1:\n",
    "                return p * prob\n",
    "            elif z == 2:\n",
    "                return (1-p) * prob\n",
    "        elif y == 2:\n",
    "            prob = sum([binom.pmf(m, k-1, p) * psi(t, m, k-m, mu1, mu2) for m in range(k)])\n",
    "            if z == 1:\n",
    "                return p * prob\n",
    "            elif z == 2:\n",
    "                return (1-p) * prob\n",
    "    \n",
    "    # 3. Some (but not all) clients have been served before time t.\n",
    "    elif 2 <= l <= k:\n",
    "        if y == 1:\n",
    "            prob_diff = sum([binom.pmf(m, k-l, p) * psi(t, m+1, k-l-m, mu1, mu2) for m in range(k-l+1)]) \\\n",
    "                            - sum([binom.pmf(m, k-l+1, p) * psi(t, m+1, k-l+1-m, mu1, mu2) for m in range(k-l+2)])\n",
    "            if z == 1:\n",
    "                return p * prob_diff\n",
    "            elif z == 2:\n",
    "                return (1-p) * prob_diff\n",
    "        elif y == 2:\n",
    "            prob_diff = sum([binom.pmf(m, k-l, p) * psi(t, m, k-l+1-m, mu1, mu2) for m in range(k-l+1)]) \\\n",
    "                            - sum([binom.pmf(m, k-l+1, p) * psi(t, m, k-l+2-m, mu1, mu2) for m in range(k-l+2)])\n",
    "            if z == 1:\n",
    "                return p * prob_diff\n",
    "            elif z == 2:\n",
    "                return (1-p) * prob_diff\n",
    "    \n",
    "    # any other case is invalid\n",
    "    return 0\n"
   ]
  },
  {
   "cell_type": "code",
   "execution_count": 2,
   "metadata": {
    "ExecuteTime": {
     "end_time": "2020-10-16T12:00:28.169014Z",
     "start_time": "2020-10-16T12:00:28.115054Z"
    }
   },
   "outputs": [],
   "source": [
    "def zeta(alpha, t, k):\n",
    "    \n",
    "    if not k:\n",
    "        return (np.exp(alpha * t) - 1) / alpha\n",
    "    else:\n",
    "        return ((t ** k) * np.exp(alpha * t) - k * zeta(alpha, t, k-1)) / alpha\n",
    "\n",
    "def rho(t,m,k,mu1,mu2):\n",
    "    \n",
    "    if not k:\n",
    "        return np.exp(-mu2 * t) * (mu1 ** m) / ((mu1 - mu2) ** (m + 1)) * erlang.cdf(t, m+1, scale=1/(mu1 - mu2))\n",
    "    elif not m:\n",
    "        return np.exp(-mu1 * t) * (mu2 ** k) / math.factorial(k) * zeta(mu1-mu2, t, k)\n",
    "    else:\n",
    "        return (mu1 * rho(t, m-1, k, mu1, mu2) - mu2 * rho(t, m, k-1, mu1, mu2)) / (mu1 - mu2)\n",
    "\n",
    "def psi(t,m,k,mu1,mu2):\n",
    "    \n",
    "    if not m:\n",
    "        return erlang.cdf(t, k, scale=1/mu2)\n",
    "    else:\n",
    "        return erlang.cdf(t, m, scale=1/mu1) - mu1 * sum([rho(t, m-1, i, mu1, mu2) for i in range(k)])\n",
    "    \n",
    "def sigma(t,m,k,mu1,mu2):\n",
    "    \n",
    "    if not k:\n",
    "        return t * erlang.cdf(t, m, scale=1/mu1) - (m / mu1) * erlang.cdf(t, m+1, scale=1/mu1)\n",
    "    elif not m:\n",
    "        return t * erlang.cdf(t, k, scale=1/mu2) - (k / mu2) * erlang.cdf(t, k+1, scale=1/mu2)\n",
    "    else:\n",
    "        return (t - k / mu2) * erlang.cdf(t, m, scale=1/mu1) - (m / mu1) * erlang.cdf(t, m+1, scale=1/mu1) \\\n",
    "                    + (mu1 / mu2) * sum([(k - i) * rho(t, m-1, i, mu1, mu2) for i in range(k)])\n"
   ]
  },
  {
   "cell_type": "code",
   "execution_count": 3,
   "metadata": {
    "ExecuteTime": {
     "end_time": "2020-10-16T12:00:32.555420Z",
     "start_time": "2020-10-16T12:00:32.483573Z"
    }
   },
   "outputs": [],
   "source": [
    "def f_bar(t,k,y,p,mu1,mu2):\n",
    "    \n",
    "    if y == 1:\n",
    "        return sum([binom.pmf(m, k-1, p) * sigma(t, m+1, k-1-m, mu1, mu2) for m in range(k)])\n",
    "    elif y == 2:\n",
    "        return sum([binom.pmf(m, k-1, p) * sigma(t, m, k-m, mu1, mu2) for m in range(k)])\n",
    "\n",
    "def h_bar(k,y,mu1,mu2):\n",
    "    \n",
    "    if k == 1:\n",
    "        return 0\n",
    "    else:\n",
    "        if y == 1:\n",
    "            return (k-2) + (1/mu1)\n",
    "        elif y == 2:\n",
    "            return (k-2) + (1/mu2)\n",
    "\n",
    "def compute_probs_hyp(t,p,mu1,mu2):\n",
    "    \"\"\"\n",
    "    Computes P(N_ti = j, Z_ti = z) for i=1,...,n, j=1,...,i and z=1,2.\n",
    "    \"\"\"\n",
    "    \n",
    "    n = len(t)\n",
    "    probs = [[[None for z in range(2)] for j in range(i+1)] for i in range(n)]\n",
    "    \n",
    "    probs[0][0][0] = p\n",
    "    probs[0][0][1] = 1 - p\n",
    "    \n",
    "    for i in range(2,n+1):\n",
    "        \n",
    "        x_i = t[i-1] - t[i-2]\n",
    "        \n",
    "        for j in range(1,i+1):\n",
    "            for z in range(1,3):\n",
    "                probs[i-1][j-1][z-1] = 0\n",
    "\n",
    "                for k in range(max(1,j-1),i):\n",
    "                    for y in range(1,3):\n",
    "                        probs[i-1][j-1][z-1] += trans_p(k,j,y,z,x_i,p,mu1,mu2) * probs[i-2][k-1][y-1]\n",
    "    return probs\n",
    "\n",
    "def static_cost_hyp(t,p,mu1,mu2,omega):\n",
    "    \"\"\"\n",
    "    Computes the cost of a static schedule in the weighted Erlang case.\n",
    "    \"\"\"\n",
    "    \n",
    "    n = len(t)\n",
    "    \n",
    "    # total expected waiting/idle time\n",
    "    sum_EW, sum_EI = 0, 0\n",
    "    probs = compute_probs_hyp(t, p, mu1, mu2)\n",
    "    \n",
    "    for i in range(2,n+1):\n",
    "        \n",
    "        # waiting time\n",
    "        for k in range(2,i+1):\n",
    "            sum_EW += h_bar(k, 1, mu1, mu2) * probs[i-1][k-1][0] + h_bar(k, 2, mu1, mu2) * probs[i-1][k-1][1]\n",
    "        \n",
    "        # idle time\n",
    "        for k in range(1,i):                \n",
    "            x_i = t[i-1] - t[i-2]\n",
    "            sum_EI += f_bar(x_i, k, 1, p, mu1, mu2) * probs[i-2][k-1][0] + f_bar(x_i, k, 2, p, mu1, mu2) * probs[i-2][k-1][1]\n",
    "    \n",
    "    return omega * sum_EI + (1 - omega) * sum_EW\n"
   ]
  },
  {
   "cell_type": "code",
   "execution_count": 4,
   "metadata": {
    "ExecuteTime": {
     "end_time": "2020-10-16T12:00:34.128145Z",
     "start_time": "2020-10-16T12:00:33.897884Z"
    }
   },
   "outputs": [
    {
     "ename": "NameError",
     "evalue": "name 'minimize' is not defined",
     "output_type": "error",
     "traceback": [
      "\u001b[1;31m---------------------------------------------------------------------------\u001b[0m",
      "\u001b[1;31mNameError\u001b[0m                                 Traceback (most recent call last)",
      "\u001b[1;32m<ipython-input-4-c5f7413e7484>\u001b[0m in \u001b[0;36m<module>\u001b[1;34m\u001b[0m\n\u001b[1;32m----> 1\u001b[1;33m \u001b[0moptimization\u001b[0m \u001b[1;33m=\u001b[0m \u001b[0mminimize\u001b[0m\u001b[1;33m(\u001b[0m\u001b[0mstatic_cost_hyp\u001b[0m\u001b[1;33m,\u001b[0m \u001b[0mrange\u001b[0m\u001b[1;33m(\u001b[0m\u001b[0mn\u001b[0m\u001b[1;33m)\u001b[0m\u001b[1;33m,\u001b[0m \u001b[0margs\u001b[0m\u001b[1;33m=\u001b[0m\u001b[1;33m(\u001b[0m\u001b[0mp\u001b[0m\u001b[1;33m,\u001b[0m\u001b[0mmu1\u001b[0m\u001b[1;33m,\u001b[0m\u001b[0mmu2\u001b[0m\u001b[1;33m,\u001b[0m\u001b[0momega\u001b[0m\u001b[1;33m)\u001b[0m\u001b[1;33m)\u001b[0m\u001b[1;33m\u001b[0m\u001b[1;33m\u001b[0m\u001b[0m\n\u001b[0m\u001b[0;32m      2\u001b[0m \u001b[0moptimization\u001b[0m\u001b[1;33m.\u001b[0m\u001b[0mx\u001b[0m \u001b[1;33m-=\u001b[0m \u001b[0moptimization\u001b[0m\u001b[1;33m.\u001b[0m\u001b[0mx\u001b[0m\u001b[1;33m[\u001b[0m\u001b[1;36m0\u001b[0m\u001b[1;33m]\u001b[0m \u001b[1;31m# let the schedule start at time 0\u001b[0m\u001b[1;33m\u001b[0m\u001b[1;33m\u001b[0m\u001b[0m\n\u001b[0;32m      3\u001b[0m \u001b[0mprint\u001b[0m\u001b[1;33m(\u001b[0m\u001b[0moptimization\u001b[0m\u001b[1;33m)\u001b[0m\u001b[1;33m\u001b[0m\u001b[1;33m\u001b[0m\u001b[0m\n",
      "\u001b[1;31mNameError\u001b[0m: name 'minimize' is not defined"
     ]
    }
   ],
   "source": [
    "optimization = minimize(static_cost_hyp, range(n), args=(p,mu1,mu2,omega))\n",
    "optimization.x -= optimization.x[0] # let the schedule start at time 0\n",
    "print(optimization)"
   ]
  },
  {
   "cell_type": "code",
   "execution_count": null,
   "metadata": {},
   "outputs": [],
   "source": []
  },
  {
   "cell_type": "code",
   "execution_count": null,
   "metadata": {},
   "outputs": [],
   "source": []
  },
  {
   "cell_type": "code",
   "execution_count": null,
   "metadata": {},
   "outputs": [],
   "source": []
  },
  {
   "cell_type": "code",
   "execution_count": null,
   "metadata": {},
   "outputs": [],
   "source": []
  }
 ],
 "metadata": {
  "kernelspec": {
   "display_name": "Python 3",
   "language": "python",
   "name": "python3"
  },
  "language_info": {
   "codemirror_mode": {
    "name": "ipython",
    "version": 3
   },
   "file_extension": ".py",
   "mimetype": "text/x-python",
   "name": "python",
   "nbconvert_exporter": "python",
   "pygments_lexer": "ipython3",
   "version": "3.7.7"
  },
  "latex_envs": {
   "LaTeX_envs_menu_present": true,
   "autoclose": false,
   "autocomplete": true,
   "bibliofile": "biblio.bib",
   "cite_by": "apalike",
   "current_citInitial": 1,
   "eqLabelWithNumbers": true,
   "eqNumInitial": 1,
   "hotkeys": {
    "equation": "Ctrl-E",
    "itemize": "Ctrl-I"
   },
   "labels_anchors": false,
   "latex_user_defs": false,
   "report_style_numbering": false,
   "user_envs_cfg": true
  },
  "toc": {
   "base_numbering": 1,
   "nav_menu": {},
   "number_sections": true,
   "sideBar": true,
   "skip_h1_title": false,
   "title_cell": "Table of Contents",
   "title_sidebar": "Contents",
   "toc_cell": true,
   "toc_position": {},
   "toc_section_display": true,
   "toc_window_display": false
  },
  "varInspector": {
   "cols": {
    "lenName": 16,
    "lenType": 16,
    "lenVar": 40
   },
   "kernels_config": {
    "python": {
     "delete_cmd_postfix": "",
     "delete_cmd_prefix": "del ",
     "library": "var_list.py",
     "varRefreshCmd": "print(var_dic_list())"
    },
    "r": {
     "delete_cmd_postfix": ") ",
     "delete_cmd_prefix": "rm(",
     "library": "var_list.r",
     "varRefreshCmd": "cat(var_dic_list()) "
    }
   },
   "types_to_exclude": [
    "module",
    "function",
    "builtin_function_or_method",
    "instance",
    "_Feature"
   ],
   "window_display": false
  }
 },
 "nbformat": 4,
 "nbformat_minor": 4
}
