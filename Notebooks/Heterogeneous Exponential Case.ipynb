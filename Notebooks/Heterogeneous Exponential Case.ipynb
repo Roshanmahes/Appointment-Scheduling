{
 "cells": [
  {
   "cell_type": "markdown",
   "metadata": {
    "hide_input": true
   },
   "source": [
    "## Approach 1: Dynamic Programming\n",
    "\n",
    "Throughout this document, the following packages are required:"
   ]
  },
  {
   "cell_type": "code",
   "execution_count": 1,
   "metadata": {
    "hide_input": false
   },
   "outputs": [],
   "source": [
    "import numpy as np\n",
    "import scipy, math\n",
    "from scipy.stats import poisson\n",
    "from scipy.optimize import minimize"
   ]
  },
  {
   "cell_type": "markdown",
   "metadata": {},
   "source": [
    "### Heterogeneous Exponential Case\n",
    "\n",
    "The following functions implement the heterogeneous exponential case (Theorem 2.28)."
   ]
  },
  {
   "cell_type": "markdown",
   "metadata": {},
   "source": [
    "Laat $B_j \\sim \\text{Exp}(\\mu_j)$ de behandeltijd van de $j$-de klant. Er geldt:\n",
    "\\begin{align*}\n",
    "p_{k\\ell,i}(t)\n",
    "= \\mathbb{P}_{i}(N_t = \\ell\\mid N_0 = k)\n",
    "&= \\mathbb{P}\\left(\\sum_{j=i-k+1}^{i-\\ell+2}B_j \\leq t\\right) - \\mathbb{P}\\left(\\sum_{j=i-k+1}^{i-\\ell+3}B_j \\leq t\\right) \\\\\n",
    "&= \\sum_{j=i-k+1}^{i-\\ell+2}\\frac{c_{i-k+1,k-\\ell+1,j}}{\\mu_j}(1 - e^{-\\mu_j t}) - \\sum_{j=i-k+1}^{i-\\ell+3}\\frac{c_{i-k+1,k-\\ell+2,j}}{\\mu_j}(1 - e^{-\\mu_j t}),\n",
    "\\end{align*}\n",
    "de $p_{k1,i}(t)$ klopt wel."
   ]
  },
  {
   "cell_type": "code",
   "execution_count": 2,
   "metadata": {},
   "outputs": [],
   "source": [
    "def trans_prob_het(t,i,k,mu):\n",
    "    \"\"\"Computes the transition probabilities (Prop. 2.25).\"\"\"\n",
    "    \n",
    "    p = [phi(i-k+1,k-l+1,t,mu) / mu[i-l+1] for l in range(2,k+2)]\n",
    "    \n",
    "    return [1 - np.sum(p)] + p\n"
   ]
  },
  {
   "cell_type": "code",
   "execution_count": 3,
   "metadata": {},
   "outputs": [],
   "source": [
    "t = 0.3\n",
    "i = 4\n",
    "k = 3\n",
    "mu = np.arange(0.8,1.2,5)"
   ]
  },
  {
   "cell_type": "code",
   "execution_count": 4,
   "metadata": {},
   "outputs": [
    {
     "ename": "NameError",
     "evalue": "name 'phi' is not defined",
     "output_type": "error",
     "traceback": [
      "\u001b[1;31m---------------------------------------------------------------------------\u001b[0m",
      "\u001b[1;31mNameError\u001b[0m                                 Traceback (most recent call last)",
      "\u001b[1;32m<ipython-input-4-5a991779fd74>\u001b[0m in \u001b[0;36m<module>\u001b[1;34m\u001b[0m\n\u001b[1;32m----> 1\u001b[1;33m \u001b[0mtrans_prob_het\u001b[0m\u001b[1;33m(\u001b[0m\u001b[0mt\u001b[0m\u001b[1;33m,\u001b[0m\u001b[0mi\u001b[0m\u001b[1;33m,\u001b[0m\u001b[0mk\u001b[0m\u001b[1;33m,\u001b[0m\u001b[0mmu\u001b[0m\u001b[1;33m)\u001b[0m\u001b[1;33m\u001b[0m\u001b[1;33m\u001b[0m\u001b[0m\n\u001b[0m",
      "\u001b[1;32m<ipython-input-2-8f34fbf26b6d>\u001b[0m in \u001b[0;36mtrans_prob_het\u001b[1;34m(t, i, k, mu)\u001b[0m\n\u001b[0;32m      2\u001b[0m     \u001b[1;34m\"\"\"Computes the transition probabilities (Prop. 2.25).\"\"\"\u001b[0m\u001b[1;33m\u001b[0m\u001b[1;33m\u001b[0m\u001b[0m\n\u001b[0;32m      3\u001b[0m \u001b[1;33m\u001b[0m\u001b[0m\n\u001b[1;32m----> 4\u001b[1;33m     \u001b[0mp\u001b[0m \u001b[1;33m=\u001b[0m \u001b[1;33m[\u001b[0m\u001b[0mphi\u001b[0m\u001b[1;33m(\u001b[0m\u001b[0mi\u001b[0m\u001b[1;33m-\u001b[0m\u001b[0mk\u001b[0m\u001b[1;33m+\u001b[0m\u001b[1;36m1\u001b[0m\u001b[1;33m,\u001b[0m\u001b[0mk\u001b[0m\u001b[1;33m-\u001b[0m\u001b[0ml\u001b[0m\u001b[1;33m+\u001b[0m\u001b[1;36m1\u001b[0m\u001b[1;33m,\u001b[0m\u001b[0mt\u001b[0m\u001b[1;33m,\u001b[0m\u001b[0mmu\u001b[0m\u001b[1;33m)\u001b[0m \u001b[1;33m/\u001b[0m \u001b[0mmu\u001b[0m\u001b[1;33m[\u001b[0m\u001b[0mi\u001b[0m\u001b[1;33m-\u001b[0m\u001b[0ml\u001b[0m\u001b[1;33m+\u001b[0m\u001b[1;36m1\u001b[0m\u001b[1;33m]\u001b[0m \u001b[1;32mfor\u001b[0m \u001b[0ml\u001b[0m \u001b[1;32min\u001b[0m \u001b[0mrange\u001b[0m\u001b[1;33m(\u001b[0m\u001b[1;36m2\u001b[0m\u001b[1;33m,\u001b[0m\u001b[0mk\u001b[0m\u001b[1;33m+\u001b[0m\u001b[1;36m2\u001b[0m\u001b[1;33m)\u001b[0m\u001b[1;33m]\u001b[0m\u001b[1;33m\u001b[0m\u001b[1;33m\u001b[0m\u001b[0m\n\u001b[0m\u001b[0;32m      5\u001b[0m \u001b[1;33m\u001b[0m\u001b[0m\n\u001b[0;32m      6\u001b[0m     \u001b[1;32mreturn\u001b[0m \u001b[1;33m[\u001b[0m\u001b[1;36m1\u001b[0m \u001b[1;33m-\u001b[0m \u001b[0mnp\u001b[0m\u001b[1;33m.\u001b[0m\u001b[0msum\u001b[0m\u001b[1;33m(\u001b[0m\u001b[0mp\u001b[0m\u001b[1;33m)\u001b[0m\u001b[1;33m]\u001b[0m \u001b[1;33m+\u001b[0m \u001b[0mp\u001b[0m\u001b[1;33m\u001b[0m\u001b[1;33m\u001b[0m\u001b[0m\n",
      "\u001b[1;32m<ipython-input-2-8f34fbf26b6d>\u001b[0m in \u001b[0;36m<listcomp>\u001b[1;34m(.0)\u001b[0m\n\u001b[0;32m      2\u001b[0m     \u001b[1;34m\"\"\"Computes the transition probabilities (Prop. 2.25).\"\"\"\u001b[0m\u001b[1;33m\u001b[0m\u001b[1;33m\u001b[0m\u001b[0m\n\u001b[0;32m      3\u001b[0m \u001b[1;33m\u001b[0m\u001b[0m\n\u001b[1;32m----> 4\u001b[1;33m     \u001b[0mp\u001b[0m \u001b[1;33m=\u001b[0m \u001b[1;33m[\u001b[0m\u001b[0mphi\u001b[0m\u001b[1;33m(\u001b[0m\u001b[0mi\u001b[0m\u001b[1;33m-\u001b[0m\u001b[0mk\u001b[0m\u001b[1;33m+\u001b[0m\u001b[1;36m1\u001b[0m\u001b[1;33m,\u001b[0m\u001b[0mk\u001b[0m\u001b[1;33m-\u001b[0m\u001b[0ml\u001b[0m\u001b[1;33m+\u001b[0m\u001b[1;36m1\u001b[0m\u001b[1;33m,\u001b[0m\u001b[0mt\u001b[0m\u001b[1;33m,\u001b[0m\u001b[0mmu\u001b[0m\u001b[1;33m)\u001b[0m \u001b[1;33m/\u001b[0m \u001b[0mmu\u001b[0m\u001b[1;33m[\u001b[0m\u001b[0mi\u001b[0m\u001b[1;33m-\u001b[0m\u001b[0ml\u001b[0m\u001b[1;33m+\u001b[0m\u001b[1;36m1\u001b[0m\u001b[1;33m]\u001b[0m \u001b[1;32mfor\u001b[0m \u001b[0ml\u001b[0m \u001b[1;32min\u001b[0m \u001b[0mrange\u001b[0m\u001b[1;33m(\u001b[0m\u001b[1;36m2\u001b[0m\u001b[1;33m,\u001b[0m\u001b[0mk\u001b[0m\u001b[1;33m+\u001b[0m\u001b[1;36m2\u001b[0m\u001b[1;33m)\u001b[0m\u001b[1;33m]\u001b[0m\u001b[1;33m\u001b[0m\u001b[1;33m\u001b[0m\u001b[0m\n\u001b[0m\u001b[0;32m      5\u001b[0m \u001b[1;33m\u001b[0m\u001b[0m\n\u001b[0;32m      6\u001b[0m     \u001b[1;32mreturn\u001b[0m \u001b[1;33m[\u001b[0m\u001b[1;36m1\u001b[0m \u001b[1;33m-\u001b[0m \u001b[0mnp\u001b[0m\u001b[1;33m.\u001b[0m\u001b[0msum\u001b[0m\u001b[1;33m(\u001b[0m\u001b[0mp\u001b[0m\u001b[1;33m)\u001b[0m\u001b[1;33m]\u001b[0m \u001b[1;33m+\u001b[0m \u001b[0mp\u001b[0m\u001b[1;33m\u001b[0m\u001b[1;33m\u001b[0m\u001b[0m\n",
      "\u001b[1;31mNameError\u001b[0m: name 'phi' is not defined"
     ]
    }
   ],
   "source": [
    "trans_prob_het(t,i,k,mu)"
   ]
  },
  {
   "cell_type": "code",
   "execution_count": null,
   "metadata": {},
   "outputs": [],
   "source": []
  },
  {
   "cell_type": "code",
   "execution_count": 5,
   "metadata": {},
   "outputs": [],
   "source": [
    "# helper functions\n",
    "def phi(k,l,s,mu):\n",
    "    return np.sum([c(k,l,j,mu) * np.exp(-mu[j-1] * s) for j in range(k,k+l+1)])\n",
    "\n",
    "def psi(j,t,mu):\n",
    "    return (1 - np.exp(-mu[j-1] * t)) / mu[j-1]\n",
    "\n",
    "def c(k,l,j,mu):\n",
    "    \"\"\"Computes the weights c of phi recursively (Lemma 2.23).\"\"\"\n",
    "\n",
    "    # storage indices\n",
    "    k_, l_, j_ = k - 1, l, j - 1\n",
    "    \n",
    "    if c_stored[k_][l_][j_] != None:\n",
    "        pass\n",
    "    elif k == j and not l:\n",
    "        c_stored[k_][l_][j_] = mu[k_]\n",
    "    elif l:\n",
    "        if j >= k and j < k + l:\n",
    "            c_stored[k_][l_][j_] = c(k,l-1,j,mu) * mu[k_+l_] / (mu[k_+l_] - mu[j-1])\n",
    "        elif k + l == j:\n",
    "            c_stored[k_][l_][j_] = np.sum([c(k,l-1,m,mu) * mu[j-1] / (mu[m-1] - mu[j-1]) for m in range(k,k+l)])\n",
    "    \n",
    "    return c_stored[k_][l_][j_]\n",
    "\n",
    "def trans_prob_het(t,i,k,mu):\n",
    "    \"\"\"Computes the transition probabilities (Prop. 2.25).\"\"\"\n",
    "    \n",
    "    p = [phi(i-k+1,k-l+1,t,mu) / mu[i-l+1] for l in range(2,k+2)]\n",
    "    \n",
    "    return [1 - np.sum(p)] + p\n",
    "\n",
    "def cost_het(t,i,k,mu,omega,n):\n",
    "    \"\"\"Computes the cost when t is the next interarrival time.\"\"\"\n",
    "    \n",
    "    f = t - np.sum([c(i-k+1,k-1,j,mu) * psi(j,t,mu) / mu[j-1] for j in range(i-k+1,i+1)])\n",
    "    #g = 0 ## alternative\n",
    "    #for l in range(k-1):\n",
    "    #   g += (k - l - 1) * np.sum([c(i-k+1,l,j,mu) * psi(j,t,mu) / mu[i-k+l] for j in range(i-k+1,i-k+l+2)])\n",
    "    h = np.sum(1 / mu[i-k:i-1])\n",
    "    \n",
    "    p = trans_prob_het(t,i,k,mu)\n",
    "    cost = omega * f[0] + (1 - omega) * h + np.sum([Cstar_het(i+1,l,mu,omega,n) * p[l-1] for l in range(1,k+2)])\n",
    "    \n",
    "    return cost\n",
    "    \n",
    "def Cstar_het(i,k,mu,omega,n):\n",
    "    \"\"\"Implements the Heterogeneous Exponential Case.\"\"\"\n",
    "    \n",
    "    mu = np.array(mu)\n",
    "\n",
    "    if C_matrix[i-1][k-1] != None: # retrieve stored value\n",
    "        pass\n",
    "    elif i == n: # initial condition\n",
    "        C_matrix[i-1][k-1] = (1 - omega) * np.sum(1 / mu[i-k:i-1])\n",
    "        # C_matrix[i-1][k-1] = (1 - omega) * np.sum([(k - l - 1) / mu[n-k+l] for l in range(k)]) ## alternative\n",
    "    else:\n",
    "        optimization = minimize(cost_het,0,args=(i,k,mu,omega,n),bounds=((0,500),))\n",
    "        C_matrix[i-1][k-1] = optimization.fun\n",
    "        minima[i-1][k-1] = optimization.x[0]\n",
    "        print(i,k,minima[i-1][k-1],C_matrix[i-1][k-1]) # displays C_i(k) and interarrival time\n",
    "    \n",
    "    return C_matrix[i-1][k-1]\n"
   ]
  },
  {
   "cell_type": "code",
   "execution_count": 6,
   "metadata": {},
   "outputs": [],
   "source": [
    "def trans_prob_het(t,i,k,mu):\n",
    "    \"\"\"Computes the transition probabilities (Prop. 2.25).\"\"\"\n",
    "    \n",
    "    p = [phi(i-k+1,k-l+1,t,mu) / mu[i-l+1] for l in range(2,k+2)]\n",
    "    \n",
    "    return [1 - np.sum(p)] + p\n",
    "\n",
    "def trans_prob_het2(t,i,k,mu):\n",
    "    \n",
    "    p = [0] * (k+1)\n",
    "    \n",
    "#     p[0] = sum([sum([c(i-k+1,m,j,mu) * np.exp(-mu[j-1] * t) / mu[j-1+m] for j in range(i-k+1,i-k+1+m+1)]) for m in range(k)])\n",
    "#     p[0] = 1 - sum([sum([c(i-k+1,m,j,mu) * np.exp(-mu[j-1] * t) / mu[j+m-1] for j in range(i-k+1,i-k+m+2)]) for m in range(k)])\n",
    "    \n",
    "#     p[0] = np.sum([c(i-k+1,k-1,j,mu) * psi(j,t,mu) for j in range(i-k+1,i+1)])\n",
    "    p[0] = 1 - sum([sum([c(i-k+1,m,j,mu) * np.exp(-mu[j-1] * t) / mu[i-k+m] for j in range(i-k+1,i-k+m+2)]) for m in range(k)])\n",
    "    \n",
    "    \n",
    "    for l in range(2,k+1):\n",
    "        p[l-1] = np.sum([c(i-k+1,k-l,j,mu) * psi(j,t,mu) for j in range(i-k+1,i-l+2)]) \\\n",
    "                    - np.sum([c(i-k+1,k-l+1,j,mu) * psi(j,t,mu) for j in range(i-k+1,i-l+3)])\n",
    "    \n",
    "    p[k] = np.exp(-mu[i-k] * t)\n",
    "    \n",
    "    return p"
   ]
  },
  {
   "cell_type": "code",
   "execution_count": 10,
   "metadata": {},
   "outputs": [
    {
     "name": "stdout",
     "output_type": "stream",
     "text": [
      "[0.36369407962193834, 0.1379052471787745, 0.16812577567696796, 0.18219451092685682, 0.14808038659546247]\n",
      "[0.36369407962193834, 0.13790524717877783, 0.16812577567696874, 0.18219451092685723, 0.14808038659546247]\n"
     ]
    }
   ],
   "source": [
    "t = 3.82\n",
    "i = 4\n",
    "k = 4\n",
    "mu = np.linspace(0.5,1.5,n)\n",
    "\n",
    "print(trans_prob_het(t,i,k,mu))\n",
    "print(trans_prob_het2(t,i,k,mu))"
   ]
  },
  {
   "cell_type": "code",
   "execution_count": 48,
   "metadata": {},
   "outputs": [
    {
     "name": "stdout",
     "output_type": "stream",
     "text": [
      "7.399050613835084\n",
      "7.399050613835085\n"
     ]
    }
   ],
   "source": [
    "g = 0\n",
    "for l in range(k-1):\n",
    "    g += (k - l - 1) * np.sum([c(i-k+1,l,j,mu) * psi(j,t,mu) / mu[i-k+l] for j in range(i-k+1,i-k+l+2)])\n",
    "print(g)\n",
    "\n",
    "g2 = (k-1) * psi(i-k+1,t,mu)\n",
    "for l in range(1,k-1):\n",
    "    g2 += (k - l - 1) * (np.sum([c(i-k+1,l,j,mu) * (psi(j,t,mu)) / mu[j-1] for j in range(i-k+1,i-k+l+2)]) \\\n",
    "                         - np.sum([c(i-k+1,l-1,j,mu) * (psi(j,t,mu)) / mu[j-1] for j in range(i-k+1,i-k+l+1)]))\n",
    "\n",
    "print(g2)"
   ]
  },
  {
   "cell_type": "code",
   "execution_count": null,
   "metadata": {},
   "outputs": [],
   "source": []
  },
  {
   "cell_type": "markdown",
   "metadata": {},
   "source": [
    "With this code, we can compute the optimal cost $C_{1}(1)$ for the heterogeneous case dynamically. An example:"
   ]
  },
  {
   "cell_type": "code",
   "execution_count": 9,
   "metadata": {
    "scrolled": false
   },
   "outputs": [
    {
     "name": "stdout",
     "output_type": "stream",
     "text": [
      "omega = 0.7 and mu = [0.5  0.75 1.   1.25 1.5 ] \n",
      "\n",
      "(i,k,t*,C)\n",
      "4 1 0.28533998550485146 0.19973796860569054\n",
      "4 2 0.983740141087462 0.6625280023536871\n",
      "3 1 0.5074960827719017 0.5549860524936788\n",
      "4 3 1.9759634367783472 1.2456395920571923\n",
      "3 2 1.567667288718443 1.239582872454175\n",
      "2 1 0.7335205781113533 1.0684505384301732\n",
      "4 4 3.4509182821195994 2.112890155013404\n",
      "3 3 3.177705697955406 2.214345675064946\n",
      "2 2 2.3486391429776945 2.143643832599409\n",
      "1 1 1.1396884158870093 1.8662352954388974\n",
      "\n",
      "Cost: 1.8662352954388974\n"
     ]
    }
   ],
   "source": [
    "omega = 0.7\n",
    "n = 5\n",
    "mu = np.linspace(0.5,1.5,n)\n",
    "# mu = np.array([1e-1 * i for i in range(n)])\n",
    "# mu = mu - np.mean(mu) + 1\n",
    "print(\"omega =\", omega, \"and mu =\", mu, \"\\n\")\n",
    "\n",
    "print(\"(i,k,t*,C)\")\n",
    "C_matrix = [[None for k in range(n)] for i in range(n)]\n",
    "minima = [[None for k in range(n)] for i in range(n)]\n",
    "c_stored = [[[None for j in range(n)] for l in range(n)] for k in range(n)]\n",
    "\n",
    "# compute values\n",
    "for i in range(1,n+1):\n",
    "    for k in range(1,i+1):\n",
    "        Cstar_het(i,k,mu,omega=omega,n=n)\n",
    "\n",
    "# cost\n",
    "print(\"\\nCost:\", C_matrix[0][0])"
   ]
  },
  {
   "cell_type": "markdown",
   "metadata": {},
   "source": [
    "We can also compute the minimal cost when scheduling all clients instantaneously:"
   ]
  },
  {
   "cell_type": "code",
   "execution_count": 98,
   "metadata": {},
   "outputs": [],
   "source": [
    "def compute_probN_het(t,mu):\n",
    "    \"\"\"Computes P(N_ti = j) for i=1,...,n and j=1,...,i.\"\"\"\n",
    "    \n",
    "    n = len(mu)\n",
    "    p = np.zeros((n,n))\n",
    "    p[0][0] = 1\n",
    "    \n",
    "    for i in range(2,n+1):\n",
    "        \n",
    "        x = t[i-1] - t[i-2]\n",
    "        \n",
    "        # j = 1\n",
    "        for k in range(1,i):\n",
    "            p[i-1][0] += np.sum([c(i-k,k-1,m,mu) * psi(m,x,mu) for m in range(i-k,i)]) * p[i-2][k-1]\n",
    "        \n",
    "        # j = 2,...,i\n",
    "        for j in range(2,i+1):\n",
    "            p[i-1][j-1] = np.sum([(phi(i-k,k-j+1,x,mu) / mu[i-j]) * p[i-2][k-1] for k in range(j-1,i)])\n",
    "            \n",
    "    return p\n",
    "\n",
    "def static_cost_het(t,mu,omega):\n",
    "    \"\"\"Computes the cost of the optimal static schedule.\"\"\"\n",
    "    \n",
    "    mu, n = np.array(mu), len(mu)\n",
    "    EW, EI = np.zeros(n), np.zeros(n)    \n",
    "    p = compute_probN_het(t,mu)\n",
    "    \n",
    "    for i in range(2,n+1):\n",
    "        \n",
    "        x = t[i-1] - t[i-2]\n",
    "        EW[i-2] = np.sum([np.sum(1 / mu[i-j:i-1]) * p[i-1][j-1] for j in range(2,i+1)])\n",
    "        \n",
    "        for j in range(1,i):\n",
    "            f = np.sum([c(i-j,j-1,m,mu) * (x - psi(m,x,mu)) / mu[m-1] for m in range(i-j,i)])\n",
    "            EI[i-2] += f * p[i-2][j-1]\n",
    "            \n",
    "    return omega * np.sum(EI) + (1 - omega) * np.sum(EW)\n"
   ]
  },
  {
   "cell_type": "markdown",
   "metadata": {},
   "source": [
    "Again we give an example, in which we compare the dynamic program with the static program:"
   ]
  },
  {
   "cell_type": "code",
   "execution_count": 105,
   "metadata": {},
   "outputs": [
    {
     "data": {
      "text/plain": [
       "array([0.5 , 0.75, 1.  , 1.25, 1.5 ])"
      ]
     },
     "execution_count": 105,
     "metadata": {},
     "output_type": "execute_result"
    }
   ],
   "source": [
    "np.linspace(0.5,1.5,5)"
   ]
  },
  {
   "cell_type": "code",
   "execution_count": 107,
   "metadata": {
    "scrolled": false
   },
   "outputs": [
    {
     "name": "stdout",
     "output_type": "stream",
     "text": [
      "14 1 0.48520318201686596 0.24260151319598955\n",
      "14 2 1.2055856594096712 0.7462764178567411\n",
      "13 1 0.6349244550238325 0.5600599912282797\n",
      "14 3 1.9734022867996064 1.2443901511538513\n",
      "13 2 1.4538921535631517 1.1112536959143329\n",
      "12 1 0.6865249206908528 0.9033221283048873\n",
      "14 4 2.7876985125578875 1.7550331626015232\n",
      "13 3 2.3090984569761632 1.6534463195712137\n",
      "12 2 1.5604078089903597 1.4895740641291864\n",
      "11 1 0.7290849959464828 1.2678647795246674\n",
      "14 5 3.653202333821924 2.287117261505871\n",
      "13 4 3.2100763182846044 2.2090480448449874\n",
      "12 3 2.4738489637460113 2.0678848968961114\n",
      "11 2 1.6582783138652126 1.8914336107320326\n",
      "10 1 0.7751998881014366 1.6554702253268312\n",
      "14 6 4.573986630907299 2.847431645865811\n",
      "13 5 4.165615595557914 2.7889617086852354\n",
      "12 4 3.438906302606088 2.66273408500748\n",
      "11 3 2.63300276953684 2.5091316723665247\n",
      "10 2 1.7663166604708531 2.32113116445501\n",
      "9 1 0.8273209905637346 2.069130742699926\n",
      "14 7 5.566315984729083 3.442515739801192\n",
      "13 6 5.188052728726724 3.401536614430916\n",
      "12 5 4.466381470183038 3.2864182743174375\n",
      "11 4 3.6672713621329907 3.1475310722304366\n",
      "10 3 2.8104832288912 2.9837430029583505\n",
      "9 2 1.8890443201201867 2.7829391569505546\n",
      "8 1 0.8869096460197986 2.512585766255601\n",
      "14 8 6.62729485855099 4.079528276571667\n",
      "13 7 6.280672681143588 4.054923677744614\n",
      "12 6 5.5671799651459395 3.9487301918406104\n",
      "11 5 4.77397050696827 3.820553072971694\n",
      "10 4 3.924079128799828 3.6723617283620156\n",
      "9 3 3.013262257700659 3.497473059707161\n",
      "8 2 2.0300964005010944 3.2820412300482866\n",
      "7 1 0.9557405888290676 2.9904569230606803\n",
      "14 9 7.699460285718356 4.76736969344563\n",
      "13 8 7.461335119508768 4.7582112559097345\n",
      "12 7 6.77751846021447 4.659621469726519\n",
      "11 6 5.9674505754388445 4.53981895853653\n",
      "10 5 5.122511710327077 4.402985411822785\n",
      "9 4 4.21918074821659 4.244845093346866\n",
      "8 3 3.2476437378561 4.057311222409471\n",
      "7 2 2.193929216345361 3.8249626237967362\n",
      "6 1 1.036147265860894 3.5085329933654865\n",
      "14 10 8.91060124749254 5.5160773431466215\n",
      "13 9 8.581059845135337 5.524508939683297\n",
      "12 8 8.050932423197533 5.430407194473302\n",
      "11 7 7.266829121018942 5.317599421364186\n",
      "10 6 6.4266827466617 5.189692273117963\n",
      "9 5 5.526229917531144 5.043796826718018\n",
      "8 4 4.562690165315466 4.874369161937838\n",
      "7 3 3.5217070490632065 4.672235382424521\n",
      "6 2 2.386556738571108 4.420094183035798\n",
      "5 1 1.1313157769996944 4.074196843408404\n",
      "14 11 11.240839412764817 6.378855965346407\n",
      "13 10 10.052907530204529 6.3619983465548495\n",
      "12 9 9.46981932961382 6.275353440144897\n",
      "11 8 8.690180879069718 6.168543463665527\n",
      "10 7 7.845071472544964 6.048040315541732\n",
      "9 6 6.957034000934169 5.911815120325381\n",
      "8 5 5.99965920687941 5.755694760704175\n",
      "7 4 4.967629124973371 5.573271634121426\n",
      "6 3 3.8464987867339504 5.354086647767648\n",
      "5 2 2.616296586572986 5.078476980213698\n",
      "4 1 1.2457187179593496 4.697069274387609\n",
      "14 12 1.240008096203664 11.348351144301596\n",
      "13 11 11.60049806413157 7.296397900829231\n",
      "12 10 11.361869700331514 7.219191867257676\n",
      "11 9 10.291159144526544 7.111527091805571\n",
      "10 8 9.430570721983328 6.997366424208864\n",
      "9 7 8.540861284969774 6.869214571973302\n",
      "8 6 7.588349899364025 6.723673460045313\n",
      "7 5 6.563180439707375 6.555830364084617\n",
      "6 4 5.452082791753777 6.358279794076805\n",
      "5 3 4.237656389835142 6.11892199988478\n",
      "4 2 2.8951482233495907 5.8150426533220525\n",
      "3 1 1.3858905736449967 5.390014500974563\n",
      "14 13 13.633607772561174 8.282450029412116\n",
      "13 12 0.0 14.598206576786312\n",
      "12 11 12.621540228385419 8.27504745320238\n",
      "11 10 12.0301424792483 8.171945574775341\n",
      "10 9 11.22173546264263 8.06356564421238\n",
      "9 8 10.317997615825782 7.942425786397691\n",
      "8 7 9.369283687549471 7.805787980840792\n",
      "7 6 8.349098672179414 7.649632307628423\n",
      "6 5 7.245591091272176 7.468214700517231\n",
      "5 4 6.042603221590338 7.252842646429576\n",
      "4 3 4.7179771563626955 6.98925494347007\n",
      "3 2 3.2406248802116844 6.6506698499401065\n",
      "2 1 1.561533382444382 6.17078132979474\n",
      "14 14 0.0 15.718355200011548\n",
      "13 13 15.572224103266795 9.571424780693894\n",
      "12 12 0.0 16.4982924391792\n",
      "11 11 14.074564498855864 9.39260279054189\n",
      "10 10 13.245023641580422 9.28329329900625\n",
      "9 9 12.329619726138208 9.168512389709367\n",
      "8 8 11.394376525568719 9.039720354012587\n",
      "7 7 10.380746152972659 8.893509928785784\n",
      "6 6 9.284370031167484 8.72516438508373\n",
      "5 5 8.090417052410173 8.527866641659067\n",
      "4 4 6.778866023560328 8.29120895341953\n",
      "3 3 5.322180207563563 7.99798893250847\n",
      "2 2 3.680001780290282 7.6157939079133605\n",
      "1 1 1.7881000714108382 7.064831597133164\n",
      "      fun: 9.23276627587529\n",
      " hess_inv: <15x15 LbfgsInvHessProduct with dtype=float64>\n",
      "      jac: array([-6.78568313e-05,  1.90070182e-05, -5.32907052e-06,  1.59872116e-06,\n",
      "       -8.88178420e-07, -8.17124146e-06, -2.30926389e-06, -7.63833441e-06,\n",
      "       -7.28306304e-06, -1.03028697e-05,  1.88293825e-05,  6.03961325e-06,\n",
      "       -2.91322522e-05,  3.53495011e-05,  5.86197757e-05])\n",
      "  message: b'CONVERGENCE: REL_REDUCTION_OF_F_<=_FACTR*EPSMCH'\n",
      "     nfev: 320\n",
      "      nit: 18\n",
      "   status: 0\n",
      "  success: True\n",
      "        x: array([ 0.        ,  2.15073911,  5.04572009,  7.77554192, 10.27611596,\n",
      "       12.55935893, 14.64883471, 16.56731391, 18.33412803, 19.96437054,\n",
      "       21.46851419, 22.85069389, 24.10522414, 25.20144663, 26.00329857])\n",
      "\n",
      "mu: [0.5        0.57142857 0.64285714 0.71428571 0.78571429 0.85714286\n",
      " 0.92857143 1.         1.07142857 1.14285714 1.21428571 1.28571429\n",
      " 1.35714286 1.42857143 1.5       ]\n",
      "omega: 0.5\n",
      "\n",
      "Dynamic Cost: 7.06\n",
      "Static Cost: 9.23\n",
      "ratio: 0.77\n"
     ]
    }
   ],
   "source": [
    "omega = 0.5\n",
    "n = 15\n",
    "mu = np.linspace(0.5,1.5,n)\n",
    "# Delta = 1.5\n",
    "# mu = np.linspace(1 - Delta/2,1 + Delta/2,n)\n",
    "# mu = mu[::-1]\n",
    "# mu = np.random.permutation(mu)\n",
    "\n",
    "C_matrix = [[None for k in range(n)] for i in range(n)]\n",
    "minima = [[None for k in range(n)] for i in range(n)]\n",
    "c_stored = [[[None for j in range(n)] for l in range(n)] for k in range(n)]\n",
    "\n",
    "# compute values\n",
    "for i in range(1,n+1):\n",
    "    for k in range(1,i+1):\n",
    "        Cstar_het(i,k,mu,omega=omega,n=n)\n",
    "\n",
    "# cost\n",
    "dynamic_cost = C_matrix[0][0]\n",
    "\n",
    "c_stored = [[[None for j in range(n)] for l in range(n)] for k in range(n)]\n",
    "optimization = minimize(static_cost_het,range(n),args=(mu,omega), bounds=(((0,0),) + (((0,None)),) * (n-1)))\n",
    "print(optimization)\n",
    "\n",
    "static_cost = optimization.fun\n",
    "\n",
    "print(\"\\nmu:\",mu)\n",
    "print(\"omega:\",omega)\n",
    "print(\"\\nDynamic Cost:\", round(dynamic_cost,2))\n",
    "print(\"Static Cost:\", round(static_cost,2))\n",
    "\n",
    "ratio = dynamic_cost / static_cost\n",
    "print(\"ratio:\", round(ratio,2))"
   ]
  },
  {
   "cell_type": "code",
   "execution_count": null,
   "metadata": {},
   "outputs": [],
   "source": [
    "# TODO: Old code\n",
    "\n",
    "\n",
    "# def C_static_het(times,i,k,mu,omega=0.5,n=15):\n",
    "#     \"\"\"\n",
    "#     Implements the Heterogeneous Exponential Case.\n",
    "#     \"\"\"\n",
    "#     mu = np.array(mu)\n",
    "\n",
    "# #     print(\"i\",i)\n",
    "#     if C_matrix[i-1][k-1] != None: # retrieve stored value\n",
    "#         pass\n",
    "#     elif i == n: # initial condition\n",
    "#         C_matrix[i-1][k-1] = (1 - omega) * np.sum([1 / mu[j-1] for j in range(i-k+1,i)])\n",
    "#     else:\n",
    "# #         print(\"n\",n)\n",
    "# #         print(\"i:\",i)\n",
    "#         t = times[i]\n",
    "# #         print(t)\n",
    "        \n",
    "#         # helper function\n",
    "#         psi = lambda j,t: (1 - np.exp(-mu[j-1] * t)) / mu[j-1]\n",
    "        \n",
    "#         # compute f and g\n",
    "#         f = np.sum([c(i-k+1,k-1,j,mu) * (t - psi(j,t)) / mu[j-1] for j in range(i-k+1,i+1)])\n",
    "#         g = np.sum([1 / mu[j-1] for j in range(i-k+1,i)])\n",
    "        \n",
    "#         p = trans_prob_het(t,i,k,mu)\n",
    "#         cost = omega * f + (1 - omega) * g + C_static_het(times,i+1,1,mu,omega,n) * p[0]\n",
    "    \n",
    "#         for l in range(2,k+2):\n",
    "# #             print(i)\n",
    "#             cost += C_static_het(times,i+1,l,mu,omega,n) * p[l-1]\n",
    "\n",
    "#         C_matrix[i-1][k-1] = cost\n",
    "# #         print(i,k,minima[i-1][k-1],C_matrix[i-1][k-1]) # displays C_i(k) and interarrival time\n",
    "    \n",
    "# #     print(i,k,C_matrix[i-1][k-1])\n",
    "#     return C_matrix[i-1][k-1]\n",
    "\n",
    "\n",
    "# t = [ 0.          ,4.65288472,  8.33895249, 11.07420249, 13.03410038]\n",
    "# n = len(t)\n",
    "# mu =  np.linspace(0.5,1.5,n)\n",
    "# omega = 0.1\n",
    "\n",
    "# C_matrix = [[None for k in range(n)] for i in range(n)]\n",
    "# c_stored = [[[None for j in range(n)] for l in range(n)] for k in range(n)]\n",
    "\n",
    "# print(\"Cost:\",C_static_het(t,1,1,mu,omega,n))\n",
    "\n",
    "# # for i in range(1,n+1):\n",
    "# #     for k in range(1,i+1):\n",
    "# #         print(t[i-1])\n",
    "# #         C_static_het(t[i-1],i,k,mu,omega=omega,n=n)\n",
    "\n",
    "# C_matrix"
   ]
  }
 ],
 "metadata": {
  "kernelspec": {
   "display_name": "Python 3",
   "language": "python",
   "name": "python3"
  },
  "language_info": {
   "codemirror_mode": {
    "name": "ipython",
    "version": 3
   },
   "file_extension": ".py",
   "mimetype": "text/x-python",
   "name": "python",
   "nbconvert_exporter": "python",
   "pygments_lexer": "ipython3",
   "version": "3.7.7"
  },
  "latex_envs": {
   "LaTeX_envs_menu_present": true,
   "autoclose": false,
   "autocomplete": true,
   "bibliofile": "biblio.bib",
   "cite_by": "apalike",
   "current_citInitial": 1,
   "eqLabelWithNumbers": true,
   "eqNumInitial": 1,
   "hotkeys": {
    "equation": "Ctrl-E",
    "itemize": "Ctrl-I"
   },
   "labels_anchors": false,
   "latex_user_defs": false,
   "report_style_numbering": false,
   "user_envs_cfg": false
  },
  "toc": {
   "base_numbering": 1,
   "nav_menu": {},
   "number_sections": true,
   "sideBar": true,
   "skip_h1_title": false,
   "title_cell": "Table of Contents",
   "title_sidebar": "Contents",
   "toc_cell": false,
   "toc_position": {},
   "toc_section_display": true,
   "toc_window_display": false
  },
  "varInspector": {
   "cols": {
    "lenName": 16,
    "lenType": 16,
    "lenVar": 40
   },
   "kernels_config": {
    "python": {
     "delete_cmd_postfix": "",
     "delete_cmd_prefix": "del ",
     "library": "var_list.py",
     "varRefreshCmd": "print(var_dic_list())"
    },
    "r": {
     "delete_cmd_postfix": ") ",
     "delete_cmd_prefix": "rm(",
     "library": "var_list.r",
     "varRefreshCmd": "cat(var_dic_list()) "
    }
   },
   "types_to_exclude": [
    "module",
    "function",
    "builtin_function_or_method",
    "instance",
    "_Feature"
   ],
   "window_display": false
  }
 },
 "nbformat": 4,
 "nbformat_minor": 2
}
